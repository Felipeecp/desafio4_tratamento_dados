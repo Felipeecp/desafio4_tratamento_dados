{
 "cells": [
  {
   "cell_type": "code",
   "execution_count": 5,
   "id": "ecb5971b",
   "metadata": {},
   "outputs": [],
   "source": [
    "import pandas as pd\n",
    "%matplotlib inline\n",
    "import matplotlib.pyplot as plt\n",
    "import numpy as np\n",
    "import plotly.express as px\n",
    "import plotly.graph_objects as go"
   ]
  },
  {
   "cell_type": "code",
   "execution_count": 6,
   "id": "7a94783e",
   "metadata": {},
   "outputs": [],
   "source": [
    "def tratamento_dataset(dataset,colunas_remocao,nomes_colunas): \n",
    "    dataset.dropna(inplace=True)\n",
    "    dataset.drop(columns=dataset.columns[colunas_remocao],inplace=True)\n",
    "\n",
    "    dataset.columns = nomes_colunas\n",
    "\n",
    "    dataset.drop(dataset.iloc[0:1].index,inplace=True)\n",
    "    selecao = (dataset['Cidade'] == 'Norte (1)') | (dataset['Cidade'] == 'Nordeste (1)') | (dataset['Cidade'] == 'Sudeste (1)') | (dataset['Cidade'] == 'Centro-Oeste (1)') | (dataset['Cidade'] == 'Sul (1)')\n",
    "    dataset.drop(dataset[selecao].index,inplace=True)\n",
    "    dataset.reset_index(drop=True,inplace=True)\n",
    "\n",
    "    dataset.loc[0:7, 'Região'] = 'Norte'\n",
    "    dataset.loc[7:16, 'Região'] = 'Nordeste'\n",
    "    dataset.loc[16:20, 'Região'] = 'Sudeste'\n",
    "    dataset.loc[20:23, 'Região'] = 'Sul'\n",
    "    dataset.loc[23:, 'Região'] = 'Centro-Oeste'\n",
    "\n",
    "    return dataset"
   ]
  },
  {
   "cell_type": "markdown",
   "id": "0ab63995",
   "metadata": {},
   "source": [
    "# Sexo que receberam assistência médica"
   ]
  },
  {
   "cell_type": "code",
   "execution_count": 8,
   "id": "dfa878b6",
   "metadata": {},
   "outputs": [
    {
     "data": {
      "text/html": [
       "<div>\n",
       "<style scoped>\n",
       "    .dataframe tbody tr th:only-of-type {\n",
       "        vertical-align: middle;\n",
       "    }\n",
       "\n",
       "    .dataframe tbody tr th {\n",
       "        vertical-align: top;\n",
       "    }\n",
       "\n",
       "    .dataframe thead th {\n",
       "        text-align: right;\n",
       "    }\n",
       "</style>\n",
       "<table border=\"1\" class=\"dataframe\">\n",
       "  <thead>\n",
       "    <tr style=\"text-align: right;\">\n",
       "      <th></th>\n",
       "      <th>Cidade</th>\n",
       "      <th>Diagnostico Depressão Total e que receberam Assistência Médica</th>\n",
       "      <th>Masculino</th>\n",
       "      <th>Feminino</th>\n",
       "      <th>Região</th>\n",
       "    </tr>\n",
       "  </thead>\n",
       "  <tbody>\n",
       "    <tr>\n",
       "      <th>15</th>\n",
       "      <td>Salvador</td>\n",
       "      <td>50.2</td>\n",
       "      <td>54</td>\n",
       "      <td>49.3</td>\n",
       "      <td>Nordeste</td>\n",
       "    </tr>\n",
       "    <tr>\n",
       "      <th>23</th>\n",
       "      <td>Campo Grande</td>\n",
       "      <td>55.7</td>\n",
       "      <td>67.3</td>\n",
       "      <td>52.5</td>\n",
       "      <td>Centro-Oeste</td>\n",
       "    </tr>\n",
       "    <tr>\n",
       "      <th>1</th>\n",
       "      <td>Rio Branco</td>\n",
       "      <td>62.9</td>\n",
       "      <td>72</td>\n",
       "      <td>60.9</td>\n",
       "      <td>Norte</td>\n",
       "    </tr>\n",
       "    <tr>\n",
       "      <th>4</th>\n",
       "      <td>Belém</td>\n",
       "      <td>53.3</td>\n",
       "      <td>59.2</td>\n",
       "      <td>52</td>\n",
       "      <td>Norte</td>\n",
       "    </tr>\n",
       "    <tr>\n",
       "      <th>9</th>\n",
       "      <td>Fortaleza</td>\n",
       "      <td>44.5</td>\n",
       "      <td>41.7</td>\n",
       "      <td>45.3</td>\n",
       "      <td>Nordeste</td>\n",
       "    </tr>\n",
       "  </tbody>\n",
       "</table>\n",
       "</div>"
      ],
      "text/plain": [
       "          Cidade  \\\n",
       "15      Salvador   \n",
       "23  Campo Grande   \n",
       "1     Rio Branco   \n",
       "4          Belém   \n",
       "9      Fortaleza   \n",
       "\n",
       "   Diagnostico Depressão Total e que receberam Assistência Médica Masculino  \\\n",
       "15                                               50.2                    54   \n",
       "23                                               55.7                  67.3   \n",
       "1                                                62.9                    72   \n",
       "4                                                53.3                  59.2   \n",
       "9                                                44.5                  41.7   \n",
       "\n",
       "   Feminino        Região  \n",
       "15     49.3      Nordeste  \n",
       "23     52.5  Centro-Oeste  \n",
       "1      60.9         Norte  \n",
       "4        52         Norte  \n",
       "9      45.3      Nordeste  "
      ]
     },
     "execution_count": 8,
     "metadata": {},
     "output_type": "execute_result"
    }
   ],
   "source": [
    "tab_sexo_cidade = pd.read_excel('dados/3.47.xls',sheet_name='sexo (cap)')\n",
    "colunas_remocao = [2,3,5,6,8,9]\n",
    "nomes_colunas = ['Cidade','Diagnostico Depressão Total e que receberam Assistência Médica', 'Masculino', 'Feminino']\n",
    "\n",
    "tab_sexo_cidade = tratamento_dataset(tab_sexo_cidade,colunas_remocao,nomes_colunas)\n",
    "tab_sexo_cidade.sample(5)"
   ]
  },
  {
   "cell_type": "markdown",
   "id": "598ac06b",
   "metadata": {},
   "source": [
    "# Rendimento que receberam assistência médica"
   ]
  },
  {
   "cell_type": "code",
   "execution_count": 11,
   "id": "23ea214d",
   "metadata": {},
   "outputs": [
    {
     "data": {
      "text/html": [
       "<div>\n",
       "<style scoped>\n",
       "    .dataframe tbody tr th:only-of-type {\n",
       "        vertical-align: middle;\n",
       "    }\n",
       "\n",
       "    .dataframe tbody tr th {\n",
       "        vertical-align: top;\n",
       "    }\n",
       "\n",
       "    .dataframe thead th {\n",
       "        text-align: right;\n",
       "    }\n",
       "</style>\n",
       "<table border=\"1\" class=\"dataframe\">\n",
       "  <thead>\n",
       "    <tr style=\"text-align: right;\">\n",
       "      <th></th>\n",
       "      <th>Cidade</th>\n",
       "      <th>Total</th>\n",
       "      <th>Sem rendimento e ate 1/4 do salario minimo</th>\n",
       "      <th>Mais de 1/4 a 1/2 do salario minimo</th>\n",
       "      <th>Mais de 1/2 a 1 salario minimo</th>\n",
       "      <th>Mais de 1 a 2 salarios minimos</th>\n",
       "      <th>Mais de 2 a 3 salarios minimos</th>\n",
       "      <th>Mais de 3 a 5 salarios minimos</th>\n",
       "      <th>Mais de 5 salarios minimos</th>\n",
       "      <th>Região</th>\n",
       "    </tr>\n",
       "  </thead>\n",
       "  <tbody>\n",
       "    <tr>\n",
       "      <th>8</th>\n",
       "      <td>Teresina</td>\n",
       "      <td>60.4</td>\n",
       "      <td>55.1</td>\n",
       "      <td>51.7</td>\n",
       "      <td>54.7</td>\n",
       "      <td>60.3</td>\n",
       "      <td>62.6</td>\n",
       "      <td>100</td>\n",
       "      <td>87.1</td>\n",
       "      <td>Nordeste</td>\n",
       "    </tr>\n",
       "    <tr>\n",
       "      <th>7</th>\n",
       "      <td>São Luís</td>\n",
       "      <td>41.1</td>\n",
       "      <td>54</td>\n",
       "      <td>72.8</td>\n",
       "      <td>19.7</td>\n",
       "      <td>38.4</td>\n",
       "      <td>100</td>\n",
       "      <td>0</td>\n",
       "      <td>73.1</td>\n",
       "      <td>Nordeste</td>\n",
       "    </tr>\n",
       "    <tr>\n",
       "      <th>3</th>\n",
       "      <td>Boa Vista</td>\n",
       "      <td>48.4</td>\n",
       "      <td>68.4</td>\n",
       "      <td>47.1</td>\n",
       "      <td>51.5</td>\n",
       "      <td>47.8</td>\n",
       "      <td>29.3</td>\n",
       "      <td>63.1</td>\n",
       "      <td>16.9</td>\n",
       "      <td>Norte</td>\n",
       "    </tr>\n",
       "    <tr>\n",
       "      <th>15</th>\n",
       "      <td>Salvador</td>\n",
       "      <td>50.2</td>\n",
       "      <td>61.1</td>\n",
       "      <td>74</td>\n",
       "      <td>55.7</td>\n",
       "      <td>51.3</td>\n",
       "      <td>20.9</td>\n",
       "      <td>59.3</td>\n",
       "      <td>55.4</td>\n",
       "      <td>Nordeste</td>\n",
       "    </tr>\n",
       "    <tr>\n",
       "      <th>2</th>\n",
       "      <td>Manaus</td>\n",
       "      <td>57.6</td>\n",
       "      <td>49.5</td>\n",
       "      <td>84.8</td>\n",
       "      <td>63.6</td>\n",
       "      <td>53.3</td>\n",
       "      <td>75.7</td>\n",
       "      <td>34.1</td>\n",
       "      <td>21</td>\n",
       "      <td>Norte</td>\n",
       "    </tr>\n",
       "  </tbody>\n",
       "</table>\n",
       "</div>"
      ],
      "text/plain": [
       "       Cidade Total Sem rendimento e ate 1/4 do salario minimo  \\\n",
       "8    Teresina  60.4                                       55.1   \n",
       "7    São Luís  41.1                                         54   \n",
       "3   Boa Vista  48.4                                       68.4   \n",
       "15   Salvador  50.2                                       61.1   \n",
       "2      Manaus  57.6                                       49.5   \n",
       "\n",
       "   Mais de 1/4 a 1/2 do salario minimo Mais de 1/2 a 1 salario minimo  \\\n",
       "8                                 51.7                           54.7   \n",
       "7                                 72.8                           19.7   \n",
       "3                                 47.1                           51.5   \n",
       "15                                  74                           55.7   \n",
       "2                                 84.8                           63.6   \n",
       "\n",
       "   Mais de 1 a 2 salarios minimos Mais de 2 a 3 salarios minimos  \\\n",
       "8                            60.3                           62.6   \n",
       "7                            38.4                            100   \n",
       "3                            47.8                           29.3   \n",
       "15                           51.3                           20.9   \n",
       "2                            53.3                           75.7   \n",
       "\n",
       "   Mais de 3 a 5 salarios minimos Mais de 5 salarios minimos    Região  \n",
       "8                             100                       87.1  Nordeste  \n",
       "7                               0                       73.1  Nordeste  \n",
       "3                            63.1                       16.9     Norte  \n",
       "15                           59.3                       55.4  Nordeste  \n",
       "2                            34.1                         21     Norte  "
      ]
     },
     "execution_count": 11,
     "metadata": {},
     "output_type": "execute_result"
    }
   ],
   "source": [
    "tab_rendimento_cidade = pd.read_excel('dados/3.47.xls',sheet_name='rendimento (cap)')\n",
    "colunas_remocao = [2,3,5,6,8,9,11,12,13,15,16,18,19,21,22,24,25]\n",
    "nomes_colunas = ['Cidade','Total','Sem rendimento e ate 1/4 do salario minimo','Mais de 1/4 a 1/2 do salario minimo',\n",
    "'Mais de 1/2 a 1 salario minimo','Mais de 1 a 2 salarios minimos', 'Mais de 2 a 3 salarios minimos',\n",
    "'Mais de 3 a 5 salarios minimos', 'Mais de 5 salarios minimos']\n",
    "\n",
    "tab_rendimento_cidade = tratamento_dataset(tab_rendimento_cidade,colunas_remocao,nomes_colunas)\n",
    "tab_rendimento_cidade.sample(5)"
   ]
  },
  {
   "cell_type": "markdown",
   "id": "7002063f",
   "metadata": {},
   "source": [
    "# Posição que Ocupa que receberam assistência médica"
   ]
  },
  {
   "cell_type": "code",
   "execution_count": 12,
   "id": "5b556a60",
   "metadata": {},
   "outputs": [
    {
     "data": {
      "text/html": [
       "<div>\n",
       "<style scoped>\n",
       "    .dataframe tbody tr th:only-of-type {\n",
       "        vertical-align: middle;\n",
       "    }\n",
       "\n",
       "    .dataframe tbody tr th {\n",
       "        vertical-align: top;\n",
       "    }\n",
       "\n",
       "    .dataframe thead th {\n",
       "        text-align: right;\n",
       "    }\n",
       "</style>\n",
       "<table border=\"1\" class=\"dataframe\">\n",
       "  <thead>\n",
       "    <tr style=\"text-align: right;\">\n",
       "      <th></th>\n",
       "      <th>Cidade</th>\n",
       "      <th>Total</th>\n",
       "      <th>Trabalhando ocupado</th>\n",
       "      <th>Trabalhando desocupado</th>\n",
       "      <th>Desempregados</th>\n",
       "      <th>Região</th>\n",
       "    </tr>\n",
       "  </thead>\n",
       "  <tbody>\n",
       "    <tr>\n",
       "      <th>21</th>\n",
       "      <td>Florianópolis</td>\n",
       "      <td>47.3</td>\n",
       "      <td>42.7</td>\n",
       "      <td>28.6</td>\n",
       "      <td>55.5</td>\n",
       "      <td>Sul</td>\n",
       "    </tr>\n",
       "    <tr>\n",
       "      <th>5</th>\n",
       "      <td>Macapá</td>\n",
       "      <td>26.4</td>\n",
       "      <td>26.5</td>\n",
       "      <td>20.1</td>\n",
       "      <td>30</td>\n",
       "      <td>Norte</td>\n",
       "    </tr>\n",
       "    <tr>\n",
       "      <th>15</th>\n",
       "      <td>Salvador</td>\n",
       "      <td>50.2</td>\n",
       "      <td>45.8</td>\n",
       "      <td>31.6</td>\n",
       "      <td>57.8</td>\n",
       "      <td>Nordeste</td>\n",
       "    </tr>\n",
       "    <tr>\n",
       "      <th>11</th>\n",
       "      <td>João Pessoa</td>\n",
       "      <td>56.1</td>\n",
       "      <td>48.6</td>\n",
       "      <td>52.9</td>\n",
       "      <td>65</td>\n",
       "      <td>Nordeste</td>\n",
       "    </tr>\n",
       "    <tr>\n",
       "      <th>3</th>\n",
       "      <td>Boa Vista</td>\n",
       "      <td>48.4</td>\n",
       "      <td>40.4</td>\n",
       "      <td>24.4</td>\n",
       "      <td>64.5</td>\n",
       "      <td>Norte</td>\n",
       "    </tr>\n",
       "  </tbody>\n",
       "</table>\n",
       "</div>"
      ],
      "text/plain": [
       "           Cidade Total Trabalhando ocupado Trabalhando desocupado  \\\n",
       "21  Florianópolis  47.3                42.7                   28.6   \n",
       "5          Macapá  26.4                26.5                   20.1   \n",
       "15       Salvador  50.2                45.8                   31.6   \n",
       "11    João Pessoa  56.1                48.6                   52.9   \n",
       "3       Boa Vista  48.4                40.4                   24.4   \n",
       "\n",
       "   Desempregados    Região  \n",
       "21          55.5       Sul  \n",
       "5             30     Norte  \n",
       "15          57.8  Nordeste  \n",
       "11            65  Nordeste  \n",
       "3           64.5     Norte  "
      ]
     },
     "execution_count": 12,
     "metadata": {},
     "output_type": "execute_result"
    }
   ],
   "source": [
    "tab_posOcup_cidade = pd.read_excel('dados/3.47.xls',sheet_name='pos ocup (cap)')\n",
    "colunas_remocao = [2,3,5,6,8,9,11,12]\n",
    "nomes_colunas = ['Cidade','Total','Trabalhando ocupado','Trabalhando desocupado','Desempregados']\n",
    "\n",
    "tab_posOcup_cidade = tratamento_dataset(tab_posOcup_cidade,colunas_remocao,nomes_colunas)\n",
    "tab_posOcup_cidade.sample(5)"
   ]
  },
  {
   "cell_type": "markdown",
   "id": "e885afab",
   "metadata": {},
   "source": [
    "# Nível de Instrucao que receberam assistência médica"
   ]
  },
  {
   "cell_type": "code",
   "execution_count": 13,
   "id": "c0b300af",
   "metadata": {},
   "outputs": [
    {
     "data": {
      "text/html": [
       "<div>\n",
       "<style scoped>\n",
       "    .dataframe tbody tr th:only-of-type {\n",
       "        vertical-align: middle;\n",
       "    }\n",
       "\n",
       "    .dataframe tbody tr th {\n",
       "        vertical-align: top;\n",
       "    }\n",
       "\n",
       "    .dataframe thead th {\n",
       "        text-align: right;\n",
       "    }\n",
       "</style>\n",
       "<table border=\"1\" class=\"dataframe\">\n",
       "  <thead>\n",
       "    <tr style=\"text-align: right;\">\n",
       "      <th></th>\n",
       "      <th>Cidade</th>\n",
       "      <th>Total</th>\n",
       "      <th>Sem instrução e fundamental incompleto</th>\n",
       "      <th>Fundamental completo e médio incompleto</th>\n",
       "      <th>Médio completo e superior incompleto</th>\n",
       "      <th>Superior completo</th>\n",
       "      <th>Região</th>\n",
       "    </tr>\n",
       "  </thead>\n",
       "  <tbody>\n",
       "    <tr>\n",
       "      <th>1</th>\n",
       "      <td>Rio Branco</td>\n",
       "      <td>62.9</td>\n",
       "      <td>65.9</td>\n",
       "      <td>69.9</td>\n",
       "      <td>53.9</td>\n",
       "      <td>69.7</td>\n",
       "      <td>Norte</td>\n",
       "    </tr>\n",
       "    <tr>\n",
       "      <th>19</th>\n",
       "      <td>São Paulo</td>\n",
       "      <td>62.7</td>\n",
       "      <td>58.5</td>\n",
       "      <td>60.1</td>\n",
       "      <td>62.9</td>\n",
       "      <td>65.7</td>\n",
       "      <td>Sudeste</td>\n",
       "    </tr>\n",
       "    <tr>\n",
       "      <th>24</th>\n",
       "      <td>Cuiabá</td>\n",
       "      <td>54.6</td>\n",
       "      <td>63.3</td>\n",
       "      <td>58.3</td>\n",
       "      <td>38.4</td>\n",
       "      <td>56.8</td>\n",
       "      <td>Centro-Oeste</td>\n",
       "    </tr>\n",
       "    <tr>\n",
       "      <th>4</th>\n",
       "      <td>Belém</td>\n",
       "      <td>53.3</td>\n",
       "      <td>15.6</td>\n",
       "      <td>66.1</td>\n",
       "      <td>51.9</td>\n",
       "      <td>96.2</td>\n",
       "      <td>Norte</td>\n",
       "    </tr>\n",
       "    <tr>\n",
       "      <th>21</th>\n",
       "      <td>Florianópolis</td>\n",
       "      <td>47.3</td>\n",
       "      <td>19.4</td>\n",
       "      <td>63.5</td>\n",
       "      <td>60.3</td>\n",
       "      <td>49.1</td>\n",
       "      <td>Sul</td>\n",
       "    </tr>\n",
       "  </tbody>\n",
       "</table>\n",
       "</div>"
      ],
      "text/plain": [
       "           Cidade Total Sem instrução e fundamental incompleto  \\\n",
       "1      Rio Branco  62.9                                   65.9   \n",
       "19      São Paulo  62.7                                   58.5   \n",
       "24         Cuiabá  54.6                                   63.3   \n",
       "4           Belém  53.3                                   15.6   \n",
       "21  Florianópolis  47.3                                   19.4   \n",
       "\n",
       "   Fundamental completo e médio incompleto  \\\n",
       "1                                     69.9   \n",
       "19                                    60.1   \n",
       "24                                    58.3   \n",
       "4                                     66.1   \n",
       "21                                    63.5   \n",
       "\n",
       "   Médio completo e superior incompleto Superior completo        Região  \n",
       "1                                  53.9              69.7         Norte  \n",
       "19                                 62.9              65.7       Sudeste  \n",
       "24                                 38.4              56.8  Centro-Oeste  \n",
       "4                                  51.9              96.2         Norte  \n",
       "21                                 60.3              49.1           Sul  "
      ]
     },
     "execution_count": 13,
     "metadata": {},
     "output_type": "execute_result"
    }
   ],
   "source": [
    "tab_instrucao_cidade = pd.read_excel('dados/3.47.xls',sheet_name='nivel_de_instrucao (cap)')\n",
    "colunas_remocao = [2,3,5,6,8,9,11,12,14,15]\n",
    "nomes_colunas = ['Cidade','Total','Sem instrução e fundamental incompleto','Fundamental completo e médio incompleto',\n",
    "'Médio completo e superior incompleto', 'Superior completo']\n",
    "\n",
    "tab_instrucao_cidade = tratamento_dataset(tab_instrucao_cidade,colunas_remocao,nomes_colunas)\n",
    "tab_instrucao_cidade.sample(5)"
   ]
  },
  {
   "cell_type": "markdown",
   "id": "60d4c094",
   "metadata": {},
   "source": [
    "# Grupo de Idade que receberam assistência médica"
   ]
  },
  {
   "cell_type": "code",
   "execution_count": 14,
   "id": "265a53e6",
   "metadata": {},
   "outputs": [
    {
     "data": {
      "text/html": [
       "<div>\n",
       "<style scoped>\n",
       "    .dataframe tbody tr th:only-of-type {\n",
       "        vertical-align: middle;\n",
       "    }\n",
       "\n",
       "    .dataframe tbody tr th {\n",
       "        vertical-align: top;\n",
       "    }\n",
       "\n",
       "    .dataframe thead th {\n",
       "        text-align: right;\n",
       "    }\n",
       "</style>\n",
       "<table border=\"1\" class=\"dataframe\">\n",
       "  <thead>\n",
       "    <tr style=\"text-align: right;\">\n",
       "      <th></th>\n",
       "      <th>Cidade</th>\n",
       "      <th>Total</th>\n",
       "      <th>18 a 19 anos</th>\n",
       "      <th>30 a 59 anos</th>\n",
       "      <th>60 a 64 anos</th>\n",
       "      <th>65 a 74 anos</th>\n",
       "      <th>75 anos ou mais</th>\n",
       "      <th>Região</th>\n",
       "    </tr>\n",
       "  </thead>\n",
       "  <tbody>\n",
       "    <tr>\n",
       "      <th>6</th>\n",
       "      <td>Palmas</td>\n",
       "      <td>40</td>\n",
       "      <td>60.8</td>\n",
       "      <td>26.8</td>\n",
       "      <td>62.6</td>\n",
       "      <td>38.7</td>\n",
       "      <td>0</td>\n",
       "      <td>Norte</td>\n",
       "    </tr>\n",
       "    <tr>\n",
       "      <th>21</th>\n",
       "      <td>Florianópolis</td>\n",
       "      <td>47.3</td>\n",
       "      <td>56.5</td>\n",
       "      <td>45.7</td>\n",
       "      <td>47.1</td>\n",
       "      <td>52.5</td>\n",
       "      <td>28.3</td>\n",
       "      <td>Sul</td>\n",
       "    </tr>\n",
       "    <tr>\n",
       "      <th>19</th>\n",
       "      <td>São Paulo</td>\n",
       "      <td>62.7</td>\n",
       "      <td>68</td>\n",
       "      <td>61</td>\n",
       "      <td>56.6</td>\n",
       "      <td>75.1</td>\n",
       "      <td>58.2</td>\n",
       "      <td>Sudeste</td>\n",
       "    </tr>\n",
       "    <tr>\n",
       "      <th>7</th>\n",
       "      <td>São Luís</td>\n",
       "      <td>41.1</td>\n",
       "      <td>56.1</td>\n",
       "      <td>37</td>\n",
       "      <td>100</td>\n",
       "      <td>0</td>\n",
       "      <td>55</td>\n",
       "      <td>Nordeste</td>\n",
       "    </tr>\n",
       "    <tr>\n",
       "      <th>26</th>\n",
       "      <td>Brasília</td>\n",
       "      <td>55.1</td>\n",
       "      <td>73.1</td>\n",
       "      <td>46.5</td>\n",
       "      <td>69.3</td>\n",
       "      <td>56.1</td>\n",
       "      <td>80.3</td>\n",
       "      <td>Centro-Oeste</td>\n",
       "    </tr>\n",
       "  </tbody>\n",
       "</table>\n",
       "</div>"
      ],
      "text/plain": [
       "           Cidade Total 18 a 19 anos 30 a 59 anos 60 a 64 anos 65 a 74 anos  \\\n",
       "6          Palmas    40         60.8         26.8         62.6         38.7   \n",
       "21  Florianópolis  47.3         56.5         45.7         47.1         52.5   \n",
       "19      São Paulo  62.7           68           61         56.6         75.1   \n",
       "7        São Luís  41.1         56.1           37          100            0   \n",
       "26       Brasília  55.1         73.1         46.5         69.3         56.1   \n",
       "\n",
       "   75 anos ou mais        Região  \n",
       "6                0         Norte  \n",
       "21            28.3           Sul  \n",
       "19            58.2       Sudeste  \n",
       "7               55      Nordeste  \n",
       "26            80.3  Centro-Oeste  "
      ]
     },
     "execution_count": 14,
     "metadata": {},
     "output_type": "execute_result"
    }
   ],
   "source": [
    "tab_idade_cidade = pd.read_excel('dados/3.47.xls',sheet_name='grupos_de_idade (cap)')\n",
    "colunas_remocao = [2,3,5,6,8,9,10,12,13,15,16,18,19]\n",
    "nomes_colunas = ['Cidade','Total','18 a 19 anos','30 a 59 anos','60 a 64 anos','65 a 74 anos','75 anos ou mais']\n",
    "\n",
    "tab_idade_cidade = tratamento_dataset(tab_idade_cidade,colunas_remocao,nomes_colunas)\n",
    "tab_idade_cidade.sample(5)"
   ]
  },
  {
   "cell_type": "markdown",
   "id": "6c35243a",
   "metadata": {},
   "source": [
    "# Cor ou Raça que receberam assistência médica"
   ]
  },
  {
   "cell_type": "code",
   "execution_count": 15,
   "id": "1808b959",
   "metadata": {},
   "outputs": [
    {
     "ename": "FileNotFoundError",
     "evalue": "[Errno 2] No such file or directory: 'dados_depressao/3.47.xls'",
     "output_type": "error",
     "traceback": [
      "\u001b[1;31m---------------------------------------------------------------------------\u001b[0m",
      "\u001b[1;31mFileNotFoundError\u001b[0m                         Traceback (most recent call last)",
      "\u001b[1;32m<ipython-input-15-13072044d350>\u001b[0m in \u001b[0;36m<module>\u001b[1;34m\u001b[0m\n\u001b[0;32m     18\u001b[0m     \u001b[1;32mreturn\u001b[0m \u001b[0mdataset\u001b[0m\u001b[1;33m\u001b[0m\u001b[1;33m\u001b[0m\u001b[0m\n\u001b[0;32m     19\u001b[0m \u001b[1;33m\u001b[0m\u001b[0m\n\u001b[1;32m---> 20\u001b[1;33m \u001b[0mtab_corRaca_cidade\u001b[0m \u001b[1;33m=\u001b[0m \u001b[0mpd\u001b[0m\u001b[1;33m.\u001b[0m\u001b[0mread_excel\u001b[0m\u001b[1;33m(\u001b[0m\u001b[1;34m'dados_depressao/3.47.xls'\u001b[0m\u001b[1;33m,\u001b[0m\u001b[0msheet_name\u001b[0m\u001b[1;33m=\u001b[0m\u001b[1;34m'cor_ou_raca (cap)'\u001b[0m\u001b[1;33m)\u001b[0m\u001b[1;33m\u001b[0m\u001b[1;33m\u001b[0m\u001b[0m\n\u001b[0m\u001b[0;32m     21\u001b[0m \u001b[0mcolunas_remocao\u001b[0m \u001b[1;33m=\u001b[0m \u001b[1;33m[\u001b[0m\u001b[1;36m2\u001b[0m\u001b[1;33m,\u001b[0m\u001b[1;36m3\u001b[0m\u001b[1;33m,\u001b[0m\u001b[1;36m5\u001b[0m\u001b[1;33m,\u001b[0m\u001b[1;36m6\u001b[0m\u001b[1;33m,\u001b[0m\u001b[1;36m8\u001b[0m\u001b[1;33m,\u001b[0m\u001b[1;36m9\u001b[0m\u001b[1;33m,\u001b[0m\u001b[1;36m11\u001b[0m\u001b[1;33m,\u001b[0m\u001b[1;36m12\u001b[0m\u001b[1;33m]\u001b[0m\u001b[1;33m\u001b[0m\u001b[1;33m\u001b[0m\u001b[0m\n\u001b[0;32m     22\u001b[0m \u001b[0mnomes_colunas\u001b[0m \u001b[1;33m=\u001b[0m \u001b[1;33m[\u001b[0m\u001b[1;34m'Cidade'\u001b[0m\u001b[1;33m,\u001b[0m\u001b[1;34m'Total'\u001b[0m\u001b[1;33m,\u001b[0m\u001b[1;34m'Branca'\u001b[0m\u001b[1;33m,\u001b[0m\u001b[1;34m'Preta'\u001b[0m\u001b[1;33m,\u001b[0m\u001b[1;34m'Parda'\u001b[0m\u001b[1;33m]\u001b[0m\u001b[1;33m\u001b[0m\u001b[1;33m\u001b[0m\u001b[0m\n",
      "\u001b[1;32m~\\anaconda3\\lib\\site-packages\\pandas\\util\\_decorators.py\u001b[0m in \u001b[0;36mwrapper\u001b[1;34m(*args, **kwargs)\u001b[0m\n\u001b[0;32m    297\u001b[0m                 )\n\u001b[0;32m    298\u001b[0m                 \u001b[0mwarnings\u001b[0m\u001b[1;33m.\u001b[0m\u001b[0mwarn\u001b[0m\u001b[1;33m(\u001b[0m\u001b[0mmsg\u001b[0m\u001b[1;33m,\u001b[0m \u001b[0mFutureWarning\u001b[0m\u001b[1;33m,\u001b[0m \u001b[0mstacklevel\u001b[0m\u001b[1;33m=\u001b[0m\u001b[0mstacklevel\u001b[0m\u001b[1;33m)\u001b[0m\u001b[1;33m\u001b[0m\u001b[1;33m\u001b[0m\u001b[0m\n\u001b[1;32m--> 299\u001b[1;33m             \u001b[1;32mreturn\u001b[0m \u001b[0mfunc\u001b[0m\u001b[1;33m(\u001b[0m\u001b[1;33m*\u001b[0m\u001b[0margs\u001b[0m\u001b[1;33m,\u001b[0m \u001b[1;33m**\u001b[0m\u001b[0mkwargs\u001b[0m\u001b[1;33m)\u001b[0m\u001b[1;33m\u001b[0m\u001b[1;33m\u001b[0m\u001b[0m\n\u001b[0m\u001b[0;32m    300\u001b[0m \u001b[1;33m\u001b[0m\u001b[0m\n\u001b[0;32m    301\u001b[0m         \u001b[1;32mreturn\u001b[0m \u001b[0mwrapper\u001b[0m\u001b[1;33m\u001b[0m\u001b[1;33m\u001b[0m\u001b[0m\n",
      "\u001b[1;32m~\\anaconda3\\lib\\site-packages\\pandas\\io\\excel\\_base.py\u001b[0m in \u001b[0;36mread_excel\u001b[1;34m(io, sheet_name, header, names, index_col, usecols, squeeze, dtype, engine, converters, true_values, false_values, skiprows, nrows, na_values, keep_default_na, na_filter, verbose, parse_dates, date_parser, thousands, comment, skipfooter, convert_float, mangle_dupe_cols, storage_options)\u001b[0m\n\u001b[0;32m    334\u001b[0m     \u001b[1;32mif\u001b[0m \u001b[1;32mnot\u001b[0m \u001b[0misinstance\u001b[0m\u001b[1;33m(\u001b[0m\u001b[0mio\u001b[0m\u001b[1;33m,\u001b[0m \u001b[0mExcelFile\u001b[0m\u001b[1;33m)\u001b[0m\u001b[1;33m:\u001b[0m\u001b[1;33m\u001b[0m\u001b[1;33m\u001b[0m\u001b[0m\n\u001b[0;32m    335\u001b[0m         \u001b[0mshould_close\u001b[0m \u001b[1;33m=\u001b[0m \u001b[1;32mTrue\u001b[0m\u001b[1;33m\u001b[0m\u001b[1;33m\u001b[0m\u001b[0m\n\u001b[1;32m--> 336\u001b[1;33m         \u001b[0mio\u001b[0m \u001b[1;33m=\u001b[0m \u001b[0mExcelFile\u001b[0m\u001b[1;33m(\u001b[0m\u001b[0mio\u001b[0m\u001b[1;33m,\u001b[0m \u001b[0mstorage_options\u001b[0m\u001b[1;33m=\u001b[0m\u001b[0mstorage_options\u001b[0m\u001b[1;33m,\u001b[0m \u001b[0mengine\u001b[0m\u001b[1;33m=\u001b[0m\u001b[0mengine\u001b[0m\u001b[1;33m)\u001b[0m\u001b[1;33m\u001b[0m\u001b[1;33m\u001b[0m\u001b[0m\n\u001b[0m\u001b[0;32m    337\u001b[0m     \u001b[1;32melif\u001b[0m \u001b[0mengine\u001b[0m \u001b[1;32mand\u001b[0m \u001b[0mengine\u001b[0m \u001b[1;33m!=\u001b[0m \u001b[0mio\u001b[0m\u001b[1;33m.\u001b[0m\u001b[0mengine\u001b[0m\u001b[1;33m:\u001b[0m\u001b[1;33m\u001b[0m\u001b[1;33m\u001b[0m\u001b[0m\n\u001b[0;32m    338\u001b[0m         raise ValueError(\n",
      "\u001b[1;32m~\\anaconda3\\lib\\site-packages\\pandas\\io\\excel\\_base.py\u001b[0m in \u001b[0;36m__init__\u001b[1;34m(self, path_or_buffer, engine, storage_options)\u001b[0m\n\u001b[0;32m   1069\u001b[0m                 \u001b[0mext\u001b[0m \u001b[1;33m=\u001b[0m \u001b[1;34m\"xls\"\u001b[0m\u001b[1;33m\u001b[0m\u001b[1;33m\u001b[0m\u001b[0m\n\u001b[0;32m   1070\u001b[0m             \u001b[1;32melse\u001b[0m\u001b[1;33m:\u001b[0m\u001b[1;33m\u001b[0m\u001b[1;33m\u001b[0m\u001b[0m\n\u001b[1;32m-> 1071\u001b[1;33m                 ext = inspect_excel_format(\n\u001b[0m\u001b[0;32m   1072\u001b[0m                     \u001b[0mcontent\u001b[0m\u001b[1;33m=\u001b[0m\u001b[0mpath_or_buffer\u001b[0m\u001b[1;33m,\u001b[0m \u001b[0mstorage_options\u001b[0m\u001b[1;33m=\u001b[0m\u001b[0mstorage_options\u001b[0m\u001b[1;33m\u001b[0m\u001b[1;33m\u001b[0m\u001b[0m\n\u001b[0;32m   1073\u001b[0m                 )\n",
      "\u001b[1;32m~\\anaconda3\\lib\\site-packages\\pandas\\io\\excel\\_base.py\u001b[0m in \u001b[0;36minspect_excel_format\u001b[1;34m(path, content, storage_options)\u001b[0m\n\u001b[0;32m    947\u001b[0m     \u001b[1;32massert\u001b[0m \u001b[0mcontent_or_path\u001b[0m \u001b[1;32mis\u001b[0m \u001b[1;32mnot\u001b[0m \u001b[1;32mNone\u001b[0m\u001b[1;33m\u001b[0m\u001b[1;33m\u001b[0m\u001b[0m\n\u001b[0;32m    948\u001b[0m \u001b[1;33m\u001b[0m\u001b[0m\n\u001b[1;32m--> 949\u001b[1;33m     with get_handle(\n\u001b[0m\u001b[0;32m    950\u001b[0m         \u001b[0mcontent_or_path\u001b[0m\u001b[1;33m,\u001b[0m \u001b[1;34m\"rb\"\u001b[0m\u001b[1;33m,\u001b[0m \u001b[0mstorage_options\u001b[0m\u001b[1;33m=\u001b[0m\u001b[0mstorage_options\u001b[0m\u001b[1;33m,\u001b[0m \u001b[0mis_text\u001b[0m\u001b[1;33m=\u001b[0m\u001b[1;32mFalse\u001b[0m\u001b[1;33m\u001b[0m\u001b[1;33m\u001b[0m\u001b[0m\n\u001b[0;32m    951\u001b[0m     ) as handle:\n",
      "\u001b[1;32m~\\anaconda3\\lib\\site-packages\\pandas\\io\\common.py\u001b[0m in \u001b[0;36mget_handle\u001b[1;34m(path_or_buf, mode, encoding, compression, memory_map, is_text, errors, storage_options)\u001b[0m\n\u001b[0;32m    649\u001b[0m         \u001b[1;32melse\u001b[0m\u001b[1;33m:\u001b[0m\u001b[1;33m\u001b[0m\u001b[1;33m\u001b[0m\u001b[0m\n\u001b[0;32m    650\u001b[0m             \u001b[1;31m# Binary mode\u001b[0m\u001b[1;33m\u001b[0m\u001b[1;33m\u001b[0m\u001b[1;33m\u001b[0m\u001b[0m\n\u001b[1;32m--> 651\u001b[1;33m             \u001b[0mhandle\u001b[0m \u001b[1;33m=\u001b[0m \u001b[0mopen\u001b[0m\u001b[1;33m(\u001b[0m\u001b[0mhandle\u001b[0m\u001b[1;33m,\u001b[0m \u001b[0mioargs\u001b[0m\u001b[1;33m.\u001b[0m\u001b[0mmode\u001b[0m\u001b[1;33m)\u001b[0m\u001b[1;33m\u001b[0m\u001b[1;33m\u001b[0m\u001b[0m\n\u001b[0m\u001b[0;32m    652\u001b[0m         \u001b[0mhandles\u001b[0m\u001b[1;33m.\u001b[0m\u001b[0mappend\u001b[0m\u001b[1;33m(\u001b[0m\u001b[0mhandle\u001b[0m\u001b[1;33m)\u001b[0m\u001b[1;33m\u001b[0m\u001b[1;33m\u001b[0m\u001b[0m\n\u001b[0;32m    653\u001b[0m \u001b[1;33m\u001b[0m\u001b[0m\n",
      "\u001b[1;31mFileNotFoundError\u001b[0m: [Errno 2] No such file or directory: 'dados_depressao/3.47.xls'"
     ]
    }
   ],
   "source": [
    "def tratamento_dataset2(dataset,colunas_remocao,nomes_colunas): \n",
    "    dataset.dropna(inplace=True)\n",
    "    dataset.drop(columns=dataset.columns[colunas_remocao],inplace=True)\n",
    "\n",
    "    dataset.columns = nomes_colunas\n",
    "\n",
    "    dataset.drop(dataset.iloc[0:1].index,inplace=True)\n",
    "    selecao = (dataset['Cidade'] == 'Norte (2)') | (dataset['Cidade'] == 'Nordeste (2)') | (dataset['Cidade'] == 'Sudeste (2)') | (dataset['Cidade'] == 'Centro-Oeste (2)') | (dataset['Cidade'] == 'Sul (2)')\n",
    "    dataset.drop(dataset[selecao].index,inplace=True)\n",
    "    dataset.reset_index(drop=True,inplace=True)\n",
    "\n",
    "    dataset.loc[0:7, 'Região'] = 'Norte'\n",
    "    dataset.loc[7:16, 'Região'] = 'Nordeste'\n",
    "    dataset.loc[16:20, 'Região'] = 'Sudeste'\n",
    "    dataset.loc[20:23, 'Região'] = 'Sul'\n",
    "    dataset.loc[23:, 'Região'] = 'Centro-Oeste'\n",
    "\n",
    "    return dataset\n",
    "\n",
    "tab_corRaca_cidade = pd.read_excel('dados_depressao/3.47.xls',sheet_name='cor_ou_raca (cap)')\n",
    "colunas_remocao = [2,3,5,6,8,9,11,12]\n",
    "nomes_colunas = ['Cidade','Total','Branca','Preta','Parda']\n",
    "\n",
    "tab_corRaca_cidade = tratamento_dataset2(tab_corRaca_cidade,colunas_remocao,nomes_colunas)\n",
    "tab_corRaca_cidade.sample(5)"
   ]
  },
  {
   "cell_type": "code",
   "execution_count": 16,
   "id": "2489dd55",
   "metadata": {},
   "outputs": [
    {
     "data": {
      "application/vnd.plotly.v1+json": {
       "config": {
        "plotlyServerURL": "https://plot.ly"
       },
       "data": [
        {
         "alignmentgroup": "True",
         "hovertemplate": "Região=Norte<br>Cidade=%{x}<br>Diagnostico Depressão Total e que receberam Assistência Médica=%{text}<extra></extra>",
         "legendgroup": "Norte",
         "marker": {
          "color": "#636efa",
          "pattern": {
           "shape": ""
          }
         },
         "name": "Norte",
         "offsetgroup": "Norte",
         "orientation": "v",
         "showlegend": true,
         "text": [
          45.5,
          62.9,
          57.6,
          48.4,
          53.3,
          26.4,
          40
         ],
         "textposition": "outside",
         "texttemplate": "%{text:.2s}%",
         "type": "bar",
         "x": [
          "Porto Velho",
          "Rio Branco",
          "Manaus",
          "Boa Vista",
          "Belém",
          "Macapá",
          "Palmas"
         ],
         "xaxis": "x",
         "y": [
          45.5,
          62.9,
          57.6,
          48.4,
          53.3,
          26.4,
          40
         ],
         "yaxis": "y"
        },
        {
         "alignmentgroup": "True",
         "hovertemplate": "Região=Nordeste<br>Cidade=%{x}<br>Diagnostico Depressão Total e que receberam Assistência Médica=%{text}<extra></extra>",
         "legendgroup": "Nordeste",
         "marker": {
          "color": "#EF553B",
          "pattern": {
           "shape": ""
          }
         },
         "name": "Nordeste",
         "offsetgroup": "Nordeste",
         "orientation": "v",
         "showlegend": true,
         "text": [
          41.1,
          60.4,
          44.5,
          49.3,
          56.1,
          59.4,
          59.9,
          48,
          50.2
         ],
         "textposition": "outside",
         "texttemplate": "%{text:.2s}%",
         "type": "bar",
         "x": [
          "São Luís",
          "Teresina",
          "Fortaleza",
          "Natal",
          "João Pessoa",
          "Recife",
          "Maceió",
          "Aracaju",
          "Salvador"
         ],
         "xaxis": "x",
         "y": [
          41.1,
          60.4,
          44.5,
          49.3,
          56.1,
          59.4,
          59.9,
          48,
          50.2
         ],
         "yaxis": "y"
        },
        {
         "alignmentgroup": "True",
         "hovertemplate": "Região=Sudeste<br>Cidade=%{x}<br>Diagnostico Depressão Total e que receberam Assistência Médica=%{text}<extra></extra>",
         "legendgroup": "Sudeste",
         "marker": {
          "color": "#00cc96",
          "pattern": {
           "shape": ""
          }
         },
         "name": "Sudeste",
         "offsetgroup": "Sudeste",
         "orientation": "v",
         "showlegend": true,
         "text": [
          48.8,
          53.9,
          57.2,
          62.7
         ],
         "textposition": "outside",
         "texttemplate": "%{text:.2s}%",
         "type": "bar",
         "x": [
          "Belo Horizonte",
          "Vitória",
          "Rio de Janeiro",
          "São Paulo"
         ],
         "xaxis": "x",
         "y": [
          48.8,
          53.9,
          57.2,
          62.7
         ],
         "yaxis": "y"
        },
        {
         "alignmentgroup": "True",
         "hovertemplate": "Região=Sul<br>Cidade=%{x}<br>Diagnostico Depressão Total e que receberam Assistência Médica=%{text}<extra></extra>",
         "legendgroup": "Sul",
         "marker": {
          "color": "#ab63fa",
          "pattern": {
           "shape": ""
          }
         },
         "name": "Sul",
         "offsetgroup": "Sul",
         "orientation": "v",
         "showlegend": true,
         "text": [
          55.6,
          47.3,
          54.4
         ],
         "textposition": "outside",
         "texttemplate": "%{text:.2s}%",
         "type": "bar",
         "x": [
          "Curitiba",
          "Florianópolis",
          "Porto Alegre"
         ],
         "xaxis": "x",
         "y": [
          55.6,
          47.3,
          54.4
         ],
         "yaxis": "y"
        },
        {
         "alignmentgroup": "True",
         "hovertemplate": "Região=Centro-Oeste<br>Cidade=%{x}<br>Diagnostico Depressão Total e que receberam Assistência Médica=%{text}<extra></extra>",
         "legendgroup": "Centro-Oeste",
         "marker": {
          "color": "#FFA15A",
          "pattern": {
           "shape": ""
          }
         },
         "name": "Centro-Oeste",
         "offsetgroup": "Centro-Oeste",
         "orientation": "v",
         "showlegend": true,
         "text": [
          55.7,
          54.6,
          44.6,
          55.1
         ],
         "textposition": "outside",
         "texttemplate": "%{text:.2s}%",
         "type": "bar",
         "x": [
          "Campo Grande",
          "Cuiabá",
          "Goiânia",
          "Brasília"
         ],
         "xaxis": "x",
         "y": [
          55.7,
          54.6,
          44.6,
          55.1
         ],
         "yaxis": "y"
        }
       ],
       "layout": {
        "barmode": "relative",
        "legend": {
         "title": {
          "text": "Região"
         },
         "tracegroupgap": 0
        },
        "margin": {
         "b": 20,
         "l": 20,
         "r": 20,
         "t": 30
        },
        "template": {
         "data": {
          "bar": [
           {
            "error_x": {
             "color": "#2a3f5f"
            },
            "error_y": {
             "color": "#2a3f5f"
            },
            "marker": {
             "line": {
              "color": "#E5ECF6",
              "width": 0.5
             },
             "pattern": {
              "fillmode": "overlay",
              "size": 10,
              "solidity": 0.2
             }
            },
            "type": "bar"
           }
          ],
          "barpolar": [
           {
            "marker": {
             "line": {
              "color": "#E5ECF6",
              "width": 0.5
             },
             "pattern": {
              "fillmode": "overlay",
              "size": 10,
              "solidity": 0.2
             }
            },
            "type": "barpolar"
           }
          ],
          "carpet": [
           {
            "aaxis": {
             "endlinecolor": "#2a3f5f",
             "gridcolor": "white",
             "linecolor": "white",
             "minorgridcolor": "white",
             "startlinecolor": "#2a3f5f"
            },
            "baxis": {
             "endlinecolor": "#2a3f5f",
             "gridcolor": "white",
             "linecolor": "white",
             "minorgridcolor": "white",
             "startlinecolor": "#2a3f5f"
            },
            "type": "carpet"
           }
          ],
          "choropleth": [
           {
            "colorbar": {
             "outlinewidth": 0,
             "ticks": ""
            },
            "type": "choropleth"
           }
          ],
          "contour": [
           {
            "colorbar": {
             "outlinewidth": 0,
             "ticks": ""
            },
            "colorscale": [
             [
              0,
              "#0d0887"
             ],
             [
              0.1111111111111111,
              "#46039f"
             ],
             [
              0.2222222222222222,
              "#7201a8"
             ],
             [
              0.3333333333333333,
              "#9c179e"
             ],
             [
              0.4444444444444444,
              "#bd3786"
             ],
             [
              0.5555555555555556,
              "#d8576b"
             ],
             [
              0.6666666666666666,
              "#ed7953"
             ],
             [
              0.7777777777777778,
              "#fb9f3a"
             ],
             [
              0.8888888888888888,
              "#fdca26"
             ],
             [
              1,
              "#f0f921"
             ]
            ],
            "type": "contour"
           }
          ],
          "contourcarpet": [
           {
            "colorbar": {
             "outlinewidth": 0,
             "ticks": ""
            },
            "type": "contourcarpet"
           }
          ],
          "heatmap": [
           {
            "colorbar": {
             "outlinewidth": 0,
             "ticks": ""
            },
            "colorscale": [
             [
              0,
              "#0d0887"
             ],
             [
              0.1111111111111111,
              "#46039f"
             ],
             [
              0.2222222222222222,
              "#7201a8"
             ],
             [
              0.3333333333333333,
              "#9c179e"
             ],
             [
              0.4444444444444444,
              "#bd3786"
             ],
             [
              0.5555555555555556,
              "#d8576b"
             ],
             [
              0.6666666666666666,
              "#ed7953"
             ],
             [
              0.7777777777777778,
              "#fb9f3a"
             ],
             [
              0.8888888888888888,
              "#fdca26"
             ],
             [
              1,
              "#f0f921"
             ]
            ],
            "type": "heatmap"
           }
          ],
          "heatmapgl": [
           {
            "colorbar": {
             "outlinewidth": 0,
             "ticks": ""
            },
            "colorscale": [
             [
              0,
              "#0d0887"
             ],
             [
              0.1111111111111111,
              "#46039f"
             ],
             [
              0.2222222222222222,
              "#7201a8"
             ],
             [
              0.3333333333333333,
              "#9c179e"
             ],
             [
              0.4444444444444444,
              "#bd3786"
             ],
             [
              0.5555555555555556,
              "#d8576b"
             ],
             [
              0.6666666666666666,
              "#ed7953"
             ],
             [
              0.7777777777777778,
              "#fb9f3a"
             ],
             [
              0.8888888888888888,
              "#fdca26"
             ],
             [
              1,
              "#f0f921"
             ]
            ],
            "type": "heatmapgl"
           }
          ],
          "histogram": [
           {
            "marker": {
             "pattern": {
              "fillmode": "overlay",
              "size": 10,
              "solidity": 0.2
             }
            },
            "type": "histogram"
           }
          ],
          "histogram2d": [
           {
            "colorbar": {
             "outlinewidth": 0,
             "ticks": ""
            },
            "colorscale": [
             [
              0,
              "#0d0887"
             ],
             [
              0.1111111111111111,
              "#46039f"
             ],
             [
              0.2222222222222222,
              "#7201a8"
             ],
             [
              0.3333333333333333,
              "#9c179e"
             ],
             [
              0.4444444444444444,
              "#bd3786"
             ],
             [
              0.5555555555555556,
              "#d8576b"
             ],
             [
              0.6666666666666666,
              "#ed7953"
             ],
             [
              0.7777777777777778,
              "#fb9f3a"
             ],
             [
              0.8888888888888888,
              "#fdca26"
             ],
             [
              1,
              "#f0f921"
             ]
            ],
            "type": "histogram2d"
           }
          ],
          "histogram2dcontour": [
           {
            "colorbar": {
             "outlinewidth": 0,
             "ticks": ""
            },
            "colorscale": [
             [
              0,
              "#0d0887"
             ],
             [
              0.1111111111111111,
              "#46039f"
             ],
             [
              0.2222222222222222,
              "#7201a8"
             ],
             [
              0.3333333333333333,
              "#9c179e"
             ],
             [
              0.4444444444444444,
              "#bd3786"
             ],
             [
              0.5555555555555556,
              "#d8576b"
             ],
             [
              0.6666666666666666,
              "#ed7953"
             ],
             [
              0.7777777777777778,
              "#fb9f3a"
             ],
             [
              0.8888888888888888,
              "#fdca26"
             ],
             [
              1,
              "#f0f921"
             ]
            ],
            "type": "histogram2dcontour"
           }
          ],
          "mesh3d": [
           {
            "colorbar": {
             "outlinewidth": 0,
             "ticks": ""
            },
            "type": "mesh3d"
           }
          ],
          "parcoords": [
           {
            "line": {
             "colorbar": {
              "outlinewidth": 0,
              "ticks": ""
             }
            },
            "type": "parcoords"
           }
          ],
          "pie": [
           {
            "automargin": true,
            "type": "pie"
           }
          ],
          "scatter": [
           {
            "marker": {
             "colorbar": {
              "outlinewidth": 0,
              "ticks": ""
             }
            },
            "type": "scatter"
           }
          ],
          "scatter3d": [
           {
            "line": {
             "colorbar": {
              "outlinewidth": 0,
              "ticks": ""
             }
            },
            "marker": {
             "colorbar": {
              "outlinewidth": 0,
              "ticks": ""
             }
            },
            "type": "scatter3d"
           }
          ],
          "scattercarpet": [
           {
            "marker": {
             "colorbar": {
              "outlinewidth": 0,
              "ticks": ""
             }
            },
            "type": "scattercarpet"
           }
          ],
          "scattergeo": [
           {
            "marker": {
             "colorbar": {
              "outlinewidth": 0,
              "ticks": ""
             }
            },
            "type": "scattergeo"
           }
          ],
          "scattergl": [
           {
            "marker": {
             "colorbar": {
              "outlinewidth": 0,
              "ticks": ""
             }
            },
            "type": "scattergl"
           }
          ],
          "scattermapbox": [
           {
            "marker": {
             "colorbar": {
              "outlinewidth": 0,
              "ticks": ""
             }
            },
            "type": "scattermapbox"
           }
          ],
          "scatterpolar": [
           {
            "marker": {
             "colorbar": {
              "outlinewidth": 0,
              "ticks": ""
             }
            },
            "type": "scatterpolar"
           }
          ],
          "scatterpolargl": [
           {
            "marker": {
             "colorbar": {
              "outlinewidth": 0,
              "ticks": ""
             }
            },
            "type": "scatterpolargl"
           }
          ],
          "scatterternary": [
           {
            "marker": {
             "colorbar": {
              "outlinewidth": 0,
              "ticks": ""
             }
            },
            "type": "scatterternary"
           }
          ],
          "surface": [
           {
            "colorbar": {
             "outlinewidth": 0,
             "ticks": ""
            },
            "colorscale": [
             [
              0,
              "#0d0887"
             ],
             [
              0.1111111111111111,
              "#46039f"
             ],
             [
              0.2222222222222222,
              "#7201a8"
             ],
             [
              0.3333333333333333,
              "#9c179e"
             ],
             [
              0.4444444444444444,
              "#bd3786"
             ],
             [
              0.5555555555555556,
              "#d8576b"
             ],
             [
              0.6666666666666666,
              "#ed7953"
             ],
             [
              0.7777777777777778,
              "#fb9f3a"
             ],
             [
              0.8888888888888888,
              "#fdca26"
             ],
             [
              1,
              "#f0f921"
             ]
            ],
            "type": "surface"
           }
          ],
          "table": [
           {
            "cells": {
             "fill": {
              "color": "#EBF0F8"
             },
             "line": {
              "color": "white"
             }
            },
            "header": {
             "fill": {
              "color": "#C8D4E3"
             },
             "line": {
              "color": "white"
             }
            },
            "type": "table"
           }
          ]
         },
         "layout": {
          "annotationdefaults": {
           "arrowcolor": "#2a3f5f",
           "arrowhead": 0,
           "arrowwidth": 1
          },
          "autotypenumbers": "strict",
          "coloraxis": {
           "colorbar": {
            "outlinewidth": 0,
            "ticks": ""
           }
          },
          "colorscale": {
           "diverging": [
            [
             0,
             "#8e0152"
            ],
            [
             0.1,
             "#c51b7d"
            ],
            [
             0.2,
             "#de77ae"
            ],
            [
             0.3,
             "#f1b6da"
            ],
            [
             0.4,
             "#fde0ef"
            ],
            [
             0.5,
             "#f7f7f7"
            ],
            [
             0.6,
             "#e6f5d0"
            ],
            [
             0.7,
             "#b8e186"
            ],
            [
             0.8,
             "#7fbc41"
            ],
            [
             0.9,
             "#4d9221"
            ],
            [
             1,
             "#276419"
            ]
           ],
           "sequential": [
            [
             0,
             "#0d0887"
            ],
            [
             0.1111111111111111,
             "#46039f"
            ],
            [
             0.2222222222222222,
             "#7201a8"
            ],
            [
             0.3333333333333333,
             "#9c179e"
            ],
            [
             0.4444444444444444,
             "#bd3786"
            ],
            [
             0.5555555555555556,
             "#d8576b"
            ],
            [
             0.6666666666666666,
             "#ed7953"
            ],
            [
             0.7777777777777778,
             "#fb9f3a"
            ],
            [
             0.8888888888888888,
             "#fdca26"
            ],
            [
             1,
             "#f0f921"
            ]
           ],
           "sequentialminus": [
            [
             0,
             "#0d0887"
            ],
            [
             0.1111111111111111,
             "#46039f"
            ],
            [
             0.2222222222222222,
             "#7201a8"
            ],
            [
             0.3333333333333333,
             "#9c179e"
            ],
            [
             0.4444444444444444,
             "#bd3786"
            ],
            [
             0.5555555555555556,
             "#d8576b"
            ],
            [
             0.6666666666666666,
             "#ed7953"
            ],
            [
             0.7777777777777778,
             "#fb9f3a"
            ],
            [
             0.8888888888888888,
             "#fdca26"
            ],
            [
             1,
             "#f0f921"
            ]
           ]
          },
          "colorway": [
           "#636efa",
           "#EF553B",
           "#00cc96",
           "#ab63fa",
           "#FFA15A",
           "#19d3f3",
           "#FF6692",
           "#B6E880",
           "#FF97FF",
           "#FECB52"
          ],
          "font": {
           "color": "#2a3f5f"
          },
          "geo": {
           "bgcolor": "white",
           "lakecolor": "white",
           "landcolor": "#E5ECF6",
           "showlakes": true,
           "showland": true,
           "subunitcolor": "white"
          },
          "hoverlabel": {
           "align": "left"
          },
          "hovermode": "closest",
          "mapbox": {
           "style": "light"
          },
          "paper_bgcolor": "white",
          "plot_bgcolor": "#E5ECF6",
          "polar": {
           "angularaxis": {
            "gridcolor": "white",
            "linecolor": "white",
            "ticks": ""
           },
           "bgcolor": "#E5ECF6",
           "radialaxis": {
            "gridcolor": "white",
            "linecolor": "white",
            "ticks": ""
           }
          },
          "scene": {
           "xaxis": {
            "backgroundcolor": "#E5ECF6",
            "gridcolor": "white",
            "gridwidth": 2,
            "linecolor": "white",
            "showbackground": true,
            "ticks": "",
            "zerolinecolor": "white"
           },
           "yaxis": {
            "backgroundcolor": "#E5ECF6",
            "gridcolor": "white",
            "gridwidth": 2,
            "linecolor": "white",
            "showbackground": true,
            "ticks": "",
            "zerolinecolor": "white"
           },
           "zaxis": {
            "backgroundcolor": "#E5ECF6",
            "gridcolor": "white",
            "gridwidth": 2,
            "linecolor": "white",
            "showbackground": true,
            "ticks": "",
            "zerolinecolor": "white"
           }
          },
          "shapedefaults": {
           "line": {
            "color": "#2a3f5f"
           }
          },
          "ternary": {
           "aaxis": {
            "gridcolor": "white",
            "linecolor": "white",
            "ticks": ""
           },
           "baxis": {
            "gridcolor": "white",
            "linecolor": "white",
            "ticks": ""
           },
           "bgcolor": "#E5ECF6",
           "caxis": {
            "gridcolor": "white",
            "linecolor": "white",
            "ticks": ""
           }
          },
          "title": {
           "x": 0.05
          },
          "xaxis": {
           "automargin": true,
           "gridcolor": "white",
           "linecolor": "white",
           "ticks": "",
           "title": {
            "standoff": 15
           },
           "zerolinecolor": "white",
           "zerolinewidth": 2
          },
          "yaxis": {
           "automargin": true,
           "gridcolor": "white",
           "linecolor": "white",
           "ticks": "",
           "title": {
            "standoff": 15
           },
           "zerolinecolor": "white",
           "zerolinewidth": 2
          }
         }
        },
        "xaxis": {
         "anchor": "y",
         "domain": [
          0,
          1
         ],
         "title": {
          "text": "Cidade"
         }
        },
        "yaxis": {
         "anchor": "x",
         "domain": [
          0,
          1
         ],
         "title": {
          "text": "Diagnostico Depressão Total e que receberam Assistência Médica"
         }
        }
       }
      }
     },
     "metadata": {},
     "output_type": "display_data"
    }
   ],
   "source": [
    "fig = px.bar(tab_sexo_cidade, x='Cidade',y='Diagnostico Depressão Total e que receberam Assistência Médica',color='Região',text=\"Diagnostico Depressão Total e que receberam Assistência Médica\")\n",
    "fig.update_layout(margin=dict(l=20, r=20, t=30, b=20))\n",
    "fig.update_traces(texttemplate='%{text:.2s}%', textposition='outside')\n",
    "fig.show()"
   ]
  },
  {
   "cell_type": "code",
   "execution_count": 17,
   "id": "0bbc3852",
   "metadata": {},
   "outputs": [],
   "source": [
    "dados_nordeste = tab_sexo_cidade.query(\"Região == 'Nordeste'\")"
   ]
  },
  {
   "cell_type": "code",
   "execution_count": 18,
   "id": "a5e5714d",
   "metadata": {},
   "outputs": [
    {
     "data": {
      "application/vnd.plotly.v1+json": {
       "config": {
        "plotlyServerURL": "https://plot.ly"
       },
       "data": [
        {
         "marker": {
          "color": "red",
          "opacity": 0.5
         },
         "name": "Diagnostico Depressão Feminino e que receberam Assistência Médica",
         "text": [
          45.6,
          52.5,
          45.3,
          48.4,
          60.1,
          58.5,
          59.4,
          47.2,
          49.3
         ],
         "textposition": "outside",
         "texttemplate": "%{text:.2s}%",
         "type": "bar",
         "x": [
          "São Luís",
          "Teresina",
          "Fortaleza",
          "Natal",
          "João Pessoa",
          "Recife",
          "Maceió",
          "Aracaju",
          "Salvador"
         ],
         "y": [
          45.6,
          52.5,
          45.3,
          48.4,
          60.1,
          58.5,
          59.4,
          47.2,
          49.3
         ]
        },
        {
         "marker": {
          "color": "blue",
          "opacity": 0.5
         },
         "name": "Diagnostico Depressão Masculino e que receberam Assistência Médica",
         "text": [
          33.9,
          81.8,
          41.7,
          55.8,
          44.4,
          63.7,
          61.4,
          50.3,
          54
         ],
         "textposition": "outside",
         "texttemplate": "%{text:.2s}%",
         "type": "bar",
         "x": [
          "São Luís",
          "Teresina",
          "Fortaleza",
          "Natal",
          "João Pessoa",
          "Recife",
          "Maceió",
          "Aracaju",
          "Salvador"
         ],
         "y": [
          33.9,
          81.8,
          41.7,
          55.8,
          44.4,
          63.7,
          61.4,
          50.3,
          54
         ]
        }
       ],
       "layout": {
        "barmode": "group",
        "margin": {
         "b": 20,
         "l": 20,
         "r": 20,
         "t": 30
        },
        "template": {
         "data": {
          "bar": [
           {
            "error_x": {
             "color": "#2a3f5f"
            },
            "error_y": {
             "color": "#2a3f5f"
            },
            "marker": {
             "line": {
              "color": "#E5ECF6",
              "width": 0.5
             },
             "pattern": {
              "fillmode": "overlay",
              "size": 10,
              "solidity": 0.2
             }
            },
            "type": "bar"
           }
          ],
          "barpolar": [
           {
            "marker": {
             "line": {
              "color": "#E5ECF6",
              "width": 0.5
             },
             "pattern": {
              "fillmode": "overlay",
              "size": 10,
              "solidity": 0.2
             }
            },
            "type": "barpolar"
           }
          ],
          "carpet": [
           {
            "aaxis": {
             "endlinecolor": "#2a3f5f",
             "gridcolor": "white",
             "linecolor": "white",
             "minorgridcolor": "white",
             "startlinecolor": "#2a3f5f"
            },
            "baxis": {
             "endlinecolor": "#2a3f5f",
             "gridcolor": "white",
             "linecolor": "white",
             "minorgridcolor": "white",
             "startlinecolor": "#2a3f5f"
            },
            "type": "carpet"
           }
          ],
          "choropleth": [
           {
            "colorbar": {
             "outlinewidth": 0,
             "ticks": ""
            },
            "type": "choropleth"
           }
          ],
          "contour": [
           {
            "colorbar": {
             "outlinewidth": 0,
             "ticks": ""
            },
            "colorscale": [
             [
              0,
              "#0d0887"
             ],
             [
              0.1111111111111111,
              "#46039f"
             ],
             [
              0.2222222222222222,
              "#7201a8"
             ],
             [
              0.3333333333333333,
              "#9c179e"
             ],
             [
              0.4444444444444444,
              "#bd3786"
             ],
             [
              0.5555555555555556,
              "#d8576b"
             ],
             [
              0.6666666666666666,
              "#ed7953"
             ],
             [
              0.7777777777777778,
              "#fb9f3a"
             ],
             [
              0.8888888888888888,
              "#fdca26"
             ],
             [
              1,
              "#f0f921"
             ]
            ],
            "type": "contour"
           }
          ],
          "contourcarpet": [
           {
            "colorbar": {
             "outlinewidth": 0,
             "ticks": ""
            },
            "type": "contourcarpet"
           }
          ],
          "heatmap": [
           {
            "colorbar": {
             "outlinewidth": 0,
             "ticks": ""
            },
            "colorscale": [
             [
              0,
              "#0d0887"
             ],
             [
              0.1111111111111111,
              "#46039f"
             ],
             [
              0.2222222222222222,
              "#7201a8"
             ],
             [
              0.3333333333333333,
              "#9c179e"
             ],
             [
              0.4444444444444444,
              "#bd3786"
             ],
             [
              0.5555555555555556,
              "#d8576b"
             ],
             [
              0.6666666666666666,
              "#ed7953"
             ],
             [
              0.7777777777777778,
              "#fb9f3a"
             ],
             [
              0.8888888888888888,
              "#fdca26"
             ],
             [
              1,
              "#f0f921"
             ]
            ],
            "type": "heatmap"
           }
          ],
          "heatmapgl": [
           {
            "colorbar": {
             "outlinewidth": 0,
             "ticks": ""
            },
            "colorscale": [
             [
              0,
              "#0d0887"
             ],
             [
              0.1111111111111111,
              "#46039f"
             ],
             [
              0.2222222222222222,
              "#7201a8"
             ],
             [
              0.3333333333333333,
              "#9c179e"
             ],
             [
              0.4444444444444444,
              "#bd3786"
             ],
             [
              0.5555555555555556,
              "#d8576b"
             ],
             [
              0.6666666666666666,
              "#ed7953"
             ],
             [
              0.7777777777777778,
              "#fb9f3a"
             ],
             [
              0.8888888888888888,
              "#fdca26"
             ],
             [
              1,
              "#f0f921"
             ]
            ],
            "type": "heatmapgl"
           }
          ],
          "histogram": [
           {
            "marker": {
             "pattern": {
              "fillmode": "overlay",
              "size": 10,
              "solidity": 0.2
             }
            },
            "type": "histogram"
           }
          ],
          "histogram2d": [
           {
            "colorbar": {
             "outlinewidth": 0,
             "ticks": ""
            },
            "colorscale": [
             [
              0,
              "#0d0887"
             ],
             [
              0.1111111111111111,
              "#46039f"
             ],
             [
              0.2222222222222222,
              "#7201a8"
             ],
             [
              0.3333333333333333,
              "#9c179e"
             ],
             [
              0.4444444444444444,
              "#bd3786"
             ],
             [
              0.5555555555555556,
              "#d8576b"
             ],
             [
              0.6666666666666666,
              "#ed7953"
             ],
             [
              0.7777777777777778,
              "#fb9f3a"
             ],
             [
              0.8888888888888888,
              "#fdca26"
             ],
             [
              1,
              "#f0f921"
             ]
            ],
            "type": "histogram2d"
           }
          ],
          "histogram2dcontour": [
           {
            "colorbar": {
             "outlinewidth": 0,
             "ticks": ""
            },
            "colorscale": [
             [
              0,
              "#0d0887"
             ],
             [
              0.1111111111111111,
              "#46039f"
             ],
             [
              0.2222222222222222,
              "#7201a8"
             ],
             [
              0.3333333333333333,
              "#9c179e"
             ],
             [
              0.4444444444444444,
              "#bd3786"
             ],
             [
              0.5555555555555556,
              "#d8576b"
             ],
             [
              0.6666666666666666,
              "#ed7953"
             ],
             [
              0.7777777777777778,
              "#fb9f3a"
             ],
             [
              0.8888888888888888,
              "#fdca26"
             ],
             [
              1,
              "#f0f921"
             ]
            ],
            "type": "histogram2dcontour"
           }
          ],
          "mesh3d": [
           {
            "colorbar": {
             "outlinewidth": 0,
             "ticks": ""
            },
            "type": "mesh3d"
           }
          ],
          "parcoords": [
           {
            "line": {
             "colorbar": {
              "outlinewidth": 0,
              "ticks": ""
             }
            },
            "type": "parcoords"
           }
          ],
          "pie": [
           {
            "automargin": true,
            "type": "pie"
           }
          ],
          "scatter": [
           {
            "marker": {
             "colorbar": {
              "outlinewidth": 0,
              "ticks": ""
             }
            },
            "type": "scatter"
           }
          ],
          "scatter3d": [
           {
            "line": {
             "colorbar": {
              "outlinewidth": 0,
              "ticks": ""
             }
            },
            "marker": {
             "colorbar": {
              "outlinewidth": 0,
              "ticks": ""
             }
            },
            "type": "scatter3d"
           }
          ],
          "scattercarpet": [
           {
            "marker": {
             "colorbar": {
              "outlinewidth": 0,
              "ticks": ""
             }
            },
            "type": "scattercarpet"
           }
          ],
          "scattergeo": [
           {
            "marker": {
             "colorbar": {
              "outlinewidth": 0,
              "ticks": ""
             }
            },
            "type": "scattergeo"
           }
          ],
          "scattergl": [
           {
            "marker": {
             "colorbar": {
              "outlinewidth": 0,
              "ticks": ""
             }
            },
            "type": "scattergl"
           }
          ],
          "scattermapbox": [
           {
            "marker": {
             "colorbar": {
              "outlinewidth": 0,
              "ticks": ""
             }
            },
            "type": "scattermapbox"
           }
          ],
          "scatterpolar": [
           {
            "marker": {
             "colorbar": {
              "outlinewidth": 0,
              "ticks": ""
             }
            },
            "type": "scatterpolar"
           }
          ],
          "scatterpolargl": [
           {
            "marker": {
             "colorbar": {
              "outlinewidth": 0,
              "ticks": ""
             }
            },
            "type": "scatterpolargl"
           }
          ],
          "scatterternary": [
           {
            "marker": {
             "colorbar": {
              "outlinewidth": 0,
              "ticks": ""
             }
            },
            "type": "scatterternary"
           }
          ],
          "surface": [
           {
            "colorbar": {
             "outlinewidth": 0,
             "ticks": ""
            },
            "colorscale": [
             [
              0,
              "#0d0887"
             ],
             [
              0.1111111111111111,
              "#46039f"
             ],
             [
              0.2222222222222222,
              "#7201a8"
             ],
             [
              0.3333333333333333,
              "#9c179e"
             ],
             [
              0.4444444444444444,
              "#bd3786"
             ],
             [
              0.5555555555555556,
              "#d8576b"
             ],
             [
              0.6666666666666666,
              "#ed7953"
             ],
             [
              0.7777777777777778,
              "#fb9f3a"
             ],
             [
              0.8888888888888888,
              "#fdca26"
             ],
             [
              1,
              "#f0f921"
             ]
            ],
            "type": "surface"
           }
          ],
          "table": [
           {
            "cells": {
             "fill": {
              "color": "#EBF0F8"
             },
             "line": {
              "color": "white"
             }
            },
            "header": {
             "fill": {
              "color": "#C8D4E3"
             },
             "line": {
              "color": "white"
             }
            },
            "type": "table"
           }
          ]
         },
         "layout": {
          "annotationdefaults": {
           "arrowcolor": "#2a3f5f",
           "arrowhead": 0,
           "arrowwidth": 1
          },
          "autotypenumbers": "strict",
          "coloraxis": {
           "colorbar": {
            "outlinewidth": 0,
            "ticks": ""
           }
          },
          "colorscale": {
           "diverging": [
            [
             0,
             "#8e0152"
            ],
            [
             0.1,
             "#c51b7d"
            ],
            [
             0.2,
             "#de77ae"
            ],
            [
             0.3,
             "#f1b6da"
            ],
            [
             0.4,
             "#fde0ef"
            ],
            [
             0.5,
             "#f7f7f7"
            ],
            [
             0.6,
             "#e6f5d0"
            ],
            [
             0.7,
             "#b8e186"
            ],
            [
             0.8,
             "#7fbc41"
            ],
            [
             0.9,
             "#4d9221"
            ],
            [
             1,
             "#276419"
            ]
           ],
           "sequential": [
            [
             0,
             "#0d0887"
            ],
            [
             0.1111111111111111,
             "#46039f"
            ],
            [
             0.2222222222222222,
             "#7201a8"
            ],
            [
             0.3333333333333333,
             "#9c179e"
            ],
            [
             0.4444444444444444,
             "#bd3786"
            ],
            [
             0.5555555555555556,
             "#d8576b"
            ],
            [
             0.6666666666666666,
             "#ed7953"
            ],
            [
             0.7777777777777778,
             "#fb9f3a"
            ],
            [
             0.8888888888888888,
             "#fdca26"
            ],
            [
             1,
             "#f0f921"
            ]
           ],
           "sequentialminus": [
            [
             0,
             "#0d0887"
            ],
            [
             0.1111111111111111,
             "#46039f"
            ],
            [
             0.2222222222222222,
             "#7201a8"
            ],
            [
             0.3333333333333333,
             "#9c179e"
            ],
            [
             0.4444444444444444,
             "#bd3786"
            ],
            [
             0.5555555555555556,
             "#d8576b"
            ],
            [
             0.6666666666666666,
             "#ed7953"
            ],
            [
             0.7777777777777778,
             "#fb9f3a"
            ],
            [
             0.8888888888888888,
             "#fdca26"
            ],
            [
             1,
             "#f0f921"
            ]
           ]
          },
          "colorway": [
           "#636efa",
           "#EF553B",
           "#00cc96",
           "#ab63fa",
           "#FFA15A",
           "#19d3f3",
           "#FF6692",
           "#B6E880",
           "#FF97FF",
           "#FECB52"
          ],
          "font": {
           "color": "#2a3f5f"
          },
          "geo": {
           "bgcolor": "white",
           "lakecolor": "white",
           "landcolor": "#E5ECF6",
           "showlakes": true,
           "showland": true,
           "subunitcolor": "white"
          },
          "hoverlabel": {
           "align": "left"
          },
          "hovermode": "closest",
          "mapbox": {
           "style": "light"
          },
          "paper_bgcolor": "white",
          "plot_bgcolor": "#E5ECF6",
          "polar": {
           "angularaxis": {
            "gridcolor": "white",
            "linecolor": "white",
            "ticks": ""
           },
           "bgcolor": "#E5ECF6",
           "radialaxis": {
            "gridcolor": "white",
            "linecolor": "white",
            "ticks": ""
           }
          },
          "scene": {
           "xaxis": {
            "backgroundcolor": "#E5ECF6",
            "gridcolor": "white",
            "gridwidth": 2,
            "linecolor": "white",
            "showbackground": true,
            "ticks": "",
            "zerolinecolor": "white"
           },
           "yaxis": {
            "backgroundcolor": "#E5ECF6",
            "gridcolor": "white",
            "gridwidth": 2,
            "linecolor": "white",
            "showbackground": true,
            "ticks": "",
            "zerolinecolor": "white"
           },
           "zaxis": {
            "backgroundcolor": "#E5ECF6",
            "gridcolor": "white",
            "gridwidth": 2,
            "linecolor": "white",
            "showbackground": true,
            "ticks": "",
            "zerolinecolor": "white"
           }
          },
          "shapedefaults": {
           "line": {
            "color": "#2a3f5f"
           }
          },
          "ternary": {
           "aaxis": {
            "gridcolor": "white",
            "linecolor": "white",
            "ticks": ""
           },
           "baxis": {
            "gridcolor": "white",
            "linecolor": "white",
            "ticks": ""
           },
           "bgcolor": "#E5ECF6",
           "caxis": {
            "gridcolor": "white",
            "linecolor": "white",
            "ticks": ""
           }
          },
          "title": {
           "x": 0.05
          },
          "xaxis": {
           "automargin": true,
           "gridcolor": "white",
           "linecolor": "white",
           "ticks": "",
           "title": {
            "standoff": 15
           },
           "zerolinecolor": "white",
           "zerolinewidth": 2
          },
          "yaxis": {
           "automargin": true,
           "gridcolor": "white",
           "linecolor": "white",
           "ticks": "",
           "title": {
            "standoff": 15
           },
           "zerolinecolor": "white",
           "zerolinewidth": 2
          }
         }
        }
       }
      }
     },
     "metadata": {},
     "output_type": "display_data"
    }
   ],
   "source": [
    "trace1=go.Bar(x=dados_nordeste['Cidade'],y=dados_nordeste['Masculino'],marker=dict(color='blue',opacity=0.5),name=\"Diagnostico Depressão Masculino e que receberam Assistência Médica\",text=dados_nordeste['Masculino'])\n",
    "trace2=go.Bar(x=dados_nordeste['Cidade'],y=dados_nordeste['Feminino'],marker=dict(color='red',opacity=0.5),name=\"Diagnostico Depressão Feminino e que receberam Assistência Médica\",text=dados_nordeste['Feminino'])\n",
    "\n",
    "data=[trace2,trace1]\n",
    "\n",
    "layout = go.Layout(barmode=\"group\")\n",
    "\n",
    "fig = go.Figure(data,layout)\n",
    "fig.update_layout(margin=dict(l=20, r=20, t=30, b=20))\n",
    "fig.update_traces(texttemplate='%{text:.2s}%', textposition='outside')\n",
    "fig.show()"
   ]
  },
  {
   "cell_type": "code",
   "execution_count": 19,
   "id": "9fc90414",
   "metadata": {},
   "outputs": [
    {
     "ename": "NameError",
     "evalue": "name 'tab_corRaca_cidade' is not defined",
     "output_type": "error",
     "traceback": [
      "\u001b[1;31m---------------------------------------------------------------------------\u001b[0m",
      "\u001b[1;31mNameError\u001b[0m                                 Traceback (most recent call last)",
      "\u001b[1;32m<ipython-input-19-345dafd2d544>\u001b[0m in \u001b[0;36m<module>\u001b[1;34m\u001b[0m\n\u001b[0;32m      1\u001b[0m \u001b[0mc_rendimento\u001b[0m \u001b[1;33m=\u001b[0m \u001b[0mtab_rendimento_cidade\u001b[0m\u001b[1;33m.\u001b[0m\u001b[0mmean\u001b[0m\u001b[1;33m(\u001b[0m\u001b[1;33m)\u001b[0m\u001b[1;33m\u001b[0m\u001b[1;33m\u001b[0m\u001b[0m\n\u001b[1;32m----> 2\u001b[1;33m \u001b[0mc_corRaca\u001b[0m \u001b[1;33m=\u001b[0m \u001b[0mtab_corRaca_cidade\u001b[0m\u001b[1;33m.\u001b[0m\u001b[0mmean\u001b[0m\u001b[1;33m(\u001b[0m\u001b[1;33m)\u001b[0m\u001b[1;33m\u001b[0m\u001b[1;33m\u001b[0m\u001b[0m\n\u001b[0m\u001b[0;32m      3\u001b[0m \u001b[0mc_instrucao\u001b[0m \u001b[1;33m=\u001b[0m \u001b[0mtab_instrucao_cidade\u001b[0m\u001b[1;33m.\u001b[0m\u001b[0mmean\u001b[0m\u001b[1;33m(\u001b[0m\u001b[1;33m)\u001b[0m\u001b[1;33m\u001b[0m\u001b[1;33m\u001b[0m\u001b[0m\n\u001b[0;32m      4\u001b[0m \u001b[0mc_posOcup\u001b[0m \u001b[1;33m=\u001b[0m \u001b[0mtab_posOcup_cidade\u001b[0m\u001b[1;33m.\u001b[0m\u001b[0mmean\u001b[0m\u001b[1;33m(\u001b[0m\u001b[1;33m)\u001b[0m\u001b[1;33m\u001b[0m\u001b[1;33m\u001b[0m\u001b[0m\n\u001b[0;32m      5\u001b[0m \u001b[0mc_sexo\u001b[0m \u001b[1;33m=\u001b[0m \u001b[0mtab_sexo_cidade\u001b[0m\u001b[1;33m.\u001b[0m\u001b[0mmean\u001b[0m\u001b[1;33m(\u001b[0m\u001b[1;33m)\u001b[0m\u001b[1;33m\u001b[0m\u001b[1;33m\u001b[0m\u001b[0m\n",
      "\u001b[1;31mNameError\u001b[0m: name 'tab_corRaca_cidade' is not defined"
     ]
    }
   ],
   "source": [
    "c_rendimento = tab_rendimento_cidade.mean()\n",
    "c_corRaca = tab_corRaca_cidade.mean()\n",
    "c_instrucao = tab_instrucao_cidade.mean()\n",
    "c_posOcup = tab_posOcup_cidade.mean()\n",
    "c_sexo = tab_sexo_cidade.mean()\n",
    "c_idade = tab_idade_cidade.mean()\n",
    "c_total = pd.concat([c_sexo,c_corRaca,c_instrucao,c_posOcup,c_rendimento,c_idade])"
   ]
  },
  {
   "cell_type": "code",
   "execution_count": null,
   "id": "7f313bce",
   "metadata": {},
   "outputs": [],
   "source": [
    "c_total.drop_duplicates(inplace=True)\n",
    "c_total.drop(labels='Total',inplace=True)"
   ]
  },
  {
   "cell_type": "code",
   "execution_count": null,
   "id": "321185e4",
   "metadata": {},
   "outputs": [
    {
     "data": {
      "text/html": [
       "<div>\n",
       "<style scoped>\n",
       "    .dataframe tbody tr th:only-of-type {\n",
       "        vertical-align: middle;\n",
       "    }\n",
       "\n",
       "    .dataframe tbody tr th {\n",
       "        vertical-align: top;\n",
       "    }\n",
       "\n",
       "    .dataframe thead th {\n",
       "        text-align: right;\n",
       "    }\n",
       "</style>\n",
       "<table border=\"1\" class=\"dataframe\">\n",
       "  <thead>\n",
       "    <tr style=\"text-align: right;\">\n",
       "      <th></th>\n",
       "      <th>Proporção de diagnostico de depressão</th>\n",
       "      <th>Categoria</th>\n",
       "    </tr>\n",
       "  </thead>\n",
       "  <tbody>\n",
       "    <tr>\n",
       "      <th>Diagnostico Depressão Total e que receberam Assistência Médica</th>\n",
       "      <td>51.59</td>\n",
       "      <td>Total</td>\n",
       "    </tr>\n",
       "    <tr>\n",
       "      <th>Masculino</th>\n",
       "      <td>52.37</td>\n",
       "      <td>Sexo</td>\n",
       "    </tr>\n",
       "    <tr>\n",
       "      <th>Feminino</th>\n",
       "      <td>51.54</td>\n",
       "      <td>Sexo</td>\n",
       "    </tr>\n",
       "    <tr>\n",
       "      <th>Branca</th>\n",
       "      <td>54.87</td>\n",
       "      <td>Cor ou Raça</td>\n",
       "    </tr>\n",
       "    <tr>\n",
       "      <th>Preta</th>\n",
       "      <td>54.23</td>\n",
       "      <td>Cor ou Raça</td>\n",
       "    </tr>\n",
       "    <tr>\n",
       "      <th>Parda</th>\n",
       "      <td>48.90</td>\n",
       "      <td>Cor ou Raça</td>\n",
       "    </tr>\n",
       "    <tr>\n",
       "      <th>Sem instrução e fundamental incompleto</th>\n",
       "      <td>47.79</td>\n",
       "      <td>Instrução</td>\n",
       "    </tr>\n",
       "    <tr>\n",
       "      <th>Fundamental completo e médio incompleto</th>\n",
       "      <td>55.87</td>\n",
       "      <td>Instrução</td>\n",
       "    </tr>\n",
       "    <tr>\n",
       "      <th>Médio completo e superior incompleto</th>\n",
       "      <td>51.08</td>\n",
       "      <td>Instrução</td>\n",
       "    </tr>\n",
       "    <tr>\n",
       "      <th>Superior completo</th>\n",
       "      <td>54.15</td>\n",
       "      <td>Instrução</td>\n",
       "    </tr>\n",
       "    <tr>\n",
       "      <th>Trabalhando ocupado</th>\n",
       "      <td>48.51</td>\n",
       "      <td>Situação de trabalho</td>\n",
       "    </tr>\n",
       "    <tr>\n",
       "      <th>Trabalhando desocupado</th>\n",
       "      <td>57.53</td>\n",
       "      <td>Situação de trabalho</td>\n",
       "    </tr>\n",
       "    <tr>\n",
       "      <th>Desempregados</th>\n",
       "      <td>55.25</td>\n",
       "      <td>Situação de trabalho</td>\n",
       "    </tr>\n",
       "    <tr>\n",
       "      <th>Sem rendimento e ate 1/4 do salario minimo</th>\n",
       "      <td>54.81</td>\n",
       "      <td>Renda</td>\n",
       "    </tr>\n",
       "    <tr>\n",
       "      <th>Mais de 1/4 a 1/2 do salario minimo</th>\n",
       "      <td>53.40</td>\n",
       "      <td>Renda</td>\n",
       "    </tr>\n",
       "    <tr>\n",
       "      <th>Mais de 1/2 a 1 salario minimo</th>\n",
       "      <td>49.07</td>\n",
       "      <td>Renda</td>\n",
       "    </tr>\n",
       "    <tr>\n",
       "      <th>Mais de 1 a 2 salarios minimos</th>\n",
       "      <td>51.76</td>\n",
       "      <td>Renda</td>\n",
       "    </tr>\n",
       "    <tr>\n",
       "      <th>Mais de 2 a 3 salarios minimos</th>\n",
       "      <td>58.41</td>\n",
       "      <td>Renda</td>\n",
       "    </tr>\n",
       "    <tr>\n",
       "      <th>Mais de 3 a 5 salarios minimos</th>\n",
       "      <td>48.59</td>\n",
       "      <td>Renda</td>\n",
       "    </tr>\n",
       "    <tr>\n",
       "      <th>Mais de 5 salarios minimos</th>\n",
       "      <td>54.97</td>\n",
       "      <td>Renda</td>\n",
       "    </tr>\n",
       "    <tr>\n",
       "      <th>18 a 19 anos</th>\n",
       "      <td>60.59</td>\n",
       "      <td>Idade</td>\n",
       "    </tr>\n",
       "    <tr>\n",
       "      <th>30 a 59 anos</th>\n",
       "      <td>50.69</td>\n",
       "      <td>Idade</td>\n",
       "    </tr>\n",
       "    <tr>\n",
       "      <th>60 a 64 anos</th>\n",
       "      <td>49.69</td>\n",
       "      <td>Idade</td>\n",
       "    </tr>\n",
       "    <tr>\n",
       "      <th>65 a 74 anos</th>\n",
       "      <td>52.27</td>\n",
       "      <td>Idade</td>\n",
       "    </tr>\n",
       "    <tr>\n",
       "      <th>75 anos ou mais</th>\n",
       "      <td>47.45</td>\n",
       "      <td>Idade</td>\n",
       "    </tr>\n",
       "  </tbody>\n",
       "</table>\n",
       "</div>"
      ],
      "text/plain": [
       "                                                    Proporção de diagnostico de depressão  \\\n",
       "Diagnostico Depressão Total e que receberam Ass...                                  51.59   \n",
       "Masculino                                                                           52.37   \n",
       "Feminino                                                                            51.54   \n",
       "Branca                                                                              54.87   \n",
       "Preta                                                                               54.23   \n",
       "Parda                                                                               48.90   \n",
       "Sem instrução e fundamental incompleto                                              47.79   \n",
       "Fundamental completo e médio incompleto                                             55.87   \n",
       "Médio completo e superior incompleto                                                51.08   \n",
       "Superior completo                                                                   54.15   \n",
       "Trabalhando ocupado                                                                 48.51   \n",
       "Trabalhando desocupado                                                              57.53   \n",
       "Desempregados                                                                       55.25   \n",
       "Sem rendimento e ate 1/4 do salario minimo                                          54.81   \n",
       "Mais de 1/4 a 1/2 do salario minimo                                                 53.40   \n",
       "Mais de 1/2 a 1 salario minimo                                                      49.07   \n",
       "Mais de 1 a 2 salarios minimos                                                      51.76   \n",
       "Mais de 2 a 3 salarios minimos                                                      58.41   \n",
       "Mais de 3 a 5 salarios minimos                                                      48.59   \n",
       "Mais de 5 salarios minimos                                                          54.97   \n",
       "18 a 19 anos                                                                        60.59   \n",
       "30 a 59 anos                                                                        50.69   \n",
       "60 a 64 anos                                                                        49.69   \n",
       "65 a 74 anos                                                                        52.27   \n",
       "75 anos ou mais                                                                     47.45   \n",
       "\n",
       "                                                               Categoria  \n",
       "Diagnostico Depressão Total e que receberam Ass...                 Total  \n",
       "Masculino                                                           Sexo  \n",
       "Feminino                                                            Sexo  \n",
       "Branca                                                       Cor ou Raça  \n",
       "Preta                                                        Cor ou Raça  \n",
       "Parda                                                        Cor ou Raça  \n",
       "Sem instrução e fundamental incompleto                         Instrução  \n",
       "Fundamental completo e médio incompleto                        Instrução  \n",
       "Médio completo e superior incompleto                           Instrução  \n",
       "Superior completo                                              Instrução  \n",
       "Trabalhando ocupado                                 Situação de trabalho  \n",
       "Trabalhando desocupado                              Situação de trabalho  \n",
       "Desempregados                                       Situação de trabalho  \n",
       "Sem rendimento e ate 1/4 do salario minimo                         Renda  \n",
       "Mais de 1/4 a 1/2 do salario minimo                                Renda  \n",
       "Mais de 1/2 a 1 salario minimo                                     Renda  \n",
       "Mais de 1 a 2 salarios minimos                                     Renda  \n",
       "Mais de 2 a 3 salarios minimos                                     Renda  \n",
       "Mais de 3 a 5 salarios minimos                                     Renda  \n",
       "Mais de 5 salarios minimos                                         Renda  \n",
       "18 a 19 anos                                                       Idade  \n",
       "30 a 59 anos                                                       Idade  \n",
       "60 a 64 anos                                                       Idade  \n",
       "65 a 74 anos                                                       Idade  \n",
       "75 anos ou mais                                                    Idade  "
      ]
     },
     "execution_count": 20,
     "metadata": {},
     "output_type": "execute_result"
    }
   ],
   "source": [
    "medias_dados_brasil = pd.DataFrame(c_total,columns=['Proporção de diagnostico de depressão'])\n",
    "medias_dados_brasil.loc['Diagnostico Depressão Total e que receberam Assistência Médica','Categoria'] = 'Total'\n",
    "medias_dados_brasil.loc['Masculino':'Feminino','Categoria'] = 'Sexo'\n",
    "medias_dados_brasil.loc['Branca':'Parda','Categoria'] = 'Cor ou Raça'\n",
    "medias_dados_brasil.loc['Sem instrução e fundamental incompleto':'Superior completo','Categoria'] = 'Instrução'\n",
    "medias_dados_brasil.loc['Trabalhando ocupado':'Desempregados','Categoria'] = 'Situação de trabalho'\n",
    "medias_dados_brasil.loc['Sem rendimento e ate 1/4 do salario minimo':'Mais de 5 salarios minimos','Categoria'] = 'Renda'\n",
    "medias_dados_brasil.loc['18 a 19 anos':'75 anos ou mais','Categoria'] = 'Idade'\n",
    "medias_dados_brasil.round(2)"
   ]
  },
  {
   "cell_type": "code",
   "execution_count": null,
   "id": "8946d50a",
   "metadata": {},
   "outputs": [
    {
     "ename": "NameError",
     "evalue": "name 'tab_sexo_cidade' is not defined",
     "output_type": "error",
     "traceback": [
      "\u001b[1;31m---------------------------------------------------------------------------\u001b[0m",
      "\u001b[1;31mNameError\u001b[0m                                 Traceback (most recent call last)",
      "\u001b[1;32m<ipython-input-1-b26b2096ea75>\u001b[0m in \u001b[0;36m<module>\u001b[1;34m\u001b[0m\n\u001b[0;32m      5\u001b[0m     \u001b[1;32mreturn\u001b[0m \u001b[0mpor_cidade\u001b[0m\u001b[1;33m\u001b[0m\u001b[1;33m\u001b[0m\u001b[0m\n\u001b[0;32m      6\u001b[0m \u001b[1;33m\u001b[0m\u001b[0m\n\u001b[1;32m----> 7\u001b[1;33m \u001b[0msexo_cidade\u001b[0m \u001b[1;33m=\u001b[0m \u001b[0mdataset_por_cidade\u001b[0m\u001b[1;33m(\u001b[0m\u001b[0mtab_sexo_cidade\u001b[0m\u001b[1;33m)\u001b[0m\u001b[1;33m\u001b[0m\u001b[1;33m\u001b[0m\u001b[0m\n\u001b[0m\u001b[0;32m      8\u001b[0m \u001b[0mcorRaca_cidade\u001b[0m \u001b[1;33m=\u001b[0m \u001b[0mdataset_por_cidade\u001b[0m\u001b[1;33m(\u001b[0m\u001b[0mtab_corRaca_cidade\u001b[0m\u001b[1;33m)\u001b[0m\u001b[1;33m\u001b[0m\u001b[1;33m\u001b[0m\u001b[0m\n\u001b[0;32m      9\u001b[0m \u001b[0mposOcup_cidade\u001b[0m \u001b[1;33m=\u001b[0m \u001b[0mdataset_por_cidade\u001b[0m\u001b[1;33m(\u001b[0m\u001b[0mtab_posOcup_cidade\u001b[0m\u001b[1;33m)\u001b[0m\u001b[1;33m\u001b[0m\u001b[1;33m\u001b[0m\u001b[0m\n",
      "\u001b[1;31mNameError\u001b[0m: name 'tab_sexo_cidade' is not defined"
     ]
    }
   ],
   "source": [
    "def dataset_por_cidade(dataset):\n",
    "    por_cidade = dataset.T\n",
    "    por_cidade.columns=por_cidade.iloc[0]\n",
    "    por_cidade.drop(labels=['Cidade','Região'],inplace=True)\n",
    "    return por_cidade\n",
    "\n",
    "sexo_cidade = dataset_por_cidade(tab_sexo_cidade)\n",
    "corRaca_cidade = dataset_por_cidade(tab_corRaca_cidade)\n",
    "posOcup_cidade = dataset_por_cidade(tab_posOcup_cidade)\n",
    "idade_cidade = dataset_por_cidade(tab_idade_cidade)\n",
    "rendimento_cidade = dataset_por_cidade(tab_rendimento_cidade)\n",
    "instrucao_cidade = dataset_por_cidade(tab_instrucao_cidade)\n",
    "\n",
    "dados_por_cidade = pd.concat([sexo_cidade,corRaca_cidade,posOcup_cidade,idade_cidade,rendimento_cidade,instrucao_cidade])\n",
    "dados_por_cidade.drop(labels='Total',inplace=True)\n",
    "# dados_por_cidade\n",
    "dados_slz = pd.DataFrame(dados_por_cidade['São Luís'])"
   ]
  },
  {
   "cell_type": "code",
   "execution_count": null,
   "id": "a3d6a8ce",
   "metadata": {},
   "outputs": [],
   "source": []
  }
 ],
 "metadata": {
  "kernelspec": {
   "display_name": "Python 3",
   "language": "python",
   "name": "python3"
  },
  "language_info": {
   "codemirror_mode": {
    "name": "ipython",
    "version": 3
   },
   "file_extension": ".py",
   "mimetype": "text/x-python",
   "name": "python",
   "nbconvert_exporter": "python",
   "pygments_lexer": "ipython3",
   "version": "3.8.8"
  }
 },
 "nbformat": 4,
 "nbformat_minor": 5
}

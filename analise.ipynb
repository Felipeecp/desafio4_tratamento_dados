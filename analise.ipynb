{
 "cells": [
  {
   "cell_type": "code",
   "execution_count": 1,
   "metadata": {},
   "outputs": [],
   "source": [
    "import pandas as pd"
   ]
  },
  {
   "cell_type": "code",
   "execution_count": 2,
   "metadata": {},
   "outputs": [],
   "source": [
    "tab_sexo = pd.read_csv('dados_tratados/tab_sexo_tratado.csv')\n",
    "tab_rendimento = pd.read_csv('dados_tratados/tab_rendimento_tratado.csv')\n",
    "tab_posOcup = pd.read_csv('dados_tratados/tab_posOcup_tratado.csv')\n",
    "tab_instrucao = pd.read_csv('dados_tratados/tab_instrucao_tratado.csv')\n",
    "tab_idade = pd.read_csv('dados_tratados/tab_idade_tratado.csv')\n",
    "tab_corRaca = pd.read_csv('dados_tratados/tab_corRaca_tratado.csv')"
   ]
  },
  {
   "cell_type": "code",
   "execution_count": 3,
   "metadata": {},
   "outputs": [],
   "source": [
    "import plotly.express as px\n",
    "import plotly.graph_objects as go"
   ]
  },
  {
   "cell_type": "code",
   "execution_count": 4,
   "metadata": {},
   "outputs": [
    {
     "data": {
      "application/vnd.plotly.v1+json": {
       "config": {
        "plotlyServerURL": "https://plot.ly"
       },
       "data": [
        {
         "alignmentgroup": "True",
         "hovertemplate": "Região=Norte<br>Estado=%{x}<br>Diagnostico Depressão Total=%{text}<extra></extra>",
         "legendgroup": "Norte",
         "marker": {
          "color": "#636efa",
          "pattern": {
           "shape": ""
          }
         },
         "name": "Norte",
         "offsetgroup": "Norte",
         "orientation": "v",
         "showlegend": true,
         "text": [
          9,
          6,
          4.2,
          5.1,
          4.1,
          4.5,
          6.6
         ],
         "textposition": "outside",
         "texttemplate": "%{text:.2s}%",
         "type": "bar",
         "x": [
          "Rondônia",
          "Acre",
          "Amazonas",
          "Roraima",
          "Pará",
          "Amapá",
          "Tocantins"
         ],
         "xaxis": "x",
         "y": [
          9,
          6,
          4.2,
          5.1,
          4.1,
          4.5,
          6.6
         ],
         "yaxis": "y"
        },
        {
         "alignmentgroup": "True",
         "hovertemplate": "Região=Nordeste<br>Estado=%{x}<br>Diagnostico Depressão Total=%{text}<extra></extra>",
         "legendgroup": "Nordeste",
         "marker": {
          "color": "#EF553B",
          "pattern": {
           "shape": ""
          }
         },
         "name": "Nordeste",
         "offsetgroup": "Nordeste",
         "orientation": "v",
         "showlegend": true,
         "text": [
          5.4,
          6.9,
          8.1,
          8.5,
          7.6,
          6.8,
          6.2,
          8.5,
          6.3
         ],
         "textposition": "outside",
         "texttemplate": "%{text:.2s}%",
         "type": "bar",
         "x": [
          "Maranhão",
          "Piauí",
          "Ceará",
          "Rio Grande do Norte",
          "Paraíba",
          "Pernambuco",
          "Alagoas",
          "Sergipe",
          "Bahia"
         ],
         "xaxis": "x",
         "y": [
          5.4,
          6.9,
          8.1,
          8.5,
          7.6,
          6.8,
          6.2,
          8.5,
          6.3
         ],
         "yaxis": "y"
        },
        {
         "alignmentgroup": "True",
         "hovertemplate": "Região=Sudeste<br>Estado=%{x}<br>Diagnostico Depressão Total=%{text}<extra></extra>",
         "legendgroup": "Sudeste",
         "marker": {
          "color": "#00cc96",
          "pattern": {
           "shape": ""
          }
         },
         "name": "Sudeste",
         "offsetgroup": "Sudeste",
         "orientation": "v",
         "showlegend": true,
         "text": [
          13.7,
          11.3,
          8.1,
          11.8
         ],
         "textposition": "outside",
         "texttemplate": "%{text:.2s}%",
         "type": "bar",
         "x": [
          "Minas Gerais",
          "Espírito Santo",
          "Rio de Janeiro",
          "São Paulo"
         ],
         "xaxis": "x",
         "y": [
          13.7,
          11.3,
          8.1,
          11.8
         ],
         "yaxis": "y"
        },
        {
         "alignmentgroup": "True",
         "hovertemplate": "Região=Sul<br>Estado=%{x}<br>Diagnostico Depressão Total=%{text}<extra></extra>",
         "legendgroup": "Sul",
         "marker": {
          "color": "#ab63fa",
          "pattern": {
           "shape": ""
          }
         },
         "name": "Sul",
         "offsetgroup": "Sul",
         "orientation": "v",
         "showlegend": true,
         "text": [
          13.9,
          13.1,
          17.9
         ],
         "textposition": "outside",
         "texttemplate": "%{text:.2s}%",
         "type": "bar",
         "x": [
          "Paraná",
          "Santa Catarina",
          "Rio Grande do Sul"
         ],
         "xaxis": "x",
         "y": [
          13.9,
          13.1,
          17.9
         ],
         "yaxis": "y"
        },
        {
         "alignmentgroup": "True",
         "hovertemplate": "Região=Centro-Oeste<br>Estado=%{x}<br>Diagnostico Depressão Total=%{text}<extra></extra>",
         "legendgroup": "Centro-Oeste",
         "marker": {
          "color": "#FFA15A",
          "pattern": {
           "shape": ""
          }
         },
         "name": "Centro-Oeste",
         "offsetgroup": "Centro-Oeste",
         "orientation": "v",
         "showlegend": true,
         "text": [
          10.1,
          8.2,
          12,
          9.4
         ],
         "textposition": "outside",
         "texttemplate": "%{text:.2s}%",
         "type": "bar",
         "x": [
          "Mato Grosso do Sul",
          "Mato Grosso",
          "Goiás",
          "Distrito Federal"
         ],
         "xaxis": "x",
         "y": [
          10.1,
          8.2,
          12,
          9.4
         ],
         "yaxis": "y"
        }
       ],
       "layout": {
        "barmode": "relative",
        "legend": {
         "title": {
          "text": "Região"
         },
         "tracegroupgap": 0
        },
        "margin": {
         "b": 20,
         "l": 20,
         "r": 20,
         "t": 30
        },
        "template": {
         "data": {
          "bar": [
           {
            "error_x": {
             "color": "#2a3f5f"
            },
            "error_y": {
             "color": "#2a3f5f"
            },
            "marker": {
             "line": {
              "color": "#E5ECF6",
              "width": 0.5
             },
             "pattern": {
              "fillmode": "overlay",
              "size": 10,
              "solidity": 0.2
             }
            },
            "type": "bar"
           }
          ],
          "barpolar": [
           {
            "marker": {
             "line": {
              "color": "#E5ECF6",
              "width": 0.5
             },
             "pattern": {
              "fillmode": "overlay",
              "size": 10,
              "solidity": 0.2
             }
            },
            "type": "barpolar"
           }
          ],
          "carpet": [
           {
            "aaxis": {
             "endlinecolor": "#2a3f5f",
             "gridcolor": "white",
             "linecolor": "white",
             "minorgridcolor": "white",
             "startlinecolor": "#2a3f5f"
            },
            "baxis": {
             "endlinecolor": "#2a3f5f",
             "gridcolor": "white",
             "linecolor": "white",
             "minorgridcolor": "white",
             "startlinecolor": "#2a3f5f"
            },
            "type": "carpet"
           }
          ],
          "choropleth": [
           {
            "colorbar": {
             "outlinewidth": 0,
             "ticks": ""
            },
            "type": "choropleth"
           }
          ],
          "contour": [
           {
            "colorbar": {
             "outlinewidth": 0,
             "ticks": ""
            },
            "colorscale": [
             [
              0,
              "#0d0887"
             ],
             [
              0.1111111111111111,
              "#46039f"
             ],
             [
              0.2222222222222222,
              "#7201a8"
             ],
             [
              0.3333333333333333,
              "#9c179e"
             ],
             [
              0.4444444444444444,
              "#bd3786"
             ],
             [
              0.5555555555555556,
              "#d8576b"
             ],
             [
              0.6666666666666666,
              "#ed7953"
             ],
             [
              0.7777777777777778,
              "#fb9f3a"
             ],
             [
              0.8888888888888888,
              "#fdca26"
             ],
             [
              1,
              "#f0f921"
             ]
            ],
            "type": "contour"
           }
          ],
          "contourcarpet": [
           {
            "colorbar": {
             "outlinewidth": 0,
             "ticks": ""
            },
            "type": "contourcarpet"
           }
          ],
          "heatmap": [
           {
            "colorbar": {
             "outlinewidth": 0,
             "ticks": ""
            },
            "colorscale": [
             [
              0,
              "#0d0887"
             ],
             [
              0.1111111111111111,
              "#46039f"
             ],
             [
              0.2222222222222222,
              "#7201a8"
             ],
             [
              0.3333333333333333,
              "#9c179e"
             ],
             [
              0.4444444444444444,
              "#bd3786"
             ],
             [
              0.5555555555555556,
              "#d8576b"
             ],
             [
              0.6666666666666666,
              "#ed7953"
             ],
             [
              0.7777777777777778,
              "#fb9f3a"
             ],
             [
              0.8888888888888888,
              "#fdca26"
             ],
             [
              1,
              "#f0f921"
             ]
            ],
            "type": "heatmap"
           }
          ],
          "heatmapgl": [
           {
            "colorbar": {
             "outlinewidth": 0,
             "ticks": ""
            },
            "colorscale": [
             [
              0,
              "#0d0887"
             ],
             [
              0.1111111111111111,
              "#46039f"
             ],
             [
              0.2222222222222222,
              "#7201a8"
             ],
             [
              0.3333333333333333,
              "#9c179e"
             ],
             [
              0.4444444444444444,
              "#bd3786"
             ],
             [
              0.5555555555555556,
              "#d8576b"
             ],
             [
              0.6666666666666666,
              "#ed7953"
             ],
             [
              0.7777777777777778,
              "#fb9f3a"
             ],
             [
              0.8888888888888888,
              "#fdca26"
             ],
             [
              1,
              "#f0f921"
             ]
            ],
            "type": "heatmapgl"
           }
          ],
          "histogram": [
           {
            "marker": {
             "pattern": {
              "fillmode": "overlay",
              "size": 10,
              "solidity": 0.2
             }
            },
            "type": "histogram"
           }
          ],
          "histogram2d": [
           {
            "colorbar": {
             "outlinewidth": 0,
             "ticks": ""
            },
            "colorscale": [
             [
              0,
              "#0d0887"
             ],
             [
              0.1111111111111111,
              "#46039f"
             ],
             [
              0.2222222222222222,
              "#7201a8"
             ],
             [
              0.3333333333333333,
              "#9c179e"
             ],
             [
              0.4444444444444444,
              "#bd3786"
             ],
             [
              0.5555555555555556,
              "#d8576b"
             ],
             [
              0.6666666666666666,
              "#ed7953"
             ],
             [
              0.7777777777777778,
              "#fb9f3a"
             ],
             [
              0.8888888888888888,
              "#fdca26"
             ],
             [
              1,
              "#f0f921"
             ]
            ],
            "type": "histogram2d"
           }
          ],
          "histogram2dcontour": [
           {
            "colorbar": {
             "outlinewidth": 0,
             "ticks": ""
            },
            "colorscale": [
             [
              0,
              "#0d0887"
             ],
             [
              0.1111111111111111,
              "#46039f"
             ],
             [
              0.2222222222222222,
              "#7201a8"
             ],
             [
              0.3333333333333333,
              "#9c179e"
             ],
             [
              0.4444444444444444,
              "#bd3786"
             ],
             [
              0.5555555555555556,
              "#d8576b"
             ],
             [
              0.6666666666666666,
              "#ed7953"
             ],
             [
              0.7777777777777778,
              "#fb9f3a"
             ],
             [
              0.8888888888888888,
              "#fdca26"
             ],
             [
              1,
              "#f0f921"
             ]
            ],
            "type": "histogram2dcontour"
           }
          ],
          "mesh3d": [
           {
            "colorbar": {
             "outlinewidth": 0,
             "ticks": ""
            },
            "type": "mesh3d"
           }
          ],
          "parcoords": [
           {
            "line": {
             "colorbar": {
              "outlinewidth": 0,
              "ticks": ""
             }
            },
            "type": "parcoords"
           }
          ],
          "pie": [
           {
            "automargin": true,
            "type": "pie"
           }
          ],
          "scatter": [
           {
            "marker": {
             "colorbar": {
              "outlinewidth": 0,
              "ticks": ""
             }
            },
            "type": "scatter"
           }
          ],
          "scatter3d": [
           {
            "line": {
             "colorbar": {
              "outlinewidth": 0,
              "ticks": ""
             }
            },
            "marker": {
             "colorbar": {
              "outlinewidth": 0,
              "ticks": ""
             }
            },
            "type": "scatter3d"
           }
          ],
          "scattercarpet": [
           {
            "marker": {
             "colorbar": {
              "outlinewidth": 0,
              "ticks": ""
             }
            },
            "type": "scattercarpet"
           }
          ],
          "scattergeo": [
           {
            "marker": {
             "colorbar": {
              "outlinewidth": 0,
              "ticks": ""
             }
            },
            "type": "scattergeo"
           }
          ],
          "scattergl": [
           {
            "marker": {
             "colorbar": {
              "outlinewidth": 0,
              "ticks": ""
             }
            },
            "type": "scattergl"
           }
          ],
          "scattermapbox": [
           {
            "marker": {
             "colorbar": {
              "outlinewidth": 0,
              "ticks": ""
             }
            },
            "type": "scattermapbox"
           }
          ],
          "scatterpolar": [
           {
            "marker": {
             "colorbar": {
              "outlinewidth": 0,
              "ticks": ""
             }
            },
            "type": "scatterpolar"
           }
          ],
          "scatterpolargl": [
           {
            "marker": {
             "colorbar": {
              "outlinewidth": 0,
              "ticks": ""
             }
            },
            "type": "scatterpolargl"
           }
          ],
          "scatterternary": [
           {
            "marker": {
             "colorbar": {
              "outlinewidth": 0,
              "ticks": ""
             }
            },
            "type": "scatterternary"
           }
          ],
          "surface": [
           {
            "colorbar": {
             "outlinewidth": 0,
             "ticks": ""
            },
            "colorscale": [
             [
              0,
              "#0d0887"
             ],
             [
              0.1111111111111111,
              "#46039f"
             ],
             [
              0.2222222222222222,
              "#7201a8"
             ],
             [
              0.3333333333333333,
              "#9c179e"
             ],
             [
              0.4444444444444444,
              "#bd3786"
             ],
             [
              0.5555555555555556,
              "#d8576b"
             ],
             [
              0.6666666666666666,
              "#ed7953"
             ],
             [
              0.7777777777777778,
              "#fb9f3a"
             ],
             [
              0.8888888888888888,
              "#fdca26"
             ],
             [
              1,
              "#f0f921"
             ]
            ],
            "type": "surface"
           }
          ],
          "table": [
           {
            "cells": {
             "fill": {
              "color": "#EBF0F8"
             },
             "line": {
              "color": "white"
             }
            },
            "header": {
             "fill": {
              "color": "#C8D4E3"
             },
             "line": {
              "color": "white"
             }
            },
            "type": "table"
           }
          ]
         },
         "layout": {
          "annotationdefaults": {
           "arrowcolor": "#2a3f5f",
           "arrowhead": 0,
           "arrowwidth": 1
          },
          "autotypenumbers": "strict",
          "coloraxis": {
           "colorbar": {
            "outlinewidth": 0,
            "ticks": ""
           }
          },
          "colorscale": {
           "diverging": [
            [
             0,
             "#8e0152"
            ],
            [
             0.1,
             "#c51b7d"
            ],
            [
             0.2,
             "#de77ae"
            ],
            [
             0.3,
             "#f1b6da"
            ],
            [
             0.4,
             "#fde0ef"
            ],
            [
             0.5,
             "#f7f7f7"
            ],
            [
             0.6,
             "#e6f5d0"
            ],
            [
             0.7,
             "#b8e186"
            ],
            [
             0.8,
             "#7fbc41"
            ],
            [
             0.9,
             "#4d9221"
            ],
            [
             1,
             "#276419"
            ]
           ],
           "sequential": [
            [
             0,
             "#0d0887"
            ],
            [
             0.1111111111111111,
             "#46039f"
            ],
            [
             0.2222222222222222,
             "#7201a8"
            ],
            [
             0.3333333333333333,
             "#9c179e"
            ],
            [
             0.4444444444444444,
             "#bd3786"
            ],
            [
             0.5555555555555556,
             "#d8576b"
            ],
            [
             0.6666666666666666,
             "#ed7953"
            ],
            [
             0.7777777777777778,
             "#fb9f3a"
            ],
            [
             0.8888888888888888,
             "#fdca26"
            ],
            [
             1,
             "#f0f921"
            ]
           ],
           "sequentialminus": [
            [
             0,
             "#0d0887"
            ],
            [
             0.1111111111111111,
             "#46039f"
            ],
            [
             0.2222222222222222,
             "#7201a8"
            ],
            [
             0.3333333333333333,
             "#9c179e"
            ],
            [
             0.4444444444444444,
             "#bd3786"
            ],
            [
             0.5555555555555556,
             "#d8576b"
            ],
            [
             0.6666666666666666,
             "#ed7953"
            ],
            [
             0.7777777777777778,
             "#fb9f3a"
            ],
            [
             0.8888888888888888,
             "#fdca26"
            ],
            [
             1,
             "#f0f921"
            ]
           ]
          },
          "colorway": [
           "#636efa",
           "#EF553B",
           "#00cc96",
           "#ab63fa",
           "#FFA15A",
           "#19d3f3",
           "#FF6692",
           "#B6E880",
           "#FF97FF",
           "#FECB52"
          ],
          "font": {
           "color": "#2a3f5f"
          },
          "geo": {
           "bgcolor": "white",
           "lakecolor": "white",
           "landcolor": "#E5ECF6",
           "showlakes": true,
           "showland": true,
           "subunitcolor": "white"
          },
          "hoverlabel": {
           "align": "left"
          },
          "hovermode": "closest",
          "mapbox": {
           "style": "light"
          },
          "paper_bgcolor": "white",
          "plot_bgcolor": "#E5ECF6",
          "polar": {
           "angularaxis": {
            "gridcolor": "white",
            "linecolor": "white",
            "ticks": ""
           },
           "bgcolor": "#E5ECF6",
           "radialaxis": {
            "gridcolor": "white",
            "linecolor": "white",
            "ticks": ""
           }
          },
          "scene": {
           "xaxis": {
            "backgroundcolor": "#E5ECF6",
            "gridcolor": "white",
            "gridwidth": 2,
            "linecolor": "white",
            "showbackground": true,
            "ticks": "",
            "zerolinecolor": "white"
           },
           "yaxis": {
            "backgroundcolor": "#E5ECF6",
            "gridcolor": "white",
            "gridwidth": 2,
            "linecolor": "white",
            "showbackground": true,
            "ticks": "",
            "zerolinecolor": "white"
           },
           "zaxis": {
            "backgroundcolor": "#E5ECF6",
            "gridcolor": "white",
            "gridwidth": 2,
            "linecolor": "white",
            "showbackground": true,
            "ticks": "",
            "zerolinecolor": "white"
           }
          },
          "shapedefaults": {
           "line": {
            "color": "#2a3f5f"
           }
          },
          "ternary": {
           "aaxis": {
            "gridcolor": "white",
            "linecolor": "white",
            "ticks": ""
           },
           "baxis": {
            "gridcolor": "white",
            "linecolor": "white",
            "ticks": ""
           },
           "bgcolor": "#E5ECF6",
           "caxis": {
            "gridcolor": "white",
            "linecolor": "white",
            "ticks": ""
           }
          },
          "title": {
           "x": 0.05
          },
          "xaxis": {
           "automargin": true,
           "gridcolor": "white",
           "linecolor": "white",
           "ticks": "",
           "title": {
            "standoff": 15
           },
           "zerolinecolor": "white",
           "zerolinewidth": 2
          },
          "yaxis": {
           "automargin": true,
           "gridcolor": "white",
           "linecolor": "white",
           "ticks": "",
           "title": {
            "standoff": 15
           },
           "zerolinecolor": "white",
           "zerolinewidth": 2
          }
         }
        },
        "xaxis": {
         "anchor": "y",
         "domain": [
          0,
          1
         ],
         "title": {
          "text": "Estado"
         }
        },
        "yaxis": {
         "anchor": "x",
         "domain": [
          0,
          1
         ],
         "title": {
          "text": "Diagnostico Depressão Total"
         }
        }
       }
      }
     },
     "metadata": {},
     "output_type": "display_data"
    }
   ],
   "source": [
    "fig = px.bar(tab_sexo, x='Estado',y='Diagnostico Depressão Total',color='Região',text=\"Diagnostico Depressão Total\")\n",
    "fig.update_layout(margin=dict(l=20, r=20, t=30, b=20))\n",
    "fig.update_traces(texttemplate='%{text:.2s}%', textposition='outside')\n",
    "fig.show()"
   ]
  },
  {
   "cell_type": "code",
   "execution_count": 5,
   "metadata": {},
   "outputs": [],
   "source": [
    "dados_nordeste = tab_sexo.query(\"Região == 'Nordeste'\")"
   ]
  },
  {
   "cell_type": "code",
   "execution_count": 6,
   "metadata": {},
   "outputs": [
    {
     "data": {
      "application/vnd.plotly.v1+json": {
       "config": {
        "plotlyServerURL": "https://plot.ly"
       },
       "data": [
        {
         "marker": {
          "color": "red",
          "opacity": 0.5
         },
         "name": "Diagnostico Depressão Feminino",
         "text": [
          8.2,
          10,
          11.6,
          12.6,
          10.7,
          10.2,
          8.7,
          12.5,
          10
         ],
         "textposition": "outside",
         "texttemplate": "%{text:.2s}%",
         "type": "bar",
         "x": [
          "Maranhão",
          "Piauí",
          "Ceará",
          "Rio Grande do Norte",
          "Paraíba",
          "Pernambuco",
          "Alagoas",
          "Sergipe",
          "Bahia"
         ],
         "y": [
          8.2,
          10,
          11.6,
          12.6,
          10.7,
          10.2,
          8.7,
          12.5,
          10
         ]
        },
        {
         "marker": {
          "color": "blue",
          "opacity": 0.5
         },
         "name": "Diagnostico Depressão Masculino",
         "text": [
          2.4,
          3.4,
          4,
          3.8,
          3.9,
          2.5,
          3.3,
          4,
          2.2
         ],
         "textposition": "outside",
         "texttemplate": "%{text:.2s}%",
         "type": "bar",
         "x": [
          "Maranhão",
          "Piauí",
          "Ceará",
          "Rio Grande do Norte",
          "Paraíba",
          "Pernambuco",
          "Alagoas",
          "Sergipe",
          "Bahia"
         ],
         "y": [
          2.4,
          3.4,
          4,
          3.8,
          3.9,
          2.5,
          3.3,
          4,
          2.2
         ]
        }
       ],
       "layout": {
        "barmode": "group",
        "margin": {
         "b": 20,
         "l": 20,
         "r": 20,
         "t": 30
        },
        "template": {
         "data": {
          "bar": [
           {
            "error_x": {
             "color": "#2a3f5f"
            },
            "error_y": {
             "color": "#2a3f5f"
            },
            "marker": {
             "line": {
              "color": "#E5ECF6",
              "width": 0.5
             },
             "pattern": {
              "fillmode": "overlay",
              "size": 10,
              "solidity": 0.2
             }
            },
            "type": "bar"
           }
          ],
          "barpolar": [
           {
            "marker": {
             "line": {
              "color": "#E5ECF6",
              "width": 0.5
             },
             "pattern": {
              "fillmode": "overlay",
              "size": 10,
              "solidity": 0.2
             }
            },
            "type": "barpolar"
           }
          ],
          "carpet": [
           {
            "aaxis": {
             "endlinecolor": "#2a3f5f",
             "gridcolor": "white",
             "linecolor": "white",
             "minorgridcolor": "white",
             "startlinecolor": "#2a3f5f"
            },
            "baxis": {
             "endlinecolor": "#2a3f5f",
             "gridcolor": "white",
             "linecolor": "white",
             "minorgridcolor": "white",
             "startlinecolor": "#2a3f5f"
            },
            "type": "carpet"
           }
          ],
          "choropleth": [
           {
            "colorbar": {
             "outlinewidth": 0,
             "ticks": ""
            },
            "type": "choropleth"
           }
          ],
          "contour": [
           {
            "colorbar": {
             "outlinewidth": 0,
             "ticks": ""
            },
            "colorscale": [
             [
              0,
              "#0d0887"
             ],
             [
              0.1111111111111111,
              "#46039f"
             ],
             [
              0.2222222222222222,
              "#7201a8"
             ],
             [
              0.3333333333333333,
              "#9c179e"
             ],
             [
              0.4444444444444444,
              "#bd3786"
             ],
             [
              0.5555555555555556,
              "#d8576b"
             ],
             [
              0.6666666666666666,
              "#ed7953"
             ],
             [
              0.7777777777777778,
              "#fb9f3a"
             ],
             [
              0.8888888888888888,
              "#fdca26"
             ],
             [
              1,
              "#f0f921"
             ]
            ],
            "type": "contour"
           }
          ],
          "contourcarpet": [
           {
            "colorbar": {
             "outlinewidth": 0,
             "ticks": ""
            },
            "type": "contourcarpet"
           }
          ],
          "heatmap": [
           {
            "colorbar": {
             "outlinewidth": 0,
             "ticks": ""
            },
            "colorscale": [
             [
              0,
              "#0d0887"
             ],
             [
              0.1111111111111111,
              "#46039f"
             ],
             [
              0.2222222222222222,
              "#7201a8"
             ],
             [
              0.3333333333333333,
              "#9c179e"
             ],
             [
              0.4444444444444444,
              "#bd3786"
             ],
             [
              0.5555555555555556,
              "#d8576b"
             ],
             [
              0.6666666666666666,
              "#ed7953"
             ],
             [
              0.7777777777777778,
              "#fb9f3a"
             ],
             [
              0.8888888888888888,
              "#fdca26"
             ],
             [
              1,
              "#f0f921"
             ]
            ],
            "type": "heatmap"
           }
          ],
          "heatmapgl": [
           {
            "colorbar": {
             "outlinewidth": 0,
             "ticks": ""
            },
            "colorscale": [
             [
              0,
              "#0d0887"
             ],
             [
              0.1111111111111111,
              "#46039f"
             ],
             [
              0.2222222222222222,
              "#7201a8"
             ],
             [
              0.3333333333333333,
              "#9c179e"
             ],
             [
              0.4444444444444444,
              "#bd3786"
             ],
             [
              0.5555555555555556,
              "#d8576b"
             ],
             [
              0.6666666666666666,
              "#ed7953"
             ],
             [
              0.7777777777777778,
              "#fb9f3a"
             ],
             [
              0.8888888888888888,
              "#fdca26"
             ],
             [
              1,
              "#f0f921"
             ]
            ],
            "type": "heatmapgl"
           }
          ],
          "histogram": [
           {
            "marker": {
             "pattern": {
              "fillmode": "overlay",
              "size": 10,
              "solidity": 0.2
             }
            },
            "type": "histogram"
           }
          ],
          "histogram2d": [
           {
            "colorbar": {
             "outlinewidth": 0,
             "ticks": ""
            },
            "colorscale": [
             [
              0,
              "#0d0887"
             ],
             [
              0.1111111111111111,
              "#46039f"
             ],
             [
              0.2222222222222222,
              "#7201a8"
             ],
             [
              0.3333333333333333,
              "#9c179e"
             ],
             [
              0.4444444444444444,
              "#bd3786"
             ],
             [
              0.5555555555555556,
              "#d8576b"
             ],
             [
              0.6666666666666666,
              "#ed7953"
             ],
             [
              0.7777777777777778,
              "#fb9f3a"
             ],
             [
              0.8888888888888888,
              "#fdca26"
             ],
             [
              1,
              "#f0f921"
             ]
            ],
            "type": "histogram2d"
           }
          ],
          "histogram2dcontour": [
           {
            "colorbar": {
             "outlinewidth": 0,
             "ticks": ""
            },
            "colorscale": [
             [
              0,
              "#0d0887"
             ],
             [
              0.1111111111111111,
              "#46039f"
             ],
             [
              0.2222222222222222,
              "#7201a8"
             ],
             [
              0.3333333333333333,
              "#9c179e"
             ],
             [
              0.4444444444444444,
              "#bd3786"
             ],
             [
              0.5555555555555556,
              "#d8576b"
             ],
             [
              0.6666666666666666,
              "#ed7953"
             ],
             [
              0.7777777777777778,
              "#fb9f3a"
             ],
             [
              0.8888888888888888,
              "#fdca26"
             ],
             [
              1,
              "#f0f921"
             ]
            ],
            "type": "histogram2dcontour"
           }
          ],
          "mesh3d": [
           {
            "colorbar": {
             "outlinewidth": 0,
             "ticks": ""
            },
            "type": "mesh3d"
           }
          ],
          "parcoords": [
           {
            "line": {
             "colorbar": {
              "outlinewidth": 0,
              "ticks": ""
             }
            },
            "type": "parcoords"
           }
          ],
          "pie": [
           {
            "automargin": true,
            "type": "pie"
           }
          ],
          "scatter": [
           {
            "marker": {
             "colorbar": {
              "outlinewidth": 0,
              "ticks": ""
             }
            },
            "type": "scatter"
           }
          ],
          "scatter3d": [
           {
            "line": {
             "colorbar": {
              "outlinewidth": 0,
              "ticks": ""
             }
            },
            "marker": {
             "colorbar": {
              "outlinewidth": 0,
              "ticks": ""
             }
            },
            "type": "scatter3d"
           }
          ],
          "scattercarpet": [
           {
            "marker": {
             "colorbar": {
              "outlinewidth": 0,
              "ticks": ""
             }
            },
            "type": "scattercarpet"
           }
          ],
          "scattergeo": [
           {
            "marker": {
             "colorbar": {
              "outlinewidth": 0,
              "ticks": ""
             }
            },
            "type": "scattergeo"
           }
          ],
          "scattergl": [
           {
            "marker": {
             "colorbar": {
              "outlinewidth": 0,
              "ticks": ""
             }
            },
            "type": "scattergl"
           }
          ],
          "scattermapbox": [
           {
            "marker": {
             "colorbar": {
              "outlinewidth": 0,
              "ticks": ""
             }
            },
            "type": "scattermapbox"
           }
          ],
          "scatterpolar": [
           {
            "marker": {
             "colorbar": {
              "outlinewidth": 0,
              "ticks": ""
             }
            },
            "type": "scatterpolar"
           }
          ],
          "scatterpolargl": [
           {
            "marker": {
             "colorbar": {
              "outlinewidth": 0,
              "ticks": ""
             }
            },
            "type": "scatterpolargl"
           }
          ],
          "scatterternary": [
           {
            "marker": {
             "colorbar": {
              "outlinewidth": 0,
              "ticks": ""
             }
            },
            "type": "scatterternary"
           }
          ],
          "surface": [
           {
            "colorbar": {
             "outlinewidth": 0,
             "ticks": ""
            },
            "colorscale": [
             [
              0,
              "#0d0887"
             ],
             [
              0.1111111111111111,
              "#46039f"
             ],
             [
              0.2222222222222222,
              "#7201a8"
             ],
             [
              0.3333333333333333,
              "#9c179e"
             ],
             [
              0.4444444444444444,
              "#bd3786"
             ],
             [
              0.5555555555555556,
              "#d8576b"
             ],
             [
              0.6666666666666666,
              "#ed7953"
             ],
             [
              0.7777777777777778,
              "#fb9f3a"
             ],
             [
              0.8888888888888888,
              "#fdca26"
             ],
             [
              1,
              "#f0f921"
             ]
            ],
            "type": "surface"
           }
          ],
          "table": [
           {
            "cells": {
             "fill": {
              "color": "#EBF0F8"
             },
             "line": {
              "color": "white"
             }
            },
            "header": {
             "fill": {
              "color": "#C8D4E3"
             },
             "line": {
              "color": "white"
             }
            },
            "type": "table"
           }
          ]
         },
         "layout": {
          "annotationdefaults": {
           "arrowcolor": "#2a3f5f",
           "arrowhead": 0,
           "arrowwidth": 1
          },
          "autotypenumbers": "strict",
          "coloraxis": {
           "colorbar": {
            "outlinewidth": 0,
            "ticks": ""
           }
          },
          "colorscale": {
           "diverging": [
            [
             0,
             "#8e0152"
            ],
            [
             0.1,
             "#c51b7d"
            ],
            [
             0.2,
             "#de77ae"
            ],
            [
             0.3,
             "#f1b6da"
            ],
            [
             0.4,
             "#fde0ef"
            ],
            [
             0.5,
             "#f7f7f7"
            ],
            [
             0.6,
             "#e6f5d0"
            ],
            [
             0.7,
             "#b8e186"
            ],
            [
             0.8,
             "#7fbc41"
            ],
            [
             0.9,
             "#4d9221"
            ],
            [
             1,
             "#276419"
            ]
           ],
           "sequential": [
            [
             0,
             "#0d0887"
            ],
            [
             0.1111111111111111,
             "#46039f"
            ],
            [
             0.2222222222222222,
             "#7201a8"
            ],
            [
             0.3333333333333333,
             "#9c179e"
            ],
            [
             0.4444444444444444,
             "#bd3786"
            ],
            [
             0.5555555555555556,
             "#d8576b"
            ],
            [
             0.6666666666666666,
             "#ed7953"
            ],
            [
             0.7777777777777778,
             "#fb9f3a"
            ],
            [
             0.8888888888888888,
             "#fdca26"
            ],
            [
             1,
             "#f0f921"
            ]
           ],
           "sequentialminus": [
            [
             0,
             "#0d0887"
            ],
            [
             0.1111111111111111,
             "#46039f"
            ],
            [
             0.2222222222222222,
             "#7201a8"
            ],
            [
             0.3333333333333333,
             "#9c179e"
            ],
            [
             0.4444444444444444,
             "#bd3786"
            ],
            [
             0.5555555555555556,
             "#d8576b"
            ],
            [
             0.6666666666666666,
             "#ed7953"
            ],
            [
             0.7777777777777778,
             "#fb9f3a"
            ],
            [
             0.8888888888888888,
             "#fdca26"
            ],
            [
             1,
             "#f0f921"
            ]
           ]
          },
          "colorway": [
           "#636efa",
           "#EF553B",
           "#00cc96",
           "#ab63fa",
           "#FFA15A",
           "#19d3f3",
           "#FF6692",
           "#B6E880",
           "#FF97FF",
           "#FECB52"
          ],
          "font": {
           "color": "#2a3f5f"
          },
          "geo": {
           "bgcolor": "white",
           "lakecolor": "white",
           "landcolor": "#E5ECF6",
           "showlakes": true,
           "showland": true,
           "subunitcolor": "white"
          },
          "hoverlabel": {
           "align": "left"
          },
          "hovermode": "closest",
          "mapbox": {
           "style": "light"
          },
          "paper_bgcolor": "white",
          "plot_bgcolor": "#E5ECF6",
          "polar": {
           "angularaxis": {
            "gridcolor": "white",
            "linecolor": "white",
            "ticks": ""
           },
           "bgcolor": "#E5ECF6",
           "radialaxis": {
            "gridcolor": "white",
            "linecolor": "white",
            "ticks": ""
           }
          },
          "scene": {
           "xaxis": {
            "backgroundcolor": "#E5ECF6",
            "gridcolor": "white",
            "gridwidth": 2,
            "linecolor": "white",
            "showbackground": true,
            "ticks": "",
            "zerolinecolor": "white"
           },
           "yaxis": {
            "backgroundcolor": "#E5ECF6",
            "gridcolor": "white",
            "gridwidth": 2,
            "linecolor": "white",
            "showbackground": true,
            "ticks": "",
            "zerolinecolor": "white"
           },
           "zaxis": {
            "backgroundcolor": "#E5ECF6",
            "gridcolor": "white",
            "gridwidth": 2,
            "linecolor": "white",
            "showbackground": true,
            "ticks": "",
            "zerolinecolor": "white"
           }
          },
          "shapedefaults": {
           "line": {
            "color": "#2a3f5f"
           }
          },
          "ternary": {
           "aaxis": {
            "gridcolor": "white",
            "linecolor": "white",
            "ticks": ""
           },
           "baxis": {
            "gridcolor": "white",
            "linecolor": "white",
            "ticks": ""
           },
           "bgcolor": "#E5ECF6",
           "caxis": {
            "gridcolor": "white",
            "linecolor": "white",
            "ticks": ""
           }
          },
          "title": {
           "x": 0.05
          },
          "xaxis": {
           "automargin": true,
           "gridcolor": "white",
           "linecolor": "white",
           "ticks": "",
           "title": {
            "standoff": 15
           },
           "zerolinecolor": "white",
           "zerolinewidth": 2
          },
          "yaxis": {
           "automargin": true,
           "gridcolor": "white",
           "linecolor": "white",
           "ticks": "",
           "title": {
            "standoff": 15
           },
           "zerolinecolor": "white",
           "zerolinewidth": 2
          }
         }
        }
       }
      }
     },
     "metadata": {},
     "output_type": "display_data"
    }
   ],
   "source": [
    "trace1=go.Bar(x=dados_nordeste['Estado'],y=dados_nordeste['Masculino'],marker=dict(color='blue',opacity=0.5),name=\"Diagnostico Depressão Masculino\",text=dados_nordeste['Masculino'])\n",
    "trace2=go.Bar(x=dados_nordeste['Estado'],y=dados_nordeste['Feminino'],marker=dict(color='red',opacity=0.5),name=\"Diagnostico Depressão Feminino\",text=dados_nordeste['Feminino'])\n",
    "\n",
    "data=[trace2,trace1]\n",
    "\n",
    "layout = go.Layout(barmode=\"group\")\n",
    "\n",
    "fig = go.Figure(data,layout)\n",
    "fig.update_layout(margin=dict(l=20, r=20, t=30, b=20))\n",
    "fig.update_traces(texttemplate='%{text:.2s}%', textposition='outside')\n",
    "fig.show()"
   ]
  },
  {
   "cell_type": "code",
   "execution_count": 7,
   "metadata": {},
   "outputs": [],
   "source": [
    "s_rendimento = tab_rendimento.mean()\n",
    "s_corRaca = tab_corRaca.mean()\n",
    "s_instrucao = tab_instrucao.mean()\n",
    "s_posOcup = tab_posOcup.mean()\n",
    "s_sexo = tab_sexo.mean()\n",
    "s_idade = tab_idade.mean()\n",
    "s_total = pd.concat([s_sexo,s_corRaca,s_instrucao,s_posOcup,s_rendimento,s_idade])"
   ]
  },
  {
   "cell_type": "code",
   "execution_count": 8,
   "metadata": {},
   "outputs": [],
   "source": [
    "s_total.drop_duplicates(inplace=True)\n",
    "s_total.drop(labels='Total',inplace=True)"
   ]
  },
  {
   "cell_type": "code",
   "execution_count": 24,
   "metadata": {},
   "outputs": [
    {
     "data": {
      "text/html": [
       "<div>\n",
       "<style scoped>\n",
       "    .dataframe tbody tr th:only-of-type {\n",
       "        vertical-align: middle;\n",
       "    }\n",
       "\n",
       "    .dataframe tbody tr th {\n",
       "        vertical-align: top;\n",
       "    }\n",
       "\n",
       "    .dataframe thead th {\n",
       "        text-align: right;\n",
       "    }\n",
       "</style>\n",
       "<table border=\"1\" class=\"dataframe\">\n",
       "  <thead>\n",
       "    <tr style=\"text-align: right;\">\n",
       "      <th></th>\n",
       "      <th>Proporção de diagnostico de depressão</th>\n",
       "      <th>Categoria</th>\n",
       "    </tr>\n",
       "  </thead>\n",
       "  <tbody>\n",
       "    <tr>\n",
       "      <th>Diagnostico Depressão Total</th>\n",
       "      <td>8.640741</td>\n",
       "      <td>Total</td>\n",
       "    </tr>\n",
       "    <tr>\n",
       "      <th>Masculino</th>\n",
       "      <td>4.225926</td>\n",
       "      <td>Sexo</td>\n",
       "    </tr>\n",
       "    <tr>\n",
       "      <th>Feminino</th>\n",
       "      <td>12.592593</td>\n",
       "      <td>Sexo</td>\n",
       "    </tr>\n",
       "    <tr>\n",
       "      <th>Branca</th>\n",
       "      <td>9.392593</td>\n",
       "      <td>Cor ou Raça</td>\n",
       "    </tr>\n",
       "    <tr>\n",
       "      <th>Preta</th>\n",
       "      <td>7.751852</td>\n",
       "      <td>Cor ou Raça</td>\n",
       "    </tr>\n",
       "    <tr>\n",
       "      <th>Parda</th>\n",
       "      <td>8.300000</td>\n",
       "      <td>Cor ou Raça</td>\n",
       "    </tr>\n",
       "    <tr>\n",
       "      <th>Sem instrução e fundamental incompleto</th>\n",
       "      <td>9.114815</td>\n",
       "      <td>Instrução</td>\n",
       "    </tr>\n",
       "    <tr>\n",
       "      <th>Fundamental completo e médio incompleto</th>\n",
       "      <td>8.000000</td>\n",
       "      <td>Instrução</td>\n",
       "    </tr>\n",
       "    <tr>\n",
       "      <th>Médio completo e superior incompleto</th>\n",
       "      <td>7.744444</td>\n",
       "      <td>Instrução</td>\n",
       "    </tr>\n",
       "    <tr>\n",
       "      <th>Superior completo</th>\n",
       "      <td>10.362963</td>\n",
       "      <td>Instrução</td>\n",
       "    </tr>\n",
       "    <tr>\n",
       "      <th>Trabalhando ocupado</th>\n",
       "      <td>6.988889</td>\n",
       "      <td>Situação de trabalho</td>\n",
       "    </tr>\n",
       "    <tr>\n",
       "      <th>Trabalhando desocupado</th>\n",
       "      <td>8.807407</td>\n",
       "      <td>Situação de trabalho</td>\n",
       "    </tr>\n",
       "    <tr>\n",
       "      <th>Desempregados</th>\n",
       "      <td>11.603704</td>\n",
       "      <td>Situação de trabalho</td>\n",
       "    </tr>\n",
       "    <tr>\n",
       "      <th>Sem rendimento e ate 1/4 do salario minimo</th>\n",
       "      <td>9.385185</td>\n",
       "      <td>Renda</td>\n",
       "    </tr>\n",
       "    <tr>\n",
       "      <th>Mais de 1/4 a 1/2 do salario minimo</th>\n",
       "      <td>8.796296</td>\n",
       "      <td>Renda</td>\n",
       "    </tr>\n",
       "    <tr>\n",
       "      <th>Mais de 1/2 a 1 salario minimo</th>\n",
       "      <td>8.255556</td>\n",
       "      <td>Renda</td>\n",
       "    </tr>\n",
       "    <tr>\n",
       "      <th>Mais de 1 a 2 salarios minimos</th>\n",
       "      <td>8.666667</td>\n",
       "      <td>Renda</td>\n",
       "    </tr>\n",
       "    <tr>\n",
       "      <th>Mais de 2 a 3 salarios minimos</th>\n",
       "      <td>9.507407</td>\n",
       "      <td>Renda</td>\n",
       "    </tr>\n",
       "    <tr>\n",
       "      <th>Mais de 3 a 5 salarios minimos</th>\n",
       "      <td>10.396296</td>\n",
       "      <td>Renda</td>\n",
       "    </tr>\n",
       "    <tr>\n",
       "      <th>Mais de 5 salarios minimos</th>\n",
       "      <td>10.388889</td>\n",
       "      <td>Renda</td>\n",
       "    </tr>\n",
       "    <tr>\n",
       "      <th>18 a 19 anos</th>\n",
       "      <td>5.133333</td>\n",
       "      <td>Idade</td>\n",
       "    </tr>\n",
       "    <tr>\n",
       "      <th>30 a 59 anos</th>\n",
       "      <td>9.700000</td>\n",
       "      <td>Idade</td>\n",
       "    </tr>\n",
       "    <tr>\n",
       "      <th>60 a 64 anos</th>\n",
       "      <td>10.248148</td>\n",
       "      <td>Idade</td>\n",
       "    </tr>\n",
       "    <tr>\n",
       "      <th>65 a 74 anos</th>\n",
       "      <td>10.214815</td>\n",
       "      <td>Idade</td>\n",
       "    </tr>\n",
       "    <tr>\n",
       "      <th>75 anos ou mais</th>\n",
       "      <td>8.055556</td>\n",
       "      <td>Idade</td>\n",
       "    </tr>\n",
       "  </tbody>\n",
       "</table>\n",
       "</div>"
      ],
      "text/plain": [
       "                                            Proporção de diagnostico de depressão  \\\n",
       "Diagnostico Depressão Total                                              8.640741   \n",
       "Masculino                                                                4.225926   \n",
       "Feminino                                                                12.592593   \n",
       "Branca                                                                   9.392593   \n",
       "Preta                                                                    7.751852   \n",
       "Parda                                                                    8.300000   \n",
       "Sem instrução e fundamental incompleto                                   9.114815   \n",
       "Fundamental completo e médio incompleto                                  8.000000   \n",
       "Médio completo e superior incompleto                                     7.744444   \n",
       "Superior completo                                                       10.362963   \n",
       "Trabalhando ocupado                                                      6.988889   \n",
       "Trabalhando desocupado                                                   8.807407   \n",
       "Desempregados                                                           11.603704   \n",
       "Sem rendimento e ate 1/4 do salario minimo                               9.385185   \n",
       "Mais de 1/4 a 1/2 do salario minimo                                      8.796296   \n",
       "Mais de 1/2 a 1 salario minimo                                           8.255556   \n",
       "Mais de 1 a 2 salarios minimos                                           8.666667   \n",
       "Mais de 2 a 3 salarios minimos                                           9.507407   \n",
       "Mais de 3 a 5 salarios minimos                                          10.396296   \n",
       "Mais de 5 salarios minimos                                              10.388889   \n",
       "18 a 19 anos                                                             5.133333   \n",
       "30 a 59 anos                                                             9.700000   \n",
       "60 a 64 anos                                                            10.248148   \n",
       "65 a 74 anos                                                            10.214815   \n",
       "75 anos ou mais                                                          8.055556   \n",
       "\n",
       "                                                       Categoria  \n",
       "Diagnostico Depressão Total                                Total  \n",
       "Masculino                                                   Sexo  \n",
       "Feminino                                                    Sexo  \n",
       "Branca                                               Cor ou Raça  \n",
       "Preta                                                Cor ou Raça  \n",
       "Parda                                                Cor ou Raça  \n",
       "Sem instrução e fundamental incompleto                 Instrução  \n",
       "Fundamental completo e médio incompleto                Instrução  \n",
       "Médio completo e superior incompleto                   Instrução  \n",
       "Superior completo                                      Instrução  \n",
       "Trabalhando ocupado                         Situação de trabalho  \n",
       "Trabalhando desocupado                      Situação de trabalho  \n",
       "Desempregados                               Situação de trabalho  \n",
       "Sem rendimento e ate 1/4 do salario minimo                 Renda  \n",
       "Mais de 1/4 a 1/2 do salario minimo                        Renda  \n",
       "Mais de 1/2 a 1 salario minimo                             Renda  \n",
       "Mais de 1 a 2 salarios minimos                             Renda  \n",
       "Mais de 2 a 3 salarios minimos                             Renda  \n",
       "Mais de 3 a 5 salarios minimos                             Renda  \n",
       "Mais de 5 salarios minimos                                 Renda  \n",
       "18 a 19 anos                                               Idade  \n",
       "30 a 59 anos                                               Idade  \n",
       "60 a 64 anos                                               Idade  \n",
       "65 a 74 anos                                               Idade  \n",
       "75 anos ou mais                                            Idade  "
      ]
     },
     "execution_count": 24,
     "metadata": {},
     "output_type": "execute_result"
    }
   ],
   "source": [
    "medias_dados_brasil = pd.DataFrame(s_total,columns=['Proporção de diagnostico de depressão'])\n",
    "medias_dados_brasil.loc['Diagnostico Depressão Total','Categoria'] = 'Total'\n",
    "medias_dados_brasil.loc['Masculino':'Feminino','Categoria'] = 'Sexo'\n",
    "medias_dados_brasil.loc['Branca':'Parda','Categoria'] = 'Cor ou Raça'\n",
    "medias_dados_brasil.loc['Sem instrução e fundamental incompleto':'Superior completo','Categoria'] = 'Instrução'\n",
    "medias_dados_brasil.loc['Trabalhando ocupado':'Desempregados','Categoria'] = 'Situação de trabalho'\n",
    "medias_dados_brasil.loc['Sem rendimento e ate 1/4 do salario minimo':'Mais de 5 salarios minimos','Categoria'] = 'Renda'\n",
    "medias_dados_brasil.loc['18 a 19 anos':'75 anos ou mais','Categoria'] = 'Idade'\n",
    "medias_dados_brasil\n"
   ]
  },
  {
   "cell_type": "code",
   "execution_count": 10,
   "metadata": {},
   "outputs": [],
   "source": [
    "s_rendimento_ma = tab_rendimento.iloc[7]\n",
    "s_corRaca_ma = tab_corRaca.iloc[7]\n",
    "s_instrucao_ma = tab_instrucao.iloc[7]\n",
    "s_posOcup_ma = tab_posOcup.iloc[7]\n",
    "s_sexo_ma = tab_sexo.iloc[7]\n",
    "s_idade_ma = tab_idade.iloc[7]\n",
    "s_total_ma = pd.concat([s_sexo_ma,s_corRaca_ma,s_instrucao_ma,s_posOcup_ma,s_rendimento_ma,s_idade_ma])"
   ]
  },
  {
   "cell_type": "code",
   "execution_count": 23,
   "metadata": {},
   "outputs": [
    {
     "data": {
      "text/html": [
       "<div>\n",
       "<style scoped>\n",
       "    .dataframe tbody tr th:only-of-type {\n",
       "        vertical-align: middle;\n",
       "    }\n",
       "\n",
       "    .dataframe tbody tr th {\n",
       "        vertical-align: top;\n",
       "    }\n",
       "\n",
       "    .dataframe thead th {\n",
       "        text-align: right;\n",
       "    }\n",
       "</style>\n",
       "<table border=\"1\" class=\"dataframe\">\n",
       "  <thead>\n",
       "    <tr style=\"text-align: right;\">\n",
       "      <th>Estado</th>\n",
       "      <th>Rondônia</th>\n",
       "      <th>Acre</th>\n",
       "      <th>Amazonas</th>\n",
       "      <th>Roraima</th>\n",
       "      <th>Pará</th>\n",
       "      <th>Amapá</th>\n",
       "      <th>Tocantins</th>\n",
       "      <th>Maranhão</th>\n",
       "      <th>Piauí</th>\n",
       "      <th>Ceará</th>\n",
       "      <th>...</th>\n",
       "      <th>Espírito Santo</th>\n",
       "      <th>Rio de Janeiro</th>\n",
       "      <th>São Paulo</th>\n",
       "      <th>Paraná</th>\n",
       "      <th>Santa Catarina</th>\n",
       "      <th>Rio Grande do Sul</th>\n",
       "      <th>Mato Grosso do Sul</th>\n",
       "      <th>Mato Grosso</th>\n",
       "      <th>Goiás</th>\n",
       "      <th>Distrito Federal</th>\n",
       "    </tr>\n",
       "  </thead>\n",
       "  <tbody>\n",
       "    <tr>\n",
       "      <th>Diagnostico Depressão Total</th>\n",
       "      <td>9.0</td>\n",
       "      <td>6.0</td>\n",
       "      <td>4.2</td>\n",
       "      <td>5.1</td>\n",
       "      <td>4.1</td>\n",
       "      <td>4.5</td>\n",
       "      <td>6.6</td>\n",
       "      <td>5.4</td>\n",
       "      <td>6.9</td>\n",
       "      <td>8.1</td>\n",
       "      <td>...</td>\n",
       "      <td>11.3</td>\n",
       "      <td>8.1</td>\n",
       "      <td>11.8</td>\n",
       "      <td>13.9</td>\n",
       "      <td>13.1</td>\n",
       "      <td>17.9</td>\n",
       "      <td>10.1</td>\n",
       "      <td>8.2</td>\n",
       "      <td>12.0</td>\n",
       "      <td>9.4</td>\n",
       "    </tr>\n",
       "    <tr>\n",
       "      <th>Masculino</th>\n",
       "      <td>5.1</td>\n",
       "      <td>2.5</td>\n",
       "      <td>2.9</td>\n",
       "      <td>2.8</td>\n",
       "      <td>2.5</td>\n",
       "      <td>2.0</td>\n",
       "      <td>2.7</td>\n",
       "      <td>2.4</td>\n",
       "      <td>3.4</td>\n",
       "      <td>4.0</td>\n",
       "      <td>...</td>\n",
       "      <td>5.7</td>\n",
       "      <td>4.7</td>\n",
       "      <td>5.7</td>\n",
       "      <td>6.5</td>\n",
       "      <td>5.6</td>\n",
       "      <td>9.8</td>\n",
       "      <td>4.3</td>\n",
       "      <td>3.3</td>\n",
       "      <td>5.9</td>\n",
       "      <td>4.7</td>\n",
       "    </tr>\n",
       "    <tr>\n",
       "      <th>Feminino</th>\n",
       "      <td>12.8</td>\n",
       "      <td>9.3</td>\n",
       "      <td>5.4</td>\n",
       "      <td>7.3</td>\n",
       "      <td>5.6</td>\n",
       "      <td>6.9</td>\n",
       "      <td>10.4</td>\n",
       "      <td>8.2</td>\n",
       "      <td>10.0</td>\n",
       "      <td>11.6</td>\n",
       "      <td>...</td>\n",
       "      <td>16.3</td>\n",
       "      <td>10.8</td>\n",
       "      <td>17.2</td>\n",
       "      <td>20.5</td>\n",
       "      <td>20.2</td>\n",
       "      <td>25.0</td>\n",
       "      <td>15.1</td>\n",
       "      <td>12.7</td>\n",
       "      <td>17.7</td>\n",
       "      <td>13.5</td>\n",
       "    </tr>\n",
       "    <tr>\n",
       "      <th>Branca</th>\n",
       "      <td>11.7</td>\n",
       "      <td>5.7</td>\n",
       "      <td>3.6</td>\n",
       "      <td>7.4</td>\n",
       "      <td>5.0</td>\n",
       "      <td>4.9</td>\n",
       "      <td>7.8</td>\n",
       "      <td>5.2</td>\n",
       "      <td>7.0</td>\n",
       "      <td>7.9</td>\n",
       "      <td>...</td>\n",
       "      <td>11.1</td>\n",
       "      <td>9.7</td>\n",
       "      <td>13.2</td>\n",
       "      <td>14.4</td>\n",
       "      <td>13.5</td>\n",
       "      <td>18.4</td>\n",
       "      <td>10.4</td>\n",
       "      <td>9.8</td>\n",
       "      <td>12.8</td>\n",
       "      <td>11.4</td>\n",
       "    </tr>\n",
       "    <tr>\n",
       "      <th>Preta</th>\n",
       "      <td>8.3</td>\n",
       "      <td>4.5</td>\n",
       "      <td>8.0</td>\n",
       "      <td>2.9</td>\n",
       "      <td>5.2</td>\n",
       "      <td>1.7</td>\n",
       "      <td>5.1</td>\n",
       "      <td>5.2</td>\n",
       "      <td>8.2</td>\n",
       "      <td>10.0</td>\n",
       "      <td>...</td>\n",
       "      <td>6.9</td>\n",
       "      <td>4.7</td>\n",
       "      <td>9.4</td>\n",
       "      <td>17.5</td>\n",
       "      <td>10.1</td>\n",
       "      <td>16.6</td>\n",
       "      <td>10.5</td>\n",
       "      <td>6.4</td>\n",
       "      <td>6.9</td>\n",
       "      <td>4.9</td>\n",
       "    </tr>\n",
       "    <tr>\n",
       "      <th>Parda</th>\n",
       "      <td>7.8</td>\n",
       "      <td>6.3</td>\n",
       "      <td>3.9</td>\n",
       "      <td>4.5</td>\n",
       "      <td>3.8</td>\n",
       "      <td>5.1</td>\n",
       "      <td>6.7</td>\n",
       "      <td>5.6</td>\n",
       "      <td>6.6</td>\n",
       "      <td>7.9</td>\n",
       "      <td>...</td>\n",
       "      <td>12.5</td>\n",
       "      <td>7.7</td>\n",
       "      <td>10.2</td>\n",
       "      <td>12.9</td>\n",
       "      <td>11.6</td>\n",
       "      <td>16.3</td>\n",
       "      <td>9.9</td>\n",
       "      <td>7.8</td>\n",
       "      <td>12.3</td>\n",
       "      <td>8.8</td>\n",
       "    </tr>\n",
       "    <tr>\n",
       "      <th>Trabalhando ocupado</th>\n",
       "      <td>8.1</td>\n",
       "      <td>5.0</td>\n",
       "      <td>2.8</td>\n",
       "      <td>4.2</td>\n",
       "      <td>3.4</td>\n",
       "      <td>3.5</td>\n",
       "      <td>5.3</td>\n",
       "      <td>4.4</td>\n",
       "      <td>6.6</td>\n",
       "      <td>6.3</td>\n",
       "      <td>...</td>\n",
       "      <td>8.5</td>\n",
       "      <td>6.5</td>\n",
       "      <td>10.3</td>\n",
       "      <td>10.9</td>\n",
       "      <td>9.7</td>\n",
       "      <td>15.4</td>\n",
       "      <td>8.0</td>\n",
       "      <td>7.4</td>\n",
       "      <td>9.8</td>\n",
       "      <td>8.8</td>\n",
       "    </tr>\n",
       "    <tr>\n",
       "      <th>Trabalhando desocupado</th>\n",
       "      <td>6.2</td>\n",
       "      <td>8.5</td>\n",
       "      <td>2.0</td>\n",
       "      <td>2.2</td>\n",
       "      <td>5.4</td>\n",
       "      <td>9.5</td>\n",
       "      <td>13.8</td>\n",
       "      <td>4.4</td>\n",
       "      <td>3.3</td>\n",
       "      <td>6.7</td>\n",
       "      <td>...</td>\n",
       "      <td>19.9</td>\n",
       "      <td>7.1</td>\n",
       "      <td>12.3</td>\n",
       "      <td>19.4</td>\n",
       "      <td>11.7</td>\n",
       "      <td>12.7</td>\n",
       "      <td>13.8</td>\n",
       "      <td>3.4</td>\n",
       "      <td>6.4</td>\n",
       "      <td>8.2</td>\n",
       "    </tr>\n",
       "    <tr>\n",
       "      <th>Desempregados</th>\n",
       "      <td>11.5</td>\n",
       "      <td>7.2</td>\n",
       "      <td>7.1</td>\n",
       "      <td>7.7</td>\n",
       "      <td>5.0</td>\n",
       "      <td>5.1</td>\n",
       "      <td>8.0</td>\n",
       "      <td>6.8</td>\n",
       "      <td>7.6</td>\n",
       "      <td>10.6</td>\n",
       "      <td>...</td>\n",
       "      <td>16.1</td>\n",
       "      <td>10.8</td>\n",
       "      <td>15.2</td>\n",
       "      <td>18.7</td>\n",
       "      <td>19.5</td>\n",
       "      <td>23.8</td>\n",
       "      <td>14.5</td>\n",
       "      <td>10.6</td>\n",
       "      <td>17.2</td>\n",
       "      <td>11.4</td>\n",
       "    </tr>\n",
       "    <tr>\n",
       "      <th>18 a 19 anos</th>\n",
       "      <td>7.2</td>\n",
       "      <td>2.7</td>\n",
       "      <td>4.0</td>\n",
       "      <td>4.8</td>\n",
       "      <td>1.7</td>\n",
       "      <td>4.8</td>\n",
       "      <td>4.1</td>\n",
       "      <td>3.1</td>\n",
       "      <td>5.5</td>\n",
       "      <td>4.5</td>\n",
       "      <td>...</td>\n",
       "      <td>6.3</td>\n",
       "      <td>5.0</td>\n",
       "      <td>8.3</td>\n",
       "      <td>8.2</td>\n",
       "      <td>7.4</td>\n",
       "      <td>9.9</td>\n",
       "      <td>6.5</td>\n",
       "      <td>3.9</td>\n",
       "      <td>6.0</td>\n",
       "      <td>7.6</td>\n",
       "    </tr>\n",
       "    <tr>\n",
       "      <th>30 a 59 anos</th>\n",
       "      <td>9.9</td>\n",
       "      <td>7.6</td>\n",
       "      <td>4.0</td>\n",
       "      <td>5.2</td>\n",
       "      <td>5.1</td>\n",
       "      <td>3.7</td>\n",
       "      <td>7.4</td>\n",
       "      <td>6.7</td>\n",
       "      <td>7.6</td>\n",
       "      <td>8.5</td>\n",
       "      <td>...</td>\n",
       "      <td>13.4</td>\n",
       "      <td>8.9</td>\n",
       "      <td>12.5</td>\n",
       "      <td>14.8</td>\n",
       "      <td>13.6</td>\n",
       "      <td>19.3</td>\n",
       "      <td>11.5</td>\n",
       "      <td>9.6</td>\n",
       "      <td>14.2</td>\n",
       "      <td>10.4</td>\n",
       "    </tr>\n",
       "    <tr>\n",
       "      <th>60 a 64 anos</th>\n",
       "      <td>6.9</td>\n",
       "      <td>5.9</td>\n",
       "      <td>5.8</td>\n",
       "      <td>3.4</td>\n",
       "      <td>5.1</td>\n",
       "      <td>4.3</td>\n",
       "      <td>7.7</td>\n",
       "      <td>3.4</td>\n",
       "      <td>7.4</td>\n",
       "      <td>13.0</td>\n",
       "      <td>...</td>\n",
       "      <td>15.9</td>\n",
       "      <td>10.9</td>\n",
       "      <td>16.4</td>\n",
       "      <td>18.8</td>\n",
       "      <td>16.8</td>\n",
       "      <td>21.7</td>\n",
       "      <td>8.0</td>\n",
       "      <td>14.1</td>\n",
       "      <td>14.0</td>\n",
       "      <td>9.6</td>\n",
       "    </tr>\n",
       "    <tr>\n",
       "      <th>65 a 74 anos</th>\n",
       "      <td>10.9</td>\n",
       "      <td>9.7</td>\n",
       "      <td>6.6</td>\n",
       "      <td>7.1</td>\n",
       "      <td>4.0</td>\n",
       "      <td>10.7</td>\n",
       "      <td>9.3</td>\n",
       "      <td>6.8</td>\n",
       "      <td>7.1</td>\n",
       "      <td>9.8</td>\n",
       "      <td>...</td>\n",
       "      <td>9.5</td>\n",
       "      <td>8.5</td>\n",
       "      <td>11.2</td>\n",
       "      <td>17.5</td>\n",
       "      <td>19.6</td>\n",
       "      <td>19.5</td>\n",
       "      <td>10.6</td>\n",
       "      <td>10.6</td>\n",
       "      <td>11.9</td>\n",
       "      <td>5.8</td>\n",
       "    </tr>\n",
       "    <tr>\n",
       "      <th>75 anos ou mais</th>\n",
       "      <td>6.6</td>\n",
       "      <td>2.0</td>\n",
       "      <td>2.2</td>\n",
       "      <td>4.1</td>\n",
       "      <td>6.4</td>\n",
       "      <td>5.5</td>\n",
       "      <td>5.0</td>\n",
       "      <td>3.6</td>\n",
       "      <td>4.5</td>\n",
       "      <td>10.7</td>\n",
       "      <td>...</td>\n",
       "      <td>6.4</td>\n",
       "      <td>6.7</td>\n",
       "      <td>12.6</td>\n",
       "      <td>14.8</td>\n",
       "      <td>11.8</td>\n",
       "      <td>19.8</td>\n",
       "      <td>12.4</td>\n",
       "      <td>4.5</td>\n",
       "      <td>13.5</td>\n",
       "      <td>13.1</td>\n",
       "    </tr>\n",
       "    <tr>\n",
       "      <th>Sem rendimento e ate 1/4 do salario minimo</th>\n",
       "      <td>11.4</td>\n",
       "      <td>7.0</td>\n",
       "      <td>5.9</td>\n",
       "      <td>7.1</td>\n",
       "      <td>4.4</td>\n",
       "      <td>1.5</td>\n",
       "      <td>4.3</td>\n",
       "      <td>5.7</td>\n",
       "      <td>7.1</td>\n",
       "      <td>6.7</td>\n",
       "      <td>...</td>\n",
       "      <td>13.0</td>\n",
       "      <td>7.4</td>\n",
       "      <td>14.1</td>\n",
       "      <td>18.8</td>\n",
       "      <td>12.6</td>\n",
       "      <td>25.3</td>\n",
       "      <td>12.4</td>\n",
       "      <td>9.1</td>\n",
       "      <td>9.7</td>\n",
       "      <td>13.3</td>\n",
       "    </tr>\n",
       "    <tr>\n",
       "      <th>Mais de 1/4 a 1/2 do salario minimo</th>\n",
       "      <td>7.2</td>\n",
       "      <td>6.9</td>\n",
       "      <td>3.5</td>\n",
       "      <td>3.0</td>\n",
       "      <td>2.7</td>\n",
       "      <td>3.2</td>\n",
       "      <td>6.0</td>\n",
       "      <td>5.5</td>\n",
       "      <td>4.2</td>\n",
       "      <td>6.4</td>\n",
       "      <td>...</td>\n",
       "      <td>15.8</td>\n",
       "      <td>9.2</td>\n",
       "      <td>9.1</td>\n",
       "      <td>17.9</td>\n",
       "      <td>19.0</td>\n",
       "      <td>19.6</td>\n",
       "      <td>9.6</td>\n",
       "      <td>9.6</td>\n",
       "      <td>13.7</td>\n",
       "      <td>8.9</td>\n",
       "    </tr>\n",
       "    <tr>\n",
       "      <th>Mais de 1/2 a 1 salario minimo</th>\n",
       "      <td>8.2</td>\n",
       "      <td>4.4</td>\n",
       "      <td>3.1</td>\n",
       "      <td>4.0</td>\n",
       "      <td>5.6</td>\n",
       "      <td>5.7</td>\n",
       "      <td>5.9</td>\n",
       "      <td>4.8</td>\n",
       "      <td>7.1</td>\n",
       "      <td>8.4</td>\n",
       "      <td>...</td>\n",
       "      <td>10.0</td>\n",
       "      <td>7.5</td>\n",
       "      <td>11.5</td>\n",
       "      <td>13.8</td>\n",
       "      <td>13.5</td>\n",
       "      <td>19.2</td>\n",
       "      <td>10.2</td>\n",
       "      <td>6.1</td>\n",
       "      <td>11.0</td>\n",
       "      <td>8.7</td>\n",
       "    </tr>\n",
       "    <tr>\n",
       "      <th>Mais de 1 a 2 salarios minimos</th>\n",
       "      <td>9.6</td>\n",
       "      <td>4.8</td>\n",
       "      <td>5.3</td>\n",
       "      <td>5.1</td>\n",
       "      <td>2.0</td>\n",
       "      <td>4.3</td>\n",
       "      <td>8.5</td>\n",
       "      <td>5.6</td>\n",
       "      <td>9.5</td>\n",
       "      <td>9.7</td>\n",
       "      <td>...</td>\n",
       "      <td>10.1</td>\n",
       "      <td>7.6</td>\n",
       "      <td>10.0</td>\n",
       "      <td>12.3</td>\n",
       "      <td>12.3</td>\n",
       "      <td>17.8</td>\n",
       "      <td>9.1</td>\n",
       "      <td>9.4</td>\n",
       "      <td>12.3</td>\n",
       "      <td>7.9</td>\n",
       "    </tr>\n",
       "    <tr>\n",
       "      <th>Mais de 2 a 3 salarios minimos</th>\n",
       "      <td>11.7</td>\n",
       "      <td>7.6</td>\n",
       "      <td>3.9</td>\n",
       "      <td>8.5</td>\n",
       "      <td>5.6</td>\n",
       "      <td>2.6</td>\n",
       "      <td>8.7</td>\n",
       "      <td>6.0</td>\n",
       "      <td>9.3</td>\n",
       "      <td>11.8</td>\n",
       "      <td>...</td>\n",
       "      <td>10.5</td>\n",
       "      <td>7.9</td>\n",
       "      <td>14.2</td>\n",
       "      <td>16.3</td>\n",
       "      <td>11.8</td>\n",
       "      <td>13.9</td>\n",
       "      <td>10.5</td>\n",
       "      <td>8.6</td>\n",
       "      <td>11.6</td>\n",
       "      <td>8.1</td>\n",
       "    </tr>\n",
       "    <tr>\n",
       "      <th>Mais de 3 a 5 salarios minimos</th>\n",
       "      <td>9.5</td>\n",
       "      <td>8.5</td>\n",
       "      <td>4.1</td>\n",
       "      <td>6.3</td>\n",
       "      <td>6.8</td>\n",
       "      <td>11.1</td>\n",
       "      <td>6.7</td>\n",
       "      <td>9.9</td>\n",
       "      <td>6.5</td>\n",
       "      <td>6.4</td>\n",
       "      <td>...</td>\n",
       "      <td>12.8</td>\n",
       "      <td>10.2</td>\n",
       "      <td>12.1</td>\n",
       "      <td>12.8</td>\n",
       "      <td>14.3</td>\n",
       "      <td>18.3</td>\n",
       "      <td>9.8</td>\n",
       "      <td>8.9</td>\n",
       "      <td>14.9</td>\n",
       "      <td>12.7</td>\n",
       "    </tr>\n",
       "    <tr>\n",
       "      <th>Mais de 5 salarios minimos</th>\n",
       "      <td>10.4</td>\n",
       "      <td>7.7</td>\n",
       "      <td>6.7</td>\n",
       "      <td>6.6</td>\n",
       "      <td>1.7</td>\n",
       "      <td>13.0</td>\n",
       "      <td>11.4</td>\n",
       "      <td>5.6</td>\n",
       "      <td>3.4</td>\n",
       "      <td>12.8</td>\n",
       "      <td>...</td>\n",
       "      <td>13.1</td>\n",
       "      <td>8.8</td>\n",
       "      <td>18.2</td>\n",
       "      <td>10.2</td>\n",
       "      <td>15.8</td>\n",
       "      <td>16.4</td>\n",
       "      <td>12.9</td>\n",
       "      <td>7.9</td>\n",
       "      <td>13.3</td>\n",
       "      <td>10.9</td>\n",
       "    </tr>\n",
       "    <tr>\n",
       "      <th>Sem instrução e fundamental incompleto</th>\n",
       "      <td>8.5</td>\n",
       "      <td>6.2</td>\n",
       "      <td>4.1</td>\n",
       "      <td>4.4</td>\n",
       "      <td>4.6</td>\n",
       "      <td>3.1</td>\n",
       "      <td>6.4</td>\n",
       "      <td>6.0</td>\n",
       "      <td>6.0</td>\n",
       "      <td>9.1</td>\n",
       "      <td>...</td>\n",
       "      <td>12.5</td>\n",
       "      <td>8.9</td>\n",
       "      <td>12.0</td>\n",
       "      <td>17.5</td>\n",
       "      <td>14.9</td>\n",
       "      <td>22.3</td>\n",
       "      <td>10.0</td>\n",
       "      <td>7.4</td>\n",
       "      <td>13.4</td>\n",
       "      <td>8.6</td>\n",
       "    </tr>\n",
       "    <tr>\n",
       "      <th>Fundamental completo e médio incompleto</th>\n",
       "      <td>8.4</td>\n",
       "      <td>3.9</td>\n",
       "      <td>5.9</td>\n",
       "      <td>4.1</td>\n",
       "      <td>3.2</td>\n",
       "      <td>1.7</td>\n",
       "      <td>10.1</td>\n",
       "      <td>5.2</td>\n",
       "      <td>5.2</td>\n",
       "      <td>6.1</td>\n",
       "      <td>...</td>\n",
       "      <td>10.7</td>\n",
       "      <td>6.1</td>\n",
       "      <td>13.6</td>\n",
       "      <td>11.9</td>\n",
       "      <td>12.8</td>\n",
       "      <td>14.5</td>\n",
       "      <td>10.0</td>\n",
       "      <td>9.7</td>\n",
       "      <td>5.4</td>\n",
       "      <td>15.6</td>\n",
       "    </tr>\n",
       "    <tr>\n",
       "      <th>Médio completo e superior incompleto</th>\n",
       "      <td>9.8</td>\n",
       "      <td>5.9</td>\n",
       "      <td>3.2</td>\n",
       "      <td>4.4</td>\n",
       "      <td>3.8</td>\n",
       "      <td>5.2</td>\n",
       "      <td>4.4</td>\n",
       "      <td>4.3</td>\n",
       "      <td>8.3</td>\n",
       "      <td>7.1</td>\n",
       "      <td>...</td>\n",
       "      <td>10.1</td>\n",
       "      <td>7.7</td>\n",
       "      <td>9.7</td>\n",
       "      <td>10.7</td>\n",
       "      <td>12.5</td>\n",
       "      <td>14.7</td>\n",
       "      <td>9.0</td>\n",
       "      <td>6.9</td>\n",
       "      <td>12.9</td>\n",
       "      <td>7.5</td>\n",
       "    </tr>\n",
       "    <tr>\n",
       "      <th>Superior completo</th>\n",
       "      <td>9.5</td>\n",
       "      <td>7.5</td>\n",
       "      <td>5.2</td>\n",
       "      <td>8.3</td>\n",
       "      <td>5.2</td>\n",
       "      <td>8.4</td>\n",
       "      <td>9.6</td>\n",
       "      <td>6.8</td>\n",
       "      <td>9.0</td>\n",
       "      <td>9.8</td>\n",
       "      <td>...</td>\n",
       "      <td>11.7</td>\n",
       "      <td>9.4</td>\n",
       "      <td>14.1</td>\n",
       "      <td>14.8</td>\n",
       "      <td>11.7</td>\n",
       "      <td>18.4</td>\n",
       "      <td>12.4</td>\n",
       "      <td>10.9</td>\n",
       "      <td>14.2</td>\n",
       "      <td>10.2</td>\n",
       "    </tr>\n",
       "  </tbody>\n",
       "</table>\n",
       "<p>25 rows × 27 columns</p>\n",
       "</div>"
      ],
      "text/plain": [
       "Estado                                     Rondônia Acre Amazonas Roraima  \\\n",
       "Diagnostico Depressão Total                     9.0  6.0      4.2     5.1   \n",
       "Masculino                                       5.1  2.5      2.9     2.8   \n",
       "Feminino                                       12.8  9.3      5.4     7.3   \n",
       "Branca                                         11.7  5.7      3.6     7.4   \n",
       "Preta                                           8.3  4.5      8.0     2.9   \n",
       "Parda                                           7.8  6.3      3.9     4.5   \n",
       "Trabalhando ocupado                             8.1  5.0      2.8     4.2   \n",
       "Trabalhando desocupado                          6.2  8.5      2.0     2.2   \n",
       "Desempregados                                  11.5  7.2      7.1     7.7   \n",
       "18 a 19 anos                                    7.2  2.7      4.0     4.8   \n",
       "30 a 59 anos                                    9.9  7.6      4.0     5.2   \n",
       "60 a 64 anos                                    6.9  5.9      5.8     3.4   \n",
       "65 a 74 anos                                   10.9  9.7      6.6     7.1   \n",
       "75 anos ou mais                                 6.6  2.0      2.2     4.1   \n",
       "Sem rendimento e ate 1/4 do salario minimo     11.4  7.0      5.9     7.1   \n",
       "Mais de 1/4 a 1/2 do salario minimo             7.2  6.9      3.5     3.0   \n",
       "Mais de 1/2 a 1 salario minimo                  8.2  4.4      3.1     4.0   \n",
       "Mais de 1 a 2 salarios minimos                  9.6  4.8      5.3     5.1   \n",
       "Mais de 2 a 3 salarios minimos                 11.7  7.6      3.9     8.5   \n",
       "Mais de 3 a 5 salarios minimos                  9.5  8.5      4.1     6.3   \n",
       "Mais de 5 salarios minimos                     10.4  7.7      6.7     6.6   \n",
       "Sem instrução e fundamental incompleto          8.5  6.2      4.1     4.4   \n",
       "Fundamental completo e médio incompleto         8.4  3.9      5.9     4.1   \n",
       "Médio completo e superior incompleto            9.8  5.9      3.2     4.4   \n",
       "Superior completo                               9.5  7.5      5.2     8.3   \n",
       "\n",
       "Estado                                     Pará Amapá Tocantins Maranhão  \\\n",
       "Diagnostico Depressão Total                 4.1   4.5       6.6      5.4   \n",
       "Masculino                                   2.5   2.0       2.7      2.4   \n",
       "Feminino                                    5.6   6.9      10.4      8.2   \n",
       "Branca                                      5.0   4.9       7.8      5.2   \n",
       "Preta                                       5.2   1.7       5.1      5.2   \n",
       "Parda                                       3.8   5.1       6.7      5.6   \n",
       "Trabalhando ocupado                         3.4   3.5       5.3      4.4   \n",
       "Trabalhando desocupado                      5.4   9.5      13.8      4.4   \n",
       "Desempregados                               5.0   5.1       8.0      6.8   \n",
       "18 a 19 anos                                1.7   4.8       4.1      3.1   \n",
       "30 a 59 anos                                5.1   3.7       7.4      6.7   \n",
       "60 a 64 anos                                5.1   4.3       7.7      3.4   \n",
       "65 a 74 anos                                4.0  10.7       9.3      6.8   \n",
       "75 anos ou mais                             6.4   5.5       5.0      3.6   \n",
       "Sem rendimento e ate 1/4 do salario minimo  4.4   1.5       4.3      5.7   \n",
       "Mais de 1/4 a 1/2 do salario minimo         2.7   3.2       6.0      5.5   \n",
       "Mais de 1/2 a 1 salario minimo              5.6   5.7       5.9      4.8   \n",
       "Mais de 1 a 2 salarios minimos              2.0   4.3       8.5      5.6   \n",
       "Mais de 2 a 3 salarios minimos              5.6   2.6       8.7      6.0   \n",
       "Mais de 3 a 5 salarios minimos              6.8  11.1       6.7      9.9   \n",
       "Mais de 5 salarios minimos                  1.7  13.0      11.4      5.6   \n",
       "Sem instrução e fundamental incompleto      4.6   3.1       6.4      6.0   \n",
       "Fundamental completo e médio incompleto     3.2   1.7      10.1      5.2   \n",
       "Médio completo e superior incompleto        3.8   5.2       4.4      4.3   \n",
       "Superior completo                           5.2   8.4       9.6      6.8   \n",
       "\n",
       "Estado                                     Piauí Ceará  ... Espírito Santo  \\\n",
       "Diagnostico Depressão Total                  6.9   8.1  ...           11.3   \n",
       "Masculino                                    3.4   4.0  ...            5.7   \n",
       "Feminino                                    10.0  11.6  ...           16.3   \n",
       "Branca                                       7.0   7.9  ...           11.1   \n",
       "Preta                                        8.2  10.0  ...            6.9   \n",
       "Parda                                        6.6   7.9  ...           12.5   \n",
       "Trabalhando ocupado                          6.6   6.3  ...            8.5   \n",
       "Trabalhando desocupado                       3.3   6.7  ...           19.9   \n",
       "Desempregados                                7.6  10.6  ...           16.1   \n",
       "18 a 19 anos                                 5.5   4.5  ...            6.3   \n",
       "30 a 59 anos                                 7.6   8.5  ...           13.4   \n",
       "60 a 64 anos                                 7.4  13.0  ...           15.9   \n",
       "65 a 74 anos                                 7.1   9.8  ...            9.5   \n",
       "75 anos ou mais                              4.5  10.7  ...            6.4   \n",
       "Sem rendimento e ate 1/4 do salario minimo   7.1   6.7  ...           13.0   \n",
       "Mais de 1/4 a 1/2 do salario minimo          4.2   6.4  ...           15.8   \n",
       "Mais de 1/2 a 1 salario minimo               7.1   8.4  ...           10.0   \n",
       "Mais de 1 a 2 salarios minimos               9.5   9.7  ...           10.1   \n",
       "Mais de 2 a 3 salarios minimos               9.3  11.8  ...           10.5   \n",
       "Mais de 3 a 5 salarios minimos               6.5   6.4  ...           12.8   \n",
       "Mais de 5 salarios minimos                   3.4  12.8  ...           13.1   \n",
       "Sem instrução e fundamental incompleto       6.0   9.1  ...           12.5   \n",
       "Fundamental completo e médio incompleto      5.2   6.1  ...           10.7   \n",
       "Médio completo e superior incompleto         8.3   7.1  ...           10.1   \n",
       "Superior completo                            9.0   9.8  ...           11.7   \n",
       "\n",
       "Estado                                     Rio de Janeiro São Paulo Paraná  \\\n",
       "Diagnostico Depressão Total                           8.1      11.8   13.9   \n",
       "Masculino                                             4.7       5.7    6.5   \n",
       "Feminino                                             10.8      17.2   20.5   \n",
       "Branca                                                9.7      13.2   14.4   \n",
       "Preta                                                 4.7       9.4   17.5   \n",
       "Parda                                                 7.7      10.2   12.9   \n",
       "Trabalhando ocupado                                   6.5      10.3   10.9   \n",
       "Trabalhando desocupado                                7.1      12.3   19.4   \n",
       "Desempregados                                        10.8      15.2   18.7   \n",
       "18 a 19 anos                                          5.0       8.3    8.2   \n",
       "30 a 59 anos                                          8.9      12.5   14.8   \n",
       "60 a 64 anos                                         10.9      16.4   18.8   \n",
       "65 a 74 anos                                          8.5      11.2   17.5   \n",
       "75 anos ou mais                                       6.7      12.6   14.8   \n",
       "Sem rendimento e ate 1/4 do salario minimo            7.4      14.1   18.8   \n",
       "Mais de 1/4 a 1/2 do salario minimo                   9.2       9.1   17.9   \n",
       "Mais de 1/2 a 1 salario minimo                        7.5      11.5   13.8   \n",
       "Mais de 1 a 2 salarios minimos                        7.6      10.0   12.3   \n",
       "Mais de 2 a 3 salarios minimos                        7.9      14.2   16.3   \n",
       "Mais de 3 a 5 salarios minimos                       10.2      12.1   12.8   \n",
       "Mais de 5 salarios minimos                            8.8      18.2   10.2   \n",
       "Sem instrução e fundamental incompleto                8.9      12.0   17.5   \n",
       "Fundamental completo e médio incompleto               6.1      13.6   11.9   \n",
       "Médio completo e superior incompleto                  7.7       9.7   10.7   \n",
       "Superior completo                                     9.4      14.1   14.8   \n",
       "\n",
       "Estado                                     Santa Catarina Rio Grande do Sul  \\\n",
       "Diagnostico Depressão Total                          13.1              17.9   \n",
       "Masculino                                             5.6               9.8   \n",
       "Feminino                                             20.2              25.0   \n",
       "Branca                                               13.5              18.4   \n",
       "Preta                                                10.1              16.6   \n",
       "Parda                                                11.6              16.3   \n",
       "Trabalhando ocupado                                   9.7              15.4   \n",
       "Trabalhando desocupado                               11.7              12.7   \n",
       "Desempregados                                        19.5              23.8   \n",
       "18 a 19 anos                                          7.4               9.9   \n",
       "30 a 59 anos                                         13.6              19.3   \n",
       "60 a 64 anos                                         16.8              21.7   \n",
       "65 a 74 anos                                         19.6              19.5   \n",
       "75 anos ou mais                                      11.8              19.8   \n",
       "Sem rendimento e ate 1/4 do salario minimo           12.6              25.3   \n",
       "Mais de 1/4 a 1/2 do salario minimo                  19.0              19.6   \n",
       "Mais de 1/2 a 1 salario minimo                       13.5              19.2   \n",
       "Mais de 1 a 2 salarios minimos                       12.3              17.8   \n",
       "Mais de 2 a 3 salarios minimos                       11.8              13.9   \n",
       "Mais de 3 a 5 salarios minimos                       14.3              18.3   \n",
       "Mais de 5 salarios minimos                           15.8              16.4   \n",
       "Sem instrução e fundamental incompleto               14.9              22.3   \n",
       "Fundamental completo e médio incompleto              12.8              14.5   \n",
       "Médio completo e superior incompleto                 12.5              14.7   \n",
       "Superior completo                                    11.7              18.4   \n",
       "\n",
       "Estado                                     Mato Grosso do Sul Mato Grosso  \\\n",
       "Diagnostico Depressão Total                              10.1         8.2   \n",
       "Masculino                                                 4.3         3.3   \n",
       "Feminino                                                 15.1        12.7   \n",
       "Branca                                                   10.4         9.8   \n",
       "Preta                                                    10.5         6.4   \n",
       "Parda                                                     9.9         7.8   \n",
       "Trabalhando ocupado                                       8.0         7.4   \n",
       "Trabalhando desocupado                                   13.8         3.4   \n",
       "Desempregados                                            14.5        10.6   \n",
       "18 a 19 anos                                              6.5         3.9   \n",
       "30 a 59 anos                                             11.5         9.6   \n",
       "60 a 64 anos                                              8.0        14.1   \n",
       "65 a 74 anos                                             10.6        10.6   \n",
       "75 anos ou mais                                          12.4         4.5   \n",
       "Sem rendimento e ate 1/4 do salario minimo               12.4         9.1   \n",
       "Mais de 1/4 a 1/2 do salario minimo                       9.6         9.6   \n",
       "Mais de 1/2 a 1 salario minimo                           10.2         6.1   \n",
       "Mais de 1 a 2 salarios minimos                            9.1         9.4   \n",
       "Mais de 2 a 3 salarios minimos                           10.5         8.6   \n",
       "Mais de 3 a 5 salarios minimos                            9.8         8.9   \n",
       "Mais de 5 salarios minimos                               12.9         7.9   \n",
       "Sem instrução e fundamental incompleto                   10.0         7.4   \n",
       "Fundamental completo e médio incompleto                  10.0         9.7   \n",
       "Médio completo e superior incompleto                      9.0         6.9   \n",
       "Superior completo                                        12.4        10.9   \n",
       "\n",
       "Estado                                     Goiás Distrito Federal  \n",
       "Diagnostico Depressão Total                 12.0              9.4  \n",
       "Masculino                                    5.9              4.7  \n",
       "Feminino                                    17.7             13.5  \n",
       "Branca                                      12.8             11.4  \n",
       "Preta                                        6.9              4.9  \n",
       "Parda                                       12.3              8.8  \n",
       "Trabalhando ocupado                          9.8              8.8  \n",
       "Trabalhando desocupado                       6.4              8.2  \n",
       "Desempregados                               17.2             11.4  \n",
       "18 a 19 anos                                 6.0              7.6  \n",
       "30 a 59 anos                                14.2             10.4  \n",
       "60 a 64 anos                                14.0              9.6  \n",
       "65 a 74 anos                                11.9              5.8  \n",
       "75 anos ou mais                             13.5             13.1  \n",
       "Sem rendimento e ate 1/4 do salario minimo   9.7             13.3  \n",
       "Mais de 1/4 a 1/2 do salario minimo         13.7              8.9  \n",
       "Mais de 1/2 a 1 salario minimo              11.0              8.7  \n",
       "Mais de 1 a 2 salarios minimos              12.3              7.9  \n",
       "Mais de 2 a 3 salarios minimos              11.6              8.1  \n",
       "Mais de 3 a 5 salarios minimos              14.9             12.7  \n",
       "Mais de 5 salarios minimos                  13.3             10.9  \n",
       "Sem instrução e fundamental incompleto      13.4              8.6  \n",
       "Fundamental completo e médio incompleto      5.4             15.6  \n",
       "Médio completo e superior incompleto        12.9              7.5  \n",
       "Superior completo                           14.2             10.2  \n",
       "\n",
       "[25 rows x 27 columns]"
      ]
     },
     "execution_count": 23,
     "metadata": {},
     "output_type": "execute_result"
    }
   ],
   "source": [
    "def dataset_por_estado(dataset):\n",
    "    por_estado = dataset.T\n",
    "    por_estado.columns=por_estado.iloc[0]\n",
    "    por_estado.drop(labels=['Estado','Região'],inplace=True)\n",
    "    return por_estado\n",
    "\n",
    "sexo_estado = dataset_por_estado(tab_sexo)\n",
    "corRaca_estado = dataset_por_estado(tab_corRaca)\n",
    "posOcup_estado = dataset_por_estado(tab_posOcup)\n",
    "idade_estado = dataset_por_estado(tab_idade)\n",
    "rendimento_estado = dataset_por_estado(tab_rendimento)\n",
    "instrucao_estado = dataset_por_estado(tab_instrucao)\n",
    "\n",
    "dados_por_estado = pd.concat([sexo_estado,corRaca_estado,posOcup_estado,idade_estado,rendimento_estado,instrucao_estado])\n",
    "dados_por_estado.drop(labels='Total',inplace=True)\n",
    "dados_por_estado"
   ]
  },
  {
   "cell_type": "code",
   "execution_count": 12,
   "metadata": {},
   "outputs": [
    {
     "data": {
      "text/html": [
       "<div>\n",
       "<style scoped>\n",
       "    .dataframe tbody tr th:only-of-type {\n",
       "        vertical-align: middle;\n",
       "    }\n",
       "\n",
       "    .dataframe tbody tr th {\n",
       "        vertical-align: top;\n",
       "    }\n",
       "\n",
       "    .dataframe thead th {\n",
       "        text-align: right;\n",
       "    }\n",
       "</style>\n",
       "<table border=\"1\" class=\"dataframe\">\n",
       "  <thead>\n",
       "    <tr style=\"text-align: right;\">\n",
       "      <th>Estado</th>\n",
       "      <th>Rondônia</th>\n",
       "      <th>Acre</th>\n",
       "      <th>Amazonas</th>\n",
       "      <th>Roraima</th>\n",
       "      <th>Pará</th>\n",
       "      <th>Amapá</th>\n",
       "      <th>Tocantins</th>\n",
       "      <th>Maranhão</th>\n",
       "      <th>Piauí</th>\n",
       "      <th>Ceará</th>\n",
       "      <th>...</th>\n",
       "      <th>Rio de Janeiro</th>\n",
       "      <th>São Paulo</th>\n",
       "      <th>Paraná</th>\n",
       "      <th>Santa Catarina</th>\n",
       "      <th>Rio Grande do Sul</th>\n",
       "      <th>Mato Grosso do Sul</th>\n",
       "      <th>Mato Grosso</th>\n",
       "      <th>Goiás</th>\n",
       "      <th>Distrito Federal</th>\n",
       "      <th>Categoria</th>\n",
       "    </tr>\n",
       "  </thead>\n",
       "  <tbody>\n",
       "    <tr>\n",
       "      <th>Diagnostico Depressão Total</th>\n",
       "      <td>9.0</td>\n",
       "      <td>6.0</td>\n",
       "      <td>4.2</td>\n",
       "      <td>5.1</td>\n",
       "      <td>4.1</td>\n",
       "      <td>4.5</td>\n",
       "      <td>6.6</td>\n",
       "      <td>5.4</td>\n",
       "      <td>6.9</td>\n",
       "      <td>8.1</td>\n",
       "      <td>...</td>\n",
       "      <td>8.1</td>\n",
       "      <td>11.8</td>\n",
       "      <td>13.9</td>\n",
       "      <td>13.1</td>\n",
       "      <td>17.9</td>\n",
       "      <td>10.1</td>\n",
       "      <td>8.2</td>\n",
       "      <td>12.0</td>\n",
       "      <td>9.4</td>\n",
       "      <td>Total</td>\n",
       "    </tr>\n",
       "    <tr>\n",
       "      <th>Masculino</th>\n",
       "      <td>5.1</td>\n",
       "      <td>2.5</td>\n",
       "      <td>2.9</td>\n",
       "      <td>2.8</td>\n",
       "      <td>2.5</td>\n",
       "      <td>2.0</td>\n",
       "      <td>2.7</td>\n",
       "      <td>2.4</td>\n",
       "      <td>3.4</td>\n",
       "      <td>4.0</td>\n",
       "      <td>...</td>\n",
       "      <td>4.7</td>\n",
       "      <td>5.7</td>\n",
       "      <td>6.5</td>\n",
       "      <td>5.6</td>\n",
       "      <td>9.8</td>\n",
       "      <td>4.3</td>\n",
       "      <td>3.3</td>\n",
       "      <td>5.9</td>\n",
       "      <td>4.7</td>\n",
       "      <td>Sexo</td>\n",
       "    </tr>\n",
       "    <tr>\n",
       "      <th>Feminino</th>\n",
       "      <td>12.8</td>\n",
       "      <td>9.3</td>\n",
       "      <td>5.4</td>\n",
       "      <td>7.3</td>\n",
       "      <td>5.6</td>\n",
       "      <td>6.9</td>\n",
       "      <td>10.4</td>\n",
       "      <td>8.2</td>\n",
       "      <td>10.0</td>\n",
       "      <td>11.6</td>\n",
       "      <td>...</td>\n",
       "      <td>10.8</td>\n",
       "      <td>17.2</td>\n",
       "      <td>20.5</td>\n",
       "      <td>20.2</td>\n",
       "      <td>25.0</td>\n",
       "      <td>15.1</td>\n",
       "      <td>12.7</td>\n",
       "      <td>17.7</td>\n",
       "      <td>13.5</td>\n",
       "      <td>Sexo</td>\n",
       "    </tr>\n",
       "    <tr>\n",
       "      <th>Branca</th>\n",
       "      <td>11.7</td>\n",
       "      <td>5.7</td>\n",
       "      <td>3.6</td>\n",
       "      <td>7.4</td>\n",
       "      <td>5.0</td>\n",
       "      <td>4.9</td>\n",
       "      <td>7.8</td>\n",
       "      <td>5.2</td>\n",
       "      <td>7.0</td>\n",
       "      <td>7.9</td>\n",
       "      <td>...</td>\n",
       "      <td>9.7</td>\n",
       "      <td>13.2</td>\n",
       "      <td>14.4</td>\n",
       "      <td>13.5</td>\n",
       "      <td>18.4</td>\n",
       "      <td>10.4</td>\n",
       "      <td>9.8</td>\n",
       "      <td>12.8</td>\n",
       "      <td>11.4</td>\n",
       "      <td>Cor ou Raça</td>\n",
       "    </tr>\n",
       "    <tr>\n",
       "      <th>Preta</th>\n",
       "      <td>8.3</td>\n",
       "      <td>4.5</td>\n",
       "      <td>8.0</td>\n",
       "      <td>2.9</td>\n",
       "      <td>5.2</td>\n",
       "      <td>1.7</td>\n",
       "      <td>5.1</td>\n",
       "      <td>5.2</td>\n",
       "      <td>8.2</td>\n",
       "      <td>10.0</td>\n",
       "      <td>...</td>\n",
       "      <td>4.7</td>\n",
       "      <td>9.4</td>\n",
       "      <td>17.5</td>\n",
       "      <td>10.1</td>\n",
       "      <td>16.6</td>\n",
       "      <td>10.5</td>\n",
       "      <td>6.4</td>\n",
       "      <td>6.9</td>\n",
       "      <td>4.9</td>\n",
       "      <td>Cor ou Raça</td>\n",
       "    </tr>\n",
       "  </tbody>\n",
       "</table>\n",
       "<p>5 rows × 28 columns</p>\n",
       "</div>"
      ],
      "text/plain": [
       "Estado                      Rondônia Acre Amazonas Roraima Pará Amapá  \\\n",
       "Diagnostico Depressão Total      9.0  6.0      4.2     5.1  4.1   4.5   \n",
       "Masculino                        5.1  2.5      2.9     2.8  2.5   2.0   \n",
       "Feminino                        12.8  9.3      5.4     7.3  5.6   6.9   \n",
       "Branca                          11.7  5.7      3.6     7.4  5.0   4.9   \n",
       "Preta                            8.3  4.5      8.0     2.9  5.2   1.7   \n",
       "\n",
       "Estado                      Tocantins Maranhão Piauí Ceará  ...  \\\n",
       "Diagnostico Depressão Total       6.6      5.4   6.9   8.1  ...   \n",
       "Masculino                         2.7      2.4   3.4   4.0  ...   \n",
       "Feminino                         10.4      8.2  10.0  11.6  ...   \n",
       "Branca                            7.8      5.2   7.0   7.9  ...   \n",
       "Preta                             5.1      5.2   8.2  10.0  ...   \n",
       "\n",
       "Estado                      Rio de Janeiro São Paulo Paraná Santa Catarina  \\\n",
       "Diagnostico Depressão Total            8.1      11.8   13.9           13.1   \n",
       "Masculino                              4.7       5.7    6.5            5.6   \n",
       "Feminino                              10.8      17.2   20.5           20.2   \n",
       "Branca                                 9.7      13.2   14.4           13.5   \n",
       "Preta                                  4.7       9.4   17.5           10.1   \n",
       "\n",
       "Estado                      Rio Grande do Sul Mato Grosso do Sul Mato Grosso  \\\n",
       "Diagnostico Depressão Total              17.9               10.1         8.2   \n",
       "Masculino                                 9.8                4.3         3.3   \n",
       "Feminino                                 25.0               15.1        12.7   \n",
       "Branca                                   18.4               10.4         9.8   \n",
       "Preta                                    16.6               10.5         6.4   \n",
       "\n",
       "Estado                      Goiás Distrito Federal    Categoria  \n",
       "Diagnostico Depressão Total  12.0              9.4        Total  \n",
       "Masculino                     5.9              4.7         Sexo  \n",
       "Feminino                     17.7             13.5         Sexo  \n",
       "Branca                       12.8             11.4  Cor ou Raça  \n",
       "Preta                         6.9              4.9  Cor ou Raça  \n",
       "\n",
       "[5 rows x 28 columns]"
      ]
     },
     "execution_count": 12,
     "metadata": {},
     "output_type": "execute_result"
    }
   ],
   "source": [
    "dados_por_estado.loc['Diagnostico Depressão Total','Categoria'] = 'Total'\n",
    "dados_por_estado.loc['Masculino':'Feminino','Categoria'] = 'Sexo'\n",
    "dados_por_estado.loc['Branca':'Parda','Categoria'] = 'Cor ou Raça'\n",
    "dados_por_estado.loc['Sem instrução e fundamental incompleto':'Superior completo','Categoria'] = 'Instrução'\n",
    "dados_por_estado.loc['Trabalhando ocupado':'Desempregados','Categoria'] = 'Situação de trabalho'\n",
    "dados_por_estado.loc['Sem rendimento e ate 1/4 do salario minimo':'Mais de 5 salarios minimos','Categoria'] = 'Renda'\n",
    "dados_por_estado.loc['18 a 19 anos':'75 anos ou mais','Categoria'] = 'Idade'\n",
    "dados_por_estado.head()"
   ]
  },
  {
   "cell_type": "code",
   "execution_count": 13,
   "metadata": {},
   "outputs": [
    {
     "data": {
      "text/html": [
       "<div>\n",
       "<style scoped>\n",
       "    .dataframe tbody tr th:only-of-type {\n",
       "        vertical-align: middle;\n",
       "    }\n",
       "\n",
       "    .dataframe tbody tr th {\n",
       "        vertical-align: top;\n",
       "    }\n",
       "\n",
       "    .dataframe thead th {\n",
       "        text-align: right;\n",
       "    }\n",
       "</style>\n",
       "<table border=\"1\" class=\"dataframe\">\n",
       "  <thead>\n",
       "    <tr style=\"text-align: right;\">\n",
       "      <th>Estado</th>\n",
       "      <th>Rondônia</th>\n",
       "      <th>Acre</th>\n",
       "      <th>Amazonas</th>\n",
       "      <th>Roraima</th>\n",
       "      <th>Pará</th>\n",
       "      <th>Amapá</th>\n",
       "      <th>Tocantins</th>\n",
       "      <th>Maranhão</th>\n",
       "      <th>Piauí</th>\n",
       "      <th>Ceará</th>\n",
       "      <th>...</th>\n",
       "      <th>Rio de Janeiro</th>\n",
       "      <th>São Paulo</th>\n",
       "      <th>Paraná</th>\n",
       "      <th>Santa Catarina</th>\n",
       "      <th>Rio Grande do Sul</th>\n",
       "      <th>Mato Grosso do Sul</th>\n",
       "      <th>Mato Grosso</th>\n",
       "      <th>Goiás</th>\n",
       "      <th>Distrito Federal</th>\n",
       "      <th>Categoria</th>\n",
       "    </tr>\n",
       "  </thead>\n",
       "  <tbody>\n",
       "    <tr>\n",
       "      <th>Diagnostico Depressão Total</th>\n",
       "      <td>9.0</td>\n",
       "      <td>6.0</td>\n",
       "      <td>4.2</td>\n",
       "      <td>5.1</td>\n",
       "      <td>4.1</td>\n",
       "      <td>4.5</td>\n",
       "      <td>6.6</td>\n",
       "      <td>5.4</td>\n",
       "      <td>6.9</td>\n",
       "      <td>8.1</td>\n",
       "      <td>...</td>\n",
       "      <td>8.1</td>\n",
       "      <td>11.8</td>\n",
       "      <td>13.9</td>\n",
       "      <td>13.1</td>\n",
       "      <td>17.9</td>\n",
       "      <td>10.1</td>\n",
       "      <td>8.2</td>\n",
       "      <td>12.0</td>\n",
       "      <td>9.4</td>\n",
       "      <td>Total</td>\n",
       "    </tr>\n",
       "    <tr>\n",
       "      <th>Masculino</th>\n",
       "      <td>5.1</td>\n",
       "      <td>2.5</td>\n",
       "      <td>2.9</td>\n",
       "      <td>2.8</td>\n",
       "      <td>2.5</td>\n",
       "      <td>2.0</td>\n",
       "      <td>2.7</td>\n",
       "      <td>2.4</td>\n",
       "      <td>3.4</td>\n",
       "      <td>4.0</td>\n",
       "      <td>...</td>\n",
       "      <td>4.7</td>\n",
       "      <td>5.7</td>\n",
       "      <td>6.5</td>\n",
       "      <td>5.6</td>\n",
       "      <td>9.8</td>\n",
       "      <td>4.3</td>\n",
       "      <td>3.3</td>\n",
       "      <td>5.9</td>\n",
       "      <td>4.7</td>\n",
       "      <td>Sexo</td>\n",
       "    </tr>\n",
       "    <tr>\n",
       "      <th>Feminino</th>\n",
       "      <td>12.8</td>\n",
       "      <td>9.3</td>\n",
       "      <td>5.4</td>\n",
       "      <td>7.3</td>\n",
       "      <td>5.6</td>\n",
       "      <td>6.9</td>\n",
       "      <td>10.4</td>\n",
       "      <td>8.2</td>\n",
       "      <td>10.0</td>\n",
       "      <td>11.6</td>\n",
       "      <td>...</td>\n",
       "      <td>10.8</td>\n",
       "      <td>17.2</td>\n",
       "      <td>20.5</td>\n",
       "      <td>20.2</td>\n",
       "      <td>25.0</td>\n",
       "      <td>15.1</td>\n",
       "      <td>12.7</td>\n",
       "      <td>17.7</td>\n",
       "      <td>13.5</td>\n",
       "      <td>Sexo</td>\n",
       "    </tr>\n",
       "    <tr>\n",
       "      <th>Branca</th>\n",
       "      <td>11.7</td>\n",
       "      <td>5.7</td>\n",
       "      <td>3.6</td>\n",
       "      <td>7.4</td>\n",
       "      <td>5.0</td>\n",
       "      <td>4.9</td>\n",
       "      <td>7.8</td>\n",
       "      <td>5.2</td>\n",
       "      <td>7.0</td>\n",
       "      <td>7.9</td>\n",
       "      <td>...</td>\n",
       "      <td>9.7</td>\n",
       "      <td>13.2</td>\n",
       "      <td>14.4</td>\n",
       "      <td>13.5</td>\n",
       "      <td>18.4</td>\n",
       "      <td>10.4</td>\n",
       "      <td>9.8</td>\n",
       "      <td>12.8</td>\n",
       "      <td>11.4</td>\n",
       "      <td>Cor ou Raça</td>\n",
       "    </tr>\n",
       "    <tr>\n",
       "      <th>Preta</th>\n",
       "      <td>8.3</td>\n",
       "      <td>4.5</td>\n",
       "      <td>8.0</td>\n",
       "      <td>2.9</td>\n",
       "      <td>5.2</td>\n",
       "      <td>1.7</td>\n",
       "      <td>5.1</td>\n",
       "      <td>5.2</td>\n",
       "      <td>8.2</td>\n",
       "      <td>10.0</td>\n",
       "      <td>...</td>\n",
       "      <td>4.7</td>\n",
       "      <td>9.4</td>\n",
       "      <td>17.5</td>\n",
       "      <td>10.1</td>\n",
       "      <td>16.6</td>\n",
       "      <td>10.5</td>\n",
       "      <td>6.4</td>\n",
       "      <td>6.9</td>\n",
       "      <td>4.9</td>\n",
       "      <td>Cor ou Raça</td>\n",
       "    </tr>\n",
       "    <tr>\n",
       "      <th>Parda</th>\n",
       "      <td>7.8</td>\n",
       "      <td>6.3</td>\n",
       "      <td>3.9</td>\n",
       "      <td>4.5</td>\n",
       "      <td>3.8</td>\n",
       "      <td>5.1</td>\n",
       "      <td>6.7</td>\n",
       "      <td>5.6</td>\n",
       "      <td>6.6</td>\n",
       "      <td>7.9</td>\n",
       "      <td>...</td>\n",
       "      <td>7.7</td>\n",
       "      <td>10.2</td>\n",
       "      <td>12.9</td>\n",
       "      <td>11.6</td>\n",
       "      <td>16.3</td>\n",
       "      <td>9.9</td>\n",
       "      <td>7.8</td>\n",
       "      <td>12.3</td>\n",
       "      <td>8.8</td>\n",
       "      <td>Cor ou Raça</td>\n",
       "    </tr>\n",
       "    <tr>\n",
       "      <th>Trabalhando ocupado</th>\n",
       "      <td>8.1</td>\n",
       "      <td>5.0</td>\n",
       "      <td>2.8</td>\n",
       "      <td>4.2</td>\n",
       "      <td>3.4</td>\n",
       "      <td>3.5</td>\n",
       "      <td>5.3</td>\n",
       "      <td>4.4</td>\n",
       "      <td>6.6</td>\n",
       "      <td>6.3</td>\n",
       "      <td>...</td>\n",
       "      <td>6.5</td>\n",
       "      <td>10.3</td>\n",
       "      <td>10.9</td>\n",
       "      <td>9.7</td>\n",
       "      <td>15.4</td>\n",
       "      <td>8.0</td>\n",
       "      <td>7.4</td>\n",
       "      <td>9.8</td>\n",
       "      <td>8.8</td>\n",
       "      <td>Situação de trabalho</td>\n",
       "    </tr>\n",
       "    <tr>\n",
       "      <th>Trabalhando desocupado</th>\n",
       "      <td>6.2</td>\n",
       "      <td>8.5</td>\n",
       "      <td>2.0</td>\n",
       "      <td>2.2</td>\n",
       "      <td>5.4</td>\n",
       "      <td>9.5</td>\n",
       "      <td>13.8</td>\n",
       "      <td>4.4</td>\n",
       "      <td>3.3</td>\n",
       "      <td>6.7</td>\n",
       "      <td>...</td>\n",
       "      <td>7.1</td>\n",
       "      <td>12.3</td>\n",
       "      <td>19.4</td>\n",
       "      <td>11.7</td>\n",
       "      <td>12.7</td>\n",
       "      <td>13.8</td>\n",
       "      <td>3.4</td>\n",
       "      <td>6.4</td>\n",
       "      <td>8.2</td>\n",
       "      <td>Situação de trabalho</td>\n",
       "    </tr>\n",
       "    <tr>\n",
       "      <th>Desempregados</th>\n",
       "      <td>11.5</td>\n",
       "      <td>7.2</td>\n",
       "      <td>7.1</td>\n",
       "      <td>7.7</td>\n",
       "      <td>5.0</td>\n",
       "      <td>5.1</td>\n",
       "      <td>8.0</td>\n",
       "      <td>6.8</td>\n",
       "      <td>7.6</td>\n",
       "      <td>10.6</td>\n",
       "      <td>...</td>\n",
       "      <td>10.8</td>\n",
       "      <td>15.2</td>\n",
       "      <td>18.7</td>\n",
       "      <td>19.5</td>\n",
       "      <td>23.8</td>\n",
       "      <td>14.5</td>\n",
       "      <td>10.6</td>\n",
       "      <td>17.2</td>\n",
       "      <td>11.4</td>\n",
       "      <td>Situação de trabalho</td>\n",
       "    </tr>\n",
       "    <tr>\n",
       "      <th>18 a 19 anos</th>\n",
       "      <td>7.2</td>\n",
       "      <td>2.7</td>\n",
       "      <td>4.0</td>\n",
       "      <td>4.8</td>\n",
       "      <td>1.7</td>\n",
       "      <td>4.8</td>\n",
       "      <td>4.1</td>\n",
       "      <td>3.1</td>\n",
       "      <td>5.5</td>\n",
       "      <td>4.5</td>\n",
       "      <td>...</td>\n",
       "      <td>5.0</td>\n",
       "      <td>8.3</td>\n",
       "      <td>8.2</td>\n",
       "      <td>7.4</td>\n",
       "      <td>9.9</td>\n",
       "      <td>6.5</td>\n",
       "      <td>3.9</td>\n",
       "      <td>6.0</td>\n",
       "      <td>7.6</td>\n",
       "      <td>Idade</td>\n",
       "    </tr>\n",
       "    <tr>\n",
       "      <th>30 a 59 anos</th>\n",
       "      <td>9.9</td>\n",
       "      <td>7.6</td>\n",
       "      <td>4.0</td>\n",
       "      <td>5.2</td>\n",
       "      <td>5.1</td>\n",
       "      <td>3.7</td>\n",
       "      <td>7.4</td>\n",
       "      <td>6.7</td>\n",
       "      <td>7.6</td>\n",
       "      <td>8.5</td>\n",
       "      <td>...</td>\n",
       "      <td>8.9</td>\n",
       "      <td>12.5</td>\n",
       "      <td>14.8</td>\n",
       "      <td>13.6</td>\n",
       "      <td>19.3</td>\n",
       "      <td>11.5</td>\n",
       "      <td>9.6</td>\n",
       "      <td>14.2</td>\n",
       "      <td>10.4</td>\n",
       "      <td>Idade</td>\n",
       "    </tr>\n",
       "    <tr>\n",
       "      <th>60 a 64 anos</th>\n",
       "      <td>6.9</td>\n",
       "      <td>5.9</td>\n",
       "      <td>5.8</td>\n",
       "      <td>3.4</td>\n",
       "      <td>5.1</td>\n",
       "      <td>4.3</td>\n",
       "      <td>7.7</td>\n",
       "      <td>3.4</td>\n",
       "      <td>7.4</td>\n",
       "      <td>13.0</td>\n",
       "      <td>...</td>\n",
       "      <td>10.9</td>\n",
       "      <td>16.4</td>\n",
       "      <td>18.8</td>\n",
       "      <td>16.8</td>\n",
       "      <td>21.7</td>\n",
       "      <td>8.0</td>\n",
       "      <td>14.1</td>\n",
       "      <td>14.0</td>\n",
       "      <td>9.6</td>\n",
       "      <td>Idade</td>\n",
       "    </tr>\n",
       "    <tr>\n",
       "      <th>65 a 74 anos</th>\n",
       "      <td>10.9</td>\n",
       "      <td>9.7</td>\n",
       "      <td>6.6</td>\n",
       "      <td>7.1</td>\n",
       "      <td>4.0</td>\n",
       "      <td>10.7</td>\n",
       "      <td>9.3</td>\n",
       "      <td>6.8</td>\n",
       "      <td>7.1</td>\n",
       "      <td>9.8</td>\n",
       "      <td>...</td>\n",
       "      <td>8.5</td>\n",
       "      <td>11.2</td>\n",
       "      <td>17.5</td>\n",
       "      <td>19.6</td>\n",
       "      <td>19.5</td>\n",
       "      <td>10.6</td>\n",
       "      <td>10.6</td>\n",
       "      <td>11.9</td>\n",
       "      <td>5.8</td>\n",
       "      <td>Idade</td>\n",
       "    </tr>\n",
       "    <tr>\n",
       "      <th>75 anos ou mais</th>\n",
       "      <td>6.6</td>\n",
       "      <td>2.0</td>\n",
       "      <td>2.2</td>\n",
       "      <td>4.1</td>\n",
       "      <td>6.4</td>\n",
       "      <td>5.5</td>\n",
       "      <td>5.0</td>\n",
       "      <td>3.6</td>\n",
       "      <td>4.5</td>\n",
       "      <td>10.7</td>\n",
       "      <td>...</td>\n",
       "      <td>6.7</td>\n",
       "      <td>12.6</td>\n",
       "      <td>14.8</td>\n",
       "      <td>11.8</td>\n",
       "      <td>19.8</td>\n",
       "      <td>12.4</td>\n",
       "      <td>4.5</td>\n",
       "      <td>13.5</td>\n",
       "      <td>13.1</td>\n",
       "      <td>Idade</td>\n",
       "    </tr>\n",
       "    <tr>\n",
       "      <th>Sem rendimento e ate 1/4 do salario minimo</th>\n",
       "      <td>11.4</td>\n",
       "      <td>7.0</td>\n",
       "      <td>5.9</td>\n",
       "      <td>7.1</td>\n",
       "      <td>4.4</td>\n",
       "      <td>1.5</td>\n",
       "      <td>4.3</td>\n",
       "      <td>5.7</td>\n",
       "      <td>7.1</td>\n",
       "      <td>6.7</td>\n",
       "      <td>...</td>\n",
       "      <td>7.4</td>\n",
       "      <td>14.1</td>\n",
       "      <td>18.8</td>\n",
       "      <td>12.6</td>\n",
       "      <td>25.3</td>\n",
       "      <td>12.4</td>\n",
       "      <td>9.1</td>\n",
       "      <td>9.7</td>\n",
       "      <td>13.3</td>\n",
       "      <td>Renda</td>\n",
       "    </tr>\n",
       "    <tr>\n",
       "      <th>Mais de 1/4 a 1/2 do salario minimo</th>\n",
       "      <td>7.2</td>\n",
       "      <td>6.9</td>\n",
       "      <td>3.5</td>\n",
       "      <td>3.0</td>\n",
       "      <td>2.7</td>\n",
       "      <td>3.2</td>\n",
       "      <td>6.0</td>\n",
       "      <td>5.5</td>\n",
       "      <td>4.2</td>\n",
       "      <td>6.4</td>\n",
       "      <td>...</td>\n",
       "      <td>9.2</td>\n",
       "      <td>9.1</td>\n",
       "      <td>17.9</td>\n",
       "      <td>19.0</td>\n",
       "      <td>19.6</td>\n",
       "      <td>9.6</td>\n",
       "      <td>9.6</td>\n",
       "      <td>13.7</td>\n",
       "      <td>8.9</td>\n",
       "      <td>Renda</td>\n",
       "    </tr>\n",
       "    <tr>\n",
       "      <th>Mais de 1/2 a 1 salario minimo</th>\n",
       "      <td>8.2</td>\n",
       "      <td>4.4</td>\n",
       "      <td>3.1</td>\n",
       "      <td>4.0</td>\n",
       "      <td>5.6</td>\n",
       "      <td>5.7</td>\n",
       "      <td>5.9</td>\n",
       "      <td>4.8</td>\n",
       "      <td>7.1</td>\n",
       "      <td>8.4</td>\n",
       "      <td>...</td>\n",
       "      <td>7.5</td>\n",
       "      <td>11.5</td>\n",
       "      <td>13.8</td>\n",
       "      <td>13.5</td>\n",
       "      <td>19.2</td>\n",
       "      <td>10.2</td>\n",
       "      <td>6.1</td>\n",
       "      <td>11.0</td>\n",
       "      <td>8.7</td>\n",
       "      <td>Renda</td>\n",
       "    </tr>\n",
       "    <tr>\n",
       "      <th>Mais de 1 a 2 salarios minimos</th>\n",
       "      <td>9.6</td>\n",
       "      <td>4.8</td>\n",
       "      <td>5.3</td>\n",
       "      <td>5.1</td>\n",
       "      <td>2.0</td>\n",
       "      <td>4.3</td>\n",
       "      <td>8.5</td>\n",
       "      <td>5.6</td>\n",
       "      <td>9.5</td>\n",
       "      <td>9.7</td>\n",
       "      <td>...</td>\n",
       "      <td>7.6</td>\n",
       "      <td>10.0</td>\n",
       "      <td>12.3</td>\n",
       "      <td>12.3</td>\n",
       "      <td>17.8</td>\n",
       "      <td>9.1</td>\n",
       "      <td>9.4</td>\n",
       "      <td>12.3</td>\n",
       "      <td>7.9</td>\n",
       "      <td>Renda</td>\n",
       "    </tr>\n",
       "    <tr>\n",
       "      <th>Mais de 2 a 3 salarios minimos</th>\n",
       "      <td>11.7</td>\n",
       "      <td>7.6</td>\n",
       "      <td>3.9</td>\n",
       "      <td>8.5</td>\n",
       "      <td>5.6</td>\n",
       "      <td>2.6</td>\n",
       "      <td>8.7</td>\n",
       "      <td>6.0</td>\n",
       "      <td>9.3</td>\n",
       "      <td>11.8</td>\n",
       "      <td>...</td>\n",
       "      <td>7.9</td>\n",
       "      <td>14.2</td>\n",
       "      <td>16.3</td>\n",
       "      <td>11.8</td>\n",
       "      <td>13.9</td>\n",
       "      <td>10.5</td>\n",
       "      <td>8.6</td>\n",
       "      <td>11.6</td>\n",
       "      <td>8.1</td>\n",
       "      <td>Renda</td>\n",
       "    </tr>\n",
       "    <tr>\n",
       "      <th>Mais de 3 a 5 salarios minimos</th>\n",
       "      <td>9.5</td>\n",
       "      <td>8.5</td>\n",
       "      <td>4.1</td>\n",
       "      <td>6.3</td>\n",
       "      <td>6.8</td>\n",
       "      <td>11.1</td>\n",
       "      <td>6.7</td>\n",
       "      <td>9.9</td>\n",
       "      <td>6.5</td>\n",
       "      <td>6.4</td>\n",
       "      <td>...</td>\n",
       "      <td>10.2</td>\n",
       "      <td>12.1</td>\n",
       "      <td>12.8</td>\n",
       "      <td>14.3</td>\n",
       "      <td>18.3</td>\n",
       "      <td>9.8</td>\n",
       "      <td>8.9</td>\n",
       "      <td>14.9</td>\n",
       "      <td>12.7</td>\n",
       "      <td>Renda</td>\n",
       "    </tr>\n",
       "    <tr>\n",
       "      <th>Mais de 5 salarios minimos</th>\n",
       "      <td>10.4</td>\n",
       "      <td>7.7</td>\n",
       "      <td>6.7</td>\n",
       "      <td>6.6</td>\n",
       "      <td>1.7</td>\n",
       "      <td>13.0</td>\n",
       "      <td>11.4</td>\n",
       "      <td>5.6</td>\n",
       "      <td>3.4</td>\n",
       "      <td>12.8</td>\n",
       "      <td>...</td>\n",
       "      <td>8.8</td>\n",
       "      <td>18.2</td>\n",
       "      <td>10.2</td>\n",
       "      <td>15.8</td>\n",
       "      <td>16.4</td>\n",
       "      <td>12.9</td>\n",
       "      <td>7.9</td>\n",
       "      <td>13.3</td>\n",
       "      <td>10.9</td>\n",
       "      <td>Renda</td>\n",
       "    </tr>\n",
       "    <tr>\n",
       "      <th>Sem instrução e fundamental incompleto</th>\n",
       "      <td>8.5</td>\n",
       "      <td>6.2</td>\n",
       "      <td>4.1</td>\n",
       "      <td>4.4</td>\n",
       "      <td>4.6</td>\n",
       "      <td>3.1</td>\n",
       "      <td>6.4</td>\n",
       "      <td>6.0</td>\n",
       "      <td>6.0</td>\n",
       "      <td>9.1</td>\n",
       "      <td>...</td>\n",
       "      <td>8.9</td>\n",
       "      <td>12.0</td>\n",
       "      <td>17.5</td>\n",
       "      <td>14.9</td>\n",
       "      <td>22.3</td>\n",
       "      <td>10.0</td>\n",
       "      <td>7.4</td>\n",
       "      <td>13.4</td>\n",
       "      <td>8.6</td>\n",
       "      <td>Instrução</td>\n",
       "    </tr>\n",
       "    <tr>\n",
       "      <th>Fundamental completo e médio incompleto</th>\n",
       "      <td>8.4</td>\n",
       "      <td>3.9</td>\n",
       "      <td>5.9</td>\n",
       "      <td>4.1</td>\n",
       "      <td>3.2</td>\n",
       "      <td>1.7</td>\n",
       "      <td>10.1</td>\n",
       "      <td>5.2</td>\n",
       "      <td>5.2</td>\n",
       "      <td>6.1</td>\n",
       "      <td>...</td>\n",
       "      <td>6.1</td>\n",
       "      <td>13.6</td>\n",
       "      <td>11.9</td>\n",
       "      <td>12.8</td>\n",
       "      <td>14.5</td>\n",
       "      <td>10.0</td>\n",
       "      <td>9.7</td>\n",
       "      <td>5.4</td>\n",
       "      <td>15.6</td>\n",
       "      <td>Instrução</td>\n",
       "    </tr>\n",
       "    <tr>\n",
       "      <th>Médio completo e superior incompleto</th>\n",
       "      <td>9.8</td>\n",
       "      <td>5.9</td>\n",
       "      <td>3.2</td>\n",
       "      <td>4.4</td>\n",
       "      <td>3.8</td>\n",
       "      <td>5.2</td>\n",
       "      <td>4.4</td>\n",
       "      <td>4.3</td>\n",
       "      <td>8.3</td>\n",
       "      <td>7.1</td>\n",
       "      <td>...</td>\n",
       "      <td>7.7</td>\n",
       "      <td>9.7</td>\n",
       "      <td>10.7</td>\n",
       "      <td>12.5</td>\n",
       "      <td>14.7</td>\n",
       "      <td>9.0</td>\n",
       "      <td>6.9</td>\n",
       "      <td>12.9</td>\n",
       "      <td>7.5</td>\n",
       "      <td>Instrução</td>\n",
       "    </tr>\n",
       "    <tr>\n",
       "      <th>Superior completo</th>\n",
       "      <td>9.5</td>\n",
       "      <td>7.5</td>\n",
       "      <td>5.2</td>\n",
       "      <td>8.3</td>\n",
       "      <td>5.2</td>\n",
       "      <td>8.4</td>\n",
       "      <td>9.6</td>\n",
       "      <td>6.8</td>\n",
       "      <td>9.0</td>\n",
       "      <td>9.8</td>\n",
       "      <td>...</td>\n",
       "      <td>9.4</td>\n",
       "      <td>14.1</td>\n",
       "      <td>14.8</td>\n",
       "      <td>11.7</td>\n",
       "      <td>18.4</td>\n",
       "      <td>12.4</td>\n",
       "      <td>10.9</td>\n",
       "      <td>14.2</td>\n",
       "      <td>10.2</td>\n",
       "      <td>Instrução</td>\n",
       "    </tr>\n",
       "  </tbody>\n",
       "</table>\n",
       "<p>25 rows × 28 columns</p>\n",
       "</div>"
      ],
      "text/plain": [
       "Estado                                     Rondônia Acre Amazonas Roraima  \\\n",
       "Diagnostico Depressão Total                     9.0  6.0      4.2     5.1   \n",
       "Masculino                                       5.1  2.5      2.9     2.8   \n",
       "Feminino                                       12.8  9.3      5.4     7.3   \n",
       "Branca                                         11.7  5.7      3.6     7.4   \n",
       "Preta                                           8.3  4.5      8.0     2.9   \n",
       "Parda                                           7.8  6.3      3.9     4.5   \n",
       "Trabalhando ocupado                             8.1  5.0      2.8     4.2   \n",
       "Trabalhando desocupado                          6.2  8.5      2.0     2.2   \n",
       "Desempregados                                  11.5  7.2      7.1     7.7   \n",
       "18 a 19 anos                                    7.2  2.7      4.0     4.8   \n",
       "30 a 59 anos                                    9.9  7.6      4.0     5.2   \n",
       "60 a 64 anos                                    6.9  5.9      5.8     3.4   \n",
       "65 a 74 anos                                   10.9  9.7      6.6     7.1   \n",
       "75 anos ou mais                                 6.6  2.0      2.2     4.1   \n",
       "Sem rendimento e ate 1/4 do salario minimo     11.4  7.0      5.9     7.1   \n",
       "Mais de 1/4 a 1/2 do salario minimo             7.2  6.9      3.5     3.0   \n",
       "Mais de 1/2 a 1 salario minimo                  8.2  4.4      3.1     4.0   \n",
       "Mais de 1 a 2 salarios minimos                  9.6  4.8      5.3     5.1   \n",
       "Mais de 2 a 3 salarios minimos                 11.7  7.6      3.9     8.5   \n",
       "Mais de 3 a 5 salarios minimos                  9.5  8.5      4.1     6.3   \n",
       "Mais de 5 salarios minimos                     10.4  7.7      6.7     6.6   \n",
       "Sem instrução e fundamental incompleto          8.5  6.2      4.1     4.4   \n",
       "Fundamental completo e médio incompleto         8.4  3.9      5.9     4.1   \n",
       "Médio completo e superior incompleto            9.8  5.9      3.2     4.4   \n",
       "Superior completo                               9.5  7.5      5.2     8.3   \n",
       "\n",
       "Estado                                     Pará Amapá Tocantins Maranhão  \\\n",
       "Diagnostico Depressão Total                 4.1   4.5       6.6      5.4   \n",
       "Masculino                                   2.5   2.0       2.7      2.4   \n",
       "Feminino                                    5.6   6.9      10.4      8.2   \n",
       "Branca                                      5.0   4.9       7.8      5.2   \n",
       "Preta                                       5.2   1.7       5.1      5.2   \n",
       "Parda                                       3.8   5.1       6.7      5.6   \n",
       "Trabalhando ocupado                         3.4   3.5       5.3      4.4   \n",
       "Trabalhando desocupado                      5.4   9.5      13.8      4.4   \n",
       "Desempregados                               5.0   5.1       8.0      6.8   \n",
       "18 a 19 anos                                1.7   4.8       4.1      3.1   \n",
       "30 a 59 anos                                5.1   3.7       7.4      6.7   \n",
       "60 a 64 anos                                5.1   4.3       7.7      3.4   \n",
       "65 a 74 anos                                4.0  10.7       9.3      6.8   \n",
       "75 anos ou mais                             6.4   5.5       5.0      3.6   \n",
       "Sem rendimento e ate 1/4 do salario minimo  4.4   1.5       4.3      5.7   \n",
       "Mais de 1/4 a 1/2 do salario minimo         2.7   3.2       6.0      5.5   \n",
       "Mais de 1/2 a 1 salario minimo              5.6   5.7       5.9      4.8   \n",
       "Mais de 1 a 2 salarios minimos              2.0   4.3       8.5      5.6   \n",
       "Mais de 2 a 3 salarios minimos              5.6   2.6       8.7      6.0   \n",
       "Mais de 3 a 5 salarios minimos              6.8  11.1       6.7      9.9   \n",
       "Mais de 5 salarios minimos                  1.7  13.0      11.4      5.6   \n",
       "Sem instrução e fundamental incompleto      4.6   3.1       6.4      6.0   \n",
       "Fundamental completo e médio incompleto     3.2   1.7      10.1      5.2   \n",
       "Médio completo e superior incompleto        3.8   5.2       4.4      4.3   \n",
       "Superior completo                           5.2   8.4       9.6      6.8   \n",
       "\n",
       "Estado                                     Piauí Ceará  ... Rio de Janeiro  \\\n",
       "Diagnostico Depressão Total                  6.9   8.1  ...            8.1   \n",
       "Masculino                                    3.4   4.0  ...            4.7   \n",
       "Feminino                                    10.0  11.6  ...           10.8   \n",
       "Branca                                       7.0   7.9  ...            9.7   \n",
       "Preta                                        8.2  10.0  ...            4.7   \n",
       "Parda                                        6.6   7.9  ...            7.7   \n",
       "Trabalhando ocupado                          6.6   6.3  ...            6.5   \n",
       "Trabalhando desocupado                       3.3   6.7  ...            7.1   \n",
       "Desempregados                                7.6  10.6  ...           10.8   \n",
       "18 a 19 anos                                 5.5   4.5  ...            5.0   \n",
       "30 a 59 anos                                 7.6   8.5  ...            8.9   \n",
       "60 a 64 anos                                 7.4  13.0  ...           10.9   \n",
       "65 a 74 anos                                 7.1   9.8  ...            8.5   \n",
       "75 anos ou mais                              4.5  10.7  ...            6.7   \n",
       "Sem rendimento e ate 1/4 do salario minimo   7.1   6.7  ...            7.4   \n",
       "Mais de 1/4 a 1/2 do salario minimo          4.2   6.4  ...            9.2   \n",
       "Mais de 1/2 a 1 salario minimo               7.1   8.4  ...            7.5   \n",
       "Mais de 1 a 2 salarios minimos               9.5   9.7  ...            7.6   \n",
       "Mais de 2 a 3 salarios minimos               9.3  11.8  ...            7.9   \n",
       "Mais de 3 a 5 salarios minimos               6.5   6.4  ...           10.2   \n",
       "Mais de 5 salarios minimos                   3.4  12.8  ...            8.8   \n",
       "Sem instrução e fundamental incompleto       6.0   9.1  ...            8.9   \n",
       "Fundamental completo e médio incompleto      5.2   6.1  ...            6.1   \n",
       "Médio completo e superior incompleto         8.3   7.1  ...            7.7   \n",
       "Superior completo                            9.0   9.8  ...            9.4   \n",
       "\n",
       "Estado                                     São Paulo Paraná Santa Catarina  \\\n",
       "Diagnostico Depressão Total                     11.8   13.9           13.1   \n",
       "Masculino                                        5.7    6.5            5.6   \n",
       "Feminino                                        17.2   20.5           20.2   \n",
       "Branca                                          13.2   14.4           13.5   \n",
       "Preta                                            9.4   17.5           10.1   \n",
       "Parda                                           10.2   12.9           11.6   \n",
       "Trabalhando ocupado                             10.3   10.9            9.7   \n",
       "Trabalhando desocupado                          12.3   19.4           11.7   \n",
       "Desempregados                                   15.2   18.7           19.5   \n",
       "18 a 19 anos                                     8.3    8.2            7.4   \n",
       "30 a 59 anos                                    12.5   14.8           13.6   \n",
       "60 a 64 anos                                    16.4   18.8           16.8   \n",
       "65 a 74 anos                                    11.2   17.5           19.6   \n",
       "75 anos ou mais                                 12.6   14.8           11.8   \n",
       "Sem rendimento e ate 1/4 do salario minimo      14.1   18.8           12.6   \n",
       "Mais de 1/4 a 1/2 do salario minimo              9.1   17.9           19.0   \n",
       "Mais de 1/2 a 1 salario minimo                  11.5   13.8           13.5   \n",
       "Mais de 1 a 2 salarios minimos                  10.0   12.3           12.3   \n",
       "Mais de 2 a 3 salarios minimos                  14.2   16.3           11.8   \n",
       "Mais de 3 a 5 salarios minimos                  12.1   12.8           14.3   \n",
       "Mais de 5 salarios minimos                      18.2   10.2           15.8   \n",
       "Sem instrução e fundamental incompleto          12.0   17.5           14.9   \n",
       "Fundamental completo e médio incompleto         13.6   11.9           12.8   \n",
       "Médio completo e superior incompleto             9.7   10.7           12.5   \n",
       "Superior completo                               14.1   14.8           11.7   \n",
       "\n",
       "Estado                                     Rio Grande do Sul  \\\n",
       "Diagnostico Depressão Total                             17.9   \n",
       "Masculino                                                9.8   \n",
       "Feminino                                                25.0   \n",
       "Branca                                                  18.4   \n",
       "Preta                                                   16.6   \n",
       "Parda                                                   16.3   \n",
       "Trabalhando ocupado                                     15.4   \n",
       "Trabalhando desocupado                                  12.7   \n",
       "Desempregados                                           23.8   \n",
       "18 a 19 anos                                             9.9   \n",
       "30 a 59 anos                                            19.3   \n",
       "60 a 64 anos                                            21.7   \n",
       "65 a 74 anos                                            19.5   \n",
       "75 anos ou mais                                         19.8   \n",
       "Sem rendimento e ate 1/4 do salario minimo              25.3   \n",
       "Mais de 1/4 a 1/2 do salario minimo                     19.6   \n",
       "Mais de 1/2 a 1 salario minimo                          19.2   \n",
       "Mais de 1 a 2 salarios minimos                          17.8   \n",
       "Mais de 2 a 3 salarios minimos                          13.9   \n",
       "Mais de 3 a 5 salarios minimos                          18.3   \n",
       "Mais de 5 salarios minimos                              16.4   \n",
       "Sem instrução e fundamental incompleto                  22.3   \n",
       "Fundamental completo e médio incompleto                 14.5   \n",
       "Médio completo e superior incompleto                    14.7   \n",
       "Superior completo                                       18.4   \n",
       "\n",
       "Estado                                     Mato Grosso do Sul Mato Grosso  \\\n",
       "Diagnostico Depressão Total                              10.1         8.2   \n",
       "Masculino                                                 4.3         3.3   \n",
       "Feminino                                                 15.1        12.7   \n",
       "Branca                                                   10.4         9.8   \n",
       "Preta                                                    10.5         6.4   \n",
       "Parda                                                     9.9         7.8   \n",
       "Trabalhando ocupado                                       8.0         7.4   \n",
       "Trabalhando desocupado                                   13.8         3.4   \n",
       "Desempregados                                            14.5        10.6   \n",
       "18 a 19 anos                                              6.5         3.9   \n",
       "30 a 59 anos                                             11.5         9.6   \n",
       "60 a 64 anos                                              8.0        14.1   \n",
       "65 a 74 anos                                             10.6        10.6   \n",
       "75 anos ou mais                                          12.4         4.5   \n",
       "Sem rendimento e ate 1/4 do salario minimo               12.4         9.1   \n",
       "Mais de 1/4 a 1/2 do salario minimo                       9.6         9.6   \n",
       "Mais de 1/2 a 1 salario minimo                           10.2         6.1   \n",
       "Mais de 1 a 2 salarios minimos                            9.1         9.4   \n",
       "Mais de 2 a 3 salarios minimos                           10.5         8.6   \n",
       "Mais de 3 a 5 salarios minimos                            9.8         8.9   \n",
       "Mais de 5 salarios minimos                               12.9         7.9   \n",
       "Sem instrução e fundamental incompleto                   10.0         7.4   \n",
       "Fundamental completo e médio incompleto                  10.0         9.7   \n",
       "Médio completo e superior incompleto                      9.0         6.9   \n",
       "Superior completo                                        12.4        10.9   \n",
       "\n",
       "Estado                                     Goiás Distrito Federal  \\\n",
       "Diagnostico Depressão Total                 12.0              9.4   \n",
       "Masculino                                    5.9              4.7   \n",
       "Feminino                                    17.7             13.5   \n",
       "Branca                                      12.8             11.4   \n",
       "Preta                                        6.9              4.9   \n",
       "Parda                                       12.3              8.8   \n",
       "Trabalhando ocupado                          9.8              8.8   \n",
       "Trabalhando desocupado                       6.4              8.2   \n",
       "Desempregados                               17.2             11.4   \n",
       "18 a 19 anos                                 6.0              7.6   \n",
       "30 a 59 anos                                14.2             10.4   \n",
       "60 a 64 anos                                14.0              9.6   \n",
       "65 a 74 anos                                11.9              5.8   \n",
       "75 anos ou mais                             13.5             13.1   \n",
       "Sem rendimento e ate 1/4 do salario minimo   9.7             13.3   \n",
       "Mais de 1/4 a 1/2 do salario minimo         13.7              8.9   \n",
       "Mais de 1/2 a 1 salario minimo              11.0              8.7   \n",
       "Mais de 1 a 2 salarios minimos              12.3              7.9   \n",
       "Mais de 2 a 3 salarios minimos              11.6              8.1   \n",
       "Mais de 3 a 5 salarios minimos              14.9             12.7   \n",
       "Mais de 5 salarios minimos                  13.3             10.9   \n",
       "Sem instrução e fundamental incompleto      13.4              8.6   \n",
       "Fundamental completo e médio incompleto      5.4             15.6   \n",
       "Médio completo e superior incompleto        12.9              7.5   \n",
       "Superior completo                           14.2             10.2   \n",
       "\n",
       "Estado                                                 Categoria  \n",
       "Diagnostico Depressão Total                                Total  \n",
       "Masculino                                                   Sexo  \n",
       "Feminino                                                    Sexo  \n",
       "Branca                                               Cor ou Raça  \n",
       "Preta                                                Cor ou Raça  \n",
       "Parda                                                Cor ou Raça  \n",
       "Trabalhando ocupado                         Situação de trabalho  \n",
       "Trabalhando desocupado                      Situação de trabalho  \n",
       "Desempregados                               Situação de trabalho  \n",
       "18 a 19 anos                                               Idade  \n",
       "30 a 59 anos                                               Idade  \n",
       "60 a 64 anos                                               Idade  \n",
       "65 a 74 anos                                               Idade  \n",
       "75 anos ou mais                                            Idade  \n",
       "Sem rendimento e ate 1/4 do salario minimo                 Renda  \n",
       "Mais de 1/4 a 1/2 do salario minimo                        Renda  \n",
       "Mais de 1/2 a 1 salario minimo                             Renda  \n",
       "Mais de 1 a 2 salarios minimos                             Renda  \n",
       "Mais de 2 a 3 salarios minimos                             Renda  \n",
       "Mais de 3 a 5 salarios minimos                             Renda  \n",
       "Mais de 5 salarios minimos                                 Renda  \n",
       "Sem instrução e fundamental incompleto                 Instrução  \n",
       "Fundamental completo e médio incompleto                Instrução  \n",
       "Médio completo e superior incompleto                   Instrução  \n",
       "Superior completo                                      Instrução  \n",
       "\n",
       "[25 rows x 28 columns]"
      ]
     },
     "execution_count": 13,
     "metadata": {},
     "output_type": "execute_result"
    }
   ],
   "source": [
    "dados_por_estado"
   ]
  },
  {
   "cell_type": "code",
   "execution_count": 15,
   "metadata": {},
   "outputs": [],
   "source": [
    "dados_maranhao = dados_por_estado[['Maranhão','Categoria']]"
   ]
  },
  {
   "cell_type": "code",
   "execution_count": 16,
   "metadata": {},
   "outputs": [
    {
     "data": {
      "text/html": [
       "<div>\n",
       "<style scoped>\n",
       "    .dataframe tbody tr th:only-of-type {\n",
       "        vertical-align: middle;\n",
       "    }\n",
       "\n",
       "    .dataframe tbody tr th {\n",
       "        vertical-align: top;\n",
       "    }\n",
       "\n",
       "    .dataframe thead th {\n",
       "        text-align: right;\n",
       "    }\n",
       "</style>\n",
       "<table border=\"1\" class=\"dataframe\">\n",
       "  <thead>\n",
       "    <tr style=\"text-align: right;\">\n",
       "      <th>Estado</th>\n",
       "      <th>Maranhão</th>\n",
       "      <th>Categoria</th>\n",
       "    </tr>\n",
       "  </thead>\n",
       "  <tbody>\n",
       "    <tr>\n",
       "      <th>18 a 19 anos</th>\n",
       "      <td>3.1</td>\n",
       "      <td>Idade</td>\n",
       "    </tr>\n",
       "    <tr>\n",
       "      <th>30 a 59 anos</th>\n",
       "      <td>6.7</td>\n",
       "      <td>Idade</td>\n",
       "    </tr>\n",
       "    <tr>\n",
       "      <th>60 a 64 anos</th>\n",
       "      <td>3.4</td>\n",
       "      <td>Idade</td>\n",
       "    </tr>\n",
       "    <tr>\n",
       "      <th>65 a 74 anos</th>\n",
       "      <td>6.8</td>\n",
       "      <td>Idade</td>\n",
       "    </tr>\n",
       "    <tr>\n",
       "      <th>75 anos ou mais</th>\n",
       "      <td>3.6</td>\n",
       "      <td>Idade</td>\n",
       "    </tr>\n",
       "  </tbody>\n",
       "</table>\n",
       "</div>"
      ],
      "text/plain": [
       "Estado          Maranhão Categoria\n",
       "18 a 19 anos         3.1     Idade\n",
       "30 a 59 anos         6.7     Idade\n",
       "60 a 64 anos         3.4     Idade\n",
       "65 a 74 anos         6.8     Idade\n",
       "75 anos ou mais      3.6     Idade"
      ]
     },
     "execution_count": 16,
     "metadata": {},
     "output_type": "execute_result"
    }
   ],
   "source": [
    "dados_maranhao.query(\"Categoria == 'Idade'\")"
   ]
  },
  {
   "cell_type": "code",
   "execution_count": 18,
   "metadata": {},
   "outputs": [
    {
     "data": {
      "application/vnd.plotly.v1+json": {
       "config": {
        "plotlyServerURL": "https://plot.ly"
       },
       "data": [
        {
         "alignmentgroup": "True",
         "hovertemplate": "x=%{x}<br>Maranhão=%{y}<extra></extra>",
         "legendgroup": "",
         "marker": {
          "color": "#636efa",
          "pattern": {
           "shape": ""
          }
         },
         "name": "",
         "offsetgroup": "",
         "orientation": "v",
         "showlegend": false,
         "textposition": "auto",
         "type": "bar",
         "x": [
          "18 a 19 anos",
          "30 a 59 anos",
          "60 a 64 anos",
          "65 a 74 anos",
          "75 anos ou mais"
         ],
         "xaxis": "x",
         "y": [
          3.1,
          6.7,
          3.4,
          6.8,
          3.6
         ],
         "yaxis": "y"
        }
       ],
       "layout": {
        "barmode": "relative",
        "legend": {
         "tracegroupgap": 0
        },
        "margin": {
         "t": 60
        },
        "template": {
         "data": {
          "bar": [
           {
            "error_x": {
             "color": "#2a3f5f"
            },
            "error_y": {
             "color": "#2a3f5f"
            },
            "marker": {
             "line": {
              "color": "#E5ECF6",
              "width": 0.5
             },
             "pattern": {
              "fillmode": "overlay",
              "size": 10,
              "solidity": 0.2
             }
            },
            "type": "bar"
           }
          ],
          "barpolar": [
           {
            "marker": {
             "line": {
              "color": "#E5ECF6",
              "width": 0.5
             },
             "pattern": {
              "fillmode": "overlay",
              "size": 10,
              "solidity": 0.2
             }
            },
            "type": "barpolar"
           }
          ],
          "carpet": [
           {
            "aaxis": {
             "endlinecolor": "#2a3f5f",
             "gridcolor": "white",
             "linecolor": "white",
             "minorgridcolor": "white",
             "startlinecolor": "#2a3f5f"
            },
            "baxis": {
             "endlinecolor": "#2a3f5f",
             "gridcolor": "white",
             "linecolor": "white",
             "minorgridcolor": "white",
             "startlinecolor": "#2a3f5f"
            },
            "type": "carpet"
           }
          ],
          "choropleth": [
           {
            "colorbar": {
             "outlinewidth": 0,
             "ticks": ""
            },
            "type": "choropleth"
           }
          ],
          "contour": [
           {
            "colorbar": {
             "outlinewidth": 0,
             "ticks": ""
            },
            "colorscale": [
             [
              0,
              "#0d0887"
             ],
             [
              0.1111111111111111,
              "#46039f"
             ],
             [
              0.2222222222222222,
              "#7201a8"
             ],
             [
              0.3333333333333333,
              "#9c179e"
             ],
             [
              0.4444444444444444,
              "#bd3786"
             ],
             [
              0.5555555555555556,
              "#d8576b"
             ],
             [
              0.6666666666666666,
              "#ed7953"
             ],
             [
              0.7777777777777778,
              "#fb9f3a"
             ],
             [
              0.8888888888888888,
              "#fdca26"
             ],
             [
              1,
              "#f0f921"
             ]
            ],
            "type": "contour"
           }
          ],
          "contourcarpet": [
           {
            "colorbar": {
             "outlinewidth": 0,
             "ticks": ""
            },
            "type": "contourcarpet"
           }
          ],
          "heatmap": [
           {
            "colorbar": {
             "outlinewidth": 0,
             "ticks": ""
            },
            "colorscale": [
             [
              0,
              "#0d0887"
             ],
             [
              0.1111111111111111,
              "#46039f"
             ],
             [
              0.2222222222222222,
              "#7201a8"
             ],
             [
              0.3333333333333333,
              "#9c179e"
             ],
             [
              0.4444444444444444,
              "#bd3786"
             ],
             [
              0.5555555555555556,
              "#d8576b"
             ],
             [
              0.6666666666666666,
              "#ed7953"
             ],
             [
              0.7777777777777778,
              "#fb9f3a"
             ],
             [
              0.8888888888888888,
              "#fdca26"
             ],
             [
              1,
              "#f0f921"
             ]
            ],
            "type": "heatmap"
           }
          ],
          "heatmapgl": [
           {
            "colorbar": {
             "outlinewidth": 0,
             "ticks": ""
            },
            "colorscale": [
             [
              0,
              "#0d0887"
             ],
             [
              0.1111111111111111,
              "#46039f"
             ],
             [
              0.2222222222222222,
              "#7201a8"
             ],
             [
              0.3333333333333333,
              "#9c179e"
             ],
             [
              0.4444444444444444,
              "#bd3786"
             ],
             [
              0.5555555555555556,
              "#d8576b"
             ],
             [
              0.6666666666666666,
              "#ed7953"
             ],
             [
              0.7777777777777778,
              "#fb9f3a"
             ],
             [
              0.8888888888888888,
              "#fdca26"
             ],
             [
              1,
              "#f0f921"
             ]
            ],
            "type": "heatmapgl"
           }
          ],
          "histogram": [
           {
            "marker": {
             "pattern": {
              "fillmode": "overlay",
              "size": 10,
              "solidity": 0.2
             }
            },
            "type": "histogram"
           }
          ],
          "histogram2d": [
           {
            "colorbar": {
             "outlinewidth": 0,
             "ticks": ""
            },
            "colorscale": [
             [
              0,
              "#0d0887"
             ],
             [
              0.1111111111111111,
              "#46039f"
             ],
             [
              0.2222222222222222,
              "#7201a8"
             ],
             [
              0.3333333333333333,
              "#9c179e"
             ],
             [
              0.4444444444444444,
              "#bd3786"
             ],
             [
              0.5555555555555556,
              "#d8576b"
             ],
             [
              0.6666666666666666,
              "#ed7953"
             ],
             [
              0.7777777777777778,
              "#fb9f3a"
             ],
             [
              0.8888888888888888,
              "#fdca26"
             ],
             [
              1,
              "#f0f921"
             ]
            ],
            "type": "histogram2d"
           }
          ],
          "histogram2dcontour": [
           {
            "colorbar": {
             "outlinewidth": 0,
             "ticks": ""
            },
            "colorscale": [
             [
              0,
              "#0d0887"
             ],
             [
              0.1111111111111111,
              "#46039f"
             ],
             [
              0.2222222222222222,
              "#7201a8"
             ],
             [
              0.3333333333333333,
              "#9c179e"
             ],
             [
              0.4444444444444444,
              "#bd3786"
             ],
             [
              0.5555555555555556,
              "#d8576b"
             ],
             [
              0.6666666666666666,
              "#ed7953"
             ],
             [
              0.7777777777777778,
              "#fb9f3a"
             ],
             [
              0.8888888888888888,
              "#fdca26"
             ],
             [
              1,
              "#f0f921"
             ]
            ],
            "type": "histogram2dcontour"
           }
          ],
          "mesh3d": [
           {
            "colorbar": {
             "outlinewidth": 0,
             "ticks": ""
            },
            "type": "mesh3d"
           }
          ],
          "parcoords": [
           {
            "line": {
             "colorbar": {
              "outlinewidth": 0,
              "ticks": ""
             }
            },
            "type": "parcoords"
           }
          ],
          "pie": [
           {
            "automargin": true,
            "type": "pie"
           }
          ],
          "scatter": [
           {
            "marker": {
             "colorbar": {
              "outlinewidth": 0,
              "ticks": ""
             }
            },
            "type": "scatter"
           }
          ],
          "scatter3d": [
           {
            "line": {
             "colorbar": {
              "outlinewidth": 0,
              "ticks": ""
             }
            },
            "marker": {
             "colorbar": {
              "outlinewidth": 0,
              "ticks": ""
             }
            },
            "type": "scatter3d"
           }
          ],
          "scattercarpet": [
           {
            "marker": {
             "colorbar": {
              "outlinewidth": 0,
              "ticks": ""
             }
            },
            "type": "scattercarpet"
           }
          ],
          "scattergeo": [
           {
            "marker": {
             "colorbar": {
              "outlinewidth": 0,
              "ticks": ""
             }
            },
            "type": "scattergeo"
           }
          ],
          "scattergl": [
           {
            "marker": {
             "colorbar": {
              "outlinewidth": 0,
              "ticks": ""
             }
            },
            "type": "scattergl"
           }
          ],
          "scattermapbox": [
           {
            "marker": {
             "colorbar": {
              "outlinewidth": 0,
              "ticks": ""
             }
            },
            "type": "scattermapbox"
           }
          ],
          "scatterpolar": [
           {
            "marker": {
             "colorbar": {
              "outlinewidth": 0,
              "ticks": ""
             }
            },
            "type": "scatterpolar"
           }
          ],
          "scatterpolargl": [
           {
            "marker": {
             "colorbar": {
              "outlinewidth": 0,
              "ticks": ""
             }
            },
            "type": "scatterpolargl"
           }
          ],
          "scatterternary": [
           {
            "marker": {
             "colorbar": {
              "outlinewidth": 0,
              "ticks": ""
             }
            },
            "type": "scatterternary"
           }
          ],
          "surface": [
           {
            "colorbar": {
             "outlinewidth": 0,
             "ticks": ""
            },
            "colorscale": [
             [
              0,
              "#0d0887"
             ],
             [
              0.1111111111111111,
              "#46039f"
             ],
             [
              0.2222222222222222,
              "#7201a8"
             ],
             [
              0.3333333333333333,
              "#9c179e"
             ],
             [
              0.4444444444444444,
              "#bd3786"
             ],
             [
              0.5555555555555556,
              "#d8576b"
             ],
             [
              0.6666666666666666,
              "#ed7953"
             ],
             [
              0.7777777777777778,
              "#fb9f3a"
             ],
             [
              0.8888888888888888,
              "#fdca26"
             ],
             [
              1,
              "#f0f921"
             ]
            ],
            "type": "surface"
           }
          ],
          "table": [
           {
            "cells": {
             "fill": {
              "color": "#EBF0F8"
             },
             "line": {
              "color": "white"
             }
            },
            "header": {
             "fill": {
              "color": "#C8D4E3"
             },
             "line": {
              "color": "white"
             }
            },
            "type": "table"
           }
          ]
         },
         "layout": {
          "annotationdefaults": {
           "arrowcolor": "#2a3f5f",
           "arrowhead": 0,
           "arrowwidth": 1
          },
          "autotypenumbers": "strict",
          "coloraxis": {
           "colorbar": {
            "outlinewidth": 0,
            "ticks": ""
           }
          },
          "colorscale": {
           "diverging": [
            [
             0,
             "#8e0152"
            ],
            [
             0.1,
             "#c51b7d"
            ],
            [
             0.2,
             "#de77ae"
            ],
            [
             0.3,
             "#f1b6da"
            ],
            [
             0.4,
             "#fde0ef"
            ],
            [
             0.5,
             "#f7f7f7"
            ],
            [
             0.6,
             "#e6f5d0"
            ],
            [
             0.7,
             "#b8e186"
            ],
            [
             0.8,
             "#7fbc41"
            ],
            [
             0.9,
             "#4d9221"
            ],
            [
             1,
             "#276419"
            ]
           ],
           "sequential": [
            [
             0,
             "#0d0887"
            ],
            [
             0.1111111111111111,
             "#46039f"
            ],
            [
             0.2222222222222222,
             "#7201a8"
            ],
            [
             0.3333333333333333,
             "#9c179e"
            ],
            [
             0.4444444444444444,
             "#bd3786"
            ],
            [
             0.5555555555555556,
             "#d8576b"
            ],
            [
             0.6666666666666666,
             "#ed7953"
            ],
            [
             0.7777777777777778,
             "#fb9f3a"
            ],
            [
             0.8888888888888888,
             "#fdca26"
            ],
            [
             1,
             "#f0f921"
            ]
           ],
           "sequentialminus": [
            [
             0,
             "#0d0887"
            ],
            [
             0.1111111111111111,
             "#46039f"
            ],
            [
             0.2222222222222222,
             "#7201a8"
            ],
            [
             0.3333333333333333,
             "#9c179e"
            ],
            [
             0.4444444444444444,
             "#bd3786"
            ],
            [
             0.5555555555555556,
             "#d8576b"
            ],
            [
             0.6666666666666666,
             "#ed7953"
            ],
            [
             0.7777777777777778,
             "#fb9f3a"
            ],
            [
             0.8888888888888888,
             "#fdca26"
            ],
            [
             1,
             "#f0f921"
            ]
           ]
          },
          "colorway": [
           "#636efa",
           "#EF553B",
           "#00cc96",
           "#ab63fa",
           "#FFA15A",
           "#19d3f3",
           "#FF6692",
           "#B6E880",
           "#FF97FF",
           "#FECB52"
          ],
          "font": {
           "color": "#2a3f5f"
          },
          "geo": {
           "bgcolor": "white",
           "lakecolor": "white",
           "landcolor": "#E5ECF6",
           "showlakes": true,
           "showland": true,
           "subunitcolor": "white"
          },
          "hoverlabel": {
           "align": "left"
          },
          "hovermode": "closest",
          "mapbox": {
           "style": "light"
          },
          "paper_bgcolor": "white",
          "plot_bgcolor": "#E5ECF6",
          "polar": {
           "angularaxis": {
            "gridcolor": "white",
            "linecolor": "white",
            "ticks": ""
           },
           "bgcolor": "#E5ECF6",
           "radialaxis": {
            "gridcolor": "white",
            "linecolor": "white",
            "ticks": ""
           }
          },
          "scene": {
           "xaxis": {
            "backgroundcolor": "#E5ECF6",
            "gridcolor": "white",
            "gridwidth": 2,
            "linecolor": "white",
            "showbackground": true,
            "ticks": "",
            "zerolinecolor": "white"
           },
           "yaxis": {
            "backgroundcolor": "#E5ECF6",
            "gridcolor": "white",
            "gridwidth": 2,
            "linecolor": "white",
            "showbackground": true,
            "ticks": "",
            "zerolinecolor": "white"
           },
           "zaxis": {
            "backgroundcolor": "#E5ECF6",
            "gridcolor": "white",
            "gridwidth": 2,
            "linecolor": "white",
            "showbackground": true,
            "ticks": "",
            "zerolinecolor": "white"
           }
          },
          "shapedefaults": {
           "line": {
            "color": "#2a3f5f"
           }
          },
          "ternary": {
           "aaxis": {
            "gridcolor": "white",
            "linecolor": "white",
            "ticks": ""
           },
           "baxis": {
            "gridcolor": "white",
            "linecolor": "white",
            "ticks": ""
           },
           "bgcolor": "#E5ECF6",
           "caxis": {
            "gridcolor": "white",
            "linecolor": "white",
            "ticks": ""
           }
          },
          "title": {
           "x": 0.05
          },
          "xaxis": {
           "automargin": true,
           "gridcolor": "white",
           "linecolor": "white",
           "ticks": "",
           "title": {
            "standoff": 15
           },
           "zerolinecolor": "white",
           "zerolinewidth": 2
          },
          "yaxis": {
           "automargin": true,
           "gridcolor": "white",
           "linecolor": "white",
           "ticks": "",
           "title": {
            "standoff": 15
           },
           "zerolinecolor": "white",
           "zerolinewidth": 2
          }
         }
        },
        "xaxis": {
         "anchor": "y",
         "domain": [
          0,
          1
         ],
         "title": {
          "text": "x"
         }
        },
        "yaxis": {
         "anchor": "x",
         "domain": [
          0,
          1
         ],
         "title": {
          "text": "Maranhão"
         }
        }
       }
      }
     },
     "metadata": {},
     "output_type": "display_data"
    }
   ],
   "source": [
    "fig = px.bar(dados_maranhao.query(\"Categoria == 'Idade'\"), x=dados_maranhao.query(\"Categoria == 'Idade'\").index, y='Maranhão')\n",
    "fig.show()"
   ]
  },
  {
   "cell_type": "code",
   "execution_count": null,
   "metadata": {},
   "outputs": [],
   "source": []
  }
 ],
 "metadata": {
  "interpreter": {
   "hash": "1baa965d5efe3ac65b79dfc60c0d706280b1da80fedb7760faf2759126c4f253"
  },
  "kernelspec": {
   "display_name": "Python 3.8.5 64-bit",
   "language": "python",
   "name": "python3"
  },
  "language_info": {
   "codemirror_mode": {
    "name": "ipython",
    "version": 3
   },
   "file_extension": ".py",
   "mimetype": "text/x-python",
   "name": "python",
   "nbconvert_exporter": "python",
   "pygments_lexer": "ipython3",
   "version": "3.8.8"
  },
  "orig_nbformat": 4
 },
 "nbformat": 4,
 "nbformat_minor": 2
}

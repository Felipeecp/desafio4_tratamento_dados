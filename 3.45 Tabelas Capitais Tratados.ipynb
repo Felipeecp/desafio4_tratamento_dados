{
 "cells": [
  {
   "cell_type": "code",
   "execution_count": 1,
   "id": "87784824",
   "metadata": {},
   "outputs": [],
   "source": [
    "import pandas as pd\n",
    "%matplotlib inline\n",
    "import matplotlib.pyplot as plt\n",
    "import numpy as np\n",
    "import plotly.express as px\n",
    "import plotly.graph_objects as go"
   ]
  },
  {
   "cell_type": "code",
   "execution_count": 2,
   "id": "6c89cfb0",
   "metadata": {},
   "outputs": [],
   "source": [
    "def tratamento_dataset(dataset,colunas_remocao,nomes_colunas): \n",
    "    dataset.dropna(inplace=True)\n",
    "    dataset.drop(columns=dataset.columns[colunas_remocao],inplace=True)\n",
    "\n",
    "    dataset.columns = nomes_colunas\n",
    "\n",
    "    dataset.drop(dataset.iloc[0:1].index,inplace=True)\n",
    "    selecao = (dataset['Cidade'] == 'Norte (1)') | (dataset['Cidade'] == 'Nordeste (1)') | (dataset['Cidade'] == 'Sudeste (1)') | (dataset['Cidade'] == 'Centro-Oeste (1)') | (dataset['Cidade'] == 'Sul (1)')\n",
    "    dataset.drop(dataset[selecao].index,inplace=True)\n",
    "    dataset.reset_index(drop=True,inplace=True)\n",
    "\n",
    "    dataset.loc[0:7, 'Região'] = 'Norte'\n",
    "    dataset.loc[7:16, 'Região'] = 'Nordeste'\n",
    "    dataset.loc[16:20, 'Região'] = 'Sudeste'\n",
    "    dataset.loc[20:23, 'Região'] = 'Sul'\n",
    "    dataset.loc[23:, 'Região'] = 'Centro-Oeste'\n",
    "\n",
    "    return dataset\n"
   ]
  },
  {
   "cell_type": "markdown",
   "id": "b27fef54",
   "metadata": {},
   "source": [
    "# Sexo que usaram medicamento para depressão"
   ]
  },
  {
   "cell_type": "code",
   "execution_count": 33,
   "id": "9b19d763",
   "metadata": {},
   "outputs": [
    {
     "data": {
      "text/html": [
       "<div>\n",
       "<style scoped>\n",
       "    .dataframe tbody tr th:only-of-type {\n",
       "        vertical-align: middle;\n",
       "    }\n",
       "\n",
       "    .dataframe tbody tr th {\n",
       "        vertical-align: top;\n",
       "    }\n",
       "\n",
       "    .dataframe thead th {\n",
       "        text-align: right;\n",
       "    }\n",
       "</style>\n",
       "<table border=\"1\" class=\"dataframe\">\n",
       "  <thead>\n",
       "    <tr style=\"text-align: right;\">\n",
       "      <th></th>\n",
       "      <th>Cidade</th>\n",
       "      <th>Diagnostico Depressão Total e que usaram Medicamento</th>\n",
       "      <th>Masculino</th>\n",
       "      <th>Feminino</th>\n",
       "      <th>Região</th>\n",
       "    </tr>\n",
       "  </thead>\n",
       "  <tbody>\n",
       "    <tr>\n",
       "      <th>11</th>\n",
       "      <td>João Pessoa</td>\n",
       "      <td>52.4</td>\n",
       "      <td>50.5</td>\n",
       "      <td>53.1</td>\n",
       "      <td>Nordeste</td>\n",
       "    </tr>\n",
       "    <tr>\n",
       "      <th>8</th>\n",
       "      <td>Teresina</td>\n",
       "      <td>48.3</td>\n",
       "      <td>39.3</td>\n",
       "      <td>51.6</td>\n",
       "      <td>Nordeste</td>\n",
       "    </tr>\n",
       "    <tr>\n",
       "      <th>25</th>\n",
       "      <td>Goiânia</td>\n",
       "      <td>47.8</td>\n",
       "      <td>37.2</td>\n",
       "      <td>50.5</td>\n",
       "      <td>Centro-Oeste</td>\n",
       "    </tr>\n",
       "    <tr>\n",
       "      <th>19</th>\n",
       "      <td>São Paulo</td>\n",
       "      <td>49.9</td>\n",
       "      <td>50.8</td>\n",
       "      <td>49.7</td>\n",
       "      <td>Sudeste</td>\n",
       "    </tr>\n",
       "    <tr>\n",
       "      <th>2</th>\n",
       "      <td>Manaus</td>\n",
       "      <td>30.9</td>\n",
       "      <td>26.1</td>\n",
       "      <td>34.1</td>\n",
       "      <td>Norte</td>\n",
       "    </tr>\n",
       "  </tbody>\n",
       "</table>\n",
       "</div>"
      ],
      "text/plain": [
       "         Cidade Diagnostico Depressão Total e que usaram Medicamento  \\\n",
       "11  João Pessoa                                               52.4     \n",
       "8      Teresina                                               48.3     \n",
       "25      Goiânia                                               47.8     \n",
       "19    São Paulo                                               49.9     \n",
       "2        Manaus                                               30.9     \n",
       "\n",
       "   Masculino Feminino        Região  \n",
       "11      50.5     53.1      Nordeste  \n",
       "8       39.3     51.6      Nordeste  \n",
       "25      37.2     50.5  Centro-Oeste  \n",
       "19      50.8     49.7       Sudeste  \n",
       "2       26.1     34.1         Norte  "
      ]
     },
     "execution_count": 33,
     "metadata": {},
     "output_type": "execute_result"
    }
   ],
   "source": [
    "tab_sexo_cidade = pd.read_excel('dados_depressao/3.45.xls',sheet_name='sexo (cap)')\n",
    "colunas_remocao = [2,3,5,6,8,9]\n",
    "nomes_colunas = ['Cidade','Diagnostico Depressão Total e que usaram Medicamento', 'Masculino', 'Feminino']\n",
    "\n",
    "tab_sexo_cidade = tratamento_dataset(tab_sexo_cidade,colunas_remocao,nomes_colunas)\n",
    "tab_sexo_cidade.sample(5)"
   ]
  },
  {
   "cell_type": "markdown",
   "id": "9bc0b22f",
   "metadata": {},
   "source": [
    "# Rendimento que usaram medicamento para depressão"
   ]
  },
  {
   "cell_type": "code",
   "execution_count": 8,
   "id": "3fdc9af2",
   "metadata": {},
   "outputs": [
    {
     "data": {
      "text/html": [
       "<div>\n",
       "<style scoped>\n",
       "    .dataframe tbody tr th:only-of-type {\n",
       "        vertical-align: middle;\n",
       "    }\n",
       "\n",
       "    .dataframe tbody tr th {\n",
       "        vertical-align: top;\n",
       "    }\n",
       "\n",
       "    .dataframe thead th {\n",
       "        text-align: right;\n",
       "    }\n",
       "</style>\n",
       "<table border=\"1\" class=\"dataframe\">\n",
       "  <thead>\n",
       "    <tr style=\"text-align: right;\">\n",
       "      <th></th>\n",
       "      <th>Cidade</th>\n",
       "      <th>Total</th>\n",
       "      <th>Sem rendimento e ate 1/4 do salario minimo</th>\n",
       "      <th>Mais de 1/4 a 1/2 do salario minimo</th>\n",
       "      <th>Mais de 1/2 a 1 salario minimo</th>\n",
       "      <th>Mais de 1 a 2 salarios minimos</th>\n",
       "      <th>Mais de 2 a 3 salarios minimos</th>\n",
       "      <th>Mais de 3 a 5 salarios minimos</th>\n",
       "      <th>Mais de 5 salarios minimos</th>\n",
       "      <th>Região</th>\n",
       "    </tr>\n",
       "  </thead>\n",
       "  <tbody>\n",
       "    <tr>\n",
       "      <th>18</th>\n",
       "      <td>Rio de Janeiro</td>\n",
       "      <td>45.6</td>\n",
       "      <td>0</td>\n",
       "      <td>58.6</td>\n",
       "      <td>42.5</td>\n",
       "      <td>42</td>\n",
       "      <td>25.8</td>\n",
       "      <td>52.9</td>\n",
       "      <td>63.9</td>\n",
       "      <td>Sudeste</td>\n",
       "    </tr>\n",
       "    <tr>\n",
       "      <th>12</th>\n",
       "      <td>Recife</td>\n",
       "      <td>55.2</td>\n",
       "      <td>32.2</td>\n",
       "      <td>43.1</td>\n",
       "      <td>51.6</td>\n",
       "      <td>64.4</td>\n",
       "      <td>85.6</td>\n",
       "      <td>51.6</td>\n",
       "      <td>63.9</td>\n",
       "      <td>Nordeste</td>\n",
       "    </tr>\n",
       "    <tr>\n",
       "      <th>13</th>\n",
       "      <td>Maceió</td>\n",
       "      <td>47.3</td>\n",
       "      <td>51.3</td>\n",
       "      <td>63.8</td>\n",
       "      <td>44</td>\n",
       "      <td>45.9</td>\n",
       "      <td>31</td>\n",
       "      <td>46.1</td>\n",
       "      <td>57.6</td>\n",
       "      <td>Nordeste</td>\n",
       "    </tr>\n",
       "    <tr>\n",
       "      <th>2</th>\n",
       "      <td>Manaus</td>\n",
       "      <td>30.9</td>\n",
       "      <td>16.9</td>\n",
       "      <td>24.7</td>\n",
       "      <td>59.6</td>\n",
       "      <td>28.8</td>\n",
       "      <td>3.9</td>\n",
       "      <td>34.1</td>\n",
       "      <td>36.3</td>\n",
       "      <td>Norte</td>\n",
       "    </tr>\n",
       "    <tr>\n",
       "      <th>25</th>\n",
       "      <td>Goiânia</td>\n",
       "      <td>47.8</td>\n",
       "      <td>100</td>\n",
       "      <td>60.1</td>\n",
       "      <td>54.9</td>\n",
       "      <td>39.8</td>\n",
       "      <td>74.7</td>\n",
       "      <td>52.1</td>\n",
       "      <td>10.5</td>\n",
       "      <td>Centro-Oeste</td>\n",
       "    </tr>\n",
       "  </tbody>\n",
       "</table>\n",
       "</div>"
      ],
      "text/plain": [
       "            Cidade Total Sem rendimento e ate 1/4 do salario minimo  \\\n",
       "18  Rio de Janeiro  45.6                                          0   \n",
       "12          Recife  55.2                                       32.2   \n",
       "13          Maceió  47.3                                       51.3   \n",
       "2           Manaus  30.9                                       16.9   \n",
       "25         Goiânia  47.8                                        100   \n",
       "\n",
       "   Mais de 1/4 a 1/2 do salario minimo Mais de 1/2 a 1 salario minimo  \\\n",
       "18                                58.6                           42.5   \n",
       "12                                43.1                           51.6   \n",
       "13                                63.8                             44   \n",
       "2                                 24.7                           59.6   \n",
       "25                                60.1                           54.9   \n",
       "\n",
       "   Mais de 1 a 2 salarios minimos Mais de 2 a 3 salarios minimos  \\\n",
       "18                             42                           25.8   \n",
       "12                           64.4                           85.6   \n",
       "13                           45.9                             31   \n",
       "2                            28.8                            3.9   \n",
       "25                           39.8                           74.7   \n",
       "\n",
       "   Mais de 3 a 5 salarios minimos Mais de 5 salarios minimos        Região  \n",
       "18                           52.9                       63.9       Sudeste  \n",
       "12                           51.6                       63.9      Nordeste  \n",
       "13                           46.1                       57.6      Nordeste  \n",
       "2                            34.1                       36.3         Norte  \n",
       "25                           52.1                       10.5  Centro-Oeste  "
      ]
     },
     "execution_count": 8,
     "metadata": {},
     "output_type": "execute_result"
    }
   ],
   "source": [
    "tab_rendimento_cidade = pd.read_excel('dados_depressao/3.45.xls',sheet_name='rendimento (cap)')\n",
    "colunas_remocao = [2,3,5,6,8,9,11,12,13,15,16,18,19,21,22,24,25]\n",
    "nomes_colunas = ['Cidade','Total','Sem rendimento e ate 1/4 do salario minimo','Mais de 1/4 a 1/2 do salario minimo',\n",
    "'Mais de 1/2 a 1 salario minimo','Mais de 1 a 2 salarios minimos', 'Mais de 2 a 3 salarios minimos',\n",
    "'Mais de 3 a 5 salarios minimos', 'Mais de 5 salarios minimos']\n",
    "\n",
    "tab_rendimento_cidade = tratamento_dataset(tab_rendimento_cidade,colunas_remocao,nomes_colunas)\n",
    "tab_rendimento_cidade.sample(5)"
   ]
  },
  {
   "cell_type": "markdown",
   "id": "614bf101",
   "metadata": {},
   "source": [
    "# Posição que Ocupa que usaram medicamento para depressão"
   ]
  },
  {
   "cell_type": "code",
   "execution_count": 7,
   "id": "f0bbdd2e",
   "metadata": {},
   "outputs": [
    {
     "data": {
      "text/html": [
       "<div>\n",
       "<style scoped>\n",
       "    .dataframe tbody tr th:only-of-type {\n",
       "        vertical-align: middle;\n",
       "    }\n",
       "\n",
       "    .dataframe tbody tr th {\n",
       "        vertical-align: top;\n",
       "    }\n",
       "\n",
       "    .dataframe thead th {\n",
       "        text-align: right;\n",
       "    }\n",
       "</style>\n",
       "<table border=\"1\" class=\"dataframe\">\n",
       "  <thead>\n",
       "    <tr style=\"text-align: right;\">\n",
       "      <th></th>\n",
       "      <th>Cidade</th>\n",
       "      <th>Total</th>\n",
       "      <th>Trabalhando ocupado</th>\n",
       "      <th>Trabalhando desocupado</th>\n",
       "      <th>Desempregados</th>\n",
       "      <th>Região</th>\n",
       "    </tr>\n",
       "  </thead>\n",
       "  <tbody>\n",
       "    <tr>\n",
       "      <th>26</th>\n",
       "      <td>Brasília</td>\n",
       "      <td>44.9</td>\n",
       "      <td>39</td>\n",
       "      <td>34</td>\n",
       "      <td>58.5</td>\n",
       "      <td>Centro-Oeste</td>\n",
       "    </tr>\n",
       "    <tr>\n",
       "      <th>16</th>\n",
       "      <td>Belo Horizonte</td>\n",
       "      <td>49.1</td>\n",
       "      <td>38.2</td>\n",
       "      <td>44.4</td>\n",
       "      <td>66.8</td>\n",
       "      <td>Sudeste</td>\n",
       "    </tr>\n",
       "    <tr>\n",
       "      <th>5</th>\n",
       "      <td>Macapá</td>\n",
       "      <td>13.7</td>\n",
       "      <td>12.1</td>\n",
       "      <td>0</td>\n",
       "      <td>24</td>\n",
       "      <td>Norte</td>\n",
       "    </tr>\n",
       "    <tr>\n",
       "      <th>4</th>\n",
       "      <td>Belém</td>\n",
       "      <td>30.7</td>\n",
       "      <td>36.8</td>\n",
       "      <td>67.8</td>\n",
       "      <td>14.4</td>\n",
       "      <td>Norte</td>\n",
       "    </tr>\n",
       "    <tr>\n",
       "      <th>22</th>\n",
       "      <td>Porto Alegre</td>\n",
       "      <td>46.1</td>\n",
       "      <td>37.7</td>\n",
       "      <td>28.4</td>\n",
       "      <td>60.3</td>\n",
       "      <td>Sul</td>\n",
       "    </tr>\n",
       "  </tbody>\n",
       "</table>\n",
       "</div>"
      ],
      "text/plain": [
       "            Cidade Total Trabalhando ocupado Trabalhando desocupado  \\\n",
       "26        Brasília  44.9                  39                     34   \n",
       "16  Belo Horizonte  49.1                38.2                   44.4   \n",
       "5           Macapá  13.7                12.1                      0   \n",
       "4            Belém  30.7                36.8                   67.8   \n",
       "22    Porto Alegre  46.1                37.7                   28.4   \n",
       "\n",
       "   Desempregados        Região  \n",
       "26          58.5  Centro-Oeste  \n",
       "16          66.8       Sudeste  \n",
       "5             24         Norte  \n",
       "4           14.4         Norte  \n",
       "22          60.3           Sul  "
      ]
     },
     "execution_count": 7,
     "metadata": {},
     "output_type": "execute_result"
    }
   ],
   "source": [
    "tab_posOcup_cidade = pd.read_excel('dados_depressao/3.45.xls',sheet_name='pos ocup (cap)')\n",
    "colunas_remocao = [2,3,5,6,8,9,11,12]\n",
    "nomes_colunas = ['Cidade','Total','Trabalhando ocupado','Trabalhando desocupado','Desempregados']\n",
    "\n",
    "tab_posOcup_cidade = tratamento_dataset(tab_posOcup_cidade,colunas_remocao,nomes_colunas)\n",
    "tab_posOcup_cidade.sample(5)"
   ]
  },
  {
   "cell_type": "markdown",
   "id": "a33e1040",
   "metadata": {},
   "source": [
    "# Nível de Instrucao que usaram medicamento para depressão"
   ]
  },
  {
   "cell_type": "code",
   "execution_count": 11,
   "id": "6e84c57f",
   "metadata": {},
   "outputs": [
    {
     "data": {
      "text/html": [
       "<div>\n",
       "<style scoped>\n",
       "    .dataframe tbody tr th:only-of-type {\n",
       "        vertical-align: middle;\n",
       "    }\n",
       "\n",
       "    .dataframe tbody tr th {\n",
       "        vertical-align: top;\n",
       "    }\n",
       "\n",
       "    .dataframe thead th {\n",
       "        text-align: right;\n",
       "    }\n",
       "</style>\n",
       "<table border=\"1\" class=\"dataframe\">\n",
       "  <thead>\n",
       "    <tr style=\"text-align: right;\">\n",
       "      <th></th>\n",
       "      <th>Cidade</th>\n",
       "      <th>Total</th>\n",
       "      <th>Sem instrução e fundamental incompleto</th>\n",
       "      <th>Fundamental completo e médio incompleto</th>\n",
       "      <th>Médio completo e superior incompleto</th>\n",
       "      <th>Superior completo</th>\n",
       "      <th>Região</th>\n",
       "    </tr>\n",
       "  </thead>\n",
       "  <tbody>\n",
       "    <tr>\n",
       "      <th>0</th>\n",
       "      <td>Porto Velho</td>\n",
       "      <td>36.5</td>\n",
       "      <td>48.4</td>\n",
       "      <td>48.7</td>\n",
       "      <td>26.9</td>\n",
       "      <td>33.5</td>\n",
       "      <td>Norte</td>\n",
       "    </tr>\n",
       "    <tr>\n",
       "      <th>7</th>\n",
       "      <td>São Luís</td>\n",
       "      <td>27.8</td>\n",
       "      <td>16.1</td>\n",
       "      <td>21.4</td>\n",
       "      <td>46.9</td>\n",
       "      <td>15.6</td>\n",
       "      <td>Nordeste</td>\n",
       "    </tr>\n",
       "    <tr>\n",
       "      <th>25</th>\n",
       "      <td>Goiânia</td>\n",
       "      <td>47.8</td>\n",
       "      <td>62.2</td>\n",
       "      <td>64.3</td>\n",
       "      <td>43</td>\n",
       "      <td>32.3</td>\n",
       "      <td>Centro-Oeste</td>\n",
       "    </tr>\n",
       "    <tr>\n",
       "      <th>16</th>\n",
       "      <td>Belo Horizonte</td>\n",
       "      <td>49.1</td>\n",
       "      <td>50.6</td>\n",
       "      <td>50.8</td>\n",
       "      <td>50.3</td>\n",
       "      <td>45.7</td>\n",
       "      <td>Sudeste</td>\n",
       "    </tr>\n",
       "    <tr>\n",
       "      <th>21</th>\n",
       "      <td>Florianópolis</td>\n",
       "      <td>39.4</td>\n",
       "      <td>28.5</td>\n",
       "      <td>62.5</td>\n",
       "      <td>35.7</td>\n",
       "      <td>45.3</td>\n",
       "      <td>Sul</td>\n",
       "    </tr>\n",
       "  </tbody>\n",
       "</table>\n",
       "</div>"
      ],
      "text/plain": [
       "            Cidade Total Sem instrução e fundamental incompleto  \\\n",
       "0      Porto Velho  36.5                                   48.4   \n",
       "7         São Luís  27.8                                   16.1   \n",
       "25         Goiânia  47.8                                   62.2   \n",
       "16  Belo Horizonte  49.1                                   50.6   \n",
       "21   Florianópolis  39.4                                   28.5   \n",
       "\n",
       "   Fundamental completo e médio incompleto  \\\n",
       "0                                     48.7   \n",
       "7                                     21.4   \n",
       "25                                    64.3   \n",
       "16                                    50.8   \n",
       "21                                    62.5   \n",
       "\n",
       "   Médio completo e superior incompleto Superior completo        Região  \n",
       "0                                  26.9              33.5         Norte  \n",
       "7                                  46.9              15.6      Nordeste  \n",
       "25                                   43              32.3  Centro-Oeste  \n",
       "16                                 50.3              45.7       Sudeste  \n",
       "21                                 35.7              45.3           Sul  "
      ]
     },
     "execution_count": 11,
     "metadata": {},
     "output_type": "execute_result"
    }
   ],
   "source": [
    "tab_instrucao_cidade = pd.read_excel('dados_depressao/3.45.xls',sheet_name='nivel_de_instrucao (cap)')\n",
    "colunas_remocao = [2,3,5,6,8,9,11,12,14,15]\n",
    "nomes_colunas = ['Cidade','Total','Sem instrução e fundamental incompleto','Fundamental completo e médio incompleto',\n",
    "'Médio completo e superior incompleto', 'Superior completo']\n",
    "\n",
    "tab_instrucao_cidade = tratamento_dataset(tab_instrucao_cidade,colunas_remocao,nomes_colunas)\n",
    "tab_instrucao_cidade.sample(5)"
   ]
  },
  {
   "cell_type": "markdown",
   "id": "2641fad4",
   "metadata": {},
   "source": [
    "# Grupo de Idade que usaram medicamento para depressão"
   ]
  },
  {
   "cell_type": "code",
   "execution_count": 12,
   "id": "a31b2207",
   "metadata": {},
   "outputs": [
    {
     "data": {
      "text/html": [
       "<div>\n",
       "<style scoped>\n",
       "    .dataframe tbody tr th:only-of-type {\n",
       "        vertical-align: middle;\n",
       "    }\n",
       "\n",
       "    .dataframe tbody tr th {\n",
       "        vertical-align: top;\n",
       "    }\n",
       "\n",
       "    .dataframe thead th {\n",
       "        text-align: right;\n",
       "    }\n",
       "</style>\n",
       "<table border=\"1\" class=\"dataframe\">\n",
       "  <thead>\n",
       "    <tr style=\"text-align: right;\">\n",
       "      <th></th>\n",
       "      <th>Cidade</th>\n",
       "      <th>Total</th>\n",
       "      <th>18 a 19 anos</th>\n",
       "      <th>30 a 59 anos</th>\n",
       "      <th>60 a 64 anos</th>\n",
       "      <th>65 a 74 anos</th>\n",
       "      <th>75 anos ou mais</th>\n",
       "      <th>Região</th>\n",
       "    </tr>\n",
       "  </thead>\n",
       "  <tbody>\n",
       "    <tr>\n",
       "      <th>4</th>\n",
       "      <td>Belém</td>\n",
       "      <td>30.7</td>\n",
       "      <td>0</td>\n",
       "      <td>26.2</td>\n",
       "      <td>0</td>\n",
       "      <td>70.5</td>\n",
       "      <td>42.2</td>\n",
       "      <td>Norte</td>\n",
       "    </tr>\n",
       "    <tr>\n",
       "      <th>24</th>\n",
       "      <td>Cuiabá</td>\n",
       "      <td>48.6</td>\n",
       "      <td>49.4</td>\n",
       "      <td>42.9</td>\n",
       "      <td>37.2</td>\n",
       "      <td>75.1</td>\n",
       "      <td>100</td>\n",
       "      <td>Centro-Oeste</td>\n",
       "    </tr>\n",
       "    <tr>\n",
       "      <th>12</th>\n",
       "      <td>Recife</td>\n",
       "      <td>55.2</td>\n",
       "      <td>26.5</td>\n",
       "      <td>54.4</td>\n",
       "      <td>70.6</td>\n",
       "      <td>48.8</td>\n",
       "      <td>83.1</td>\n",
       "      <td>Nordeste</td>\n",
       "    </tr>\n",
       "    <tr>\n",
       "      <th>15</th>\n",
       "      <td>Salvador</td>\n",
       "      <td>40.4</td>\n",
       "      <td>32.7</td>\n",
       "      <td>45.2</td>\n",
       "      <td>24.2</td>\n",
       "      <td>32.5</td>\n",
       "      <td>69.7</td>\n",
       "      <td>Nordeste</td>\n",
       "    </tr>\n",
       "    <tr>\n",
       "      <th>22</th>\n",
       "      <td>Porto Alegre</td>\n",
       "      <td>46.1</td>\n",
       "      <td>20.4</td>\n",
       "      <td>40.2</td>\n",
       "      <td>73.8</td>\n",
       "      <td>55.7</td>\n",
       "      <td>73.5</td>\n",
       "      <td>Sul</td>\n",
       "    </tr>\n",
       "  </tbody>\n",
       "</table>\n",
       "</div>"
      ],
      "text/plain": [
       "          Cidade Total 18 a 19 anos 30 a 59 anos 60 a 64 anos 65 a 74 anos  \\\n",
       "4          Belém  30.7            0         26.2            0         70.5   \n",
       "24        Cuiabá  48.6         49.4         42.9         37.2         75.1   \n",
       "12        Recife  55.2         26.5         54.4         70.6         48.8   \n",
       "15      Salvador  40.4         32.7         45.2         24.2         32.5   \n",
       "22  Porto Alegre  46.1         20.4         40.2         73.8         55.7   \n",
       "\n",
       "   75 anos ou mais        Região  \n",
       "4             42.2         Norte  \n",
       "24             100  Centro-Oeste  \n",
       "12            83.1      Nordeste  \n",
       "15            69.7      Nordeste  \n",
       "22            73.5           Sul  "
      ]
     },
     "execution_count": 12,
     "metadata": {},
     "output_type": "execute_result"
    }
   ],
   "source": [
    "tab_idade_cidade = pd.read_excel('dados_depressao/3.45.xls',sheet_name='grupos_de_idade (cap)')\n",
    "colunas_remocao = [2,3,5,6,8,9,10,12,13,15,16,18,19]\n",
    "nomes_colunas = ['Cidade','Total','18 a 19 anos','30 a 59 anos','60 a 64 anos','65 a 74 anos','75 anos ou mais']\n",
    "\n",
    "tab_idade_cidade = tratamento_dataset(tab_idade_cidade,colunas_remocao,nomes_colunas)\n",
    "tab_idade_cidade.sample(5)"
   ]
  },
  {
   "cell_type": "markdown",
   "id": "69469376",
   "metadata": {},
   "source": [
    "# Cor ou Raça que usaram medicamento para depressão"
   ]
  },
  {
   "cell_type": "code",
   "execution_count": 13,
   "id": "5fc5fabe",
   "metadata": {},
   "outputs": [
    {
     "data": {
      "text/html": [
       "<div>\n",
       "<style scoped>\n",
       "    .dataframe tbody tr th:only-of-type {\n",
       "        vertical-align: middle;\n",
       "    }\n",
       "\n",
       "    .dataframe tbody tr th {\n",
       "        vertical-align: top;\n",
       "    }\n",
       "\n",
       "    .dataframe thead th {\n",
       "        text-align: right;\n",
       "    }\n",
       "</style>\n",
       "<table border=\"1\" class=\"dataframe\">\n",
       "  <thead>\n",
       "    <tr style=\"text-align: right;\">\n",
       "      <th></th>\n",
       "      <th>Cidade</th>\n",
       "      <th>Total</th>\n",
       "      <th>Branca</th>\n",
       "      <th>Preta</th>\n",
       "      <th>Parda</th>\n",
       "      <th>Região</th>\n",
       "    </tr>\n",
       "  </thead>\n",
       "  <tbody>\n",
       "    <tr>\n",
       "      <th>21</th>\n",
       "      <td>Florianópolis</td>\n",
       "      <td>39.4</td>\n",
       "      <td>42.2</td>\n",
       "      <td>8.4</td>\n",
       "      <td>14.1</td>\n",
       "      <td>Sul</td>\n",
       "    </tr>\n",
       "    <tr>\n",
       "      <th>10</th>\n",
       "      <td>Natal</td>\n",
       "      <td>50.5</td>\n",
       "      <td>51.3</td>\n",
       "      <td>52.4</td>\n",
       "      <td>49.4</td>\n",
       "      <td>Nordeste</td>\n",
       "    </tr>\n",
       "    <tr>\n",
       "      <th>2</th>\n",
       "      <td>Manaus</td>\n",
       "      <td>30.9</td>\n",
       "      <td>22.4</td>\n",
       "      <td>8.6</td>\n",
       "      <td>39</td>\n",
       "      <td>Norte</td>\n",
       "    </tr>\n",
       "    <tr>\n",
       "      <th>14</th>\n",
       "      <td>Aracaju</td>\n",
       "      <td>34.1</td>\n",
       "      <td>23.9</td>\n",
       "      <td>16.1</td>\n",
       "      <td>42.2</td>\n",
       "      <td>Nordeste</td>\n",
       "    </tr>\n",
       "    <tr>\n",
       "      <th>1</th>\n",
       "      <td>Rio Branco</td>\n",
       "      <td>44.9</td>\n",
       "      <td>52</td>\n",
       "      <td>63.9</td>\n",
       "      <td>39.9</td>\n",
       "      <td>Norte</td>\n",
       "    </tr>\n",
       "  </tbody>\n",
       "</table>\n",
       "</div>"
      ],
      "text/plain": [
       "           Cidade Total Branca Preta Parda    Região\n",
       "21  Florianópolis  39.4   42.2   8.4  14.1       Sul\n",
       "10          Natal  50.5   51.3  52.4  49.4  Nordeste\n",
       "2          Manaus  30.9   22.4   8.6    39     Norte\n",
       "14        Aracaju  34.1   23.9  16.1  42.2  Nordeste\n",
       "1      Rio Branco  44.9     52  63.9  39.9     Norte"
      ]
     },
     "execution_count": 13,
     "metadata": {},
     "output_type": "execute_result"
    }
   ],
   "source": [
    "def tratamento_dataset2(dataset,colunas_remocao,nomes_colunas): \n",
    "    dataset.dropna(inplace=True)\n",
    "    dataset.drop(columns=dataset.columns[colunas_remocao],inplace=True)\n",
    "\n",
    "    dataset.columns = nomes_colunas\n",
    "\n",
    "    dataset.drop(dataset.iloc[0:1].index,inplace=True)\n",
    "    selecao = (dataset['Cidade'] == 'Norte (2)') | (dataset['Cidade'] == 'Nordeste (2)') | (dataset['Cidade'] == 'Sudeste (2)') | (dataset['Cidade'] == 'Centro-Oeste (2)') | (dataset['Cidade'] == 'Sul (2)')\n",
    "    dataset.drop(dataset[selecao].index,inplace=True)\n",
    "    dataset.reset_index(drop=True,inplace=True)\n",
    "\n",
    "    dataset.loc[0:7, 'Região'] = 'Norte'\n",
    "    dataset.loc[7:16, 'Região'] = 'Nordeste'\n",
    "    dataset.loc[16:20, 'Região'] = 'Sudeste'\n",
    "    dataset.loc[20:23, 'Região'] = 'Sul'\n",
    "    dataset.loc[23:, 'Região'] = 'Centro-Oeste'\n",
    "\n",
    "    return dataset\n",
    "\n",
    "tab_corRaca_cidade = pd.read_excel('dados_depressao/3.45.xls',sheet_name='cor_ou_raca (cap)')\n",
    "colunas_remocao = [2,3,5,6,8,9,11,12]\n",
    "nomes_colunas = ['Cidade','Total','Branca','Preta','Parda']\n",
    "\n",
    "tab_corRaca_cidade = tratamento_dataset2(tab_corRaca_cidade,colunas_remocao,nomes_colunas)\n",
    "tab_corRaca_cidade.sample(5)"
   ]
  },
  {
   "cell_type": "code",
   "execution_count": 34,
   "id": "5ce9661b",
   "metadata": {},
   "outputs": [
    {
     "data": {
      "application/vnd.plotly.v1+json": {
       "config": {
        "plotlyServerURL": "https://plot.ly"
       },
       "data": [
        {
         "alignmentgroup": "True",
         "hovertemplate": "Região=Norte<br>Cidade=%{x}<br>Diagnostico Depressão Total e que usaram Medicamento=%{text}<extra></extra>",
         "legendgroup": "Norte",
         "marker": {
          "color": "#636efa",
          "pattern": {
           "shape": ""
          }
         },
         "name": "Norte",
         "offsetgroup": "Norte",
         "orientation": "v",
         "showlegend": true,
         "text": [
          36.5,
          44.9,
          30.9,
          35.4,
          30.7,
          13.7,
          38.4
         ],
         "textposition": "outside",
         "texttemplate": "%{text:.2s}%",
         "type": "bar",
         "x": [
          "Porto Velho",
          "Rio Branco",
          "Manaus",
          "Boa Vista",
          "Belém",
          "Macapá",
          "Palmas"
         ],
         "xaxis": "x",
         "y": [
          36.5,
          44.9,
          30.9,
          35.4,
          30.7,
          13.7,
          38.4
         ],
         "yaxis": "y"
        },
        {
         "alignmentgroup": "True",
         "hovertemplate": "Região=Nordeste<br>Cidade=%{x}<br>Diagnostico Depressão Total e que usaram Medicamento=%{text}<extra></extra>",
         "legendgroup": "Nordeste",
         "marker": {
          "color": "#EF553B",
          "pattern": {
           "shape": ""
          }
         },
         "name": "Nordeste",
         "offsetgroup": "Nordeste",
         "orientation": "v",
         "showlegend": true,
         "text": [
          27.8,
          48.3,
          37.2,
          50.5,
          52.4,
          55.2,
          47.3,
          34.1,
          40.4
         ],
         "textposition": "outside",
         "texttemplate": "%{text:.2s}%",
         "type": "bar",
         "x": [
          "São Luís",
          "Teresina",
          "Fortaleza",
          "Natal",
          "João Pessoa",
          "Recife",
          "Maceió",
          "Aracaju",
          "Salvador"
         ],
         "xaxis": "x",
         "y": [
          27.8,
          48.3,
          37.2,
          50.5,
          52.4,
          55.2,
          47.3,
          34.1,
          40.4
         ],
         "yaxis": "y"
        },
        {
         "alignmentgroup": "True",
         "hovertemplate": "Região=Sudeste<br>Cidade=%{x}<br>Diagnostico Depressão Total e que usaram Medicamento=%{text}<extra></extra>",
         "legendgroup": "Sudeste",
         "marker": {
          "color": "#00cc96",
          "pattern": {
           "shape": ""
          }
         },
         "name": "Sudeste",
         "offsetgroup": "Sudeste",
         "orientation": "v",
         "showlegend": true,
         "text": [
          49.1,
          44.3,
          45.6,
          49.9
         ],
         "textposition": "outside",
         "texttemplate": "%{text:.2s}%",
         "type": "bar",
         "x": [
          "Belo Horizonte",
          "Vitória",
          "Rio de Janeiro",
          "São Paulo"
         ],
         "xaxis": "x",
         "y": [
          49.1,
          44.3,
          45.6,
          49.9
         ],
         "yaxis": "y"
        },
        {
         "alignmentgroup": "True",
         "hovertemplate": "Região=Sul<br>Cidade=%{x}<br>Diagnostico Depressão Total e que usaram Medicamento=%{text}<extra></extra>",
         "legendgroup": "Sul",
         "marker": {
          "color": "#ab63fa",
          "pattern": {
           "shape": ""
          }
         },
         "name": "Sul",
         "offsetgroup": "Sul",
         "orientation": "v",
         "showlegend": true,
         "text": [
          49.5,
          39.4,
          46.1
         ],
         "textposition": "outside",
         "texttemplate": "%{text:.2s}%",
         "type": "bar",
         "x": [
          "Curitiba",
          "Florianópolis",
          "Porto Alegre"
         ],
         "xaxis": "x",
         "y": [
          49.5,
          39.4,
          46.1
         ],
         "yaxis": "y"
        },
        {
         "alignmentgroup": "True",
         "hovertemplate": "Região=Centro-Oeste<br>Cidade=%{x}<br>Diagnostico Depressão Total e que usaram Medicamento=%{text}<extra></extra>",
         "legendgroup": "Centro-Oeste",
         "marker": {
          "color": "#FFA15A",
          "pattern": {
           "shape": ""
          }
         },
         "name": "Centro-Oeste",
         "offsetgroup": "Centro-Oeste",
         "orientation": "v",
         "showlegend": true,
         "text": [
          48.2,
          48.6,
          47.8,
          44.9
         ],
         "textposition": "outside",
         "texttemplate": "%{text:.2s}%",
         "type": "bar",
         "x": [
          "Campo Grande",
          "Cuiabá",
          "Goiânia",
          "Brasília"
         ],
         "xaxis": "x",
         "y": [
          48.2,
          48.6,
          47.8,
          44.9
         ],
         "yaxis": "y"
        }
       ],
       "layout": {
        "barmode": "relative",
        "legend": {
         "title": {
          "text": "Região"
         },
         "tracegroupgap": 0
        },
        "margin": {
         "b": 20,
         "l": 20,
         "r": 20,
         "t": 30
        },
        "template": {
         "data": {
          "bar": [
           {
            "error_x": {
             "color": "#2a3f5f"
            },
            "error_y": {
             "color": "#2a3f5f"
            },
            "marker": {
             "line": {
              "color": "#E5ECF6",
              "width": 0.5
             },
             "pattern": {
              "fillmode": "overlay",
              "size": 10,
              "solidity": 0.2
             }
            },
            "type": "bar"
           }
          ],
          "barpolar": [
           {
            "marker": {
             "line": {
              "color": "#E5ECF6",
              "width": 0.5
             },
             "pattern": {
              "fillmode": "overlay",
              "size": 10,
              "solidity": 0.2
             }
            },
            "type": "barpolar"
           }
          ],
          "carpet": [
           {
            "aaxis": {
             "endlinecolor": "#2a3f5f",
             "gridcolor": "white",
             "linecolor": "white",
             "minorgridcolor": "white",
             "startlinecolor": "#2a3f5f"
            },
            "baxis": {
             "endlinecolor": "#2a3f5f",
             "gridcolor": "white",
             "linecolor": "white",
             "minorgridcolor": "white",
             "startlinecolor": "#2a3f5f"
            },
            "type": "carpet"
           }
          ],
          "choropleth": [
           {
            "colorbar": {
             "outlinewidth": 0,
             "ticks": ""
            },
            "type": "choropleth"
           }
          ],
          "contour": [
           {
            "colorbar": {
             "outlinewidth": 0,
             "ticks": ""
            },
            "colorscale": [
             [
              0,
              "#0d0887"
             ],
             [
              0.1111111111111111,
              "#46039f"
             ],
             [
              0.2222222222222222,
              "#7201a8"
             ],
             [
              0.3333333333333333,
              "#9c179e"
             ],
             [
              0.4444444444444444,
              "#bd3786"
             ],
             [
              0.5555555555555556,
              "#d8576b"
             ],
             [
              0.6666666666666666,
              "#ed7953"
             ],
             [
              0.7777777777777778,
              "#fb9f3a"
             ],
             [
              0.8888888888888888,
              "#fdca26"
             ],
             [
              1,
              "#f0f921"
             ]
            ],
            "type": "contour"
           }
          ],
          "contourcarpet": [
           {
            "colorbar": {
             "outlinewidth": 0,
             "ticks": ""
            },
            "type": "contourcarpet"
           }
          ],
          "heatmap": [
           {
            "colorbar": {
             "outlinewidth": 0,
             "ticks": ""
            },
            "colorscale": [
             [
              0,
              "#0d0887"
             ],
             [
              0.1111111111111111,
              "#46039f"
             ],
             [
              0.2222222222222222,
              "#7201a8"
             ],
             [
              0.3333333333333333,
              "#9c179e"
             ],
             [
              0.4444444444444444,
              "#bd3786"
             ],
             [
              0.5555555555555556,
              "#d8576b"
             ],
             [
              0.6666666666666666,
              "#ed7953"
             ],
             [
              0.7777777777777778,
              "#fb9f3a"
             ],
             [
              0.8888888888888888,
              "#fdca26"
             ],
             [
              1,
              "#f0f921"
             ]
            ],
            "type": "heatmap"
           }
          ],
          "heatmapgl": [
           {
            "colorbar": {
             "outlinewidth": 0,
             "ticks": ""
            },
            "colorscale": [
             [
              0,
              "#0d0887"
             ],
             [
              0.1111111111111111,
              "#46039f"
             ],
             [
              0.2222222222222222,
              "#7201a8"
             ],
             [
              0.3333333333333333,
              "#9c179e"
             ],
             [
              0.4444444444444444,
              "#bd3786"
             ],
             [
              0.5555555555555556,
              "#d8576b"
             ],
             [
              0.6666666666666666,
              "#ed7953"
             ],
             [
              0.7777777777777778,
              "#fb9f3a"
             ],
             [
              0.8888888888888888,
              "#fdca26"
             ],
             [
              1,
              "#f0f921"
             ]
            ],
            "type": "heatmapgl"
           }
          ],
          "histogram": [
           {
            "marker": {
             "pattern": {
              "fillmode": "overlay",
              "size": 10,
              "solidity": 0.2
             }
            },
            "type": "histogram"
           }
          ],
          "histogram2d": [
           {
            "colorbar": {
             "outlinewidth": 0,
             "ticks": ""
            },
            "colorscale": [
             [
              0,
              "#0d0887"
             ],
             [
              0.1111111111111111,
              "#46039f"
             ],
             [
              0.2222222222222222,
              "#7201a8"
             ],
             [
              0.3333333333333333,
              "#9c179e"
             ],
             [
              0.4444444444444444,
              "#bd3786"
             ],
             [
              0.5555555555555556,
              "#d8576b"
             ],
             [
              0.6666666666666666,
              "#ed7953"
             ],
             [
              0.7777777777777778,
              "#fb9f3a"
             ],
             [
              0.8888888888888888,
              "#fdca26"
             ],
             [
              1,
              "#f0f921"
             ]
            ],
            "type": "histogram2d"
           }
          ],
          "histogram2dcontour": [
           {
            "colorbar": {
             "outlinewidth": 0,
             "ticks": ""
            },
            "colorscale": [
             [
              0,
              "#0d0887"
             ],
             [
              0.1111111111111111,
              "#46039f"
             ],
             [
              0.2222222222222222,
              "#7201a8"
             ],
             [
              0.3333333333333333,
              "#9c179e"
             ],
             [
              0.4444444444444444,
              "#bd3786"
             ],
             [
              0.5555555555555556,
              "#d8576b"
             ],
             [
              0.6666666666666666,
              "#ed7953"
             ],
             [
              0.7777777777777778,
              "#fb9f3a"
             ],
             [
              0.8888888888888888,
              "#fdca26"
             ],
             [
              1,
              "#f0f921"
             ]
            ],
            "type": "histogram2dcontour"
           }
          ],
          "mesh3d": [
           {
            "colorbar": {
             "outlinewidth": 0,
             "ticks": ""
            },
            "type": "mesh3d"
           }
          ],
          "parcoords": [
           {
            "line": {
             "colorbar": {
              "outlinewidth": 0,
              "ticks": ""
             }
            },
            "type": "parcoords"
           }
          ],
          "pie": [
           {
            "automargin": true,
            "type": "pie"
           }
          ],
          "scatter": [
           {
            "marker": {
             "colorbar": {
              "outlinewidth": 0,
              "ticks": ""
             }
            },
            "type": "scatter"
           }
          ],
          "scatter3d": [
           {
            "line": {
             "colorbar": {
              "outlinewidth": 0,
              "ticks": ""
             }
            },
            "marker": {
             "colorbar": {
              "outlinewidth": 0,
              "ticks": ""
             }
            },
            "type": "scatter3d"
           }
          ],
          "scattercarpet": [
           {
            "marker": {
             "colorbar": {
              "outlinewidth": 0,
              "ticks": ""
             }
            },
            "type": "scattercarpet"
           }
          ],
          "scattergeo": [
           {
            "marker": {
             "colorbar": {
              "outlinewidth": 0,
              "ticks": ""
             }
            },
            "type": "scattergeo"
           }
          ],
          "scattergl": [
           {
            "marker": {
             "colorbar": {
              "outlinewidth": 0,
              "ticks": ""
             }
            },
            "type": "scattergl"
           }
          ],
          "scattermapbox": [
           {
            "marker": {
             "colorbar": {
              "outlinewidth": 0,
              "ticks": ""
             }
            },
            "type": "scattermapbox"
           }
          ],
          "scatterpolar": [
           {
            "marker": {
             "colorbar": {
              "outlinewidth": 0,
              "ticks": ""
             }
            },
            "type": "scatterpolar"
           }
          ],
          "scatterpolargl": [
           {
            "marker": {
             "colorbar": {
              "outlinewidth": 0,
              "ticks": ""
             }
            },
            "type": "scatterpolargl"
           }
          ],
          "scatterternary": [
           {
            "marker": {
             "colorbar": {
              "outlinewidth": 0,
              "ticks": ""
             }
            },
            "type": "scatterternary"
           }
          ],
          "surface": [
           {
            "colorbar": {
             "outlinewidth": 0,
             "ticks": ""
            },
            "colorscale": [
             [
              0,
              "#0d0887"
             ],
             [
              0.1111111111111111,
              "#46039f"
             ],
             [
              0.2222222222222222,
              "#7201a8"
             ],
             [
              0.3333333333333333,
              "#9c179e"
             ],
             [
              0.4444444444444444,
              "#bd3786"
             ],
             [
              0.5555555555555556,
              "#d8576b"
             ],
             [
              0.6666666666666666,
              "#ed7953"
             ],
             [
              0.7777777777777778,
              "#fb9f3a"
             ],
             [
              0.8888888888888888,
              "#fdca26"
             ],
             [
              1,
              "#f0f921"
             ]
            ],
            "type": "surface"
           }
          ],
          "table": [
           {
            "cells": {
             "fill": {
              "color": "#EBF0F8"
             },
             "line": {
              "color": "white"
             }
            },
            "header": {
             "fill": {
              "color": "#C8D4E3"
             },
             "line": {
              "color": "white"
             }
            },
            "type": "table"
           }
          ]
         },
         "layout": {
          "annotationdefaults": {
           "arrowcolor": "#2a3f5f",
           "arrowhead": 0,
           "arrowwidth": 1
          },
          "autotypenumbers": "strict",
          "coloraxis": {
           "colorbar": {
            "outlinewidth": 0,
            "ticks": ""
           }
          },
          "colorscale": {
           "diverging": [
            [
             0,
             "#8e0152"
            ],
            [
             0.1,
             "#c51b7d"
            ],
            [
             0.2,
             "#de77ae"
            ],
            [
             0.3,
             "#f1b6da"
            ],
            [
             0.4,
             "#fde0ef"
            ],
            [
             0.5,
             "#f7f7f7"
            ],
            [
             0.6,
             "#e6f5d0"
            ],
            [
             0.7,
             "#b8e186"
            ],
            [
             0.8,
             "#7fbc41"
            ],
            [
             0.9,
             "#4d9221"
            ],
            [
             1,
             "#276419"
            ]
           ],
           "sequential": [
            [
             0,
             "#0d0887"
            ],
            [
             0.1111111111111111,
             "#46039f"
            ],
            [
             0.2222222222222222,
             "#7201a8"
            ],
            [
             0.3333333333333333,
             "#9c179e"
            ],
            [
             0.4444444444444444,
             "#bd3786"
            ],
            [
             0.5555555555555556,
             "#d8576b"
            ],
            [
             0.6666666666666666,
             "#ed7953"
            ],
            [
             0.7777777777777778,
             "#fb9f3a"
            ],
            [
             0.8888888888888888,
             "#fdca26"
            ],
            [
             1,
             "#f0f921"
            ]
           ],
           "sequentialminus": [
            [
             0,
             "#0d0887"
            ],
            [
             0.1111111111111111,
             "#46039f"
            ],
            [
             0.2222222222222222,
             "#7201a8"
            ],
            [
             0.3333333333333333,
             "#9c179e"
            ],
            [
             0.4444444444444444,
             "#bd3786"
            ],
            [
             0.5555555555555556,
             "#d8576b"
            ],
            [
             0.6666666666666666,
             "#ed7953"
            ],
            [
             0.7777777777777778,
             "#fb9f3a"
            ],
            [
             0.8888888888888888,
             "#fdca26"
            ],
            [
             1,
             "#f0f921"
            ]
           ]
          },
          "colorway": [
           "#636efa",
           "#EF553B",
           "#00cc96",
           "#ab63fa",
           "#FFA15A",
           "#19d3f3",
           "#FF6692",
           "#B6E880",
           "#FF97FF",
           "#FECB52"
          ],
          "font": {
           "color": "#2a3f5f"
          },
          "geo": {
           "bgcolor": "white",
           "lakecolor": "white",
           "landcolor": "#E5ECF6",
           "showlakes": true,
           "showland": true,
           "subunitcolor": "white"
          },
          "hoverlabel": {
           "align": "left"
          },
          "hovermode": "closest",
          "mapbox": {
           "style": "light"
          },
          "paper_bgcolor": "white",
          "plot_bgcolor": "#E5ECF6",
          "polar": {
           "angularaxis": {
            "gridcolor": "white",
            "linecolor": "white",
            "ticks": ""
           },
           "bgcolor": "#E5ECF6",
           "radialaxis": {
            "gridcolor": "white",
            "linecolor": "white",
            "ticks": ""
           }
          },
          "scene": {
           "xaxis": {
            "backgroundcolor": "#E5ECF6",
            "gridcolor": "white",
            "gridwidth": 2,
            "linecolor": "white",
            "showbackground": true,
            "ticks": "",
            "zerolinecolor": "white"
           },
           "yaxis": {
            "backgroundcolor": "#E5ECF6",
            "gridcolor": "white",
            "gridwidth": 2,
            "linecolor": "white",
            "showbackground": true,
            "ticks": "",
            "zerolinecolor": "white"
           },
           "zaxis": {
            "backgroundcolor": "#E5ECF6",
            "gridcolor": "white",
            "gridwidth": 2,
            "linecolor": "white",
            "showbackground": true,
            "ticks": "",
            "zerolinecolor": "white"
           }
          },
          "shapedefaults": {
           "line": {
            "color": "#2a3f5f"
           }
          },
          "ternary": {
           "aaxis": {
            "gridcolor": "white",
            "linecolor": "white",
            "ticks": ""
           },
           "baxis": {
            "gridcolor": "white",
            "linecolor": "white",
            "ticks": ""
           },
           "bgcolor": "#E5ECF6",
           "caxis": {
            "gridcolor": "white",
            "linecolor": "white",
            "ticks": ""
           }
          },
          "title": {
           "x": 0.05
          },
          "xaxis": {
           "automargin": true,
           "gridcolor": "white",
           "linecolor": "white",
           "ticks": "",
           "title": {
            "standoff": 15
           },
           "zerolinecolor": "white",
           "zerolinewidth": 2
          },
          "yaxis": {
           "automargin": true,
           "gridcolor": "white",
           "linecolor": "white",
           "ticks": "",
           "title": {
            "standoff": 15
           },
           "zerolinecolor": "white",
           "zerolinewidth": 2
          }
         }
        },
        "xaxis": {
         "anchor": "y",
         "domain": [
          0,
          1
         ],
         "title": {
          "text": "Cidade"
         }
        },
        "yaxis": {
         "anchor": "x",
         "domain": [
          0,
          1
         ],
         "title": {
          "text": "Diagnostico Depressão Total e que usaram Medicamento"
         }
        }
       }
      },
      "text/html": [
       "<div>                            <div id=\"1e181f7e-5f93-47d7-ad18-e88a4333f752\" class=\"plotly-graph-div\" style=\"height:525px; width:100%;\"></div>            <script type=\"text/javascript\">                require([\"plotly\"], function(Plotly) {                    window.PLOTLYENV=window.PLOTLYENV || {};                                    if (document.getElementById(\"1e181f7e-5f93-47d7-ad18-e88a4333f752\")) {                    Plotly.newPlot(                        \"1e181f7e-5f93-47d7-ad18-e88a4333f752\",                        [{\"alignmentgroup\":\"True\",\"hovertemplate\":\"Regi\\u00e3o=Norte<br>Cidade=%{x}<br>Diagnostico Depress\\u00e3o Total e que usaram Medicamento=%{text}<extra></extra>\",\"legendgroup\":\"Norte\",\"marker\":{\"color\":\"#636efa\",\"pattern\":{\"shape\":\"\"}},\"name\":\"Norte\",\"offsetgroup\":\"Norte\",\"orientation\":\"v\",\"showlegend\":true,\"text\":[36.5,44.9,30.9,35.4,30.7,13.7,38.4],\"textposition\":\"outside\",\"texttemplate\":\"%{text:.2s}%\",\"type\":\"bar\",\"x\":[\"Porto Velho\",\"Rio Branco\",\"Manaus\",\"Boa Vista\",\"Bel\\u00e9m\",\"Macap\\u00e1\",\"Palmas\"],\"xaxis\":\"x\",\"y\":[36.5,44.9,30.9,35.4,30.7,13.7,38.4],\"yaxis\":\"y\"},{\"alignmentgroup\":\"True\",\"hovertemplate\":\"Regi\\u00e3o=Nordeste<br>Cidade=%{x}<br>Diagnostico Depress\\u00e3o Total e que usaram Medicamento=%{text}<extra></extra>\",\"legendgroup\":\"Nordeste\",\"marker\":{\"color\":\"#EF553B\",\"pattern\":{\"shape\":\"\"}},\"name\":\"Nordeste\",\"offsetgroup\":\"Nordeste\",\"orientation\":\"v\",\"showlegend\":true,\"text\":[27.8,48.3,37.2,50.5,52.4,55.2,47.3,34.1,40.4],\"textposition\":\"outside\",\"texttemplate\":\"%{text:.2s}%\",\"type\":\"bar\",\"x\":[\"S\\u00e3o Lu\\u00eds\",\"Teresina\",\"Fortaleza\",\"Natal\",\"Jo\\u00e3o Pessoa\",\"Recife\",\"Macei\\u00f3\",\"Aracaju\",\"Salvador\"],\"xaxis\":\"x\",\"y\":[27.8,48.3,37.2,50.5,52.4,55.2,47.3,34.1,40.4],\"yaxis\":\"y\"},{\"alignmentgroup\":\"True\",\"hovertemplate\":\"Regi\\u00e3o=Sudeste<br>Cidade=%{x}<br>Diagnostico Depress\\u00e3o Total e que usaram Medicamento=%{text}<extra></extra>\",\"legendgroup\":\"Sudeste\",\"marker\":{\"color\":\"#00cc96\",\"pattern\":{\"shape\":\"\"}},\"name\":\"Sudeste\",\"offsetgroup\":\"Sudeste\",\"orientation\":\"v\",\"showlegend\":true,\"text\":[49.1,44.3,45.6,49.9],\"textposition\":\"outside\",\"texttemplate\":\"%{text:.2s}%\",\"type\":\"bar\",\"x\":[\"Belo Horizonte\",\"Vit\\u00f3ria\",\"Rio de Janeiro\",\"S\\u00e3o Paulo\"],\"xaxis\":\"x\",\"y\":[49.1,44.3,45.6,49.9],\"yaxis\":\"y\"},{\"alignmentgroup\":\"True\",\"hovertemplate\":\"Regi\\u00e3o=Sul<br>Cidade=%{x}<br>Diagnostico Depress\\u00e3o Total e que usaram Medicamento=%{text}<extra></extra>\",\"legendgroup\":\"Sul\",\"marker\":{\"color\":\"#ab63fa\",\"pattern\":{\"shape\":\"\"}},\"name\":\"Sul\",\"offsetgroup\":\"Sul\",\"orientation\":\"v\",\"showlegend\":true,\"text\":[49.5,39.4,46.1],\"textposition\":\"outside\",\"texttemplate\":\"%{text:.2s}%\",\"type\":\"bar\",\"x\":[\"Curitiba\",\"Florian\\u00f3polis\",\"Porto Alegre\"],\"xaxis\":\"x\",\"y\":[49.5,39.4,46.1],\"yaxis\":\"y\"},{\"alignmentgroup\":\"True\",\"hovertemplate\":\"Regi\\u00e3o=Centro-Oeste<br>Cidade=%{x}<br>Diagnostico Depress\\u00e3o Total e que usaram Medicamento=%{text}<extra></extra>\",\"legendgroup\":\"Centro-Oeste\",\"marker\":{\"color\":\"#FFA15A\",\"pattern\":{\"shape\":\"\"}},\"name\":\"Centro-Oeste\",\"offsetgroup\":\"Centro-Oeste\",\"orientation\":\"v\",\"showlegend\":true,\"text\":[48.2,48.6,47.8,44.9],\"textposition\":\"outside\",\"texttemplate\":\"%{text:.2s}%\",\"type\":\"bar\",\"x\":[\"Campo Grande\",\"Cuiab\\u00e1\",\"Goi\\u00e2nia\",\"Bras\\u00edlia\"],\"xaxis\":\"x\",\"y\":[48.2,48.6,47.8,44.9],\"yaxis\":\"y\"}],                        {\"barmode\":\"relative\",\"legend\":{\"title\":{\"text\":\"Regi\\u00e3o\"},\"tracegroupgap\":0},\"margin\":{\"b\":20,\"l\":20,\"r\":20,\"t\":30},\"template\":{\"data\":{\"bar\":[{\"error_x\":{\"color\":\"#2a3f5f\"},\"error_y\":{\"color\":\"#2a3f5f\"},\"marker\":{\"line\":{\"color\":\"#E5ECF6\",\"width\":0.5},\"pattern\":{\"fillmode\":\"overlay\",\"size\":10,\"solidity\":0.2}},\"type\":\"bar\"}],\"barpolar\":[{\"marker\":{\"line\":{\"color\":\"#E5ECF6\",\"width\":0.5},\"pattern\":{\"fillmode\":\"overlay\",\"size\":10,\"solidity\":0.2}},\"type\":\"barpolar\"}],\"carpet\":[{\"aaxis\":{\"endlinecolor\":\"#2a3f5f\",\"gridcolor\":\"white\",\"linecolor\":\"white\",\"minorgridcolor\":\"white\",\"startlinecolor\":\"#2a3f5f\"},\"baxis\":{\"endlinecolor\":\"#2a3f5f\",\"gridcolor\":\"white\",\"linecolor\":\"white\",\"minorgridcolor\":\"white\",\"startlinecolor\":\"#2a3f5f\"},\"type\":\"carpet\"}],\"choropleth\":[{\"colorbar\":{\"outlinewidth\":0,\"ticks\":\"\"},\"type\":\"choropleth\"}],\"contour\":[{\"colorbar\":{\"outlinewidth\":0,\"ticks\":\"\"},\"colorscale\":[[0.0,\"#0d0887\"],[0.1111111111111111,\"#46039f\"],[0.2222222222222222,\"#7201a8\"],[0.3333333333333333,\"#9c179e\"],[0.4444444444444444,\"#bd3786\"],[0.5555555555555556,\"#d8576b\"],[0.6666666666666666,\"#ed7953\"],[0.7777777777777778,\"#fb9f3a\"],[0.8888888888888888,\"#fdca26\"],[1.0,\"#f0f921\"]],\"type\":\"contour\"}],\"contourcarpet\":[{\"colorbar\":{\"outlinewidth\":0,\"ticks\":\"\"},\"type\":\"contourcarpet\"}],\"heatmap\":[{\"colorbar\":{\"outlinewidth\":0,\"ticks\":\"\"},\"colorscale\":[[0.0,\"#0d0887\"],[0.1111111111111111,\"#46039f\"],[0.2222222222222222,\"#7201a8\"],[0.3333333333333333,\"#9c179e\"],[0.4444444444444444,\"#bd3786\"],[0.5555555555555556,\"#d8576b\"],[0.6666666666666666,\"#ed7953\"],[0.7777777777777778,\"#fb9f3a\"],[0.8888888888888888,\"#fdca26\"],[1.0,\"#f0f921\"]],\"type\":\"heatmap\"}],\"heatmapgl\":[{\"colorbar\":{\"outlinewidth\":0,\"ticks\":\"\"},\"colorscale\":[[0.0,\"#0d0887\"],[0.1111111111111111,\"#46039f\"],[0.2222222222222222,\"#7201a8\"],[0.3333333333333333,\"#9c179e\"],[0.4444444444444444,\"#bd3786\"],[0.5555555555555556,\"#d8576b\"],[0.6666666666666666,\"#ed7953\"],[0.7777777777777778,\"#fb9f3a\"],[0.8888888888888888,\"#fdca26\"],[1.0,\"#f0f921\"]],\"type\":\"heatmapgl\"}],\"histogram\":[{\"marker\":{\"pattern\":{\"fillmode\":\"overlay\",\"size\":10,\"solidity\":0.2}},\"type\":\"histogram\"}],\"histogram2d\":[{\"colorbar\":{\"outlinewidth\":0,\"ticks\":\"\"},\"colorscale\":[[0.0,\"#0d0887\"],[0.1111111111111111,\"#46039f\"],[0.2222222222222222,\"#7201a8\"],[0.3333333333333333,\"#9c179e\"],[0.4444444444444444,\"#bd3786\"],[0.5555555555555556,\"#d8576b\"],[0.6666666666666666,\"#ed7953\"],[0.7777777777777778,\"#fb9f3a\"],[0.8888888888888888,\"#fdca26\"],[1.0,\"#f0f921\"]],\"type\":\"histogram2d\"}],\"histogram2dcontour\":[{\"colorbar\":{\"outlinewidth\":0,\"ticks\":\"\"},\"colorscale\":[[0.0,\"#0d0887\"],[0.1111111111111111,\"#46039f\"],[0.2222222222222222,\"#7201a8\"],[0.3333333333333333,\"#9c179e\"],[0.4444444444444444,\"#bd3786\"],[0.5555555555555556,\"#d8576b\"],[0.6666666666666666,\"#ed7953\"],[0.7777777777777778,\"#fb9f3a\"],[0.8888888888888888,\"#fdca26\"],[1.0,\"#f0f921\"]],\"type\":\"histogram2dcontour\"}],\"mesh3d\":[{\"colorbar\":{\"outlinewidth\":0,\"ticks\":\"\"},\"type\":\"mesh3d\"}],\"parcoords\":[{\"line\":{\"colorbar\":{\"outlinewidth\":0,\"ticks\":\"\"}},\"type\":\"parcoords\"}],\"pie\":[{\"automargin\":true,\"type\":\"pie\"}],\"scatter\":[{\"marker\":{\"colorbar\":{\"outlinewidth\":0,\"ticks\":\"\"}},\"type\":\"scatter\"}],\"scatter3d\":[{\"line\":{\"colorbar\":{\"outlinewidth\":0,\"ticks\":\"\"}},\"marker\":{\"colorbar\":{\"outlinewidth\":0,\"ticks\":\"\"}},\"type\":\"scatter3d\"}],\"scattercarpet\":[{\"marker\":{\"colorbar\":{\"outlinewidth\":0,\"ticks\":\"\"}},\"type\":\"scattercarpet\"}],\"scattergeo\":[{\"marker\":{\"colorbar\":{\"outlinewidth\":0,\"ticks\":\"\"}},\"type\":\"scattergeo\"}],\"scattergl\":[{\"marker\":{\"colorbar\":{\"outlinewidth\":0,\"ticks\":\"\"}},\"type\":\"scattergl\"}],\"scattermapbox\":[{\"marker\":{\"colorbar\":{\"outlinewidth\":0,\"ticks\":\"\"}},\"type\":\"scattermapbox\"}],\"scatterpolar\":[{\"marker\":{\"colorbar\":{\"outlinewidth\":0,\"ticks\":\"\"}},\"type\":\"scatterpolar\"}],\"scatterpolargl\":[{\"marker\":{\"colorbar\":{\"outlinewidth\":0,\"ticks\":\"\"}},\"type\":\"scatterpolargl\"}],\"scatterternary\":[{\"marker\":{\"colorbar\":{\"outlinewidth\":0,\"ticks\":\"\"}},\"type\":\"scatterternary\"}],\"surface\":[{\"colorbar\":{\"outlinewidth\":0,\"ticks\":\"\"},\"colorscale\":[[0.0,\"#0d0887\"],[0.1111111111111111,\"#46039f\"],[0.2222222222222222,\"#7201a8\"],[0.3333333333333333,\"#9c179e\"],[0.4444444444444444,\"#bd3786\"],[0.5555555555555556,\"#d8576b\"],[0.6666666666666666,\"#ed7953\"],[0.7777777777777778,\"#fb9f3a\"],[0.8888888888888888,\"#fdca26\"],[1.0,\"#f0f921\"]],\"type\":\"surface\"}],\"table\":[{\"cells\":{\"fill\":{\"color\":\"#EBF0F8\"},\"line\":{\"color\":\"white\"}},\"header\":{\"fill\":{\"color\":\"#C8D4E3\"},\"line\":{\"color\":\"white\"}},\"type\":\"table\"}]},\"layout\":{\"annotationdefaults\":{\"arrowcolor\":\"#2a3f5f\",\"arrowhead\":0,\"arrowwidth\":1},\"autotypenumbers\":\"strict\",\"coloraxis\":{\"colorbar\":{\"outlinewidth\":0,\"ticks\":\"\"}},\"colorscale\":{\"diverging\":[[0,\"#8e0152\"],[0.1,\"#c51b7d\"],[0.2,\"#de77ae\"],[0.3,\"#f1b6da\"],[0.4,\"#fde0ef\"],[0.5,\"#f7f7f7\"],[0.6,\"#e6f5d0\"],[0.7,\"#b8e186\"],[0.8,\"#7fbc41\"],[0.9,\"#4d9221\"],[1,\"#276419\"]],\"sequential\":[[0.0,\"#0d0887\"],[0.1111111111111111,\"#46039f\"],[0.2222222222222222,\"#7201a8\"],[0.3333333333333333,\"#9c179e\"],[0.4444444444444444,\"#bd3786\"],[0.5555555555555556,\"#d8576b\"],[0.6666666666666666,\"#ed7953\"],[0.7777777777777778,\"#fb9f3a\"],[0.8888888888888888,\"#fdca26\"],[1.0,\"#f0f921\"]],\"sequentialminus\":[[0.0,\"#0d0887\"],[0.1111111111111111,\"#46039f\"],[0.2222222222222222,\"#7201a8\"],[0.3333333333333333,\"#9c179e\"],[0.4444444444444444,\"#bd3786\"],[0.5555555555555556,\"#d8576b\"],[0.6666666666666666,\"#ed7953\"],[0.7777777777777778,\"#fb9f3a\"],[0.8888888888888888,\"#fdca26\"],[1.0,\"#f0f921\"]]},\"colorway\":[\"#636efa\",\"#EF553B\",\"#00cc96\",\"#ab63fa\",\"#FFA15A\",\"#19d3f3\",\"#FF6692\",\"#B6E880\",\"#FF97FF\",\"#FECB52\"],\"font\":{\"color\":\"#2a3f5f\"},\"geo\":{\"bgcolor\":\"white\",\"lakecolor\":\"white\",\"landcolor\":\"#E5ECF6\",\"showlakes\":true,\"showland\":true,\"subunitcolor\":\"white\"},\"hoverlabel\":{\"align\":\"left\"},\"hovermode\":\"closest\",\"mapbox\":{\"style\":\"light\"},\"paper_bgcolor\":\"white\",\"plot_bgcolor\":\"#E5ECF6\",\"polar\":{\"angularaxis\":{\"gridcolor\":\"white\",\"linecolor\":\"white\",\"ticks\":\"\"},\"bgcolor\":\"#E5ECF6\",\"radialaxis\":{\"gridcolor\":\"white\",\"linecolor\":\"white\",\"ticks\":\"\"}},\"scene\":{\"xaxis\":{\"backgroundcolor\":\"#E5ECF6\",\"gridcolor\":\"white\",\"gridwidth\":2,\"linecolor\":\"white\",\"showbackground\":true,\"ticks\":\"\",\"zerolinecolor\":\"white\"},\"yaxis\":{\"backgroundcolor\":\"#E5ECF6\",\"gridcolor\":\"white\",\"gridwidth\":2,\"linecolor\":\"white\",\"showbackground\":true,\"ticks\":\"\",\"zerolinecolor\":\"white\"},\"zaxis\":{\"backgroundcolor\":\"#E5ECF6\",\"gridcolor\":\"white\",\"gridwidth\":2,\"linecolor\":\"white\",\"showbackground\":true,\"ticks\":\"\",\"zerolinecolor\":\"white\"}},\"shapedefaults\":{\"line\":{\"color\":\"#2a3f5f\"}},\"ternary\":{\"aaxis\":{\"gridcolor\":\"white\",\"linecolor\":\"white\",\"ticks\":\"\"},\"baxis\":{\"gridcolor\":\"white\",\"linecolor\":\"white\",\"ticks\":\"\"},\"bgcolor\":\"#E5ECF6\",\"caxis\":{\"gridcolor\":\"white\",\"linecolor\":\"white\",\"ticks\":\"\"}},\"title\":{\"x\":0.05},\"xaxis\":{\"automargin\":true,\"gridcolor\":\"white\",\"linecolor\":\"white\",\"ticks\":\"\",\"title\":{\"standoff\":15},\"zerolinecolor\":\"white\",\"zerolinewidth\":2},\"yaxis\":{\"automargin\":true,\"gridcolor\":\"white\",\"linecolor\":\"white\",\"ticks\":\"\",\"title\":{\"standoff\":15},\"zerolinecolor\":\"white\",\"zerolinewidth\":2}}},\"xaxis\":{\"anchor\":\"y\",\"domain\":[0.0,1.0],\"title\":{\"text\":\"Cidade\"}},\"yaxis\":{\"anchor\":\"x\",\"domain\":[0.0,1.0],\"title\":{\"text\":\"Diagnostico Depress\\u00e3o Total e que usaram Medicamento\"}}},                        {\"responsive\": true}                    ).then(function(){\n",
       "                            \n",
       "var gd = document.getElementById('1e181f7e-5f93-47d7-ad18-e88a4333f752');\n",
       "var x = new MutationObserver(function (mutations, observer) {{\n",
       "        var display = window.getComputedStyle(gd).display;\n",
       "        if (!display || display === 'none') {{\n",
       "            console.log([gd, 'removed!']);\n",
       "            Plotly.purge(gd);\n",
       "            observer.disconnect();\n",
       "        }}\n",
       "}});\n",
       "\n",
       "// Listen for the removal of the full notebook cells\n",
       "var notebookContainer = gd.closest('#notebook-container');\n",
       "if (notebookContainer) {{\n",
       "    x.observe(notebookContainer, {childList: true});\n",
       "}}\n",
       "\n",
       "// Listen for the clearing of the current output cell\n",
       "var outputEl = gd.closest('.output');\n",
       "if (outputEl) {{\n",
       "    x.observe(outputEl, {childList: true});\n",
       "}}\n",
       "\n",
       "                        })                };                });            </script>        </div>"
      ]
     },
     "metadata": {},
     "output_type": "display_data"
    }
   ],
   "source": [
    "fig = px.bar(tab_sexo_cidade, x='Cidade',y='Diagnostico Depressão Total e que usaram Medicamento',color='Região',text=\"Diagnostico Depressão Total e que usaram Medicamento\")\n",
    "fig.update_layout(margin=dict(l=20, r=20, t=30, b=20))\n",
    "fig.update_traces(texttemplate='%{text:.2s}%', textposition='outside')\n",
    "fig.show()"
   ]
  },
  {
   "cell_type": "code",
   "execution_count": 40,
   "id": "3b55bcb7",
   "metadata": {},
   "outputs": [],
   "source": [
    "dados_nordeste = tab_sexo_cidade.query(\"Região == 'Nordeste'\")"
   ]
  },
  {
   "cell_type": "code",
   "execution_count": 42,
   "id": "4743f711",
   "metadata": {},
   "outputs": [
    {
     "data": {
      "application/vnd.plotly.v1+json": {
       "config": {
        "plotlyServerURL": "https://plot.ly"
       },
       "data": [
        {
         "marker": {
          "color": "red",
          "opacity": 0.5
         },
         "name": "Diagnostico Depressão Feminino e que usaram Medicamento",
         "text": [
          38,
          51.6,
          40.5,
          52.1,
          53.1,
          58.5,
          48.5,
          36.8,
          39.3
         ],
         "textposition": "outside",
         "texttemplate": "%{text:.2s}%",
         "type": "bar",
         "x": [
          "São Luís",
          "Teresina",
          "Fortaleza",
          "Natal",
          "João Pessoa",
          "Recife",
          "Maceió",
          "Aracaju",
          "Salvador"
         ],
         "y": [
          38,
          51.6,
          40.5,
          52.1,
          53.1,
          58.5,
          48.5,
          36.8,
          39.3
         ]
        },
        {
         "marker": {
          "color": "blue",
          "opacity": 0.5
         },
         "name": "Diagnostico Depressão Masculino e que usaram Medicamento",
         "text": [
          11.3,
          39.3,
          26.6,
          39.9,
          50.5,
          39.5,
          44,
          27,
          45
         ],
         "textposition": "outside",
         "texttemplate": "%{text:.2s}%",
         "type": "bar",
         "x": [
          "São Luís",
          "Teresina",
          "Fortaleza",
          "Natal",
          "João Pessoa",
          "Recife",
          "Maceió",
          "Aracaju",
          "Salvador"
         ],
         "y": [
          11.3,
          39.3,
          26.6,
          39.9,
          50.5,
          39.5,
          44,
          27,
          45
         ]
        }
       ],
       "layout": {
        "barmode": "group",
        "margin": {
         "b": 20,
         "l": 20,
         "r": 20,
         "t": 30
        },
        "template": {
         "data": {
          "bar": [
           {
            "error_x": {
             "color": "#2a3f5f"
            },
            "error_y": {
             "color": "#2a3f5f"
            },
            "marker": {
             "line": {
              "color": "#E5ECF6",
              "width": 0.5
             },
             "pattern": {
              "fillmode": "overlay",
              "size": 10,
              "solidity": 0.2
             }
            },
            "type": "bar"
           }
          ],
          "barpolar": [
           {
            "marker": {
             "line": {
              "color": "#E5ECF6",
              "width": 0.5
             },
             "pattern": {
              "fillmode": "overlay",
              "size": 10,
              "solidity": 0.2
             }
            },
            "type": "barpolar"
           }
          ],
          "carpet": [
           {
            "aaxis": {
             "endlinecolor": "#2a3f5f",
             "gridcolor": "white",
             "linecolor": "white",
             "minorgridcolor": "white",
             "startlinecolor": "#2a3f5f"
            },
            "baxis": {
             "endlinecolor": "#2a3f5f",
             "gridcolor": "white",
             "linecolor": "white",
             "minorgridcolor": "white",
             "startlinecolor": "#2a3f5f"
            },
            "type": "carpet"
           }
          ],
          "choropleth": [
           {
            "colorbar": {
             "outlinewidth": 0,
             "ticks": ""
            },
            "type": "choropleth"
           }
          ],
          "contour": [
           {
            "colorbar": {
             "outlinewidth": 0,
             "ticks": ""
            },
            "colorscale": [
             [
              0,
              "#0d0887"
             ],
             [
              0.1111111111111111,
              "#46039f"
             ],
             [
              0.2222222222222222,
              "#7201a8"
             ],
             [
              0.3333333333333333,
              "#9c179e"
             ],
             [
              0.4444444444444444,
              "#bd3786"
             ],
             [
              0.5555555555555556,
              "#d8576b"
             ],
             [
              0.6666666666666666,
              "#ed7953"
             ],
             [
              0.7777777777777778,
              "#fb9f3a"
             ],
             [
              0.8888888888888888,
              "#fdca26"
             ],
             [
              1,
              "#f0f921"
             ]
            ],
            "type": "contour"
           }
          ],
          "contourcarpet": [
           {
            "colorbar": {
             "outlinewidth": 0,
             "ticks": ""
            },
            "type": "contourcarpet"
           }
          ],
          "heatmap": [
           {
            "colorbar": {
             "outlinewidth": 0,
             "ticks": ""
            },
            "colorscale": [
             [
              0,
              "#0d0887"
             ],
             [
              0.1111111111111111,
              "#46039f"
             ],
             [
              0.2222222222222222,
              "#7201a8"
             ],
             [
              0.3333333333333333,
              "#9c179e"
             ],
             [
              0.4444444444444444,
              "#bd3786"
             ],
             [
              0.5555555555555556,
              "#d8576b"
             ],
             [
              0.6666666666666666,
              "#ed7953"
             ],
             [
              0.7777777777777778,
              "#fb9f3a"
             ],
             [
              0.8888888888888888,
              "#fdca26"
             ],
             [
              1,
              "#f0f921"
             ]
            ],
            "type": "heatmap"
           }
          ],
          "heatmapgl": [
           {
            "colorbar": {
             "outlinewidth": 0,
             "ticks": ""
            },
            "colorscale": [
             [
              0,
              "#0d0887"
             ],
             [
              0.1111111111111111,
              "#46039f"
             ],
             [
              0.2222222222222222,
              "#7201a8"
             ],
             [
              0.3333333333333333,
              "#9c179e"
             ],
             [
              0.4444444444444444,
              "#bd3786"
             ],
             [
              0.5555555555555556,
              "#d8576b"
             ],
             [
              0.6666666666666666,
              "#ed7953"
             ],
             [
              0.7777777777777778,
              "#fb9f3a"
             ],
             [
              0.8888888888888888,
              "#fdca26"
             ],
             [
              1,
              "#f0f921"
             ]
            ],
            "type": "heatmapgl"
           }
          ],
          "histogram": [
           {
            "marker": {
             "pattern": {
              "fillmode": "overlay",
              "size": 10,
              "solidity": 0.2
             }
            },
            "type": "histogram"
           }
          ],
          "histogram2d": [
           {
            "colorbar": {
             "outlinewidth": 0,
             "ticks": ""
            },
            "colorscale": [
             [
              0,
              "#0d0887"
             ],
             [
              0.1111111111111111,
              "#46039f"
             ],
             [
              0.2222222222222222,
              "#7201a8"
             ],
             [
              0.3333333333333333,
              "#9c179e"
             ],
             [
              0.4444444444444444,
              "#bd3786"
             ],
             [
              0.5555555555555556,
              "#d8576b"
             ],
             [
              0.6666666666666666,
              "#ed7953"
             ],
             [
              0.7777777777777778,
              "#fb9f3a"
             ],
             [
              0.8888888888888888,
              "#fdca26"
             ],
             [
              1,
              "#f0f921"
             ]
            ],
            "type": "histogram2d"
           }
          ],
          "histogram2dcontour": [
           {
            "colorbar": {
             "outlinewidth": 0,
             "ticks": ""
            },
            "colorscale": [
             [
              0,
              "#0d0887"
             ],
             [
              0.1111111111111111,
              "#46039f"
             ],
             [
              0.2222222222222222,
              "#7201a8"
             ],
             [
              0.3333333333333333,
              "#9c179e"
             ],
             [
              0.4444444444444444,
              "#bd3786"
             ],
             [
              0.5555555555555556,
              "#d8576b"
             ],
             [
              0.6666666666666666,
              "#ed7953"
             ],
             [
              0.7777777777777778,
              "#fb9f3a"
             ],
             [
              0.8888888888888888,
              "#fdca26"
             ],
             [
              1,
              "#f0f921"
             ]
            ],
            "type": "histogram2dcontour"
           }
          ],
          "mesh3d": [
           {
            "colorbar": {
             "outlinewidth": 0,
             "ticks": ""
            },
            "type": "mesh3d"
           }
          ],
          "parcoords": [
           {
            "line": {
             "colorbar": {
              "outlinewidth": 0,
              "ticks": ""
             }
            },
            "type": "parcoords"
           }
          ],
          "pie": [
           {
            "automargin": true,
            "type": "pie"
           }
          ],
          "scatter": [
           {
            "marker": {
             "colorbar": {
              "outlinewidth": 0,
              "ticks": ""
             }
            },
            "type": "scatter"
           }
          ],
          "scatter3d": [
           {
            "line": {
             "colorbar": {
              "outlinewidth": 0,
              "ticks": ""
             }
            },
            "marker": {
             "colorbar": {
              "outlinewidth": 0,
              "ticks": ""
             }
            },
            "type": "scatter3d"
           }
          ],
          "scattercarpet": [
           {
            "marker": {
             "colorbar": {
              "outlinewidth": 0,
              "ticks": ""
             }
            },
            "type": "scattercarpet"
           }
          ],
          "scattergeo": [
           {
            "marker": {
             "colorbar": {
              "outlinewidth": 0,
              "ticks": ""
             }
            },
            "type": "scattergeo"
           }
          ],
          "scattergl": [
           {
            "marker": {
             "colorbar": {
              "outlinewidth": 0,
              "ticks": ""
             }
            },
            "type": "scattergl"
           }
          ],
          "scattermapbox": [
           {
            "marker": {
             "colorbar": {
              "outlinewidth": 0,
              "ticks": ""
             }
            },
            "type": "scattermapbox"
           }
          ],
          "scatterpolar": [
           {
            "marker": {
             "colorbar": {
              "outlinewidth": 0,
              "ticks": ""
             }
            },
            "type": "scatterpolar"
           }
          ],
          "scatterpolargl": [
           {
            "marker": {
             "colorbar": {
              "outlinewidth": 0,
              "ticks": ""
             }
            },
            "type": "scatterpolargl"
           }
          ],
          "scatterternary": [
           {
            "marker": {
             "colorbar": {
              "outlinewidth": 0,
              "ticks": ""
             }
            },
            "type": "scatterternary"
           }
          ],
          "surface": [
           {
            "colorbar": {
             "outlinewidth": 0,
             "ticks": ""
            },
            "colorscale": [
             [
              0,
              "#0d0887"
             ],
             [
              0.1111111111111111,
              "#46039f"
             ],
             [
              0.2222222222222222,
              "#7201a8"
             ],
             [
              0.3333333333333333,
              "#9c179e"
             ],
             [
              0.4444444444444444,
              "#bd3786"
             ],
             [
              0.5555555555555556,
              "#d8576b"
             ],
             [
              0.6666666666666666,
              "#ed7953"
             ],
             [
              0.7777777777777778,
              "#fb9f3a"
             ],
             [
              0.8888888888888888,
              "#fdca26"
             ],
             [
              1,
              "#f0f921"
             ]
            ],
            "type": "surface"
           }
          ],
          "table": [
           {
            "cells": {
             "fill": {
              "color": "#EBF0F8"
             },
             "line": {
              "color": "white"
             }
            },
            "header": {
             "fill": {
              "color": "#C8D4E3"
             },
             "line": {
              "color": "white"
             }
            },
            "type": "table"
           }
          ]
         },
         "layout": {
          "annotationdefaults": {
           "arrowcolor": "#2a3f5f",
           "arrowhead": 0,
           "arrowwidth": 1
          },
          "autotypenumbers": "strict",
          "coloraxis": {
           "colorbar": {
            "outlinewidth": 0,
            "ticks": ""
           }
          },
          "colorscale": {
           "diverging": [
            [
             0,
             "#8e0152"
            ],
            [
             0.1,
             "#c51b7d"
            ],
            [
             0.2,
             "#de77ae"
            ],
            [
             0.3,
             "#f1b6da"
            ],
            [
             0.4,
             "#fde0ef"
            ],
            [
             0.5,
             "#f7f7f7"
            ],
            [
             0.6,
             "#e6f5d0"
            ],
            [
             0.7,
             "#b8e186"
            ],
            [
             0.8,
             "#7fbc41"
            ],
            [
             0.9,
             "#4d9221"
            ],
            [
             1,
             "#276419"
            ]
           ],
           "sequential": [
            [
             0,
             "#0d0887"
            ],
            [
             0.1111111111111111,
             "#46039f"
            ],
            [
             0.2222222222222222,
             "#7201a8"
            ],
            [
             0.3333333333333333,
             "#9c179e"
            ],
            [
             0.4444444444444444,
             "#bd3786"
            ],
            [
             0.5555555555555556,
             "#d8576b"
            ],
            [
             0.6666666666666666,
             "#ed7953"
            ],
            [
             0.7777777777777778,
             "#fb9f3a"
            ],
            [
             0.8888888888888888,
             "#fdca26"
            ],
            [
             1,
             "#f0f921"
            ]
           ],
           "sequentialminus": [
            [
             0,
             "#0d0887"
            ],
            [
             0.1111111111111111,
             "#46039f"
            ],
            [
             0.2222222222222222,
             "#7201a8"
            ],
            [
             0.3333333333333333,
             "#9c179e"
            ],
            [
             0.4444444444444444,
             "#bd3786"
            ],
            [
             0.5555555555555556,
             "#d8576b"
            ],
            [
             0.6666666666666666,
             "#ed7953"
            ],
            [
             0.7777777777777778,
             "#fb9f3a"
            ],
            [
             0.8888888888888888,
             "#fdca26"
            ],
            [
             1,
             "#f0f921"
            ]
           ]
          },
          "colorway": [
           "#636efa",
           "#EF553B",
           "#00cc96",
           "#ab63fa",
           "#FFA15A",
           "#19d3f3",
           "#FF6692",
           "#B6E880",
           "#FF97FF",
           "#FECB52"
          ],
          "font": {
           "color": "#2a3f5f"
          },
          "geo": {
           "bgcolor": "white",
           "lakecolor": "white",
           "landcolor": "#E5ECF6",
           "showlakes": true,
           "showland": true,
           "subunitcolor": "white"
          },
          "hoverlabel": {
           "align": "left"
          },
          "hovermode": "closest",
          "mapbox": {
           "style": "light"
          },
          "paper_bgcolor": "white",
          "plot_bgcolor": "#E5ECF6",
          "polar": {
           "angularaxis": {
            "gridcolor": "white",
            "linecolor": "white",
            "ticks": ""
           },
           "bgcolor": "#E5ECF6",
           "radialaxis": {
            "gridcolor": "white",
            "linecolor": "white",
            "ticks": ""
           }
          },
          "scene": {
           "xaxis": {
            "backgroundcolor": "#E5ECF6",
            "gridcolor": "white",
            "gridwidth": 2,
            "linecolor": "white",
            "showbackground": true,
            "ticks": "",
            "zerolinecolor": "white"
           },
           "yaxis": {
            "backgroundcolor": "#E5ECF6",
            "gridcolor": "white",
            "gridwidth": 2,
            "linecolor": "white",
            "showbackground": true,
            "ticks": "",
            "zerolinecolor": "white"
           },
           "zaxis": {
            "backgroundcolor": "#E5ECF6",
            "gridcolor": "white",
            "gridwidth": 2,
            "linecolor": "white",
            "showbackground": true,
            "ticks": "",
            "zerolinecolor": "white"
           }
          },
          "shapedefaults": {
           "line": {
            "color": "#2a3f5f"
           }
          },
          "ternary": {
           "aaxis": {
            "gridcolor": "white",
            "linecolor": "white",
            "ticks": ""
           },
           "baxis": {
            "gridcolor": "white",
            "linecolor": "white",
            "ticks": ""
           },
           "bgcolor": "#E5ECF6",
           "caxis": {
            "gridcolor": "white",
            "linecolor": "white",
            "ticks": ""
           }
          },
          "title": {
           "x": 0.05
          },
          "xaxis": {
           "automargin": true,
           "gridcolor": "white",
           "linecolor": "white",
           "ticks": "",
           "title": {
            "standoff": 15
           },
           "zerolinecolor": "white",
           "zerolinewidth": 2
          },
          "yaxis": {
           "automargin": true,
           "gridcolor": "white",
           "linecolor": "white",
           "ticks": "",
           "title": {
            "standoff": 15
           },
           "zerolinecolor": "white",
           "zerolinewidth": 2
          }
         }
        }
       }
      },
      "text/html": [
       "<div>                            <div id=\"d0362897-56a5-4f2e-bd49-a224af0fb207\" class=\"plotly-graph-div\" style=\"height:525px; width:100%;\"></div>            <script type=\"text/javascript\">                require([\"plotly\"], function(Plotly) {                    window.PLOTLYENV=window.PLOTLYENV || {};                                    if (document.getElementById(\"d0362897-56a5-4f2e-bd49-a224af0fb207\")) {                    Plotly.newPlot(                        \"d0362897-56a5-4f2e-bd49-a224af0fb207\",                        [{\"marker\":{\"color\":\"red\",\"opacity\":0.5},\"name\":\"Diagnostico Depress\\u00e3o Feminino e que usaram Medicamento\",\"text\":[38,51.6,40.5,52.1,53.1,58.5,48.5,36.8,39.3],\"textposition\":\"outside\",\"texttemplate\":\"%{text:.2s}%\",\"type\":\"bar\",\"x\":[\"S\\u00e3o Lu\\u00eds\",\"Teresina\",\"Fortaleza\",\"Natal\",\"Jo\\u00e3o Pessoa\",\"Recife\",\"Macei\\u00f3\",\"Aracaju\",\"Salvador\"],\"y\":[38,51.6,40.5,52.1,53.1,58.5,48.5,36.8,39.3]},{\"marker\":{\"color\":\"blue\",\"opacity\":0.5},\"name\":\"Diagnostico Depress\\u00e3o Masculino e que usaram Medicamento\",\"text\":[11.3,39.3,26.6,39.9,50.5,39.5,44,27,45],\"textposition\":\"outside\",\"texttemplate\":\"%{text:.2s}%\",\"type\":\"bar\",\"x\":[\"S\\u00e3o Lu\\u00eds\",\"Teresina\",\"Fortaleza\",\"Natal\",\"Jo\\u00e3o Pessoa\",\"Recife\",\"Macei\\u00f3\",\"Aracaju\",\"Salvador\"],\"y\":[11.3,39.3,26.6,39.9,50.5,39.5,44,27,45]}],                        {\"barmode\":\"group\",\"margin\":{\"b\":20,\"l\":20,\"r\":20,\"t\":30},\"template\":{\"data\":{\"bar\":[{\"error_x\":{\"color\":\"#2a3f5f\"},\"error_y\":{\"color\":\"#2a3f5f\"},\"marker\":{\"line\":{\"color\":\"#E5ECF6\",\"width\":0.5},\"pattern\":{\"fillmode\":\"overlay\",\"size\":10,\"solidity\":0.2}},\"type\":\"bar\"}],\"barpolar\":[{\"marker\":{\"line\":{\"color\":\"#E5ECF6\",\"width\":0.5},\"pattern\":{\"fillmode\":\"overlay\",\"size\":10,\"solidity\":0.2}},\"type\":\"barpolar\"}],\"carpet\":[{\"aaxis\":{\"endlinecolor\":\"#2a3f5f\",\"gridcolor\":\"white\",\"linecolor\":\"white\",\"minorgridcolor\":\"white\",\"startlinecolor\":\"#2a3f5f\"},\"baxis\":{\"endlinecolor\":\"#2a3f5f\",\"gridcolor\":\"white\",\"linecolor\":\"white\",\"minorgridcolor\":\"white\",\"startlinecolor\":\"#2a3f5f\"},\"type\":\"carpet\"}],\"choropleth\":[{\"colorbar\":{\"outlinewidth\":0,\"ticks\":\"\"},\"type\":\"choropleth\"}],\"contour\":[{\"colorbar\":{\"outlinewidth\":0,\"ticks\":\"\"},\"colorscale\":[[0.0,\"#0d0887\"],[0.1111111111111111,\"#46039f\"],[0.2222222222222222,\"#7201a8\"],[0.3333333333333333,\"#9c179e\"],[0.4444444444444444,\"#bd3786\"],[0.5555555555555556,\"#d8576b\"],[0.6666666666666666,\"#ed7953\"],[0.7777777777777778,\"#fb9f3a\"],[0.8888888888888888,\"#fdca26\"],[1.0,\"#f0f921\"]],\"type\":\"contour\"}],\"contourcarpet\":[{\"colorbar\":{\"outlinewidth\":0,\"ticks\":\"\"},\"type\":\"contourcarpet\"}],\"heatmap\":[{\"colorbar\":{\"outlinewidth\":0,\"ticks\":\"\"},\"colorscale\":[[0.0,\"#0d0887\"],[0.1111111111111111,\"#46039f\"],[0.2222222222222222,\"#7201a8\"],[0.3333333333333333,\"#9c179e\"],[0.4444444444444444,\"#bd3786\"],[0.5555555555555556,\"#d8576b\"],[0.6666666666666666,\"#ed7953\"],[0.7777777777777778,\"#fb9f3a\"],[0.8888888888888888,\"#fdca26\"],[1.0,\"#f0f921\"]],\"type\":\"heatmap\"}],\"heatmapgl\":[{\"colorbar\":{\"outlinewidth\":0,\"ticks\":\"\"},\"colorscale\":[[0.0,\"#0d0887\"],[0.1111111111111111,\"#46039f\"],[0.2222222222222222,\"#7201a8\"],[0.3333333333333333,\"#9c179e\"],[0.4444444444444444,\"#bd3786\"],[0.5555555555555556,\"#d8576b\"],[0.6666666666666666,\"#ed7953\"],[0.7777777777777778,\"#fb9f3a\"],[0.8888888888888888,\"#fdca26\"],[1.0,\"#f0f921\"]],\"type\":\"heatmapgl\"}],\"histogram\":[{\"marker\":{\"pattern\":{\"fillmode\":\"overlay\",\"size\":10,\"solidity\":0.2}},\"type\":\"histogram\"}],\"histogram2d\":[{\"colorbar\":{\"outlinewidth\":0,\"ticks\":\"\"},\"colorscale\":[[0.0,\"#0d0887\"],[0.1111111111111111,\"#46039f\"],[0.2222222222222222,\"#7201a8\"],[0.3333333333333333,\"#9c179e\"],[0.4444444444444444,\"#bd3786\"],[0.5555555555555556,\"#d8576b\"],[0.6666666666666666,\"#ed7953\"],[0.7777777777777778,\"#fb9f3a\"],[0.8888888888888888,\"#fdca26\"],[1.0,\"#f0f921\"]],\"type\":\"histogram2d\"}],\"histogram2dcontour\":[{\"colorbar\":{\"outlinewidth\":0,\"ticks\":\"\"},\"colorscale\":[[0.0,\"#0d0887\"],[0.1111111111111111,\"#46039f\"],[0.2222222222222222,\"#7201a8\"],[0.3333333333333333,\"#9c179e\"],[0.4444444444444444,\"#bd3786\"],[0.5555555555555556,\"#d8576b\"],[0.6666666666666666,\"#ed7953\"],[0.7777777777777778,\"#fb9f3a\"],[0.8888888888888888,\"#fdca26\"],[1.0,\"#f0f921\"]],\"type\":\"histogram2dcontour\"}],\"mesh3d\":[{\"colorbar\":{\"outlinewidth\":0,\"ticks\":\"\"},\"type\":\"mesh3d\"}],\"parcoords\":[{\"line\":{\"colorbar\":{\"outlinewidth\":0,\"ticks\":\"\"}},\"type\":\"parcoords\"}],\"pie\":[{\"automargin\":true,\"type\":\"pie\"}],\"scatter\":[{\"marker\":{\"colorbar\":{\"outlinewidth\":0,\"ticks\":\"\"}},\"type\":\"scatter\"}],\"scatter3d\":[{\"line\":{\"colorbar\":{\"outlinewidth\":0,\"ticks\":\"\"}},\"marker\":{\"colorbar\":{\"outlinewidth\":0,\"ticks\":\"\"}},\"type\":\"scatter3d\"}],\"scattercarpet\":[{\"marker\":{\"colorbar\":{\"outlinewidth\":0,\"ticks\":\"\"}},\"type\":\"scattercarpet\"}],\"scattergeo\":[{\"marker\":{\"colorbar\":{\"outlinewidth\":0,\"ticks\":\"\"}},\"type\":\"scattergeo\"}],\"scattergl\":[{\"marker\":{\"colorbar\":{\"outlinewidth\":0,\"ticks\":\"\"}},\"type\":\"scattergl\"}],\"scattermapbox\":[{\"marker\":{\"colorbar\":{\"outlinewidth\":0,\"ticks\":\"\"}},\"type\":\"scattermapbox\"}],\"scatterpolar\":[{\"marker\":{\"colorbar\":{\"outlinewidth\":0,\"ticks\":\"\"}},\"type\":\"scatterpolar\"}],\"scatterpolargl\":[{\"marker\":{\"colorbar\":{\"outlinewidth\":0,\"ticks\":\"\"}},\"type\":\"scatterpolargl\"}],\"scatterternary\":[{\"marker\":{\"colorbar\":{\"outlinewidth\":0,\"ticks\":\"\"}},\"type\":\"scatterternary\"}],\"surface\":[{\"colorbar\":{\"outlinewidth\":0,\"ticks\":\"\"},\"colorscale\":[[0.0,\"#0d0887\"],[0.1111111111111111,\"#46039f\"],[0.2222222222222222,\"#7201a8\"],[0.3333333333333333,\"#9c179e\"],[0.4444444444444444,\"#bd3786\"],[0.5555555555555556,\"#d8576b\"],[0.6666666666666666,\"#ed7953\"],[0.7777777777777778,\"#fb9f3a\"],[0.8888888888888888,\"#fdca26\"],[1.0,\"#f0f921\"]],\"type\":\"surface\"}],\"table\":[{\"cells\":{\"fill\":{\"color\":\"#EBF0F8\"},\"line\":{\"color\":\"white\"}},\"header\":{\"fill\":{\"color\":\"#C8D4E3\"},\"line\":{\"color\":\"white\"}},\"type\":\"table\"}]},\"layout\":{\"annotationdefaults\":{\"arrowcolor\":\"#2a3f5f\",\"arrowhead\":0,\"arrowwidth\":1},\"autotypenumbers\":\"strict\",\"coloraxis\":{\"colorbar\":{\"outlinewidth\":0,\"ticks\":\"\"}},\"colorscale\":{\"diverging\":[[0,\"#8e0152\"],[0.1,\"#c51b7d\"],[0.2,\"#de77ae\"],[0.3,\"#f1b6da\"],[0.4,\"#fde0ef\"],[0.5,\"#f7f7f7\"],[0.6,\"#e6f5d0\"],[0.7,\"#b8e186\"],[0.8,\"#7fbc41\"],[0.9,\"#4d9221\"],[1,\"#276419\"]],\"sequential\":[[0.0,\"#0d0887\"],[0.1111111111111111,\"#46039f\"],[0.2222222222222222,\"#7201a8\"],[0.3333333333333333,\"#9c179e\"],[0.4444444444444444,\"#bd3786\"],[0.5555555555555556,\"#d8576b\"],[0.6666666666666666,\"#ed7953\"],[0.7777777777777778,\"#fb9f3a\"],[0.8888888888888888,\"#fdca26\"],[1.0,\"#f0f921\"]],\"sequentialminus\":[[0.0,\"#0d0887\"],[0.1111111111111111,\"#46039f\"],[0.2222222222222222,\"#7201a8\"],[0.3333333333333333,\"#9c179e\"],[0.4444444444444444,\"#bd3786\"],[0.5555555555555556,\"#d8576b\"],[0.6666666666666666,\"#ed7953\"],[0.7777777777777778,\"#fb9f3a\"],[0.8888888888888888,\"#fdca26\"],[1.0,\"#f0f921\"]]},\"colorway\":[\"#636efa\",\"#EF553B\",\"#00cc96\",\"#ab63fa\",\"#FFA15A\",\"#19d3f3\",\"#FF6692\",\"#B6E880\",\"#FF97FF\",\"#FECB52\"],\"font\":{\"color\":\"#2a3f5f\"},\"geo\":{\"bgcolor\":\"white\",\"lakecolor\":\"white\",\"landcolor\":\"#E5ECF6\",\"showlakes\":true,\"showland\":true,\"subunitcolor\":\"white\"},\"hoverlabel\":{\"align\":\"left\"},\"hovermode\":\"closest\",\"mapbox\":{\"style\":\"light\"},\"paper_bgcolor\":\"white\",\"plot_bgcolor\":\"#E5ECF6\",\"polar\":{\"angularaxis\":{\"gridcolor\":\"white\",\"linecolor\":\"white\",\"ticks\":\"\"},\"bgcolor\":\"#E5ECF6\",\"radialaxis\":{\"gridcolor\":\"white\",\"linecolor\":\"white\",\"ticks\":\"\"}},\"scene\":{\"xaxis\":{\"backgroundcolor\":\"#E5ECF6\",\"gridcolor\":\"white\",\"gridwidth\":2,\"linecolor\":\"white\",\"showbackground\":true,\"ticks\":\"\",\"zerolinecolor\":\"white\"},\"yaxis\":{\"backgroundcolor\":\"#E5ECF6\",\"gridcolor\":\"white\",\"gridwidth\":2,\"linecolor\":\"white\",\"showbackground\":true,\"ticks\":\"\",\"zerolinecolor\":\"white\"},\"zaxis\":{\"backgroundcolor\":\"#E5ECF6\",\"gridcolor\":\"white\",\"gridwidth\":2,\"linecolor\":\"white\",\"showbackground\":true,\"ticks\":\"\",\"zerolinecolor\":\"white\"}},\"shapedefaults\":{\"line\":{\"color\":\"#2a3f5f\"}},\"ternary\":{\"aaxis\":{\"gridcolor\":\"white\",\"linecolor\":\"white\",\"ticks\":\"\"},\"baxis\":{\"gridcolor\":\"white\",\"linecolor\":\"white\",\"ticks\":\"\"},\"bgcolor\":\"#E5ECF6\",\"caxis\":{\"gridcolor\":\"white\",\"linecolor\":\"white\",\"ticks\":\"\"}},\"title\":{\"x\":0.05},\"xaxis\":{\"automargin\":true,\"gridcolor\":\"white\",\"linecolor\":\"white\",\"ticks\":\"\",\"title\":{\"standoff\":15},\"zerolinecolor\":\"white\",\"zerolinewidth\":2},\"yaxis\":{\"automargin\":true,\"gridcolor\":\"white\",\"linecolor\":\"white\",\"ticks\":\"\",\"title\":{\"standoff\":15},\"zerolinecolor\":\"white\",\"zerolinewidth\":2}}}},                        {\"responsive\": true}                    ).then(function(){\n",
       "                            \n",
       "var gd = document.getElementById('d0362897-56a5-4f2e-bd49-a224af0fb207');\n",
       "var x = new MutationObserver(function (mutations, observer) {{\n",
       "        var display = window.getComputedStyle(gd).display;\n",
       "        if (!display || display === 'none') {{\n",
       "            console.log([gd, 'removed!']);\n",
       "            Plotly.purge(gd);\n",
       "            observer.disconnect();\n",
       "        }}\n",
       "}});\n",
       "\n",
       "// Listen for the removal of the full notebook cells\n",
       "var notebookContainer = gd.closest('#notebook-container');\n",
       "if (notebookContainer) {{\n",
       "    x.observe(notebookContainer, {childList: true});\n",
       "}}\n",
       "\n",
       "// Listen for the clearing of the current output cell\n",
       "var outputEl = gd.closest('.output');\n",
       "if (outputEl) {{\n",
       "    x.observe(outputEl, {childList: true});\n",
       "}}\n",
       "\n",
       "                        })                };                });            </script>        </div>"
      ]
     },
     "metadata": {},
     "output_type": "display_data"
    }
   ],
   "source": [
    "trace1=go.Bar(x=dados_nordeste['Cidade'],y=dados_nordeste['Masculino'],marker=dict(color='blue',opacity=0.5),name=\"Diagnostico Depressão Masculino e que usaram Medicamento\",text=dados_nordeste['Masculino'])\n",
    "trace2=go.Bar(x=dados_nordeste['Cidade'],y=dados_nordeste['Feminino'],marker=dict(color='red',opacity=0.5),name=\"Diagnostico Depressão Feminino e que usaram Medicamento\",text=dados_nordeste['Feminino'])\n",
    "\n",
    "data=[trace2,trace1]\n",
    "\n",
    "layout = go.Layout(barmode=\"group\")\n",
    "\n",
    "fig = go.Figure(data,layout)\n",
    "fig.update_layout(margin=dict(l=20, r=20, t=30, b=20))\n",
    "fig.update_traces(texttemplate='%{text:.2s}%', textposition='outside')\n",
    "fig.show()"
   ]
  },
  {
   "cell_type": "code",
   "execution_count": 25,
   "id": "6ab7e000",
   "metadata": {},
   "outputs": [],
   "source": [
    "c_rendimento = tab_rendimento_cidade.mean()\n",
    "c_corRaca = tab_corRaca_cidade.mean()\n",
    "c_instrucao = tab_instrucao_cidade.mean()\n",
    "c_posOcup = tab_posOcup_cidade.mean()\n",
    "c_sexo = tab_sexo_cidade.mean()\n",
    "c_idade = tab_idade_cidade.mean()\n",
    "c_total = pd.concat([c_sexo,c_corRaca,c_instrucao,c_posOcup,c_rendimento,c_idade])"
   ]
  },
  {
   "cell_type": "code",
   "execution_count": 26,
   "id": "b1fecb40",
   "metadata": {},
   "outputs": [],
   "source": [
    "c_total.drop_duplicates(inplace=True)\n",
    "c_total.drop(labels='Total',inplace=True)"
   ]
  },
  {
   "cell_type": "code",
   "execution_count": 37,
   "id": "bb92f399",
   "metadata": {},
   "outputs": [
    {
     "data": {
      "text/html": [
       "<div>\n",
       "<style scoped>\n",
       "    .dataframe tbody tr th:only-of-type {\n",
       "        vertical-align: middle;\n",
       "    }\n",
       "\n",
       "    .dataframe tbody tr th {\n",
       "        vertical-align: top;\n",
       "    }\n",
       "\n",
       "    .dataframe thead th {\n",
       "        text-align: right;\n",
       "    }\n",
       "</style>\n",
       "<table border=\"1\" class=\"dataframe\">\n",
       "  <thead>\n",
       "    <tr style=\"text-align: right;\">\n",
       "      <th></th>\n",
       "      <th>Proporção de Diagnostico Depressão Total e que usaram Medicamento</th>\n",
       "      <th>Categoria</th>\n",
       "    </tr>\n",
       "  </thead>\n",
       "  <tbody>\n",
       "    <tr>\n",
       "      <th>Diagnostico Depressão Total</th>\n",
       "      <td>42.11</td>\n",
       "      <td>Total</td>\n",
       "    </tr>\n",
       "    <tr>\n",
       "      <th>Masculino</th>\n",
       "      <td>39.57</td>\n",
       "      <td>Sexo</td>\n",
       "    </tr>\n",
       "    <tr>\n",
       "      <th>Feminino</th>\n",
       "      <td>43.37</td>\n",
       "      <td>Sexo</td>\n",
       "    </tr>\n",
       "    <tr>\n",
       "      <th>Branca</th>\n",
       "      <td>42.19</td>\n",
       "      <td>Cor ou Raça</td>\n",
       "    </tr>\n",
       "    <tr>\n",
       "      <th>Preta</th>\n",
       "      <td>41.05</td>\n",
       "      <td>Cor ou Raça</td>\n",
       "    </tr>\n",
       "    <tr>\n",
       "      <th>Parda</th>\n",
       "      <td>41.07</td>\n",
       "      <td>Cor ou Raça</td>\n",
       "    </tr>\n",
       "    <tr>\n",
       "      <th>Sem instrução e fundamental incompleto</th>\n",
       "      <td>46.44</td>\n",
       "      <td>Instrução</td>\n",
       "    </tr>\n",
       "    <tr>\n",
       "      <th>Fundamental completo e médio incompleto</th>\n",
       "      <td>46.90</td>\n",
       "      <td>Instrução</td>\n",
       "    </tr>\n",
       "    <tr>\n",
       "      <th>Médio completo e superior incompleto</th>\n",
       "      <td>37.24</td>\n",
       "      <td>Instrução</td>\n",
       "    </tr>\n",
       "    <tr>\n",
       "      <th>Superior completo</th>\n",
       "      <td>43.09</td>\n",
       "      <td>Instrução</td>\n",
       "    </tr>\n",
       "    <tr>\n",
       "      <th>Trabalhando ocupado</th>\n",
       "      <td>34.29</td>\n",
       "      <td>Situação de trabalho</td>\n",
       "    </tr>\n",
       "    <tr>\n",
       "      <th>Trabalhando desocupado</th>\n",
       "      <td>34.56</td>\n",
       "      <td>Situação de trabalho</td>\n",
       "    </tr>\n",
       "    <tr>\n",
       "      <th>Desempregados</th>\n",
       "      <td>52.87</td>\n",
       "      <td>Situação de trabalho</td>\n",
       "    </tr>\n",
       "    <tr>\n",
       "      <th>Sem rendimento e ate 1/4 do salario minimo</th>\n",
       "      <td>49.96</td>\n",
       "      <td>Renda</td>\n",
       "    </tr>\n",
       "    <tr>\n",
       "      <th>Mais de 1/4 a 1/2 do salario minimo</th>\n",
       "      <td>35.73</td>\n",
       "      <td>Renda</td>\n",
       "    </tr>\n",
       "    <tr>\n",
       "      <th>Mais de 1/2 a 1 salario minimo</th>\n",
       "      <td>41.73</td>\n",
       "      <td>Renda</td>\n",
       "    </tr>\n",
       "    <tr>\n",
       "      <th>Mais de 1 a 2 salarios minimos</th>\n",
       "      <td>40.16</td>\n",
       "      <td>Renda</td>\n",
       "    </tr>\n",
       "    <tr>\n",
       "      <th>Mais de 2 a 3 salarios minimos</th>\n",
       "      <td>50.51</td>\n",
       "      <td>Renda</td>\n",
       "    </tr>\n",
       "    <tr>\n",
       "      <th>Mais de 3 a 5 salarios minimos</th>\n",
       "      <td>41.34</td>\n",
       "      <td>Renda</td>\n",
       "    </tr>\n",
       "    <tr>\n",
       "      <th>Mais de 5 salarios minimos</th>\n",
       "      <td>50.22</td>\n",
       "      <td>Renda</td>\n",
       "    </tr>\n",
       "    <tr>\n",
       "      <th>18 a 19 anos</th>\n",
       "      <td>31.03</td>\n",
       "      <td>Idade</td>\n",
       "    </tr>\n",
       "    <tr>\n",
       "      <th>30 a 59 anos</th>\n",
       "      <td>40.89</td>\n",
       "      <td>Idade</td>\n",
       "    </tr>\n",
       "    <tr>\n",
       "      <th>60 a 64 anos</th>\n",
       "      <td>46.23</td>\n",
       "      <td>Idade</td>\n",
       "    </tr>\n",
       "    <tr>\n",
       "      <th>65 a 74 anos</th>\n",
       "      <td>55.51</td>\n",
       "      <td>Idade</td>\n",
       "    </tr>\n",
       "    <tr>\n",
       "      <th>75 anos ou mais</th>\n",
       "      <td>54.43</td>\n",
       "      <td>Idade</td>\n",
       "    </tr>\n",
       "  </tbody>\n",
       "</table>\n",
       "</div>"
      ],
      "text/plain": [
       "                                            Proporção de Diagnostico Depressão Total e que usaram Medicamento  \\\n",
       "Diagnostico Depressão Total                                                             42.11                   \n",
       "Masculino                                                                               39.57                   \n",
       "Feminino                                                                                43.37                   \n",
       "Branca                                                                                  42.19                   \n",
       "Preta                                                                                   41.05                   \n",
       "Parda                                                                                   41.07                   \n",
       "Sem instrução e fundamental incompleto                                                  46.44                   \n",
       "Fundamental completo e médio incompleto                                                 46.90                   \n",
       "Médio completo e superior incompleto                                                    37.24                   \n",
       "Superior completo                                                                       43.09                   \n",
       "Trabalhando ocupado                                                                     34.29                   \n",
       "Trabalhando desocupado                                                                  34.56                   \n",
       "Desempregados                                                                           52.87                   \n",
       "Sem rendimento e ate 1/4 do salario minimo                                              49.96                   \n",
       "Mais de 1/4 a 1/2 do salario minimo                                                     35.73                   \n",
       "Mais de 1/2 a 1 salario minimo                                                          41.73                   \n",
       "Mais de 1 a 2 salarios minimos                                                          40.16                   \n",
       "Mais de 2 a 3 salarios minimos                                                          50.51                   \n",
       "Mais de 3 a 5 salarios minimos                                                          41.34                   \n",
       "Mais de 5 salarios minimos                                                              50.22                   \n",
       "18 a 19 anos                                                                            31.03                   \n",
       "30 a 59 anos                                                                            40.89                   \n",
       "60 a 64 anos                                                                            46.23                   \n",
       "65 a 74 anos                                                                            55.51                   \n",
       "75 anos ou mais                                                                         54.43                   \n",
       "\n",
       "                                                       Categoria  \n",
       "Diagnostico Depressão Total                                Total  \n",
       "Masculino                                                   Sexo  \n",
       "Feminino                                                    Sexo  \n",
       "Branca                                               Cor ou Raça  \n",
       "Preta                                                Cor ou Raça  \n",
       "Parda                                                Cor ou Raça  \n",
       "Sem instrução e fundamental incompleto                 Instrução  \n",
       "Fundamental completo e médio incompleto                Instrução  \n",
       "Médio completo e superior incompleto                   Instrução  \n",
       "Superior completo                                      Instrução  \n",
       "Trabalhando ocupado                         Situação de trabalho  \n",
       "Trabalhando desocupado                      Situação de trabalho  \n",
       "Desempregados                               Situação de trabalho  \n",
       "Sem rendimento e ate 1/4 do salario minimo                 Renda  \n",
       "Mais de 1/4 a 1/2 do salario minimo                        Renda  \n",
       "Mais de 1/2 a 1 salario minimo                             Renda  \n",
       "Mais de 1 a 2 salarios minimos                             Renda  \n",
       "Mais de 2 a 3 salarios minimos                             Renda  \n",
       "Mais de 3 a 5 salarios minimos                             Renda  \n",
       "Mais de 5 salarios minimos                                 Renda  \n",
       "18 a 19 anos                                               Idade  \n",
       "30 a 59 anos                                               Idade  \n",
       "60 a 64 anos                                               Idade  \n",
       "65 a 74 anos                                               Idade  \n",
       "75 anos ou mais                                            Idade  "
      ]
     },
     "execution_count": 37,
     "metadata": {},
     "output_type": "execute_result"
    }
   ],
   "source": [
    "medias_dados_brasil = pd.DataFrame(c_total,columns=['Proporção de Diagnostico Depressão Total e que usaram Medicamento'])\n",
    "medias_dados_brasil.loc['Diagnostico Depressão Total','Categoria'] = 'Total'\n",
    "medias_dados_brasil.loc['Masculino':'Feminino','Categoria'] = 'Sexo'\n",
    "medias_dados_brasil.loc['Branca':'Parda','Categoria'] = 'Cor ou Raça'\n",
    "medias_dados_brasil.loc['Sem instrução e fundamental incompleto':'Superior completo','Categoria'] = 'Instrução'\n",
    "medias_dados_brasil.loc['Trabalhando ocupado':'Desempregados','Categoria'] = 'Situação de trabalho'\n",
    "medias_dados_brasil.loc['Sem rendimento e ate 1/4 do salario minimo':'Mais de 5 salarios minimos','Categoria'] = 'Renda'\n",
    "medias_dados_brasil.loc['18 a 19 anos':'75 anos ou mais','Categoria'] = 'Idade'\n",
    "medias_dados_brasil.round(2)"
   ]
  },
  {
   "cell_type": "code",
   "execution_count": 36,
   "id": "4003bb52",
   "metadata": {},
   "outputs": [
    {
     "data": {
      "text/html": [
       "<div>\n",
       "<style scoped>\n",
       "    .dataframe tbody tr th:only-of-type {\n",
       "        vertical-align: middle;\n",
       "    }\n",
       "\n",
       "    .dataframe tbody tr th {\n",
       "        vertical-align: top;\n",
       "    }\n",
       "\n",
       "    .dataframe thead th {\n",
       "        text-align: right;\n",
       "    }\n",
       "</style>\n",
       "<table border=\"1\" class=\"dataframe\">\n",
       "  <thead>\n",
       "    <tr style=\"text-align: right;\">\n",
       "      <th></th>\n",
       "      <th>São Luís</th>\n",
       "    </tr>\n",
       "  </thead>\n",
       "  <tbody>\n",
       "    <tr>\n",
       "      <th>Diagnostico Depressão Total e que usaram Medicamento</th>\n",
       "      <td>27.8</td>\n",
       "    </tr>\n",
       "    <tr>\n",
       "      <th>Masculino</th>\n",
       "      <td>11.3</td>\n",
       "    </tr>\n",
       "    <tr>\n",
       "      <th>Feminino</th>\n",
       "      <td>38</td>\n",
       "    </tr>\n",
       "    <tr>\n",
       "      <th>Branca</th>\n",
       "      <td>14.9</td>\n",
       "    </tr>\n",
       "    <tr>\n",
       "      <th>Preta</th>\n",
       "      <td>30.8</td>\n",
       "    </tr>\n",
       "    <tr>\n",
       "      <th>Parda</th>\n",
       "      <td>39.1</td>\n",
       "    </tr>\n",
       "    <tr>\n",
       "      <th>Trabalhando ocupado</th>\n",
       "      <td>16.6</td>\n",
       "    </tr>\n",
       "    <tr>\n",
       "      <th>Trabalhando desocupado</th>\n",
       "      <td>0</td>\n",
       "    </tr>\n",
       "    <tr>\n",
       "      <th>Desempregados</th>\n",
       "      <td>41.2</td>\n",
       "    </tr>\n",
       "    <tr>\n",
       "      <th>18 a 19 anos</th>\n",
       "      <td>40.1</td>\n",
       "    </tr>\n",
       "    <tr>\n",
       "      <th>30 a 59 anos</th>\n",
       "      <td>20.3</td>\n",
       "    </tr>\n",
       "    <tr>\n",
       "      <th>60 a 64 anos</th>\n",
       "      <td>100</td>\n",
       "    </tr>\n",
       "    <tr>\n",
       "      <th>65 a 74 anos</th>\n",
       "      <td>0</td>\n",
       "    </tr>\n",
       "    <tr>\n",
       "      <th>75 anos ou mais</th>\n",
       "      <td>55</td>\n",
       "    </tr>\n",
       "    <tr>\n",
       "      <th>Sem rendimento e ate 1/4 do salario minimo</th>\n",
       "      <td>54</td>\n",
       "    </tr>\n",
       "    <tr>\n",
       "      <th>Mais de 1/4 a 1/2 do salario minimo</th>\n",
       "      <td>27.5</td>\n",
       "    </tr>\n",
       "    <tr>\n",
       "      <th>Mais de 1/2 a 1 salario minimo</th>\n",
       "      <td>19.7</td>\n",
       "    </tr>\n",
       "    <tr>\n",
       "      <th>Mais de 1 a 2 salarios minimos</th>\n",
       "      <td>19.8</td>\n",
       "    </tr>\n",
       "    <tr>\n",
       "      <th>Mais de 2 a 3 salarios minimos</th>\n",
       "      <td>48.9</td>\n",
       "    </tr>\n",
       "    <tr>\n",
       "      <th>Mais de 3 a 5 salarios minimos</th>\n",
       "      <td>0</td>\n",
       "    </tr>\n",
       "    <tr>\n",
       "      <th>Mais de 5 salarios minimos</th>\n",
       "      <td>57.3</td>\n",
       "    </tr>\n",
       "    <tr>\n",
       "      <th>Sem instrução e fundamental incompleto</th>\n",
       "      <td>16.1</td>\n",
       "    </tr>\n",
       "    <tr>\n",
       "      <th>Fundamental completo e médio incompleto</th>\n",
       "      <td>21.4</td>\n",
       "    </tr>\n",
       "    <tr>\n",
       "      <th>Médio completo e superior incompleto</th>\n",
       "      <td>46.9</td>\n",
       "    </tr>\n",
       "    <tr>\n",
       "      <th>Superior completo</th>\n",
       "      <td>15.6</td>\n",
       "    </tr>\n",
       "  </tbody>\n",
       "</table>\n",
       "</div>"
      ],
      "text/plain": [
       "                                                   São Luís\n",
       "Diagnostico Depressão Total e que usaram Medica...     27.8\n",
       "Masculino                                              11.3\n",
       "Feminino                                                 38\n",
       "Branca                                                 14.9\n",
       "Preta                                                  30.8\n",
       "Parda                                                  39.1\n",
       "Trabalhando ocupado                                    16.6\n",
       "Trabalhando desocupado                                    0\n",
       "Desempregados                                          41.2\n",
       "18 a 19 anos                                           40.1\n",
       "30 a 59 anos                                           20.3\n",
       "60 a 64 anos                                            100\n",
       "65 a 74 anos                                              0\n",
       "75 anos ou mais                                          55\n",
       "Sem rendimento e ate 1/4 do salario minimo               54\n",
       "Mais de 1/4 a 1/2 do salario minimo                    27.5\n",
       "Mais de 1/2 a 1 salario minimo                         19.7\n",
       "Mais de 1 a 2 salarios minimos                         19.8\n",
       "Mais de 2 a 3 salarios minimos                         48.9\n",
       "Mais de 3 a 5 salarios minimos                            0\n",
       "Mais de 5 salarios minimos                             57.3\n",
       "Sem instrução e fundamental incompleto                 16.1\n",
       "Fundamental completo e médio incompleto                21.4\n",
       "Médio completo e superior incompleto                   46.9\n",
       "Superior completo                                      15.6"
      ]
     },
     "execution_count": 36,
     "metadata": {},
     "output_type": "execute_result"
    }
   ],
   "source": [
    "def dataset_por_cidade(dataset):\n",
    "    por_cidade = dataset.T\n",
    "    por_cidade.columns=por_cidade.iloc[0]\n",
    "    por_cidade.drop(labels=['Cidade','Região'],inplace=True)\n",
    "    return por_cidade\n",
    "\n",
    "sexo_cidade = dataset_por_cidade(tab_sexo_cidade)\n",
    "corRaca_cidade = dataset_por_cidade(tab_corRaca_cidade)\n",
    "posOcup_cidade = dataset_por_cidade(tab_posOcup_cidade)\n",
    "idade_cidade = dataset_por_cidade(tab_idade_cidade)\n",
    "rendimento_cidade = dataset_por_cidade(tab_rendimento_cidade)\n",
    "instrucao_cidade = dataset_por_cidade(tab_instrucao_cidade)\n",
    "\n",
    "dados_por_cidade = pd.concat([sexo_cidade,corRaca_cidade,posOcup_cidade,idade_cidade,rendimento_cidade,instrucao_cidade])\n",
    "dados_por_cidade.drop(labels='Total',inplace=True)\n",
    "# dados_por_cidade\n",
    "pd.DataFrame(dados_por_cidade['São Luís'])"
   ]
  },
  {
   "cell_type": "code",
   "execution_count": 38,
   "id": "03b36202",
   "metadata": {},
   "outputs": [
    {
     "data": {
      "text/html": [
       "<div>\n",
       "<style scoped>\n",
       "    .dataframe tbody tr th:only-of-type {\n",
       "        vertical-align: middle;\n",
       "    }\n",
       "\n",
       "    .dataframe tbody tr th {\n",
       "        vertical-align: top;\n",
       "    }\n",
       "\n",
       "    .dataframe thead th {\n",
       "        text-align: right;\n",
       "    }\n",
       "</style>\n",
       "<table border=\"1\" class=\"dataframe\">\n",
       "  <thead>\n",
       "    <tr style=\"text-align: right;\">\n",
       "      <th></th>\n",
       "      <th>São Luís</th>\n",
       "    </tr>\n",
       "  </thead>\n",
       "  <tbody>\n",
       "    <tr>\n",
       "      <th>Diagnostico Depressão Total e que usaram Medicamento</th>\n",
       "      <td>27.8</td>\n",
       "    </tr>\n",
       "    <tr>\n",
       "      <th>Masculino</th>\n",
       "      <td>11.3</td>\n",
       "    </tr>\n",
       "    <tr>\n",
       "      <th>Feminino</th>\n",
       "      <td>38</td>\n",
       "    </tr>\n",
       "    <tr>\n",
       "      <th>Branca</th>\n",
       "      <td>14.9</td>\n",
       "    </tr>\n",
       "    <tr>\n",
       "      <th>Preta</th>\n",
       "      <td>30.8</td>\n",
       "    </tr>\n",
       "  </tbody>\n",
       "</table>\n",
       "</div>"
      ],
      "text/plain": [
       "                                                   São Luís\n",
       "Diagnostico Depressão Total e que usaram Medica...     27.8\n",
       "Masculino                                              11.3\n",
       "Feminino                                                 38\n",
       "Branca                                                 14.9\n",
       "Preta                                                  30.8"
      ]
     },
     "execution_count": 38,
     "metadata": {},
     "output_type": "execute_result"
    }
   ],
   "source": [
    "dados_por_cidade.loc['Diagnostico Depressão Total e que usaram Medicamento','Categoria'] = 'Total'\n",
    "dados_por_cidade.loc['Masculino':'Feminino','Categoria'] = 'Sexo'\n",
    "dados_por_cidade.loc['Branca':'Parda','Categoria'] = 'Cor ou Raça'\n",
    "dados_por_cidade.loc['Sem instrução e fundamental incompleto':'Superior completo','Categoria'] = 'Instrução'\n",
    "dados_por_cidade.loc['Trabalhando ocupado':'Desempregados','Categoria'] = 'Situação de trabalho'\n",
    "dados_por_cidade.loc['Sem rendimento e ate 1/4 do salario minimo':'Mais de 5 salarios minimos','Categoria'] = 'Renda'\n",
    "dados_por_cidade.loc['18 a 19 anos':'75 anos ou mais','Categoria'] = 'Idade'\n",
    "# dados_por_cidade.head()\n",
    "pd.DataFrame(dados_por_cidade['São Luís']).head()"
   ]
  },
  {
   "cell_type": "code",
   "execution_count": 39,
   "id": "dd55a5fe",
   "metadata": {},
   "outputs": [
    {
     "data": {
      "text/html": [
       "<div>\n",
       "<style scoped>\n",
       "    .dataframe tbody tr th:only-of-type {\n",
       "        vertical-align: middle;\n",
       "    }\n",
       "\n",
       "    .dataframe tbody tr th {\n",
       "        vertical-align: top;\n",
       "    }\n",
       "\n",
       "    .dataframe thead th {\n",
       "        text-align: right;\n",
       "    }\n",
       "</style>\n",
       "<table border=\"1\" class=\"dataframe\">\n",
       "  <thead>\n",
       "    <tr style=\"text-align: right;\">\n",
       "      <th>Cidade</th>\n",
       "      <th>Porto Velho</th>\n",
       "      <th>Rio Branco</th>\n",
       "      <th>Manaus</th>\n",
       "      <th>Boa Vista</th>\n",
       "      <th>Belém</th>\n",
       "      <th>Macapá</th>\n",
       "      <th>Palmas</th>\n",
       "      <th>São Luís</th>\n",
       "      <th>Teresina</th>\n",
       "      <th>Fortaleza</th>\n",
       "      <th>...</th>\n",
       "      <th>Rio de Janeiro</th>\n",
       "      <th>São Paulo</th>\n",
       "      <th>Curitiba</th>\n",
       "      <th>Florianópolis</th>\n",
       "      <th>Porto Alegre</th>\n",
       "      <th>Campo Grande</th>\n",
       "      <th>Cuiabá</th>\n",
       "      <th>Goiânia</th>\n",
       "      <th>Brasília</th>\n",
       "      <th>Categoria</th>\n",
       "    </tr>\n",
       "  </thead>\n",
       "  <tbody>\n",
       "    <tr>\n",
       "      <th>Diagnostico Depressão Total e que usaram Medicamento</th>\n",
       "      <td>36.5</td>\n",
       "      <td>44.9</td>\n",
       "      <td>30.9</td>\n",
       "      <td>35.4</td>\n",
       "      <td>30.7</td>\n",
       "      <td>13.7</td>\n",
       "      <td>38.4</td>\n",
       "      <td>27.8</td>\n",
       "      <td>48.3</td>\n",
       "      <td>37.2</td>\n",
       "      <td>...</td>\n",
       "      <td>45.6</td>\n",
       "      <td>49.9</td>\n",
       "      <td>49.5</td>\n",
       "      <td>39.4</td>\n",
       "      <td>46.1</td>\n",
       "      <td>48.2</td>\n",
       "      <td>48.6</td>\n",
       "      <td>47.8</td>\n",
       "      <td>44.9</td>\n",
       "      <td>Total</td>\n",
       "    </tr>\n",
       "    <tr>\n",
       "      <th>Masculino</th>\n",
       "      <td>51.3</td>\n",
       "      <td>69.7</td>\n",
       "      <td>26.1</td>\n",
       "      <td>19.8</td>\n",
       "      <td>32.6</td>\n",
       "      <td>17.4</td>\n",
       "      <td>36.7</td>\n",
       "      <td>11.3</td>\n",
       "      <td>39.3</td>\n",
       "      <td>26.6</td>\n",
       "      <td>...</td>\n",
       "      <td>48.8</td>\n",
       "      <td>50.8</td>\n",
       "      <td>66.9</td>\n",
       "      <td>38.5</td>\n",
       "      <td>44.5</td>\n",
       "      <td>48.6</td>\n",
       "      <td>43.5</td>\n",
       "      <td>37.2</td>\n",
       "      <td>41.3</td>\n",
       "      <td>Sexo</td>\n",
       "    </tr>\n",
       "    <tr>\n",
       "      <th>Feminino</th>\n",
       "      <td>33.8</td>\n",
       "      <td>39.3</td>\n",
       "      <td>34.1</td>\n",
       "      <td>41.6</td>\n",
       "      <td>30.3</td>\n",
       "      <td>12.6</td>\n",
       "      <td>38.8</td>\n",
       "      <td>38</td>\n",
       "      <td>51.6</td>\n",
       "      <td>40.5</td>\n",
       "      <td>...</td>\n",
       "      <td>44.1</td>\n",
       "      <td>49.7</td>\n",
       "      <td>44.9</td>\n",
       "      <td>39.9</td>\n",
       "      <td>46.7</td>\n",
       "      <td>48</td>\n",
       "      <td>50.2</td>\n",
       "      <td>50.5</td>\n",
       "      <td>45.9</td>\n",
       "      <td>Sexo</td>\n",
       "    </tr>\n",
       "    <tr>\n",
       "      <th>Branca</th>\n",
       "      <td>28.3</td>\n",
       "      <td>52</td>\n",
       "      <td>22.4</td>\n",
       "      <td>16.2</td>\n",
       "      <td>11.1</td>\n",
       "      <td>21</td>\n",
       "      <td>49.5</td>\n",
       "      <td>14.9</td>\n",
       "      <td>59.7</td>\n",
       "      <td>48.6</td>\n",
       "      <td>...</td>\n",
       "      <td>47.2</td>\n",
       "      <td>56.7</td>\n",
       "      <td>54.9</td>\n",
       "      <td>42.2</td>\n",
       "      <td>41.6</td>\n",
       "      <td>51.1</td>\n",
       "      <td>46.5</td>\n",
       "      <td>55.3</td>\n",
       "      <td>52.5</td>\n",
       "      <td>Cor ou Raça</td>\n",
       "    </tr>\n",
       "    <tr>\n",
       "      <th>Preta</th>\n",
       "      <td>32.5</td>\n",
       "      <td>63.9</td>\n",
       "      <td>8.6</td>\n",
       "      <td>41.4</td>\n",
       "      <td>0</td>\n",
       "      <td>37.7</td>\n",
       "      <td>52.2</td>\n",
       "      <td>30.8</td>\n",
       "      <td>64.6</td>\n",
       "      <td>27.7</td>\n",
       "      <td>...</td>\n",
       "      <td>70.5</td>\n",
       "      <td>56.7</td>\n",
       "      <td>70</td>\n",
       "      <td>8.4</td>\n",
       "      <td>69.3</td>\n",
       "      <td>74.8</td>\n",
       "      <td>38.7</td>\n",
       "      <td>29.5</td>\n",
       "      <td>42.4</td>\n",
       "      <td>Cor ou Raça</td>\n",
       "    </tr>\n",
       "    <tr>\n",
       "      <th>Parda</th>\n",
       "      <td>41.7</td>\n",
       "      <td>39.9</td>\n",
       "      <td>39</td>\n",
       "      <td>37</td>\n",
       "      <td>44.9</td>\n",
       "      <td>10.7</td>\n",
       "      <td>27.9</td>\n",
       "      <td>39.1</td>\n",
       "      <td>38.3</td>\n",
       "      <td>32</td>\n",
       "      <td>...</td>\n",
       "      <td>35.6</td>\n",
       "      <td>35.4</td>\n",
       "      <td>30.2</td>\n",
       "      <td>14.1</td>\n",
       "      <td>65.8</td>\n",
       "      <td>45.2</td>\n",
       "      <td>53.8</td>\n",
       "      <td>43.8</td>\n",
       "      <td>37.8</td>\n",
       "      <td>Cor ou Raça</td>\n",
       "    </tr>\n",
       "    <tr>\n",
       "      <th>Trabalhando ocupado</th>\n",
       "      <td>27.2</td>\n",
       "      <td>41.2</td>\n",
       "      <td>31.4</td>\n",
       "      <td>20.5</td>\n",
       "      <td>36.8</td>\n",
       "      <td>12.1</td>\n",
       "      <td>16.5</td>\n",
       "      <td>16.6</td>\n",
       "      <td>40.9</td>\n",
       "      <td>31.7</td>\n",
       "      <td>...</td>\n",
       "      <td>38.8</td>\n",
       "      <td>44.2</td>\n",
       "      <td>42</td>\n",
       "      <td>25.9</td>\n",
       "      <td>37.7</td>\n",
       "      <td>42.7</td>\n",
       "      <td>39.8</td>\n",
       "      <td>29.9</td>\n",
       "      <td>39</td>\n",
       "      <td>Situação de trabalho</td>\n",
       "    </tr>\n",
       "    <tr>\n",
       "      <th>Trabalhando desocupado</th>\n",
       "      <td>25.3</td>\n",
       "      <td>0</td>\n",
       "      <td>0</td>\n",
       "      <td>24.4</td>\n",
       "      <td>67.8</td>\n",
       "      <td>0</td>\n",
       "      <td>50.1</td>\n",
       "      <td>0</td>\n",
       "      <td>48.1</td>\n",
       "      <td>33.3</td>\n",
       "      <td>...</td>\n",
       "      <td>49.2</td>\n",
       "      <td>54.7</td>\n",
       "      <td>54.1</td>\n",
       "      <td>4.9</td>\n",
       "      <td>28.4</td>\n",
       "      <td>27.2</td>\n",
       "      <td>26.8</td>\n",
       "      <td>100</td>\n",
       "      <td>34</td>\n",
       "      <td>Situação de trabalho</td>\n",
       "    </tr>\n",
       "    <tr>\n",
       "      <th>Desempregados</th>\n",
       "      <td>52.5</td>\n",
       "      <td>52.1</td>\n",
       "      <td>33.3</td>\n",
       "      <td>61.6</td>\n",
       "      <td>14.4</td>\n",
       "      <td>24</td>\n",
       "      <td>56.1</td>\n",
       "      <td>41.2</td>\n",
       "      <td>57.8</td>\n",
       "      <td>42.9</td>\n",
       "      <td>...</td>\n",
       "      <td>53.3</td>\n",
       "      <td>56.7</td>\n",
       "      <td>59.6</td>\n",
       "      <td>61.6</td>\n",
       "      <td>60.3</td>\n",
       "      <td>56.9</td>\n",
       "      <td>66.1</td>\n",
       "      <td>66.7</td>\n",
       "      <td>58.5</td>\n",
       "      <td>Situação de trabalho</td>\n",
       "    </tr>\n",
       "    <tr>\n",
       "      <th>18 a 19 anos</th>\n",
       "      <td>0</td>\n",
       "      <td>34.1</td>\n",
       "      <td>14.1</td>\n",
       "      <td>36.8</td>\n",
       "      <td>0</td>\n",
       "      <td>1.4</td>\n",
       "      <td>39.1</td>\n",
       "      <td>40.1</td>\n",
       "      <td>52.7</td>\n",
       "      <td>7</td>\n",
       "      <td>...</td>\n",
       "      <td>39.8</td>\n",
       "      <td>22.7</td>\n",
       "      <td>40.6</td>\n",
       "      <td>20.1</td>\n",
       "      <td>20.4</td>\n",
       "      <td>16</td>\n",
       "      <td>49.4</td>\n",
       "      <td>24.8</td>\n",
       "      <td>48</td>\n",
       "      <td>Idade</td>\n",
       "    </tr>\n",
       "    <tr>\n",
       "      <th>30 a 59 anos</th>\n",
       "      <td>36.4</td>\n",
       "      <td>45.1</td>\n",
       "      <td>44.7</td>\n",
       "      <td>30.1</td>\n",
       "      <td>26.2</td>\n",
       "      <td>19.9</td>\n",
       "      <td>39.9</td>\n",
       "      <td>20.3</td>\n",
       "      <td>48.8</td>\n",
       "      <td>39.2</td>\n",
       "      <td>...</td>\n",
       "      <td>43.3</td>\n",
       "      <td>52.7</td>\n",
       "      <td>47.9</td>\n",
       "      <td>41</td>\n",
       "      <td>40.2</td>\n",
       "      <td>50.7</td>\n",
       "      <td>42.9</td>\n",
       "      <td>35</td>\n",
       "      <td>38.8</td>\n",
       "      <td>Idade</td>\n",
       "    </tr>\n",
       "    <tr>\n",
       "      <th>60 a 64 anos</th>\n",
       "      <td>94.5</td>\n",
       "      <td>52.8</td>\n",
       "      <td>50.9</td>\n",
       "      <td>0</td>\n",
       "      <td>0</td>\n",
       "      <td>0</td>\n",
       "      <td>15.7</td>\n",
       "      <td>100</td>\n",
       "      <td>21.3</td>\n",
       "      <td>41.9</td>\n",
       "      <td>...</td>\n",
       "      <td>45.1</td>\n",
       "      <td>49.1</td>\n",
       "      <td>63.6</td>\n",
       "      <td>27.3</td>\n",
       "      <td>73.8</td>\n",
       "      <td>70.2</td>\n",
       "      <td>37.2</td>\n",
       "      <td>74.5</td>\n",
       "      <td>79</td>\n",
       "      <td>Idade</td>\n",
       "    </tr>\n",
       "    <tr>\n",
       "      <th>65 a 74 anos</th>\n",
       "      <td>56.9</td>\n",
       "      <td>48.1</td>\n",
       "      <td>32.6</td>\n",
       "      <td>77.4</td>\n",
       "      <td>70.5</td>\n",
       "      <td>13.8</td>\n",
       "      <td>48.4</td>\n",
       "      <td>0</td>\n",
       "      <td>59.2</td>\n",
       "      <td>54.1</td>\n",
       "      <td>...</td>\n",
       "      <td>66.1</td>\n",
       "      <td>63.1</td>\n",
       "      <td>60</td>\n",
       "      <td>68.6</td>\n",
       "      <td>55.7</td>\n",
       "      <td>61.1</td>\n",
       "      <td>75.1</td>\n",
       "      <td>70.5</td>\n",
       "      <td>54.3</td>\n",
       "      <td>Idade</td>\n",
       "    </tr>\n",
       "    <tr>\n",
       "      <th>75 anos ou mais</th>\n",
       "      <td>35.8</td>\n",
       "      <td>100</td>\n",
       "      <td>0</td>\n",
       "      <td>0</td>\n",
       "      <td>42.2</td>\n",
       "      <td>51.8</td>\n",
       "      <td>0</td>\n",
       "      <td>55</td>\n",
       "      <td>36.5</td>\n",
       "      <td>58.4</td>\n",
       "      <td>...</td>\n",
       "      <td>38.8</td>\n",
       "      <td>65.5</td>\n",
       "      <td>58.7</td>\n",
       "      <td>52.9</td>\n",
       "      <td>73.5</td>\n",
       "      <td>68.3</td>\n",
       "      <td>100</td>\n",
       "      <td>93.7</td>\n",
       "      <td>66</td>\n",
       "      <td>Idade</td>\n",
       "    </tr>\n",
       "    <tr>\n",
       "      <th>Sem rendimento e ate 1/4 do salario minimo</th>\n",
       "      <td>39.8</td>\n",
       "      <td>78</td>\n",
       "      <td>16.9</td>\n",
       "      <td>56.2</td>\n",
       "      <td>0</td>\n",
       "      <td>47.1</td>\n",
       "      <td>49.5</td>\n",
       "      <td>54</td>\n",
       "      <td>55.1</td>\n",
       "      <td>85.9</td>\n",
       "      <td>...</td>\n",
       "      <td>0</td>\n",
       "      <td>48.3</td>\n",
       "      <td>71.4</td>\n",
       "      <td>18.3</td>\n",
       "      <td>47.3</td>\n",
       "      <td>70.8</td>\n",
       "      <td>0</td>\n",
       "      <td>100</td>\n",
       "      <td>90.5</td>\n",
       "      <td>Renda</td>\n",
       "    </tr>\n",
       "    <tr>\n",
       "      <th>Mais de 1/4 a 1/2 do salario minimo</th>\n",
       "      <td>35.5</td>\n",
       "      <td>46.9</td>\n",
       "      <td>24.7</td>\n",
       "      <td>25.7</td>\n",
       "      <td>34</td>\n",
       "      <td>13.5</td>\n",
       "      <td>0</td>\n",
       "      <td>27.5</td>\n",
       "      <td>33</td>\n",
       "      <td>7.4</td>\n",
       "      <td>...</td>\n",
       "      <td>58.6</td>\n",
       "      <td>20.6</td>\n",
       "      <td>53.3</td>\n",
       "      <td>0</td>\n",
       "      <td>41.9</td>\n",
       "      <td>22.3</td>\n",
       "      <td>70</td>\n",
       "      <td>60.1</td>\n",
       "      <td>28.8</td>\n",
       "      <td>Renda</td>\n",
       "    </tr>\n",
       "    <tr>\n",
       "      <th>Mais de 1/2 a 1 salario minimo</th>\n",
       "      <td>47.7</td>\n",
       "      <td>39.8</td>\n",
       "      <td>59.6</td>\n",
       "      <td>39.9</td>\n",
       "      <td>5.9</td>\n",
       "      <td>0</td>\n",
       "      <td>39.2</td>\n",
       "      <td>19.7</td>\n",
       "      <td>62.4</td>\n",
       "      <td>25.7</td>\n",
       "      <td>...</td>\n",
       "      <td>42.5</td>\n",
       "      <td>37.7</td>\n",
       "      <td>65.4</td>\n",
       "      <td>59.8</td>\n",
       "      <td>56.3</td>\n",
       "      <td>53.3</td>\n",
       "      <td>38.4</td>\n",
       "      <td>54.9</td>\n",
       "      <td>36.9</td>\n",
       "      <td>Renda</td>\n",
       "    </tr>\n",
       "    <tr>\n",
       "      <th>Mais de 1 a 2 salarios minimos</th>\n",
       "      <td>44.6</td>\n",
       "      <td>35.9</td>\n",
       "      <td>28.8</td>\n",
       "      <td>27.5</td>\n",
       "      <td>46.1</td>\n",
       "      <td>15.3</td>\n",
       "      <td>54.9</td>\n",
       "      <td>19.8</td>\n",
       "      <td>25.1</td>\n",
       "      <td>59.8</td>\n",
       "      <td>...</td>\n",
       "      <td>42</td>\n",
       "      <td>34.3</td>\n",
       "      <td>34.1</td>\n",
       "      <td>37</td>\n",
       "      <td>37.6</td>\n",
       "      <td>38.9</td>\n",
       "      <td>40.6</td>\n",
       "      <td>39.8</td>\n",
       "      <td>42.1</td>\n",
       "      <td>Renda</td>\n",
       "    </tr>\n",
       "    <tr>\n",
       "      <th>Mais de 2 a 3 salarios minimos</th>\n",
       "      <td>35.3</td>\n",
       "      <td>26.1</td>\n",
       "      <td>3.9</td>\n",
       "      <td>28.8</td>\n",
       "      <td>50.9</td>\n",
       "      <td>48.5</td>\n",
       "      <td>56</td>\n",
       "      <td>48.9</td>\n",
       "      <td>89.5</td>\n",
       "      <td>47.7</td>\n",
       "      <td>...</td>\n",
       "      <td>25.8</td>\n",
       "      <td>46.9</td>\n",
       "      <td>51.5</td>\n",
       "      <td>19.2</td>\n",
       "      <td>76.1</td>\n",
       "      <td>68</td>\n",
       "      <td>62.5</td>\n",
       "      <td>74.7</td>\n",
       "      <td>74.6</td>\n",
       "      <td>Renda</td>\n",
       "    </tr>\n",
       "    <tr>\n",
       "      <th>Mais de 3 a 5 salarios minimos</th>\n",
       "      <td>7.8</td>\n",
       "      <td>38.1</td>\n",
       "      <td>34.1</td>\n",
       "      <td>52.6</td>\n",
       "      <td>45.5</td>\n",
       "      <td>16.3</td>\n",
       "      <td>66.1</td>\n",
       "      <td>0</td>\n",
       "      <td>34.4</td>\n",
       "      <td>0</td>\n",
       "      <td>...</td>\n",
       "      <td>52.9</td>\n",
       "      <td>71.4</td>\n",
       "      <td>48.4</td>\n",
       "      <td>51.7</td>\n",
       "      <td>39.9</td>\n",
       "      <td>53.7</td>\n",
       "      <td>51.5</td>\n",
       "      <td>52.1</td>\n",
       "      <td>38.2</td>\n",
       "      <td>Renda</td>\n",
       "    </tr>\n",
       "    <tr>\n",
       "      <th>Mais de 5 salarios minimos</th>\n",
       "      <td>20.1</td>\n",
       "      <td>65.2</td>\n",
       "      <td>36.3</td>\n",
       "      <td>10.9</td>\n",
       "      <td>100</td>\n",
       "      <td>36</td>\n",
       "      <td>27.3</td>\n",
       "      <td>57.3</td>\n",
       "      <td>87.1</td>\n",
       "      <td>52.5</td>\n",
       "      <td>...</td>\n",
       "      <td>63.9</td>\n",
       "      <td>70.4</td>\n",
       "      <td>57.2</td>\n",
       "      <td>41.1</td>\n",
       "      <td>38.3</td>\n",
       "      <td>50.9</td>\n",
       "      <td>75</td>\n",
       "      <td>10.5</td>\n",
       "      <td>44.2</td>\n",
       "      <td>Renda</td>\n",
       "    </tr>\n",
       "    <tr>\n",
       "      <th>Sem instrução e fundamental incompleto</th>\n",
       "      <td>48.4</td>\n",
       "      <td>57.9</td>\n",
       "      <td>25.3</td>\n",
       "      <td>38.4</td>\n",
       "      <td>53.6</td>\n",
       "      <td>8.7</td>\n",
       "      <td>43.1</td>\n",
       "      <td>16.1</td>\n",
       "      <td>38.3</td>\n",
       "      <td>52</td>\n",
       "      <td>...</td>\n",
       "      <td>52.7</td>\n",
       "      <td>47.3</td>\n",
       "      <td>61</td>\n",
       "      <td>28.5</td>\n",
       "      <td>61.3</td>\n",
       "      <td>55.8</td>\n",
       "      <td>63.3</td>\n",
       "      <td>62.2</td>\n",
       "      <td>37.2</td>\n",
       "      <td>Instrução</td>\n",
       "    </tr>\n",
       "    <tr>\n",
       "      <th>Fundamental completo e médio incompleto</th>\n",
       "      <td>48.7</td>\n",
       "      <td>91.7</td>\n",
       "      <td>32.7</td>\n",
       "      <td>71.8</td>\n",
       "      <td>0</td>\n",
       "      <td>0</td>\n",
       "      <td>26.2</td>\n",
       "      <td>21.4</td>\n",
       "      <td>67.9</td>\n",
       "      <td>27.1</td>\n",
       "      <td>...</td>\n",
       "      <td>30.7</td>\n",
       "      <td>24.8</td>\n",
       "      <td>22.3</td>\n",
       "      <td>62.5</td>\n",
       "      <td>59.1</td>\n",
       "      <td>39.1</td>\n",
       "      <td>36</td>\n",
       "      <td>64.3</td>\n",
       "      <td>65.7</td>\n",
       "      <td>Instrução</td>\n",
       "    </tr>\n",
       "    <tr>\n",
       "      <th>Médio completo e superior incompleto</th>\n",
       "      <td>26.9</td>\n",
       "      <td>31.1</td>\n",
       "      <td>35.5</td>\n",
       "      <td>34.3</td>\n",
       "      <td>24.1</td>\n",
       "      <td>16.8</td>\n",
       "      <td>30.6</td>\n",
       "      <td>46.9</td>\n",
       "      <td>42.2</td>\n",
       "      <td>17.5</td>\n",
       "      <td>...</td>\n",
       "      <td>40.4</td>\n",
       "      <td>42.3</td>\n",
       "      <td>44.9</td>\n",
       "      <td>35.7</td>\n",
       "      <td>48.4</td>\n",
       "      <td>49.9</td>\n",
       "      <td>41.4</td>\n",
       "      <td>43</td>\n",
       "      <td>44.1</td>\n",
       "      <td>Instrução</td>\n",
       "    </tr>\n",
       "    <tr>\n",
       "      <th>Superior completo</th>\n",
       "      <td>33.5</td>\n",
       "      <td>39.1</td>\n",
       "      <td>25.5</td>\n",
       "      <td>30.6</td>\n",
       "      <td>27.2</td>\n",
       "      <td>13.8</td>\n",
       "      <td>51.5</td>\n",
       "      <td>15.6</td>\n",
       "      <td>69.7</td>\n",
       "      <td>53.2</td>\n",
       "      <td>...</td>\n",
       "      <td>51.8</td>\n",
       "      <td>67.6</td>\n",
       "      <td>54</td>\n",
       "      <td>45.3</td>\n",
       "      <td>33.6</td>\n",
       "      <td>44.4</td>\n",
       "      <td>48.8</td>\n",
       "      <td>32.3</td>\n",
       "      <td>38.6</td>\n",
       "      <td>Instrução</td>\n",
       "    </tr>\n",
       "  </tbody>\n",
       "</table>\n",
       "<p>25 rows × 28 columns</p>\n",
       "</div>"
      ],
      "text/plain": [
       "Cidade                                             Porto Velho Rio Branco  \\\n",
       "Diagnostico Depressão Total e que usaram Medica...        36.5       44.9   \n",
       "Masculino                                                 51.3       69.7   \n",
       "Feminino                                                  33.8       39.3   \n",
       "Branca                                                    28.3         52   \n",
       "Preta                                                     32.5       63.9   \n",
       "Parda                                                     41.7       39.9   \n",
       "Trabalhando ocupado                                       27.2       41.2   \n",
       "Trabalhando desocupado                                    25.3          0   \n",
       "Desempregados                                             52.5       52.1   \n",
       "18 a 19 anos                                                 0       34.1   \n",
       "30 a 59 anos                                              36.4       45.1   \n",
       "60 a 64 anos                                              94.5       52.8   \n",
       "65 a 74 anos                                              56.9       48.1   \n",
       "75 anos ou mais                                           35.8        100   \n",
       "Sem rendimento e ate 1/4 do salario minimo                39.8         78   \n",
       "Mais de 1/4 a 1/2 do salario minimo                       35.5       46.9   \n",
       "Mais de 1/2 a 1 salario minimo                            47.7       39.8   \n",
       "Mais de 1 a 2 salarios minimos                            44.6       35.9   \n",
       "Mais de 2 a 3 salarios minimos                            35.3       26.1   \n",
       "Mais de 3 a 5 salarios minimos                             7.8       38.1   \n",
       "Mais de 5 salarios minimos                                20.1       65.2   \n",
       "Sem instrução e fundamental incompleto                    48.4       57.9   \n",
       "Fundamental completo e médio incompleto                   48.7       91.7   \n",
       "Médio completo e superior incompleto                      26.9       31.1   \n",
       "Superior completo                                         33.5       39.1   \n",
       "\n",
       "Cidade                                             Manaus Boa Vista Belém  \\\n",
       "Diagnostico Depressão Total e que usaram Medica...   30.9      35.4  30.7   \n",
       "Masculino                                            26.1      19.8  32.6   \n",
       "Feminino                                             34.1      41.6  30.3   \n",
       "Branca                                               22.4      16.2  11.1   \n",
       "Preta                                                 8.6      41.4     0   \n",
       "Parda                                                  39        37  44.9   \n",
       "Trabalhando ocupado                                  31.4      20.5  36.8   \n",
       "Trabalhando desocupado                                  0      24.4  67.8   \n",
       "Desempregados                                        33.3      61.6  14.4   \n",
       "18 a 19 anos                                         14.1      36.8     0   \n",
       "30 a 59 anos                                         44.7      30.1  26.2   \n",
       "60 a 64 anos                                         50.9         0     0   \n",
       "65 a 74 anos                                         32.6      77.4  70.5   \n",
       "75 anos ou mais                                         0         0  42.2   \n",
       "Sem rendimento e ate 1/4 do salario minimo           16.9      56.2     0   \n",
       "Mais de 1/4 a 1/2 do salario minimo                  24.7      25.7    34   \n",
       "Mais de 1/2 a 1 salario minimo                       59.6      39.9   5.9   \n",
       "Mais de 1 a 2 salarios minimos                       28.8      27.5  46.1   \n",
       "Mais de 2 a 3 salarios minimos                        3.9      28.8  50.9   \n",
       "Mais de 3 a 5 salarios minimos                       34.1      52.6  45.5   \n",
       "Mais de 5 salarios minimos                           36.3      10.9   100   \n",
       "Sem instrução e fundamental incompleto               25.3      38.4  53.6   \n",
       "Fundamental completo e médio incompleto              32.7      71.8     0   \n",
       "Médio completo e superior incompleto                 35.5      34.3  24.1   \n",
       "Superior completo                                    25.5      30.6  27.2   \n",
       "\n",
       "Cidade                                             Macapá Palmas São Luís  \\\n",
       "Diagnostico Depressão Total e que usaram Medica...   13.7   38.4     27.8   \n",
       "Masculino                                            17.4   36.7     11.3   \n",
       "Feminino                                             12.6   38.8       38   \n",
       "Branca                                                 21   49.5     14.9   \n",
       "Preta                                                37.7   52.2     30.8   \n",
       "Parda                                                10.7   27.9     39.1   \n",
       "Trabalhando ocupado                                  12.1   16.5     16.6   \n",
       "Trabalhando desocupado                                  0   50.1        0   \n",
       "Desempregados                                          24   56.1     41.2   \n",
       "18 a 19 anos                                          1.4   39.1     40.1   \n",
       "30 a 59 anos                                         19.9   39.9     20.3   \n",
       "60 a 64 anos                                            0   15.7      100   \n",
       "65 a 74 anos                                         13.8   48.4        0   \n",
       "75 anos ou mais                                      51.8      0       55   \n",
       "Sem rendimento e ate 1/4 do salario minimo           47.1   49.5       54   \n",
       "Mais de 1/4 a 1/2 do salario minimo                  13.5      0     27.5   \n",
       "Mais de 1/2 a 1 salario minimo                          0   39.2     19.7   \n",
       "Mais de 1 a 2 salarios minimos                       15.3   54.9     19.8   \n",
       "Mais de 2 a 3 salarios minimos                       48.5     56     48.9   \n",
       "Mais de 3 a 5 salarios minimos                       16.3   66.1        0   \n",
       "Mais de 5 salarios minimos                             36   27.3     57.3   \n",
       "Sem instrução e fundamental incompleto                8.7   43.1     16.1   \n",
       "Fundamental completo e médio incompleto                 0   26.2     21.4   \n",
       "Médio completo e superior incompleto                 16.8   30.6     46.9   \n",
       "Superior completo                                    13.8   51.5     15.6   \n",
       "\n",
       "Cidade                                             Teresina Fortaleza  ...  \\\n",
       "Diagnostico Depressão Total e que usaram Medica...     48.3      37.2  ...   \n",
       "Masculino                                              39.3      26.6  ...   \n",
       "Feminino                                               51.6      40.5  ...   \n",
       "Branca                                                 59.7      48.6  ...   \n",
       "Preta                                                  64.6      27.7  ...   \n",
       "Parda                                                  38.3        32  ...   \n",
       "Trabalhando ocupado                                    40.9      31.7  ...   \n",
       "Trabalhando desocupado                                 48.1      33.3  ...   \n",
       "Desempregados                                          57.8      42.9  ...   \n",
       "18 a 19 anos                                           52.7         7  ...   \n",
       "30 a 59 anos                                           48.8      39.2  ...   \n",
       "60 a 64 anos                                           21.3      41.9  ...   \n",
       "65 a 74 anos                                           59.2      54.1  ...   \n",
       "75 anos ou mais                                        36.5      58.4  ...   \n",
       "Sem rendimento e ate 1/4 do salario minimo             55.1      85.9  ...   \n",
       "Mais de 1/4 a 1/2 do salario minimo                      33       7.4  ...   \n",
       "Mais de 1/2 a 1 salario minimo                         62.4      25.7  ...   \n",
       "Mais de 1 a 2 salarios minimos                         25.1      59.8  ...   \n",
       "Mais de 2 a 3 salarios minimos                         89.5      47.7  ...   \n",
       "Mais de 3 a 5 salarios minimos                         34.4         0  ...   \n",
       "Mais de 5 salarios minimos                             87.1      52.5  ...   \n",
       "Sem instrução e fundamental incompleto                 38.3        52  ...   \n",
       "Fundamental completo e médio incompleto                67.9      27.1  ...   \n",
       "Médio completo e superior incompleto                   42.2      17.5  ...   \n",
       "Superior completo                                      69.7      53.2  ...   \n",
       "\n",
       "Cidade                                             Rio de Janeiro São Paulo  \\\n",
       "Diagnostico Depressão Total e que usaram Medica...           45.6      49.9   \n",
       "Masculino                                                    48.8      50.8   \n",
       "Feminino                                                     44.1      49.7   \n",
       "Branca                                                       47.2      56.7   \n",
       "Preta                                                        70.5      56.7   \n",
       "Parda                                                        35.6      35.4   \n",
       "Trabalhando ocupado                                          38.8      44.2   \n",
       "Trabalhando desocupado                                       49.2      54.7   \n",
       "Desempregados                                                53.3      56.7   \n",
       "18 a 19 anos                                                 39.8      22.7   \n",
       "30 a 59 anos                                                 43.3      52.7   \n",
       "60 a 64 anos                                                 45.1      49.1   \n",
       "65 a 74 anos                                                 66.1      63.1   \n",
       "75 anos ou mais                                              38.8      65.5   \n",
       "Sem rendimento e ate 1/4 do salario minimo                      0      48.3   \n",
       "Mais de 1/4 a 1/2 do salario minimo                          58.6      20.6   \n",
       "Mais de 1/2 a 1 salario minimo                               42.5      37.7   \n",
       "Mais de 1 a 2 salarios minimos                                 42      34.3   \n",
       "Mais de 2 a 3 salarios minimos                               25.8      46.9   \n",
       "Mais de 3 a 5 salarios minimos                               52.9      71.4   \n",
       "Mais de 5 salarios minimos                                   63.9      70.4   \n",
       "Sem instrução e fundamental incompleto                       52.7      47.3   \n",
       "Fundamental completo e médio incompleto                      30.7      24.8   \n",
       "Médio completo e superior incompleto                         40.4      42.3   \n",
       "Superior completo                                            51.8      67.6   \n",
       "\n",
       "Cidade                                             Curitiba Florianópolis  \\\n",
       "Diagnostico Depressão Total e que usaram Medica...     49.5          39.4   \n",
       "Masculino                                              66.9          38.5   \n",
       "Feminino                                               44.9          39.9   \n",
       "Branca                                                 54.9          42.2   \n",
       "Preta                                                    70           8.4   \n",
       "Parda                                                  30.2          14.1   \n",
       "Trabalhando ocupado                                      42          25.9   \n",
       "Trabalhando desocupado                                 54.1           4.9   \n",
       "Desempregados                                          59.6          61.6   \n",
       "18 a 19 anos                                           40.6          20.1   \n",
       "30 a 59 anos                                           47.9            41   \n",
       "60 a 64 anos                                           63.6          27.3   \n",
       "65 a 74 anos                                             60          68.6   \n",
       "75 anos ou mais                                        58.7          52.9   \n",
       "Sem rendimento e ate 1/4 do salario minimo             71.4          18.3   \n",
       "Mais de 1/4 a 1/2 do salario minimo                    53.3             0   \n",
       "Mais de 1/2 a 1 salario minimo                         65.4          59.8   \n",
       "Mais de 1 a 2 salarios minimos                         34.1            37   \n",
       "Mais de 2 a 3 salarios minimos                         51.5          19.2   \n",
       "Mais de 3 a 5 salarios minimos                         48.4          51.7   \n",
       "Mais de 5 salarios minimos                             57.2          41.1   \n",
       "Sem instrução e fundamental incompleto                   61          28.5   \n",
       "Fundamental completo e médio incompleto                22.3          62.5   \n",
       "Médio completo e superior incompleto                   44.9          35.7   \n",
       "Superior completo                                        54          45.3   \n",
       "\n",
       "Cidade                                             Porto Alegre Campo Grande  \\\n",
       "Diagnostico Depressão Total e que usaram Medica...         46.1         48.2   \n",
       "Masculino                                                  44.5         48.6   \n",
       "Feminino                                                   46.7           48   \n",
       "Branca                                                     41.6         51.1   \n",
       "Preta                                                      69.3         74.8   \n",
       "Parda                                                      65.8         45.2   \n",
       "Trabalhando ocupado                                        37.7         42.7   \n",
       "Trabalhando desocupado                                     28.4         27.2   \n",
       "Desempregados                                              60.3         56.9   \n",
       "18 a 19 anos                                               20.4           16   \n",
       "30 a 59 anos                                               40.2         50.7   \n",
       "60 a 64 anos                                               73.8         70.2   \n",
       "65 a 74 anos                                               55.7         61.1   \n",
       "75 anos ou mais                                            73.5         68.3   \n",
       "Sem rendimento e ate 1/4 do salario minimo                 47.3         70.8   \n",
       "Mais de 1/4 a 1/2 do salario minimo                        41.9         22.3   \n",
       "Mais de 1/2 a 1 salario minimo                             56.3         53.3   \n",
       "Mais de 1 a 2 salarios minimos                             37.6         38.9   \n",
       "Mais de 2 a 3 salarios minimos                             76.1           68   \n",
       "Mais de 3 a 5 salarios minimos                             39.9         53.7   \n",
       "Mais de 5 salarios minimos                                 38.3         50.9   \n",
       "Sem instrução e fundamental incompleto                     61.3         55.8   \n",
       "Fundamental completo e médio incompleto                    59.1         39.1   \n",
       "Médio completo e superior incompleto                       48.4         49.9   \n",
       "Superior completo                                          33.6         44.4   \n",
       "\n",
       "Cidade                                             Cuiabá Goiânia Brasília  \\\n",
       "Diagnostico Depressão Total e que usaram Medica...   48.6    47.8     44.9   \n",
       "Masculino                                            43.5    37.2     41.3   \n",
       "Feminino                                             50.2    50.5     45.9   \n",
       "Branca                                               46.5    55.3     52.5   \n",
       "Preta                                                38.7    29.5     42.4   \n",
       "Parda                                                53.8    43.8     37.8   \n",
       "Trabalhando ocupado                                  39.8    29.9       39   \n",
       "Trabalhando desocupado                               26.8     100       34   \n",
       "Desempregados                                        66.1    66.7     58.5   \n",
       "18 a 19 anos                                         49.4    24.8       48   \n",
       "30 a 59 anos                                         42.9      35     38.8   \n",
       "60 a 64 anos                                         37.2    74.5       79   \n",
       "65 a 74 anos                                         75.1    70.5     54.3   \n",
       "75 anos ou mais                                       100    93.7       66   \n",
       "Sem rendimento e ate 1/4 do salario minimo              0     100     90.5   \n",
       "Mais de 1/4 a 1/2 do salario minimo                    70    60.1     28.8   \n",
       "Mais de 1/2 a 1 salario minimo                       38.4    54.9     36.9   \n",
       "Mais de 1 a 2 salarios minimos                       40.6    39.8     42.1   \n",
       "Mais de 2 a 3 salarios minimos                       62.5    74.7     74.6   \n",
       "Mais de 3 a 5 salarios minimos                       51.5    52.1     38.2   \n",
       "Mais de 5 salarios minimos                             75    10.5     44.2   \n",
       "Sem instrução e fundamental incompleto               63.3    62.2     37.2   \n",
       "Fundamental completo e médio incompleto                36    64.3     65.7   \n",
       "Médio completo e superior incompleto                 41.4      43     44.1   \n",
       "Superior completo                                    48.8    32.3     38.6   \n",
       "\n",
       "Cidade                                                         Categoria  \n",
       "Diagnostico Depressão Total e que usaram Medica...                 Total  \n",
       "Masculino                                                           Sexo  \n",
       "Feminino                                                            Sexo  \n",
       "Branca                                                       Cor ou Raça  \n",
       "Preta                                                        Cor ou Raça  \n",
       "Parda                                                        Cor ou Raça  \n",
       "Trabalhando ocupado                                 Situação de trabalho  \n",
       "Trabalhando desocupado                              Situação de trabalho  \n",
       "Desempregados                                       Situação de trabalho  \n",
       "18 a 19 anos                                                       Idade  \n",
       "30 a 59 anos                                                       Idade  \n",
       "60 a 64 anos                                                       Idade  \n",
       "65 a 74 anos                                                       Idade  \n",
       "75 anos ou mais                                                    Idade  \n",
       "Sem rendimento e ate 1/4 do salario minimo                         Renda  \n",
       "Mais de 1/4 a 1/2 do salario minimo                                Renda  \n",
       "Mais de 1/2 a 1 salario minimo                                     Renda  \n",
       "Mais de 1 a 2 salarios minimos                                     Renda  \n",
       "Mais de 2 a 3 salarios minimos                                     Renda  \n",
       "Mais de 3 a 5 salarios minimos                                     Renda  \n",
       "Mais de 5 salarios minimos                                         Renda  \n",
       "Sem instrução e fundamental incompleto                         Instrução  \n",
       "Fundamental completo e médio incompleto                        Instrução  \n",
       "Médio completo e superior incompleto                           Instrução  \n",
       "Superior completo                                              Instrução  \n",
       "\n",
       "[25 rows x 28 columns]"
      ]
     },
     "execution_count": 39,
     "metadata": {},
     "output_type": "execute_result"
    }
   ],
   "source": [
    "dados_por_cidade"
   ]
  },
  {
   "cell_type": "code",
   "execution_count": null,
   "id": "3d8d010d",
   "metadata": {},
   "outputs": [],
   "source": []
  }
 ],
 "metadata": {
  "kernelspec": {
   "display_name": "Python 3",
   "language": "python",
   "name": "python3"
  },
  "language_info": {
   "codemirror_mode": {
    "name": "ipython",
    "version": 3
   },
   "file_extension": ".py",
   "mimetype": "text/x-python",
   "name": "python",
   "nbconvert_exporter": "python",
   "pygments_lexer": "ipython3",
   "version": "3.8.8"
  }
 },
 "nbformat": 4,
 "nbformat_minor": 5
}
